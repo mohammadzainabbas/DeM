{
 "cells": [
  {
   "cell_type": "markdown",
   "id": "e136a84c-af15-4dfc-ad71-5225a1cca97f",
   "metadata": {},
   "source": [
    "### Import libraries"
   ]
  },
  {
   "cell_type": "code",
   "execution_count": 1,
   "id": "ed08ef5c",
   "metadata": {},
   "outputs": [
    {
     "ename": "ModuleNotFoundError",
     "evalue": "No module named 'pandas'",
     "output_type": "error",
     "traceback": [
      "\u001b[0;31m---------------------------------------------------------------------------\u001b[0m",
      "\u001b[0;31mModuleNotFoundError\u001b[0m                       Traceback (most recent call last)",
      "Cell \u001b[0;32mIn [1], line 9\u001b[0m\n\u001b[1;32m      5\u001b[0m \u001b[39mfrom\u001b[39;00m \u001b[39mos\u001b[39;00m\u001b[39m.\u001b[39;00m\u001b[39mpath\u001b[39;00m \u001b[39mimport\u001b[39;00m join, abspath, pardir, relpath, exists\n\u001b[1;32m      7\u001b[0m \u001b[39mfrom\u001b[39;00m \u001b[39mdataclasses\u001b[39;00m \u001b[39mimport\u001b[39;00m dataclass, field\n\u001b[0;32m----> 9\u001b[0m \u001b[39mimport\u001b[39;00m \u001b[39mpandas\u001b[39;00m \u001b[39mas\u001b[39;00m \u001b[39mpd\u001b[39;00m\n\u001b[1;32m     10\u001b[0m \u001b[39mimport\u001b[39;00m \u001b[39mnumpy\u001b[39;00m \u001b[39mas\u001b[39;00m \u001b[39mnp\u001b[39;00m\n\u001b[1;32m     11\u001b[0m \u001b[39mfrom\u001b[39;00m \u001b[39mnumpy\u001b[39;00m \u001b[39mimport\u001b[39;00m matrixlib \u001b[39mas\u001b[39;00m npmat\n",
      "\u001b[0;31mModuleNotFoundError\u001b[0m: No module named 'pandas'"
     ]
    }
   ],
   "source": [
    "%load_ext autoreload\n",
    "%autoreload\n",
    "\n",
    "from os import getcwd\n",
    "from os.path import join, abspath, pardir, relpath, exists\n",
    "\n",
    "from dataclasses import dataclass, field\n",
    "\n",
    "import pandas as pd\n",
    "import numpy as np\n",
    "from numpy import matrixlib as npmat\n",
    "import networkx as nx\n",
    "from typing import Union\n",
    "import pulp as p\n",
    "from itertools import combinations\n",
    "from typing import List, Tuple\n",
    "from enum import Enum\n",
    "from scipy.stats import kendalltau, spearmanr\n",
    "\n",
    "from IPython.display import IFrame\n",
    "from IPython.core.interactiveshell import InteractiveShell\n",
    "InteractiveShell.ast_node_interactivity = \"all\""
   ]
  },
  {
   "cell_type": "markdown",
   "id": "bbbb968b-ce9f-4189-9a95-6b2368d9c015",
   "metadata": {
    "tags": []
   },
   "source": [
    "### Helper methods"
   ]
  },
  {
   "cell_type": "code",
   "execution_count": null,
   "id": "b18f387e-86ff-40da-b2e5-88272eb041a0",
   "metadata": {},
   "outputs": [],
   "source": [
    "# ------------------------ #\n",
    "# Helper logging functions\n",
    "# ------------------------ #\n",
    "def print_log(text: str) -> None:\n",
    "    \"\"\" Prints the log \"\"\"\n",
    "    print(f\"[ log ]: {text}\")\n",
    "\n",
    "def print_error(text: str) -> None:\n",
    "    \"\"\" Prints the error \"\"\"\n",
    "    print(f\"[ error ]: {text}\")\n",
    "# -------------------------------------------------- #\n",
    "# Helper functions\n",
    "# -------------------------------------------------- #\n",
    "def is_identical(list1: List, list2: List) -> bool:\n",
    "    \"\"\"Check if two lists are identical.\"\"\"\n",
    "    return sorted(list1) == sorted(list2)\n",
    "# -------------------------------------------------- #\n",
    "# Helper functions for matrix related operations\n",
    "# -------------------------------------------------- #\n",
    "def graph_to_matrix(G: Union[nx.Graph, npmat.matrix]) -> npmat.matrix:\n",
    "    \"\"\"\n",
    "    Converts a graph to a matrix\n",
    "    \"\"\"\n",
    "    return nx.to_numpy_matrix(G) if isinstance(G, nx.Graph) else G\n",
    "\n",
    "def matrix_to_graph(matrix: Union[nx.Graph, npmat.matrix]) -> nx.Graph:\n",
    "    \"\"\"\n",
    "    Convert from a numpy matrix to a network graph\n",
    "    \"\"\"\n",
    "    return nx.from_numpy_matrix(matrix) if isinstance(matrix, npmat.matrix) else matrix\n",
    "\n",
    "def undirected_to_directed(graph: nx.Graph) -> nx.DiGraph:\n",
    "    \"\"\"\n",
    "    Converts an undirected graph to a directed graph\n",
    "    \"\"\"\n",
    "    di_graph = nx.DiGraph()\n",
    "    di_graph.add_edges_from(graph.edges())\n",
    "    return di_graph\n",
    "\n",
    "def csv_to_matrix(csv_file: str) -> npmat.matrix:\n",
    "    \"\"\"\n",
    "    Returns a matrix from a csv file\n",
    "    \"\"\"\n",
    "    return npmat.asmatrix(pd.read_csv(csv_file, header=None, on_bad_lines=\"skip\").to_numpy())"
   ]
  },
  {
   "cell_type": "markdown",
   "id": "f4b746f7-26de-45d9-83a8-b09eb5ae2126",
   "metadata": {},
   "source": [
    "### Documentation"
   ]
  },
  {
   "cell_type": "code",
   "execution_count": null,
   "id": "70f01e56",
   "metadata": {},
   "outputs": [],
   "source": [
    "parent_dir = abspath(join(join(getcwd(), pardir), pardir))\n",
    "data_dir = join(parent_dir, 'data')\n",
    "data_file = join(data_dir, \"data.csv\")\n",
    "docs_dir = join(parent_dir, 'docs')\n",
    "if exists(docs_dir):\n",
    "    doc_file = relpath(join(docs_dir, 'practical_works_linear_programing_v3.pdf'))\n",
    "    IFrame(doc_file, width=1200, height=350)\n",
    "matrix = csv_to_matrix(data_file)"
   ]
  },
  {
   "cell_type": "markdown",
   "id": "00239dcc",
   "metadata": {},
   "source": [
    "#### General settings"
   ]
  },
  {
   "cell_type": "code",
   "execution_count": null,
   "id": "9b1d6bcf",
   "metadata": {},
   "outputs": [],
   "source": [
    "LpSolverDefault = p.PULP_CBC_CMD\n",
    "show_solver_output = False"
   ]
  },
  {
   "cell_type": "markdown",
   "id": "786942b9-081d-4251-9355-dab3d85f57c8",
   "metadata": {
    "jp-MarkdownHeadingCollapsed": true,
    "tags": []
   },
   "source": [
    "#### Linear Programming via PuLP"
   ]
  },
  {
   "cell_type": "code",
   "execution_count": null,
   "id": "3edf1b6f",
   "metadata": {},
   "outputs": [],
   "source": [
    "# Create the variable to contain the problem data\n",
    "problem = p.LpProblem(name=\"The Miracle Worker\", sense=p.const.LpMaximize)\n",
    "\n",
    "# Create problem variables\n",
    "x = p.LpVariable(name=\"Medicine_1_units\", lowBound=0, upBound=None, cat=p.LpInteger)\n",
    "y = p.LpVariable(name=\"Medicine_2_units\", lowBound=0, upBound=None, cat=p.LpInteger)\n",
    "\n",
    "# The objective function is added to \"problem\" first\n",
    "problem += 25*x + 20*y, \"Health restored; to be maximized\"\n",
    "\n",
    "# The two contraints for the herbs\n",
    "problem += 3*x + 4*y <= 25, \"Herb A constraint\"\n",
    "problem += 2*x + y <= 10, \"Herb B constraint\"\n",
    "\n",
    "# The problem data is written to an .lp file\n",
    "# problem.writeLP(filename=join(data_dir, \"miracle_worker.lp\"), writeSOS=1, mip=1, max_length=100)\n",
    "problem.writeLP(filename=join(data_dir, \"miracle_worker.lp\"), writeSOS=1, mip=1, max_length=100)\n",
    "\n",
    "# The problem is solved using PuLP's choice of solver\n",
    "problem.solve(solver=LpSolverDefault(msg=show_solver_output))"
   ]
  },
  {
   "cell_type": "code",
   "execution_count": null,
   "id": "640310fa-85a2-4ddc-845b-1c8f171f7349",
   "metadata": {},
   "outputs": [],
   "source": [
    "# Create the variable to contain the problem data\n",
    "problem = p.LpProblem(name=\"The Miracle Worker\", sense=p.const.LpMaximize)\n",
    "\n",
    "# Create problem variables\n",
    "x = p.LpVariable(name=\"Medicine_1_units\", lowBound=0, upBound=None, cat=p.LpInteger)\n",
    "y = p.LpVariable(name=\"Medicine_2_units\", lowBound=0, upBound=None, cat=p.LpInteger)\n",
    "\n",
    "# The objective function is added to \"problem\" first\n",
    "problem += 25*x + 20*y, \"Health restored; to be maximized\"\n",
    "\n",
    "# The two contraints for the herbs\n",
    "problem += 3*x + 4*y <= 25, \"Herb A constraint\"\n",
    "problem += 2*x + y <= 10, \"Herb B constraint\"\n",
    "\n",
    "# The problem data is written to an .lp file\n",
    "# problem.writeLP(filename=join(data_dir, \"miracle_worker.lp\"), writeSOS=1, mip=1, max_length=100)\n",
    "problem.writeLP(filename=join(data_dir, \"miracle_worker.lp\"), writeSOS=1, mip=1, max_length=100)\n",
    "\n",
    "# The problem is solved using PuLP's choice of solver\n",
    "problem.solve(solver=LpSolverDefault(msg=show_solver_output))"
   ]
  },
  {
   "cell_type": "markdown",
   "id": "e1fa80a6-c542-4f60-8142-03407c3004b4",
   "metadata": {
    "jp-MarkdownHeadingCollapsed": true,
    "tags": []
   },
   "source": [
    "#### Output"
   ]
  },
  {
   "cell_type": "code",
   "execution_count": null,
   "id": "0bbd016f",
   "metadata": {},
   "outputs": [],
   "source": [
    "print_log(f\"{p.LpStatus[problem.status] = }\")\n",
    "\n",
    "_ = [print_log(f\"{v.name} = {v.varValue}\") for v in problem.variables()]\n",
    "\n",
    "print_log(f\"{p.value(problem.objective) = }\")"
   ]
  },
  {
   "cell_type": "markdown",
   "id": "9038793d-6256-40fd-906d-0e088fdd8721",
   "metadata": {
    "tags": []
   },
   "source": [
    "#### Toy example (Linear Programming via PuLP)"
   ]
  },
  {
   "cell_type": "code",
   "execution_count": null,
   "id": "bc944985-8405-425b-9dc4-b5ddf12106a3",
   "metadata": {},
   "outputs": [],
   "source": [
    "# Create the variable to contain the problem data\n",
    "problem = p.LpProblem(name=\"Toy Manufacturing\", sense=p.const.LpMaximize)\n",
    "\n",
    "# Create problem variables\n",
    "x = p.LpVariable(name=\"Toy_1_units\", lowBound=0, upBound=None, cat=p.LpInteger)\n",
    "y = p.LpVariable(name=\"Toy_2_units\", lowBound=0, upBound=None, cat=p.LpInteger)\n",
    "\n",
    "# The objective function is added to \"problem\" first\n",
    "problem += 25*x + 20*y, \"Profit; to be maximized\"\n",
    "\n",
    "# The two contraints for the herbs\n",
    "problem += 20*x + 12*y <= 2000, \"Required units - constraint\"\n",
    "problem += 5*x + 5*y <= 540, \"Time required - constraint\"\n",
    "\n",
    "# The problem data is written to an .lp file\n",
    "problem.writeLP(filename=join(data_dir, \"toy_manufacturing.lp\"), writeSOS=1, mip=1, max_length=100)\n",
    "\n",
    "# The problem is solved using PuLP's choice of solver\n",
    "problem.solve(solver=LpSolverDefault(msg=show_solver_output))"
   ]
  },
  {
   "cell_type": "markdown",
   "id": "8e0a433d-4e71-412a-8fdb-48d4fe55319e",
   "metadata": {
    "jp-MarkdownHeadingCollapsed": true,
    "tags": []
   },
   "source": [
    "#### Output"
   ]
  },
  {
   "cell_type": "code",
   "execution_count": null,
   "id": "a603fa9a-6ea5-416f-98e0-3d985eed5698",
   "metadata": {},
   "outputs": [],
   "source": [
    "print_log(f\"{p.LpStatus[problem.status] = }\")\n",
    "\n",
    "_ = [print_log(f\"{v.name} = {v.varValue}\") for v in problem.variables()]\n",
    "\n",
    "print_log(f\"{p.value(problem.objective) = }\")"
   ]
  },
  {
   "cell_type": "markdown",
   "id": "cadd6020-6f74-461e-876e-b2c7b2fe1103",
   "metadata": {
    "tags": []
   },
   "source": [
    "### How to visit Paris ? (efficiently with low budget)"
   ]
  },
  {
   "cell_type": "code",
   "execution_count": null,
   "id": "3b844276",
   "metadata": {},
   "outputs": [],
   "source": [
    "@dataclass(frozen=False, order=False)\n",
    "class SiteInfo:\n",
    "    \"\"\"\n",
    "    A dataclass to hold the site information\n",
    "    \"\"\"\n",
    "    name: str = field(default=\"\")\n",
    "    site_code: str = field(default=\"\")\n",
    "    price: float = field(default=0.0) # price in euros\n",
    "    duration: float = field(default=0.0) # duration in hours\n",
    "    rating: int = field(default=0) # appreciation rating"
   ]
  },
  {
   "cell_type": "code",
   "execution_count": null,
   "id": "d92f0ac3",
   "metadata": {},
   "outputs": [],
   "source": [
    "sites_info = [\n",
    "    SiteInfo(name=\"La Tour Eiffel\", site_code=\"TE\", duration=4.5, rating=5, price=15.50),\n",
    "    SiteInfo(name=\"Le Musée du louvre\", site_code=\"ML\", duration=3, rating=4, price=12),\n",
    "    SiteInfo(name=\"l’Arc de triomphe\", site_code=\"AT\", duration=1, rating=3, price=9.50),\n",
    "    SiteInfo(name=\"le Musée d’Orsay\", site_code=\"MO\", duration=2, rating=2, price=11),\n",
    "    SiteInfo(name=\"le Jardin des tuileries\", site_code=\"JT\", duration=1.5, rating=3, price=0),\n",
    "    SiteInfo(name=\"les Catacombes\", site_code=\"CA\", duration=2, rating=4, price=10),\n",
    "    SiteInfo(name=\"le Centre Pompido\", site_code=\"CP\", duration=2.5, rating=1, price=10),\n",
    "    SiteInfo(name=\"la Cathédrale Notre Dame de Paris\", site_code=\"CN\", duration=2, rating=5, price=5),\n",
    "    SiteInfo(name=\"la Basilique du Sacré-Coeur\", site_code=\"BS\", duration=2, rating=4, price=8),\n",
    "    SiteInfo(name=\"la Sainte Chapelle\", site_code=\"SC\", duration=1.5, rating=1, price=8.50),\n",
    "    SiteInfo(name=\"La Place de la Concorde\", site_code=\"PC\", duration=0.75, rating=3, price=0),\n",
    "    SiteInfo(name=\"la Tour Montparnasse\", site_code=\"TM\", duration=2, rating=2, price=15),\n",
    "    SiteInfo(name=\"l’Avenue des Champs-Elysées\", site_code=\"AC\", duration=1.5, rating=5, price=0),\n",
    "]"
   ]
  },
  {
   "cell_type": "code",
   "execution_count": null,
   "id": "74a9be1c",
   "metadata": {},
   "outputs": [],
   "source": [
    "sites = [x.site_code for x in sites_info]\n",
    "\n",
    "distance_in_kms = npmat.asmatrix(data=[\n",
    "        [0, 3.8, 2.1, 2.4, 3.5, 4.2, 5.0,  4.4, 5.5, 4.2, 2.5, 3.1, 1.9],\n",
    "        [0,   0, 3.8, 1.1, 1.3, 3.3, 1.3,  1.1, 3.4, 0.8, 1.7, 2.5, 2.8],\n",
    "        [0,   0,   0, 3.1, 3.0, 5.8, 4.8,  4.9, 4.3, 4.6, 2.2, 4.4, 1.0],\n",
    "        [0,   0,   0,   0, 0.9, 3.1, 2.5,  2.0, 3.9, 1.8, 1.0, 2.3, 2.1],\n",
    "        [0,   0,   0,   0,   0, 4.2, 2.0,  2.4, 2.7, 2.0, 1.0, 3.4, 2.1],\n",
    "        [0,   0,   0,   0,   0,   0, 3.5,  2.7, 6.5, 2.6, 3.8, 1.3, 4.9],\n",
    "        [0,   0,   0,   0,   0,   0,   0, 0.85, 3.7, 0.9, 2.7, 3.4, 3.8],\n",
    "        [0,   0,   0,   0,   0,   0,   0,    0, 4.5, 0.4, 2.8, 2.7, 3.9],\n",
    "        [0,   0,   0,   0,   0,   0,   0,    0,   0, 4.2, 3.3, 5.7, 3.8],\n",
    "        [0,   0,   0,   0,   0,   0,   0,    0,   0,   0, 2.5, 2.6, 3.6],\n",
    "        [0,   0,   0,   0,   0,   0,   0,    0,   0,   0,   0, 3.0, 1.2],\n",
    "        [0,   0,   0,   0,   0,   0,   0,    0,   0,   0,   0,   0, 2.1],\n",
    "        [0,   0,   0,   0,   0,   0,   0,    0,   0,   0,   0,   0,   0]\n",
    "    ], dtype=float)\n",
    "    \n",
    "distance_df = pd.DataFrame(np.matrix(distance_in_kms.T + distance_in_kms), columns=sites, index=sites)\n",
    "distance_df"
   ]
  },
  {
   "cell_type": "markdown",
   "id": "93c4c3e0",
   "metadata": {},
   "source": [
    "##### 1. It is assumed that Mr. Doe gives equal importance to each tourist site, and he wants to visit the maximum number of sites. Which list(s) of places could you recommend to him ? This solution will be called `ListVisit 1`."
   ]
  },
  {
   "cell_type": "code",
   "execution_count": null,
   "id": "33e1ccfd",
   "metadata": {},
   "outputs": [],
   "source": [
    "# Create the variable to contain the problem data\n",
    "problem = p.LpProblem(name=\"Paris Visit - Max. number of sites\", sense=p.const.LpMaximize)\n",
    "\n",
    "# Create the variables\n",
    "for site in sites:\n",
    "    site_info = next(x for x in sites_info if x.site_code == site)\n",
    "    print_log(f\"Creating variable for {site = }\")\n",
    "    globals()[f\"{site}\"] = p.LpVariable(name=f\"{site}\", lowBound=0, upBound=1, cat=p.LpInteger)\n",
    "\n",
    "# Create the objective function\n",
    "# problem += p.lpSum([globals()[f\"{site}\"] * sites_info[i].rating for i, site in enumerate(sites)])\n",
    "problem += p.lpSum([globals()[f\"{site}\"] * 1 for site in sites]), \"Max. number of sites\"\n",
    "\n",
    "# Create the constraints\n",
    "# 1. Max. duration\n",
    "problem += p.lpSum([globals()[f\"{site}\"] * sites_info[i].duration for i, site in enumerate(sites)]) <= 12, \"Max. duration\"\n",
    "# 2. Max. price\n",
    "problem += p.lpSum([globals()[f\"{site}\"] * sites_info[i].price for i, site in enumerate(sites)]) <= 65, \"Max. price\"\n",
    "\n",
    "# The problem data is written to an .lp file\n",
    "problem.writeLP(filename=join(data_dir, \"ListVisit_1.lp\"), writeSOS=1, mip=1, max_length=100)\n",
    "\n",
    "# The problem is solved using PuLP's choice of solver\n",
    "problem.solve(solver=LpSolverDefault(msg=show_solver_output))"
   ]
  },
  {
   "cell_type": "markdown",
   "id": "6594c837",
   "metadata": {},
   "source": [
    "#### Output"
   ]
  },
  {
   "cell_type": "code",
   "execution_count": null,
   "id": "17aecd3c",
   "metadata": {},
   "outputs": [],
   "source": [
    "print_log(f\"{p.LpStatus[problem.status] = }\")\n",
    "\n",
    "# _ = [print_log(f\"{v.name} = {v.varValue}\") for v in problem.variables()]\n",
    "to_visit = []\n",
    "for v in problem.variables():\n",
    "    print_log(f\"{v.name} = {v.varValue}\")\n",
    "    if v.varValue == 1:\n",
    "        site = next(x for x in sites_info if x.site_code == v.name)\n",
    "        to_visit.append(site.name)\n",
    "\n",
    "print_log(f\"{p.value(problem.objective) = }\")\n",
    "print_log(f\"You should visit total '{p.value(problem.objective)}' places. i.e:\\n\\n{' --- '.join(to_visit)}\")\n",
    "\n",
    "listvisit_1 = to_visit.copy() # save the result for later use"
   ]
  },
  {
   "cell_type": "markdown",
   "id": "edc08c6a",
   "metadata": {},
   "source": [
    "##### 2. Actually, Mr. Doe has some preferences among these tourist sites and he expresses them as follows:"
   ]
  },
  {
   "cell_type": "markdown",
   "id": "07717f41",
   "metadata": {},
   "source": [
    "- Preference 1 : If two sites are geographically very close (within a radius of 1 km of walking), he will prefer to visit these two sites instead of visiting only one."
   ]
  },
  {
   "cell_type": "code",
   "execution_count": null,
   "id": "f53b541f",
   "metadata": {},
   "outputs": [],
   "source": [
    "# Create the variable to contain the problem data\n",
    "problem = p.LpProblem(name=\"Paris Visit - Max. number of sites (within 1 km radius)\", sense=p.const.LpMaximize)\n",
    "\n",
    "# Create the variables\n",
    "for site in sites:\n",
    "    site_info = next(x for x in sites_info if x.site_code == site)\n",
    "    print_log(f\"Creating variable for {site = }\")\n",
    "    globals()[f\"{site}\"] = p.LpVariable(name=f\"{site}\", lowBound=0, upBound=1, cat=p.LpInteger)\n",
    "\n",
    "# Create the objective function\n",
    "problem += p.lpSum([globals()[f\"{site}\"] * sites_info[i].rating for i, site in enumerate(sites)]), \"Max. number of sites\"\n",
    "\n",
    "# Create the constraints\n",
    "# 1. Max. duration\n",
    "problem += p.lpSum([globals()[f\"{site}\"] * sites_info[i].duration for i, site in enumerate(sites)]) <= 12, \"Max. duration\"\n",
    "# 2. Max. price\n",
    "problem += p.lpSum([globals()[f\"{site}\"] * sites_info[i].price for i, site in enumerate(sites)]) <= 65, \"Max. price\"\n",
    "\n",
    "# 3. Distance between sites\n",
    "for i, site1 in enumerate(sites):\n",
    "    for j, site2 in enumerate(sites):\n",
    "        if distance_df.loc[site1, site2] <= 1 and site1 != site2: # if distance is between 0 and 1 km\n",
    "            # print_log(f\"{site1 = } {site2 = } -> {distance_df.loc[site1, site2]}\")\n",
    "            problem += globals()[f\"{site1}\"] - globals()[f\"{site2}\"] == 0, f\"Distance between {site1} and {site2}\"\n",
    "            # problem += locals()[f\"{site1}\"] + locals()[f\"{site2}\"] <= 1 + distance_df.loc[site1, site2] / 10, f\"Distance between {site1} and {site2}\"\n",
    "\n",
    "# The problem data is written to an .lp file\n",
    "problem.writeLP(filename=join(data_dir, \"ListVisit_2_a.lp\"), writeSOS=1, mip=1, max_length=100)\n",
    "\n",
    "# The problem is solved using PuLP's choice of solver\n",
    "problem.solve(solver=LpSolverDefault(msg=show_solver_output))"
   ]
  },
  {
   "cell_type": "markdown",
   "id": "3883bfb1",
   "metadata": {},
   "source": [
    "#### Output"
   ]
  },
  {
   "cell_type": "code",
   "execution_count": null,
   "id": "06f8527c",
   "metadata": {},
   "outputs": [],
   "source": [
    "print_log(f\"{p.LpStatus[problem.status] = }\")\n",
    "\n",
    "# _ = [print_log(f\"{v.name} = {v.varValue}\") for v in problem.variables()]\n",
    "to_visit = []\n",
    "for v in problem.variables():\n",
    "    print_log(f\"{v.name} = {v.varValue}\")\n",
    "    if v.varValue == 1:\n",
    "        site = next(x for x in sites_info if x.site_code == v.name)\n",
    "        to_visit.append(site.name)\n",
    "\n",
    "print_log(f\"{p.value(problem.objective) = }\")\n",
    "print_log(f\"You should visit total '{len(to_visit)}' places. i.e:\\n\\n{' --- '.join(to_visit)}\")\n",
    "\n",
    "listvisit_2a = to_visit.copy() # save the result for later use"
   ]
  },
  {
   "cell_type": "markdown",
   "id": "5a696fbc",
   "metadata": {},
   "source": [
    "- Preference 2 : He absolutely wants to visit the `Eiffel Tower` (TE) and `Catacombes` (CA).\n",
    "\n",
    "Two solutions:\n",
    "\n",
    "1. Set lower bounds for `TE` and `CA` to 1 (minimum value will be 1 i.e: must visit them)\n",
    "2. Add constraints explicitly for `TE` and `CA` (for e.g: `TE` == 1)"
   ]
  },
  {
   "cell_type": "code",
   "execution_count": null,
   "id": "f6c9faac",
   "metadata": {},
   "outputs": [],
   "source": [
    "# Create the variable to contain the problem data\n",
    "problem = p.LpProblem(name=\"Paris Visit - Max. number of sites (must visit effiel tower and catacombs)\", sense=p.const.LpMaximize)\n",
    "\n",
    "# Create the variables\n",
    "for site in sites:\n",
    "    site_info = next(x for x in sites_info if x.site_code == site)\n",
    "    print_log(f\"Creating variable for {site = }\")\n",
    "    globals()[f\"{site}\"] = p.LpVariable(name=f\"{site}\", lowBound=0, upBound=1, cat=p.LpInteger)\n",
    "\n",
    "# Create the objective function\n",
    "problem += p.lpSum([globals()[f\"{site}\"] * sites_info[i].rating for i, site in enumerate(sites)]), \"Max. number of sites\"\n",
    "\n",
    "# Create the constraints\n",
    "# 1. Max. duration\n",
    "problem += p.lpSum([globals()[f\"{site}\"] * sites_info[i].duration for i, site in enumerate(sites)]) <= 12, \"Max. duration\"\n",
    "\n",
    "# 2. Max. price\n",
    "problem += p.lpSum([globals()[f\"{site}\"] * sites_info[i].price for i, site in enumerate(sites)]) <= 65, \"Max. price\"\n",
    "\n",
    "# 3. Must visit Effiel Tower (TE) and Catacombs (CA)\n",
    "must_visit = [\"TE\", \"CA\"]\n",
    "for site in must_visit:\n",
    "    problem += globals()[f\"{site}\"] == 1, f\"Must visit {site}\"\n",
    "\n",
    "# The problem data is written to an .lp file\n",
    "problem.writeLP(filename=join(data_dir, \"ListVisit_2_b.lp\"), writeSOS=1, mip=1, max_length=100)\n",
    "\n",
    "# The problem is solved using PuLP's choice of solver\n",
    "problem.solve(solver=LpSolverDefault(msg=show_solver_output))"
   ]
  },
  {
   "cell_type": "markdown",
   "id": "f104059c",
   "metadata": {},
   "source": [
    "#### Output"
   ]
  },
  {
   "cell_type": "code",
   "execution_count": null,
   "id": "57985a9a",
   "metadata": {},
   "outputs": [],
   "source": [
    "print_log(f\"{p.LpStatus[problem.status] = }\")\n",
    "\n",
    "# _ = [print_log(f\"{v.name} = {v.varValue}\") for v in problem.variables()]\n",
    "to_visit = []\n",
    "for v in problem.variables():\n",
    "    print_log(f\"{v.name} = {v.varValue}\")\n",
    "    if v.varValue == 1:\n",
    "        site = next(x for x in sites_info if x.site_code == v.name)\n",
    "        to_visit.append(site.name)\n",
    "\n",
    "print_log(f\"{p.value(problem.objective) = }\")\n",
    "print_log(f\"You should visit total '{len(to_visit)}' places. i.e:\\n\\n{' --- '.join(to_visit)}\")\n",
    "\n",
    "listvisit_2b = to_visit.copy() # save the result for later use"
   ]
  },
  {
   "cell_type": "markdown",
   "id": "f9421f9b",
   "metadata": {},
   "source": [
    "- Preference 3 : If he visits `Notre Dame Cathedral` (CN) then he will not visit the `Sainte Chapelle` (SC)."
   ]
  },
  {
   "cell_type": "code",
   "execution_count": null,
   "id": "50209826",
   "metadata": {},
   "outputs": [],
   "source": [
    "# Create the variable to contain the problem data\n",
    "problem = p.LpProblem(name=\"Paris Visit - Max. number of sites (either visit Notre Dame Cathedral or Sainte Chapelle)\", sense=p.const.LpMaximize)\n",
    "\n",
    "# Create the variables\n",
    "for site in sites:\n",
    "    site_info = next(x for x in sites_info if x.site_code == site)\n",
    "    print_log(f\"Creating variable for {site = }\")\n",
    "    globals()[f\"{site}\"] = p.LpVariable(name=f\"{site}\", lowBound=0, upBound=1, cat=p.LpInteger)\n",
    "\n",
    "# Create the objective function\n",
    "problem += p.lpSum([globals()[f\"{site}\"] * sites_info[i].rating for i, site in enumerate(sites)]), \"Max. number of sites\"\n",
    "\n",
    "# Create the constraints\n",
    "# 1. Max. duration\n",
    "problem += p.lpSum([globals()[f\"{site}\"] * sites_info[i].duration for i, site in enumerate(sites)]) <= 12, \"Max. duration\"\n",
    "\n",
    "# 2. Max. price\n",
    "problem += p.lpSum([globals()[f\"{site}\"] * sites_info[i].price for i, site in enumerate(sites)]) <= 65, \"Max. price\"\n",
    "\n",
    "# 3. Either visit Notre Dame Cathedral or Sainte Chapelle\n",
    "either_visit = [\"TE\", \"CA\"]\n",
    "for _site in combinations(either_visit, 2):\n",
    "    site1, site2 = _site\n",
    "    problem += globals()[f\"{site1}\"] + globals()[f\"{site2}\"] == 1, f\"Either visit {site1} or {site2}\"\n",
    "\n",
    "# The problem data is written to an .lp file\n",
    "problem.writeLP(filename=join(data_dir, \"ListVisit_2_c.lp\"), writeSOS=1, mip=1, max_length=100)\n",
    "\n",
    "# The problem is solved using PuLP's choice of solver\n",
    "problem.solve(solver=LpSolverDefault(msg=show_solver_output))"
   ]
  },
  {
   "cell_type": "markdown",
   "id": "dd6f3294",
   "metadata": {},
   "source": [
    "#### Output"
   ]
  },
  {
   "cell_type": "code",
   "execution_count": null,
   "id": "50dce34b",
   "metadata": {},
   "outputs": [],
   "source": [
    "print_log(f\"{p.LpStatus[problem.status] = }\")\n",
    "\n",
    "# _ = [print_log(f\"{v.name} = {v.varValue}\") for v in problem.variables()]\n",
    "to_visit = []\n",
    "for v in problem.variables():\n",
    "    print_log(f\"{v.name} = {v.varValue}\")\n",
    "    if v.varValue == 1:\n",
    "        site = next(x for x in sites_info if x.site_code == v.name)\n",
    "        to_visit.append(site.name)\n",
    "\n",
    "print_log(f\"{p.value(problem.objective) = }\")\n",
    "print_log(f\"You should visit total '{len(to_visit)}' places. i.e:\\n\\n{' --- '.join(to_visit)}\")\n",
    "\n",
    "listvisit_2c = to_visit.copy() # save the result for later use"
   ]
  },
  {
   "cell_type": "markdown",
   "id": "9a1f692f",
   "metadata": {},
   "source": [
    "- Preference 4 : He absolutely wants to visit `Tour Montparnasse` (TM)."
   ]
  },
  {
   "cell_type": "code",
   "execution_count": null,
   "id": "6ae5f272",
   "metadata": {},
   "outputs": [],
   "source": [
    "# Create the variable to contain the problem data\n",
    "problem = p.LpProblem(name=\"Paris Visit - Max. number of sites (must visit tour montparnasse)\", sense=p.const.LpMaximize)\n",
    "\n",
    "# Create the variables\n",
    "for site in sites:\n",
    "    site_info = next(x for x in sites_info if x.site_code == site)\n",
    "    print_log(f\"Creating variable for {site = }\")\n",
    "    globals()[f\"{site}\"] = p.LpVariable(name=f\"{site}\", lowBound=0, upBound=1, cat=p.LpInteger)\n",
    "\n",
    "# Create the objective function\n",
    "problem += p.lpSum([globals()[f\"{site}\"] * sites_info[i].rating for i, site in enumerate(sites)]), \"Max. number of sites\"\n",
    "\n",
    "# Create the constraints\n",
    "# 1. Max. duration\n",
    "problem += p.lpSum([globals()[f\"{site}\"] * sites_info[i].duration for i, site in enumerate(sites)]) <= 12, \"Max. duration\"\n",
    "\n",
    "# 2. Max. price\n",
    "problem += p.lpSum([globals()[f\"{site}\"] * sites_info[i].price for i, site in enumerate(sites)]) <= 65, \"Max. price\"\n",
    "\n",
    "# 3. Must visit Tour Montparnasse (TM)\n",
    "must_visit = [\"TM\"]\n",
    "for site in must_visit:\n",
    "    problem += globals()[f\"{site}\"] == 1, f\"Must visit {site}\"\n",
    "\n",
    "# The problem data is written to an .lp file\n",
    "problem.writeLP(filename=join(data_dir, \"ListVisit_2_d.lp\"), writeSOS=1, mip=1, max_length=100)\n",
    "\n",
    "# The problem is solved using PuLP's choice of solver\n",
    "problem.solve(solver=LpSolverDefault(msg=show_solver_output))"
   ]
  },
  {
   "cell_type": "markdown",
   "id": "8e4c6853",
   "metadata": {},
   "source": [
    "#### Output"
   ]
  },
  {
   "cell_type": "code",
   "execution_count": null,
   "id": "c863434c",
   "metadata": {},
   "outputs": [],
   "source": [
    "print_log(f\"{p.LpStatus[problem.status] = }\")\n",
    "\n",
    "# _ = [print_log(f\"{v.name} = {v.varValue}\") for v in problem.variables()]\n",
    "to_visit = []\n",
    "for v in problem.variables():\n",
    "    print_log(f\"{v.name} = {v.varValue}\")\n",
    "    if v.varValue == 1:\n",
    "        site = next(x for x in sites_info if x.site_code == v.name)\n",
    "        to_visit.append(site.name)\n",
    "\n",
    "print_log(f\"{p.value(problem.objective) = }\")\n",
    "print_log(f\"You should visit total '{len(to_visit)}' places. i.e:\\n\\n{' --- '.join(to_visit)}\")\n",
    "\n",
    "listvisit_2d = to_visit.copy() # save the result for later use"
   ]
  },
  {
   "cell_type": "markdown",
   "id": "bbc06af0",
   "metadata": {},
   "source": [
    "- Preference 5 : If he visits the `Louvre` (ML) Museum then he must visit the `Pompidou Center` (CP)."
   ]
  },
  {
   "cell_type": "code",
   "execution_count": null,
   "id": "f1de41bd",
   "metadata": {},
   "outputs": [],
   "source": [
    "# Create the variable to contain the problem data\n",
    "problem = p.LpProblem(name=\"Paris Visit - Max. number of sites (must visit the Pompidou Center if he visits Louvre)\", sense=p.const.LpMaximize)\n",
    "\n",
    "# Create the variables\n",
    "for site in sites:\n",
    "    site_info = next(x for x in sites_info if x.site_code == site)\n",
    "    print_log(f\"Creating variable for {site = }\")\n",
    "    globals()[f\"{site}\"] = p.LpVariable(name=f\"{site}\", lowBound=0, upBound=1, cat=p.LpInteger)\n",
    "\n",
    "# Create the objective function\n",
    "problem += p.lpSum([globals()[f\"{site}\"] * sites_info[i].rating for i, site in enumerate(sites)]), \"Max. number of sites\"\n",
    "\n",
    "# Create the constraints\n",
    "# 1. Max. duration\n",
    "problem += p.lpSum([globals()[f\"{site}\"] * sites_info[i].duration for i, site in enumerate(sites)]) <= 12, \"Max. duration\"\n",
    "\n",
    "# 2. Max. price\n",
    "problem += p.lpSum([globals()[f\"{site}\"] * sites_info[i].price for i, site in enumerate(sites)]) <= 65, \"Max. price\"\n",
    "\n",
    "# 3. Must visit the Pompidou Center (CP) if he visits Louvre (ML)\n",
    "problem += globals()[f\"{ML}\"] - globals()[f\"{CP}\"] <= 0, f\"Must visit CP if he visits ML\"\n",
    "\n",
    "# The problem data is written to an .lp file\n",
    "problem.writeLP(filename=join(data_dir, \"ListVisit_2_e.lp\"), writeSOS=1, mip=1, max_length=100)\n",
    "\n",
    "# The problem is solved using PuLP's choice of solver\n",
    "problem.solve(solver=LpSolverDefault(msg=show_solver_output))"
   ]
  },
  {
   "cell_type": "markdown",
   "id": "27f4730f",
   "metadata": {},
   "source": [
    "#### Output"
   ]
  },
  {
   "cell_type": "code",
   "execution_count": null,
   "id": "c8951818",
   "metadata": {},
   "outputs": [],
   "source": [
    "print_log(f\"{p.LpStatus[problem.status] = }\")\n",
    "\n",
    "# _ = [print_log(f\"{v.name} = {v.varValue}\") for v in problem.variables()]\n",
    "to_visit = []\n",
    "for v in problem.variables():\n",
    "    print_log(f\"{v.name} = {v.varValue}\")\n",
    "    if v.varValue == 1:\n",
    "        site = next(x for x in sites_info if x.site_code == v.name)\n",
    "        to_visit.append(site.name)\n",
    "\n",
    "print_log(f\"{p.value(problem.objective) = }\")\n",
    "print_log(f\"You should visit total '{len(to_visit)}' places. i.e:\\n\\n{' --- '.join(to_visit)}\")\n",
    "\n",
    "listvisit_2e = to_visit.copy() # save the result for later use"
   ]
  },
  {
   "cell_type": "markdown",
   "id": "32ca9589",
   "metadata": {},
   "source": [
    "#### 2.a - For each of the five preferences above, suggest to Mr. Doe, one or more lists of tourist sites to visit. Are the obtained lists different from the solution `ListVisit 1` ? To answer this last question, you can implement a python function returning `True` (respectively `False`) if two lists are identical (respectively different)."
   ]
  },
  {
   "cell_type": "code",
   "execution_count": null,
   "id": "00bad801",
   "metadata": {},
   "outputs": [],
   "source": [
    "for i, x in enumerate(list('abcde')):\n",
    "    print_log(f\"Are 'ListVisit 1' and output of 'Preference {i + 1}' same ? {is_identical(listvisit_1, globals()[f'listvisit_2{x}'])}\")"
   ]
  },
  {
   "cell_type": "code",
   "execution_count": null,
   "id": "a0cccf76",
   "metadata": {},
   "outputs": [],
   "source": [
    "#--------------------------------------------\n",
    "# Helper functions for adding constraints\n",
    "#--------------------------------------------\n",
    "def create_variables(problem: p.LpProblem, sites: List, sites_info: List[SiteInfo]) -> p.LpProblem:\n",
    "    for site in sites:\n",
    "        site_info = next(x for x in sites_info if x.site_code == site)\n",
    "        print_log(f\"Creating variable for {site = }\")\n",
    "        globals()[f\"{site}\"] = p.LpVariable(name=f\"{site}\", lowBound=0, upBound=1, cat=p.LpInteger)\n",
    "    return problem\n",
    "\n",
    "def create_objective_function(problem: p.LpProblem, sites: List, sites_info: List[SiteInfo]) -> p.LpProblem:\n",
    "    problem += p.lpSum([globals()[f\"{site}\"] * sites_info[i].rating for i, site in enumerate(sites)]), \"Max. number of sites\"\n",
    "    return problem\n",
    "\n",
    "def add_generic_constraints(problem: p.LpProblem, sites: List, sites_info: List[SiteInfo]) -> p.LpProblem:\n",
    "    # 1. Max. duration\n",
    "    problem += p.lpSum([globals()[f\"{site}\"] * sites_info[i].duration for i, site in enumerate(sites)]) <= 12, \"Max. duration\"\n",
    "    # 2. Max. price\n",
    "    problem += p.lpSum([globals()[f\"{site}\"] * sites_info[i].price for i, site in enumerate(sites)]) <= 65, \"Max. price\"\n",
    "    return problem\n",
    "\n",
    "class PREFERENCE(str, Enum):\n",
    "    ONE = \"ONE\"\n",
    "    TWO = \"TWO\"\n",
    "    THREE = \"THREE\"\n",
    "    FOUR = \"FOUR\"\n",
    "    FIVE = \"FIVE\"\n",
    "    def __str__(self) -> str:\n",
    "        return self.value\n",
    "\n",
    "def add_specific_constraints(problem: p.LpProblem, preference: PREFERENCE, distance_df: pd.DataFrame, sites: List, sites_info: List[SiteInfo], verbose: bool = False) -> p.LpProblem:\n",
    "    if verbose: print_log(f\"Adding constraints for {preference = }\")\n",
    "    if preference == str(PREFERENCE.ONE):\n",
    "        # 3. Distance between sites (within 1 km radius)\n",
    "        for i, site1 in enumerate(sites):\n",
    "            for j, site2 in enumerate(sites):\n",
    "                if distance_df.loc[site1, site2] <= 1 and site1 != site2: # if distance is between 0 and 1 km\n",
    "                    if verbose: print_log(f\"{site1 = } {site2 = } -> {distance_df.loc[site1, site2]}\")\n",
    "                    problem += globals()[f\"{site1}\"] - globals()[f\"{site2}\"] == 0, f\"Distance between {site1} and {site2}\"\n",
    "    elif preference == str(PREFERENCE.TWO):\n",
    "        # 3. Must visit Effiel Tower (TE) and Catacombs (CA)\n",
    "        must_visit = [\"TE\", \"CA\"]\n",
    "        for site in must_visit:\n",
    "            problem += globals()[f\"{site}\"] == 1, f\"Must visit {site}\"\n",
    "    elif preference == str(PREFERENCE.THREE):\n",
    "        # 3. Either visit Notre Dame Cathedral or Sainte Chapelle\n",
    "        either_visit = [\"TE\", \"CA\"]\n",
    "        for _site in combinations(either_visit, 2):\n",
    "            site1, site2 = _site\n",
    "            problem += globals()[f\"{site1}\"] + globals()[f\"{site2}\"] == 1, f\"Either visit {site1} or {site2}\"\n",
    "    elif preference == str(PREFERENCE.FOUR):\n",
    "        # 3. Must visit Tour Montparnasse (TM)\n",
    "        must_visit = [\"TM\"]\n",
    "        for site in must_visit:\n",
    "            problem += globals()[f\"{site}\"] == 1, f\"Must visit {site}\"\n",
    "    elif preference == str(PREFERENCE.FIVE):\n",
    "        # 3. Must visit the Pompidou Center (CP) if he visits Louvre (ML)\n",
    "        problem += globals()[f\"{ML}\"] - globals()[f\"{CP}\"] <= 0, f\"Must visit CP if he visits ML\"\n",
    "    return problem\n",
    "\n",
    "def display_solver_output(problem: p.LpProblem, sites_info: List[SiteInfo]) -> List[str]:\n",
    "    print_log(f\"{p.LpStatus[problem.status] = }\")\n",
    "    \n",
    "    to_visit = []\n",
    "    for v in problem.variables():\n",
    "        print_log(f\"{v.name} = {v.varValue}\")\n",
    "        if v.varValue == 1:\n",
    "            site = next(x for x in sites_info if x.site_code == v.name)\n",
    "            to_visit.append(site.name)\n",
    "\n",
    "    print_log(f\"{p.value(problem.objective) = }\")\n",
    "    print_log(f\"You should visit total '{len(to_visit)}' places. i.e:\\n\\n{' --- '.join(to_visit)}\")\n",
    "    return to_visit"
   ]
  },
  {
   "cell_type": "markdown",
   "id": "ef33ac7f",
   "metadata": {},
   "source": [
    "#### 2.b - If Mr. Doe wishes, at the same time, to take into account `Preference 1` and `Preference 2`, which list(s) would you recommend to him ?"
   ]
  },
  {
   "cell_type": "code",
   "execution_count": null,
   "id": "b1ccdd1c",
   "metadata": {},
   "outputs": [],
   "source": [
    "verbose = False\n",
    "\n",
    "# Create the variable to contain the problem data\n",
    "problem = p.LpProblem(name=\"Paris Visit - Max. number of sites (within 1 km radius & must visit effiel tower and catacombs)\", sense=p.const.LpMaximize)\n",
    "\n",
    "# Create the variables\n",
    "problem = create_variables(problem=problem, sites=sites, sites_info=sites_info)\n",
    "\n",
    "# Create the objective function\n",
    "problem = create_objective_function(problem=problem, sites=sites, sites_info=sites_info)\n",
    "\n",
    "# Create the constraints\n",
    "problem = add_generic_constraints(problem=problem, sites=sites, sites_info=sites_info)\n",
    "\n",
    "# Add specific constraints\n",
    "problem = add_specific_constraints(problem=problem, preference=str(PREFERENCE.ONE), distance_df=distance_df, sites=sites, sites_info=sites_info, verbose=verbose)\n",
    "problem = add_specific_constraints(problem=problem, preference=str(PREFERENCE.TWO), distance_df=distance_df, sites=sites, sites_info=sites_info, verbose=verbose)\n",
    "\n",
    "# The problem data is written to an .lp file\n",
    "problem.writeLP(filename=join(data_dir, \"to_visit_2b.lp\"), writeSOS=1, mip=1, max_length=100)\n",
    "\n",
    "# The problem is solved using PuLP's choice of solver\n",
    "problem.solve(solver=LpSolverDefault(msg=show_solver_output))\n",
    "\n",
    "# Output the status of the solution\n",
    "to_visit_2b = display_solver_output(problem=problem, sites_info=sites_info) # save the result for later use"
   ]
  },
  {
   "cell_type": "markdown",
   "id": "ace90240",
   "metadata": {},
   "source": [
    "#### 2.c - If Mr. Doe wishes, at the same time, to take into account `Preference 1` and `Preference 3`, which list(s) would you recommend to him ?"
   ]
  },
  {
   "cell_type": "code",
   "execution_count": null,
   "id": "b2e6bb1b",
   "metadata": {},
   "outputs": [],
   "source": [
    "verbose = False\n",
    "\n",
    "# Create the variable to contain the problem data\n",
    "problem = p.LpProblem(name=\"Paris Visit - Max. number of sites (within 1 km radius & either visit Notre Dame Cathedral or Sainte Chapelle)\", sense=p.const.LpMaximize)\n",
    "\n",
    "# Create the variables\n",
    "problem = create_variables(problem=problem, sites=sites, sites_info=sites_info)\n",
    "\n",
    "# Create the objective function\n",
    "problem = create_objective_function(problem=problem, sites=sites, sites_info=sites_info)\n",
    "\n",
    "# Create the constraints\n",
    "problem = add_generic_constraints(problem=problem, sites=sites, sites_info=sites_info)\n",
    "\n",
    "# Add specific constraints\n",
    "problem = add_specific_constraints(problem=problem, preference=str(PREFERENCE.ONE), distance_df=distance_df, sites=sites, sites_info=sites_info, verbose=verbose)\n",
    "problem = add_specific_constraints(problem=problem, preference=str(PREFERENCE.THREE), distance_df=distance_df, sites=sites, sites_info=sites_info, verbose=verbose)\n",
    "\n",
    "# The problem data is written to an .lp file\n",
    "problem.writeLP(filename=join(data_dir, \"to_visit_2c.lp\"), writeSOS=1, mip=1, max_length=100)\n",
    "\n",
    "# The problem is solved using PuLP's choice of solver\n",
    "problem.solve(solver=LpSolverDefault(msg=show_solver_output))\n",
    "\n",
    "# Output the status of the solution\n",
    "to_visit_2c = display_solver_output(problem=problem, sites_info=sites_info) # save the result for later use"
   ]
  },
  {
   "cell_type": "markdown",
   "id": "66b36867",
   "metadata": {},
   "source": [
    "#### 2.d - If Mr. Doe wishes, at the same time, to take into account `Preference 1` and `Preference 4`, which list(s) would you recommend to him ?"
   ]
  },
  {
   "cell_type": "code",
   "execution_count": null,
   "id": "a4fad665",
   "metadata": {},
   "outputs": [],
   "source": [
    "verbose = False\n",
    "\n",
    "# Create the variable to contain the problem data\n",
    "problem = p.LpProblem(name=\"Paris Visit - Max. number of sites (within 1 km radius & must visit Tour Montparnasse)\", sense=p.const.LpMaximize)\n",
    "\n",
    "# Create the variables\n",
    "problem = create_variables(problem=problem, sites=sites, sites_info=sites_info)\n",
    "\n",
    "# Create the objective function\n",
    "problem = create_objective_function(problem=problem, sites=sites, sites_info=sites_info)\n",
    "\n",
    "# Create the constraints\n",
    "problem = add_generic_constraints(problem=problem, sites=sites, sites_info=sites_info)\n",
    "\n",
    "# Add specific constraints\n",
    "problem = add_specific_constraints(problem=problem, preference=str(PREFERENCE.ONE), distance_df=distance_df, sites=sites, sites_info=sites_info, verbose=verbose)\n",
    "problem = add_specific_constraints(problem=problem, preference=str(PREFERENCE.FOUR), distance_df=distance_df, sites=sites, sites_info=sites_info, verbose=verbose)\n",
    "\n",
    "# The problem data is written to an .lp file\n",
    "problem.writeLP(filename=join(data_dir, \"to_visit_2d.lp\"), writeSOS=1, mip=1, max_length=100)\n",
    "\n",
    "# The problem is solved using PuLP's choice of solver\n",
    "problem.solve(solver=LpSolverDefault(msg=show_solver_output))\n",
    "\n",
    "# Output the status of the solution\n",
    "to_visit_2d = display_solver_output(problem=problem, sites_info=sites_info) # save the result for later use"
   ]
  },
  {
   "cell_type": "markdown",
   "id": "bc8799c6",
   "metadata": {},
   "source": [
    "#### 2.e - If Mr. Doe wishes, at the same time, to take into account `Preference 2` and `Preference 5`, which list(s) would you recommend to him ?"
   ]
  },
  {
   "cell_type": "code",
   "execution_count": null,
   "id": "de88b89c",
   "metadata": {},
   "outputs": [],
   "source": [
    "verbose = False\n",
    "\n",
    "# Create the variable to contain the problem data\n",
    "problem = p.LpProblem(name=\"Paris Visit - Max. number of sites (must visit effiel tower and catacombs & must visit the Pompidou Center if he visits Louvre)\", sense=p.const.LpMaximize)\n",
    "\n",
    "# Create the variables\n",
    "problem = create_variables(problem=problem, sites=sites, sites_info=sites_info)\n",
    "\n",
    "# Create the objective function\n",
    "problem = create_objective_function(problem=problem, sites=sites, sites_info=sites_info)\n",
    "\n",
    "# Create the constraints\n",
    "problem = add_generic_constraints(problem=problem, sites=sites, sites_info=sites_info)\n",
    "\n",
    "# Add specific constraints\n",
    "problem = add_specific_constraints(problem=problem, preference=str(PREFERENCE.TWO), distance_df=distance_df, sites=sites, sites_info=sites_info, verbose=verbose)\n",
    "problem = add_specific_constraints(problem=problem, preference=str(PREFERENCE.FIVE), distance_df=distance_df, sites=sites, sites_info=sites_info, verbose=verbose)\n",
    "\n",
    "# The problem data is written to an .lp file\n",
    "problem.writeLP(filename=join(data_dir, \"to_visit_2e.lp\"), writeSOS=1, mip=1, max_length=100)\n",
    "\n",
    "# The problem is solved using PuLP's choice of solver\n",
    "problem.solve(solver=LpSolverDefault(msg=show_solver_output))\n",
    "\n",
    "# Output the status of the solution\n",
    "to_visit_2e = display_solver_output(problem=problem, sites_info=sites_info) # save the result for later use"
   ]
  },
  {
   "cell_type": "markdown",
   "id": "bde134f7",
   "metadata": {},
   "source": [
    "#### 2.f - If Mr. Doe wishes, at the same time, to take into account `Preference 3` and `Preference 4`, which list(s) would you recommend to him ?"
   ]
  },
  {
   "cell_type": "code",
   "execution_count": null,
   "id": "969c9670",
   "metadata": {},
   "outputs": [],
   "source": [
    "verbose = False\n",
    "\n",
    "# Create the variable to contain the problem data\n",
    "problem = p.LpProblem(name=\"Paris Visit - Max. number of sites (must visit effiel tower and catacombs & must visit the Pompidou Center if he visits Louvre)\", sense=p.const.LpMaximize)\n",
    "\n",
    "# Create the variables\n",
    "problem = create_variables(problem=problem, sites=sites, sites_info=sites_info)\n",
    "\n",
    "# Create the objective function\n",
    "problem = create_objective_function(problem=problem, sites=sites, sites_info=sites_info)\n",
    "\n",
    "# Create the constraints\n",
    "problem = add_generic_constraints(problem=problem, sites=sites, sites_info=sites_info)\n",
    "\n",
    "# Add specific constraints\n",
    "problem = add_specific_constraints(problem=problem, preference=str(PREFERENCE.THREE), distance_df=distance_df, sites=sites, sites_info=sites_info, verbose=verbose)\n",
    "problem = add_specific_constraints(problem=problem, preference=str(PREFERENCE.FOUR), distance_df=distance_df, sites=sites, sites_info=sites_info, verbose=verbose)\n",
    "\n",
    "# The problem data is written to an .lp file\n",
    "problem.writeLP(filename=join(data_dir, \"to_visit_2f.lp\"), writeSOS=1, mip=1, max_length=100)\n",
    "\n",
    "# The problem is solved using PuLP's choice of solver\n",
    "problem.solve(solver=LpSolverDefault(msg=show_solver_output))\n",
    "\n",
    "# Output the status of the solution\n",
    "to_visit_2f = display_solver_output(problem=problem, sites_info=sites_info) # save the result for later use"
   ]
  },
  {
   "cell_type": "markdown",
   "id": "f133f24b",
   "metadata": {},
   "source": [
    "#### 2.g - If Mr. Doe wishes, at the same time, to take into account `Preference 4` and `Preference 5`, which list(s) would you recommend to him ?"
   ]
  },
  {
   "cell_type": "code",
   "execution_count": null,
   "id": "fd4ba841",
   "metadata": {},
   "outputs": [],
   "source": [
    "verbose = False\n",
    "\n",
    "# Create the variable to contain the problem data\n",
    "problem = p.LpProblem(name=\"Paris Visit - Max. number of sites (must visit tour montparnasse & must visit the Pompidou Center if he visits Louvre)\", sense=p.const.LpMaximize)\n",
    "\n",
    "# Create the variables\n",
    "problem = create_variables(problem=problem, sites=sites, sites_info=sites_info)\n",
    "\n",
    "# Create the objective function\n",
    "problem = create_objective_function(problem=problem, sites=sites, sites_info=sites_info)\n",
    "\n",
    "# Create the constraints\n",
    "problem = add_generic_constraints(problem=problem, sites=sites, sites_info=sites_info)\n",
    "\n",
    "# Add specific constraints\n",
    "problem = add_specific_constraints(problem=problem, preference=str(PREFERENCE.FOUR), distance_df=distance_df, sites=sites, sites_info=sites_info, verbose=verbose)\n",
    "problem = add_specific_constraints(problem=problem, preference=str(PREFERENCE.FIVE), distance_df=distance_df, sites=sites, sites_info=sites_info, verbose=verbose)\n",
    "\n",
    "# The problem data is written to an .lp file\n",
    "problem.writeLP(filename=join(data_dir, \"to_visit_2g.lp\"), writeSOS=1, mip=1, max_length=100)\n",
    "\n",
    "# The problem is solved using PuLP's choice of solver\n",
    "problem.solve(solver=LpSolverDefault(msg=show_solver_output))\n",
    "\n",
    "# Output the status of the solution\n",
    "to_visit_2g = display_solver_output(problem=problem, sites_info=sites_info) # save the result for later use"
   ]
  },
  {
   "cell_type": "markdown",
   "id": "3971817e",
   "metadata": {},
   "source": [
    "#### 2.h - If Mr. Doe wishes, at the same time, to take into account `Preference 1`, `Preference 2` and `Preference 4`, which list(s) would you recommend to him ?"
   ]
  },
  {
   "cell_type": "code",
   "execution_count": null,
   "id": "da9e8fbd",
   "metadata": {},
   "outputs": [],
   "source": [
    "verbose = False\n",
    "\n",
    "# Create the variable to contain the problem data\n",
    "problem = p.LpProblem(name=\"Paris Visit - Max. number of sites (within 1 km radius & must visit effiel tower and catacombs & must visit the Pompidou Center if he visits Louvre)\", sense=p.const.LpMaximize)\n",
    "\n",
    "# Create the variables\n",
    "problem = create_variables(problem=problem, sites=sites, sites_info=sites_info)\n",
    "\n",
    "# Create the objective function\n",
    "problem = create_objective_function(problem=problem, sites=sites, sites_info=sites_info)\n",
    "\n",
    "# Create the constraints\n",
    "problem = add_generic_constraints(problem=problem, sites=sites, sites_info=sites_info)\n",
    "\n",
    "# Add specific constraints\n",
    "problem = add_specific_constraints(problem=problem, preference=str(PREFERENCE.ONE), distance_df=distance_df, sites=sites, sites_info=sites_info, verbose=verbose)\n",
    "problem = add_specific_constraints(problem=problem, preference=str(PREFERENCE.TWO), distance_df=distance_df, sites=sites, sites_info=sites_info, verbose=verbose)\n",
    "problem = add_specific_constraints(problem=problem, preference=str(PREFERENCE.FOUR), distance_df=distance_df, sites=sites, sites_info=sites_info, verbose=verbose)\n",
    "\n",
    "# The problem data is written to an .lp file\n",
    "problem.writeLP(filename=join(data_dir, \"to_visit_2h.lp\"), writeSOS=1, mip=1, max_length=100)\n",
    "\n",
    "# The problem is solved using PuLP's choice of solver\n",
    "problem.solve(solver=LpSolverDefault(msg=show_solver_output))\n",
    "\n",
    "# Output the status of the solution\n",
    "to_visit_2h = display_solver_output(problem=problem, sites_info=sites_info) # save the result for later use"
   ]
  },
  {
   "cell_type": "markdown",
   "id": "34076ce0",
   "metadata": {},
   "source": [
    "#### 2.i - If Mr. Doe wishes, at the same time, to take into account `Preference 2`, `Preference 3` and `Preference 5`, which list(s) would you recommend to him ?"
   ]
  },
  {
   "cell_type": "code",
   "execution_count": null,
   "id": "17ba61c1",
   "metadata": {},
   "outputs": [],
   "source": [
    "verbose = False\n",
    "\n",
    "# Create the variable to contain the problem data\n",
    "problem = p.LpProblem(name=\"Paris Visit - Max. number of sites (must visit effiel tower and catacombs & either visit Notre Dame Cathedral or Sainte Chapelle & must visit the Pompidou Center if he visits Louvre)\", sense=p.const.LpMaximize)\n",
    "\n",
    "# Create the variables\n",
    "problem = create_variables(problem=problem, sites=sites, sites_info=sites_info)\n",
    "\n",
    "# Create the objective function\n",
    "problem = create_objective_function(problem=problem, sites=sites, sites_info=sites_info)\n",
    "\n",
    "# Create the constraints\n",
    "problem = add_generic_constraints(problem=problem, sites=sites, sites_info=sites_info)\n",
    "\n",
    "# Add specific constraints\n",
    "problem = add_specific_constraints(problem=problem, preference=str(PREFERENCE.TWO), distance_df=distance_df, sites=sites, sites_info=sites_info, verbose=verbose)\n",
    "problem = add_specific_constraints(problem=problem, preference=str(PREFERENCE.THREE), distance_df=distance_df, sites=sites, sites_info=sites_info, verbose=verbose)\n",
    "problem = add_specific_constraints(problem=problem, preference=str(PREFERENCE.FIVE), distance_df=distance_df, sites=sites, sites_info=sites_info, verbose=verbose)\n",
    "\n",
    "# The problem data is written to an .lp file\n",
    "problem.writeLP(filename=join(data_dir, \"to_visit_2i.lp\"), writeSOS=1, mip=1, max_length=100)\n",
    "\n",
    "# The problem is solved using PuLP's choice of solver\n",
    "problem.solve(solver=LpSolverDefault(msg=show_solver_output))\n",
    "\n",
    "# Output the status of the solution\n",
    "to_visit_2i = display_solver_output(problem=problem, sites_info=sites_info) # save the result for later use"
   ]
  },
  {
   "cell_type": "markdown",
   "id": "2db40d79",
   "metadata": {},
   "source": [
    "#### 2.j - If Mr. Doe wishes, at the same time, to take into account `Preference 2`, `Preference 3`, `Preference 4` and `Preference 5`, which list(s) would you recommend to him ?"
   ]
  },
  {
   "cell_type": "code",
   "execution_count": null,
   "id": "68aa2465",
   "metadata": {},
   "outputs": [],
   "source": [
    "verbose = False\n",
    "\n",
    "# Create the variable to contain the problem data\n",
    "problem = p.LpProblem(name=\"Paris Visit - Max. number of sites (must visit effiel tower and catacombs & either visit Notre Dame Cathedral or Sainte Chapelle & must visit tour montparnasse & must visit the Pompidou Center if he visits Louvre)\", sense=p.const.LpMaximize)\n",
    "\n",
    "# Create the variables\n",
    "problem = create_variables(problem=problem, sites=sites, sites_info=sites_info)\n",
    "\n",
    "# Create the objective function\n",
    "problem = create_objective_function(problem=problem, sites=sites, sites_info=sites_info)\n",
    "\n",
    "# Create the constraints\n",
    "problem = add_generic_constraints(problem=problem, sites=sites, sites_info=sites_info)\n",
    "\n",
    "# Add specific constraints\n",
    "problem = add_specific_constraints(problem=problem, preference=str(PREFERENCE.TWO), distance_df=distance_df, sites=sites, sites_info=sites_info, verbose=verbose)\n",
    "problem = add_specific_constraints(problem=problem, preference=str(PREFERENCE.THREE), distance_df=distance_df, sites=sites, sites_info=sites_info, verbose=verbose)\n",
    "problem = add_specific_constraints(problem=problem, preference=str(PREFERENCE.FOUR), distance_df=distance_df, sites=sites, sites_info=sites_info, verbose=verbose)\n",
    "problem = add_specific_constraints(problem=problem, preference=str(PREFERENCE.FIVE), distance_df=distance_df, sites=sites, sites_info=sites_info, verbose=verbose)\n",
    "\n",
    "# The problem data is written to an .lp file\n",
    "problem.writeLP(filename=join(data_dir, \"to_visit_2j.lp\"), writeSOS=1, mip=1, max_length=100)\n",
    "\n",
    "# The problem is solved using PuLP's choice of solver\n",
    "problem.solve(solver=LpSolverDefault(msg=show_solver_output))\n",
    "\n",
    "# Output the status of the solution\n",
    "to_visit_2j = display_solver_output(problem=problem, sites_info=sites_info) # save the result for later use"
   ]
  },
  {
   "cell_type": "markdown",
   "id": "fb0b3804",
   "metadata": {},
   "source": [
    "#### 2.k - If Mr. Doe wishes, at the same time, to take into account `Preference 1`, `Preference 2`, `Preference 4` and `Preference 5`, which list(s) would you recommend to him ?"
   ]
  },
  {
   "cell_type": "code",
   "execution_count": null,
   "id": "bc5849d4",
   "metadata": {},
   "outputs": [],
   "source": [
    "verbose = False\n",
    "\n",
    "# Create the variable to contain the problem data\n",
    "problem = p.LpProblem(name=\"Paris Visit - Max. number of sites (within 1 km radius & must visit effiel tower and catacombs & must visit tour montparnasse & must visit the Pompidou Center if he visits Louvre)\", sense=p.const.LpMaximize)\n",
    "\n",
    "# Create the variables\n",
    "problem = create_variables(problem=problem, sites=sites, sites_info=sites_info)\n",
    "\n",
    "# Create the objective function\n",
    "problem = create_objective_function(problem=problem, sites=sites, sites_info=sites_info)\n",
    "\n",
    "# Create the constraints\n",
    "problem = add_generic_constraints(problem=problem, sites=sites, sites_info=sites_info)\n",
    "\n",
    "# Add specific constraints\n",
    "problem = add_specific_constraints(problem=problem, preference=str(PREFERENCE.ONE), distance_df=distance_df, sites=sites, sites_info=sites_info, verbose=verbose)\n",
    "problem = add_specific_constraints(problem=problem, preference=str(PREFERENCE.TWO), distance_df=distance_df, sites=sites, sites_info=sites_info, verbose=verbose)\n",
    "problem = add_specific_constraints(problem=problem, preference=str(PREFERENCE.FOUR), distance_df=distance_df, sites=sites, sites_info=sites_info, verbose=verbose)\n",
    "problem = add_specific_constraints(problem=problem, preference=str(PREFERENCE.FIVE), distance_df=distance_df, sites=sites, sites_info=sites_info, verbose=verbose)\n",
    "\n",
    "# The problem data is written to an .lp file\n",
    "problem.writeLP(filename=join(data_dir, \"to_visit_2k.lp\"), writeSOS=1, mip=1, max_length=100)\n",
    "\n",
    "# The problem is solved using PuLP's choice of solver\n",
    "problem.solve(solver=LpSolverDefault(msg=show_solver_output))\n",
    "\n",
    "# Output the status of the solution\n",
    "to_visit_2k = display_solver_output(problem=problem, sites_info=sites_info) # save the result for later use"
   ]
  },
  {
   "cell_type": "markdown",
   "id": "9add87e5",
   "metadata": {},
   "source": [
    "#### 2.l - If Mr. Doe wishes, at the same time, to take into account `Preference 1`, `Preference 2`, `Preference 3`, `Preference 4` and `Preference 5`, which list(s) would you recommend to him ?"
   ]
  },
  {
   "cell_type": "code",
   "execution_count": null,
   "id": "3bb1c897",
   "metadata": {},
   "outputs": [],
   "source": [
    "verbose = False\n",
    "\n",
    "# Create the variable to contain the problem data\n",
    "problem = p.LpProblem(name=\"Paris Visit - Max. number of sites (within 1 km radius & must visit effiel tower and catacombs & either visit Notre Dame Cathedral or Sainte Chapelle & must visit tour montparnasse & must visit the Pompidou Center if he visits Louvre)\", sense=p.const.LpMaximize)\n",
    "\n",
    "# Create the variables\n",
    "problem = create_variables(problem=problem, sites=sites, sites_info=sites_info)\n",
    "\n",
    "# Create the objective function\n",
    "problem = create_objective_function(problem=problem, sites=sites, sites_info=sites_info)\n",
    "\n",
    "# Create the constraints\n",
    "problem = add_generic_constraints(problem=problem, sites=sites, sites_info=sites_info)\n",
    "\n",
    "# Add specific constraints\n",
    "problem = add_specific_constraints(problem=problem, preference=str(PREFERENCE.ONE), distance_df=distance_df, sites=sites, sites_info=sites_info, verbose=verbose)\n",
    "problem = add_specific_constraints(problem=problem, preference=str(PREFERENCE.TWO), distance_df=distance_df, sites=sites, sites_info=sites_info, verbose=verbose)\n",
    "problem = add_specific_constraints(problem=problem, preference=str(PREFERENCE.THREE), distance_df=distance_df, sites=sites, sites_info=sites_info, verbose=verbose)\n",
    "problem = add_specific_constraints(problem=problem, preference=str(PREFERENCE.FOUR), distance_df=distance_df, sites=sites, sites_info=sites_info, verbose=verbose)\n",
    "problem = add_specific_constraints(problem=problem, preference=str(PREFERENCE.FIVE), distance_df=distance_df, sites=sites, sites_info=sites_info, verbose=verbose)\n",
    "\n",
    "# The problem data is written to an .lp file\n",
    "problem.writeLP(filename=join(data_dir, \"to_visit_2l.lp\"), writeSOS=1, mip=1, max_length=100)\n",
    "\n",
    "# The problem is solved using PuLP's choice of solver\n",
    "problem.solve(solver=LpSolverDefault(msg=show_solver_output))\n",
    "\n",
    "# Output the status of the solution\n",
    "to_visit_2l = display_solver_output(problem=problem, sites_info=sites_info) # save the result for later use"
   ]
  },
  {
   "cell_type": "markdown",
   "id": "aa11e6b2",
   "metadata": {},
   "source": [
    "#### 2.m - Is the solution `ListVisit1` different to these solutions founded above (with the combination of preferences) ?"
   ]
  },
  {
   "cell_type": "code",
   "execution_count": null,
   "id": "c7ed53fc",
   "metadata": {},
   "outputs": [],
   "source": [
    "for i, x in enumerate(list('bcdefijkl')):\n",
    "    print_log(f\"Are 'ListVisit 1' and output of '2.{x}' same ? {is_identical(listvisit_1, globals()[f'to_visit_2{x}'])}\")"
   ]
  },
  {
   "cell_type": "markdown",
   "id": "f87497bb",
   "metadata": {},
   "source": [
    "##### 3. Let be:\n",
    "\n",
    "- Ranking of the touristic sites obtained by observing only the `Duration` criterion (see the column “Duration” of the\n",
    "Table above)\n",
    "- Ranking of the touristic sites obtained by observing only the `Appreciations` criterion (see the column “Appreciations”\n",
    "of the Table above)\n",
    "- Ranking of the touristic sites obtained by observing only the `Price` criterion (see the column “Price” of the Table\n",
    "above)\n",
    "\n",
    "Are these rankings two rankings different ? To answer this question, you can use the `Kendall` or `Spearman` rank correlation coefficient."
   ]
  },
  {
   "cell_type": "code",
   "execution_count": null,
   "id": "0a085a52",
   "metadata": {},
   "outputs": [],
   "source": [
    "def create_objective_function(problem: p.LpProblem, sites: List, sites_info: List[SiteInfo], use_rating: bool = False) -> p.LpProblem:\n",
    "    if use_rating:\n",
    "        problem += p.lpSum([globals()[f\"{site}\"] * sites_info[i].rating for i, site in enumerate(sites)]), \"Max. number of sites\"\n",
    "    else:\n",
    "        problem += p.lpSum([globals()[f\"{site}\"] * 1 for i, site in enumerate(sites)]), \"Max. number of sites\"\n",
    "    return problem\n",
    "\n",
    "def get_basic_model(title: str, sites: List, sites_info: List[SiteInfo], use_rating: bool = False) -> p.LpProblem:\n",
    "    \"\"\"\n",
    "    Returns a basic model with no constraints\n",
    "    \"\"\"\n",
    "    # Create the variable to contain the problem data\n",
    "    problem = p.LpProblem(name=f\"Paris Visit - Max. number of sites {title}\", sense=p.const.LpMaximize)\n",
    "\n",
    "    # Create the variables\n",
    "    problem = create_variables(problem=problem, sites=sites, sites_info=sites_info)\n",
    "\n",
    "    # Create the objective function\n",
    "    problem = create_objective_function(problem=problem, sites=sites, sites_info=sites_info, use_rating=use_rating)\n",
    "\n",
    "    return problem\n",
    "\n",
    "def solve_and_write_model(problem: p.LpProblem, filename: str, show_solver_output: bool = False) -> List[str]:\n",
    "    \"\"\"\n",
    "    Solves the model and writes the output to a file\n",
    "    \"\"\"\n",
    "    # The problem data is written to an .lp file\n",
    "    problem.writeLP(filename=filename, writeSOS=1, mip=1, max_length=100)\n",
    "\n",
    "    # The problem is solved using PuLP's choice of solver\n",
    "    problem.solve(solver=LpSolverDefault(msg=show_solver_output))\n",
    "\n",
    "    # Output the status of the solution\n",
    "    return display_solver_output(problem=problem, sites_info=sites_info)\n",
    "\n",
    "# 1. Ranking with duration constraint\n",
    "problem = get_basic_model(title=\"(duration)\", sites=sites, sites_info=sites_info, use_rating=False)\n",
    "problem += p.lpSum([globals()[f\"{site}\"] * sites_info[i].duration for i, site in enumerate(sites)]) <= 12, \"Max. duration\"\n",
    "to_visit_3a = solve_and_write_model(problem=problem, filename=join(data_dir, \"to_visit_3a.lp\"), show_solver_output=show_solver_output)\n",
    "\n",
    "# 2. Ranking with appreciation constraint\n",
    "problem = get_basic_model(title=\"(appreciation)\", sites=sites, sites_info=sites_info, use_rating=True)\n",
    "problem += p.lpSum([globals()[f\"{site}\"] * sites_info[i].rating for i, site in enumerate(sites)]) <= 27, \"Max. appreciation\" # at least 4 stars\n",
    "to_visit_3b = solve_and_write_model(problem=problem, filename=join(data_dir, \"to_visit_3b.lp\"), show_solver_output=show_solver_output)\n",
    "\n",
    "# 3. Ranking with price constraint\n",
    "problem = get_basic_model(title=\"(price)\", sites=sites, sites_info=sites_info, use_rating=False)\n",
    "problem += p.lpSum([globals()[f\"{site}\"] * sites_info[i].price for i, site in enumerate(sites)]) <= 65, \"Max. price\"\n",
    "to_visit_3c = solve_and_write_model(problem=problem, filename=join(data_dir, \"to_visit_3c.lp\"), show_solver_output=show_solver_output)"
   ]
  },
  {
   "cell_type": "code",
   "execution_count": null,
   "id": "8acfad1c",
   "metadata": {},
   "outputs": [],
   "source": [
    "for i, x in enumerate(list('abc')):\n",
    "    print_log(f\"Total recommended places by '3.{x}': {len(globals()[f'to_visit_3{x}'])}\")\n",
    "    print_log(f\"Output of '3.{x}': {globals()[f'to_visit_3{x}']}\")"
   ]
  },
  {
   "cell_type": "markdown",
   "id": "fae3c7dc",
   "metadata": {},
   "source": [
    "##### Correlation helper functions"
   ]
  },
  {
   "cell_type": "code",
   "execution_count": null,
   "id": "1cfa5e14",
   "metadata": {},
   "outputs": [],
   "source": [
    "def correlation_preprocess(x: List, y: List) -> Tuple[List, List]:\n",
    "    \"\"\"\n",
    "    All inputs to correlation method must be of the same size, i.e: x-size == y-size\n",
    "    \"\"\"\n",
    "    min_len = min(len(x), len(y))\n",
    "    return x[:min_len], y[:min_len]\n",
    "\n",
    "def list_name(x: str) -> dict:\n",
    "    return {\n",
    "        'a': 'duration',\n",
    "        'b': 'appreciation',\n",
    "        'c': 'price',\n",
    "    }[x]\n",
    "\n",
    "def kendall_tau_distance(x: List, y: List) -> float:\n",
    "    \"\"\"\n",
    "    Calculates the Kendall Tau distance between two lists\n",
    "    \"\"\"\n",
    "    x, y = correlation_preprocess(x, y)\n",
    "    return 1 - kendalltau(x, y)[0]\n",
    "\n",
    "def spearman_rho_distance(x: List, y: List) -> float:\n",
    "    \"\"\"\n",
    "    Calculates the Spearman Rho distance between two lists\n",
    "    \"\"\"\n",
    "    x, y = correlation_preprocess(x, y)\n",
    "    return 1 - spearmanr(x, y)[0]"
   ]
  },
  {
   "cell_type": "markdown",
   "id": "d00c1ecd",
   "metadata": {},
   "source": [
    "#### 1. Kendall correlation"
   ]
  },
  {
   "cell_type": "code",
   "execution_count": null,
   "id": "06ac213e",
   "metadata": {},
   "outputs": [],
   "source": [
    "for i, j in combinations(list('abc'), 2):\n",
    "    print_log(f\"Kendall Tau distance between '{list_name(i)}' and '{list_name(j)}': {kendall_tau_distance(globals()[f'to_visit_3{i}'], globals()[f'to_visit_3{j}'])}\")"
   ]
  },
  {
   "cell_type": "markdown",
   "id": "7beef21b",
   "metadata": {},
   "source": [
    "#### 2. Spearman correlation"
   ]
  },
  {
   "cell_type": "code",
   "execution_count": null,
   "id": "9deab0bb",
   "metadata": {},
   "outputs": [],
   "source": [
    "for i, j in combinations(list('abc'), 2):\n",
    "    print_log(f\"Spearman Rho distance between '{list_name(i)}' and '{list_name(j)}': {spearman_rho_distance(globals()[f'to_visit_3{i}'], globals()[f'to_visit_3{j}'])}\")"
   ]
  }
 ],
 "metadata": {
  "kernelspec": {
   "display_name": "Python 3.9.13 ('mgma')",
   "language": "python",
   "name": "python3"
  },
  "language_info": {
   "codemirror_mode": {
    "name": "ipython",
    "version": 3
   },
   "file_extension": ".py",
   "mimetype": "text/x-python",
   "name": "python",
   "nbconvert_exporter": "python",
   "pygments_lexer": "ipython3",
   "version": "3.9.13"
  },
  "vscode": {
   "interpreter": {
    "hash": "92ef103fe91e85206b7889fe480710be6f2a014beb113cc84edd8d6030adeb48"
   }
  }
 },
 "nbformat": 4,
 "nbformat_minor": 5
}
