{
 "cells": [
  {
   "cell_type": "markdown",
   "metadata": {},
   "source": [
    "# Question 1\n",
    "A toy manufacturing organization manufactures two types of toys A and B. Both the toys are sold at 25 e and 20 e respectively.\n",
    "There are 2000 resource units available every day from which the toy A requires 20 units while toy B requires 12 units. Both of these toys require a production time of 5 minutes. Total working hours are 9 hours a day. What should be the manufacturing quantity for each of the pipes to maximize the profits ?"
   ]
  },
  {
   "cell_type": "code",
   "execution_count": 283,
   "metadata": {},
   "outputs": [],
   "source": [
    "import numpy as np\n",
    "from scipy.optimize import linprog\n",
    "import pandas as pd"
   ]
  },
  {
   "cell_type": "code",
   "execution_count": 284,
   "metadata": {},
   "outputs": [
    {
     "name": "stdout",
     "output_type": "stream",
     "text": [
      "           con: array([], dtype=float64)\n",
      " crossover_nit: -1\n",
      "         eqlin:  marginals: array([], dtype=float64)\n",
      "  residual: array([], dtype=float64)\n",
      "           fun: -2600.0\n",
      "       ineqlin:  marginals: array([0., 0.])\n",
      "  residual: array([0., 0.])\n",
      "         lower:  marginals: array([0., 0.])\n",
      "  residual: array([88., 20.])\n",
      "       message: 'Optimization terminated successfully. (HiGHS Status 7: Optimal)'\n",
      "           nit: -1\n",
      "         slack: array([0., 0.])\n",
      "        status: 0\n",
      "       success: True\n",
      "         upper:  marginals: array([0., 0.])\n",
      "  residual: array([inf, inf])\n",
      "             x: array([88., 20.])\n"
     ]
    }
   ],
   "source": [
    "c = np.array([-25,-20])\n",
    "A_ub = np.array([[20,12],[5,5]])\n",
    "b_ub = np.array([2000,540])\n",
    "x0_bounds = (0, None)\n",
    "x1_bounds = (0, None)\n",
    "res = linprog(c, A_ub=A_ub, b_ub=b_ub, integrality=(1,1),\n",
    "bounds=(x0_bounds, x1_bounds))\n",
    "print(res)"
   ]
  },
  {
   "cell_type": "markdown",
   "metadata": {},
   "source": [
    "# Question 2\n",
    "Mr Doe visits Paris"
   ]
  },
  {
   "cell_type": "markdown",
   "metadata": {},
   "source": [
    "## Question 2-1\n",
    "1. It is assumed that Mr. Doe gives equal importance to each tourist site, and he wants to visit the maximum number of sites. Which list(s) of places could you recommend to him ? This solution will be called ListVisit 1."
   ]
  },
  {
   "cell_type": "code",
   "execution_count": 285,
   "metadata": {},
   "outputs": [],
   "source": [
    "places='TE ML AT MO JT CA CP CN BS SC PC TM AC'\n",
    "def Convert(string):\n",
    "    li = list(string.split(\" \"))\n",
    "    return li\n",
    "places=Convert(places)"
   ]
  },
  {
   "cell_type": "code",
   "execution_count": 286,
   "metadata": {},
   "outputs": [
    {
     "name": "stdout",
     "output_type": "stream",
     "text": [
      "number of places to visit is\n",
      "7.0\n",
      "places to visit (index/place/result) is\n",
      "[(0, 'TE', 0.0), (1, 'ML', 0.0), (2, 'AT', 1.0), (3, 'MO', 0.0), (4, 'JT', 1.0), (5, 'CA', 1.0), (6, 'CP', 0.0), (7, 'CN', 0.0), (8, 'BS', 0.0), (9, 'SC', 1.0), (10, 'PC', 1.0), (11, 'TM', 1.0), (12, 'AC', 1.0)]\n"
     ]
    }
   ],
   "source": [
    "c = np.empty(13)\n",
    "c.fill(-1)\n",
    "i = np.empty(13)\n",
    "i.fill(1)\n",
    "A_ub = np.array([[9/2,3,1,2,3/2,2,5/2,2,2,3/2,3/4,2,3/2],[15.5,12,9.5,11,0,10,10,5,8,8.5,0,15,0]])\n",
    "b_ub = np.array([12,65])\n",
    "res = linprog(c, A_ub=A_ub, b_ub=b_ub,integrality=i, bounds=((0,1),(0,1),(0,1),(0,1),(0,1),(0,1),(0,1),(0,1),(0,1),(0,1),(0,1),(0,1),(0,1)))\n",
    "print(\"number of places to visit is\")\n",
    "print(-res.fun)\n",
    "print(\"places to visit (index/place/result) is\")\n",
    "ListVisit1=list((zip([i for i in range(13)],places,res.x)))\n",
    "print(ListVisit1)"
   ]
  },
  {
   "cell_type": "markdown",
   "metadata": {},
   "source": [
    "## Question 2-2\n",
    "2. Actually, Mr. Doe has some preferences among these tourist sites and he expresses them as follows :\n",
    "\n",
    "• Preference 1 : If two sites are geographically very close (within a radius of 1 km of walking), he will prefer to visit these\n",
    "two sites instead of visiting only one.\n",
    "\n",
    "• Preference 2 : He absolutely wants to visit the Eiffel Tower (TE) and Catacombes (CA).\n",
    "\n",
    "• Preference 3 : If he visits Notre Dame Cathedral (CN) then he will not visit the Sainte Chapelle (SC).\n",
    "\n",
    "• Preference 4 : He absolutely wants to visit Tour Montparnasse (TM).\n",
    "\n",
    "• Preference 5 : If he visits the Louvre (ML) Museum then he must visit the Pompidou Center (CP)."
   ]
  },
  {
   "cell_type": "markdown",
   "metadata": {},
   "source": [
    "### Question 2-2(a)\n",
    "(a) For each of the five preferences above, suggest to Mr. Doe, one or more lists of tourist sites to visit. Are the obtained lists\n",
    "different from the solution ListVisit 1 ? To answer this last question, you can implement a python function returning True\n",
    "(respectively False) if two lists are identical (respectively different)."
   ]
  },
  {
   "cell_type": "code",
   "execution_count": 287,
   "metadata": {},
   "outputs": [
    {
     "data": {
      "text/html": [
       "<div>\n",
       "<style scoped>\n",
       "    .dataframe tbody tr th:only-of-type {\n",
       "        vertical-align: middle;\n",
       "    }\n",
       "\n",
       "    .dataframe tbody tr th {\n",
       "        vertical-align: top;\n",
       "    }\n",
       "\n",
       "    .dataframe thead th {\n",
       "        text-align: right;\n",
       "    }\n",
       "</style>\n",
       "<table border=\"1\" class=\"dataframe\">\n",
       "  <thead>\n",
       "    <tr style=\"text-align: right;\">\n",
       "      <th></th>\n",
       "      <th>0</th>\n",
       "      <th>1</th>\n",
       "      <th>2</th>\n",
       "      <th>3</th>\n",
       "      <th>4</th>\n",
       "      <th>5</th>\n",
       "      <th>6</th>\n",
       "      <th>7</th>\n",
       "      <th>8</th>\n",
       "      <th>9</th>\n",
       "      <th>10</th>\n",
       "      <th>11</th>\n",
       "      <th>12</th>\n",
       "    </tr>\n",
       "  </thead>\n",
       "  <tbody>\n",
       "    <tr>\n",
       "      <th>0</th>\n",
       "      <td>0.0</td>\n",
       "      <td>3.8</td>\n",
       "      <td>2.1</td>\n",
       "      <td>2.4</td>\n",
       "      <td>3.5</td>\n",
       "      <td>4.2</td>\n",
       "      <td>5.0</td>\n",
       "      <td>4.40</td>\n",
       "      <td>5.5</td>\n",
       "      <td>4.2</td>\n",
       "      <td>2.5</td>\n",
       "      <td>3.1</td>\n",
       "      <td>1.9</td>\n",
       "    </tr>\n",
       "    <tr>\n",
       "      <th>1</th>\n",
       "      <td>0.0</td>\n",
       "      <td>0.0</td>\n",
       "      <td>3.8</td>\n",
       "      <td>1.1</td>\n",
       "      <td>1.3</td>\n",
       "      <td>3.3</td>\n",
       "      <td>1.3</td>\n",
       "      <td>1.10</td>\n",
       "      <td>3.4</td>\n",
       "      <td>0.8</td>\n",
       "      <td>1.7</td>\n",
       "      <td>2.5</td>\n",
       "      <td>2.8</td>\n",
       "    </tr>\n",
       "    <tr>\n",
       "      <th>2</th>\n",
       "      <td>0.0</td>\n",
       "      <td>0.0</td>\n",
       "      <td>0.0</td>\n",
       "      <td>3.1</td>\n",
       "      <td>3.0</td>\n",
       "      <td>5.8</td>\n",
       "      <td>4.8</td>\n",
       "      <td>4.90</td>\n",
       "      <td>4.3</td>\n",
       "      <td>4.6</td>\n",
       "      <td>2.2</td>\n",
       "      <td>4.4</td>\n",
       "      <td>1.0</td>\n",
       "    </tr>\n",
       "    <tr>\n",
       "      <th>3</th>\n",
       "      <td>0.0</td>\n",
       "      <td>0.0</td>\n",
       "      <td>0.0</td>\n",
       "      <td>0.0</td>\n",
       "      <td>0.9</td>\n",
       "      <td>3.1</td>\n",
       "      <td>2.5</td>\n",
       "      <td>2.00</td>\n",
       "      <td>3.9</td>\n",
       "      <td>1.8</td>\n",
       "      <td>1.0</td>\n",
       "      <td>2.3</td>\n",
       "      <td>2.1</td>\n",
       "    </tr>\n",
       "    <tr>\n",
       "      <th>4</th>\n",
       "      <td>0.0</td>\n",
       "      <td>0.0</td>\n",
       "      <td>0.0</td>\n",
       "      <td>0.0</td>\n",
       "      <td>0.0</td>\n",
       "      <td>4.2</td>\n",
       "      <td>2.0</td>\n",
       "      <td>2.40</td>\n",
       "      <td>2.7</td>\n",
       "      <td>2.0</td>\n",
       "      <td>1.0</td>\n",
       "      <td>3.4</td>\n",
       "      <td>2.1</td>\n",
       "    </tr>\n",
       "    <tr>\n",
       "      <th>5</th>\n",
       "      <td>0.0</td>\n",
       "      <td>0.0</td>\n",
       "      <td>0.0</td>\n",
       "      <td>0.0</td>\n",
       "      <td>0.0</td>\n",
       "      <td>0.0</td>\n",
       "      <td>3.5</td>\n",
       "      <td>2.70</td>\n",
       "      <td>6.5</td>\n",
       "      <td>2.6</td>\n",
       "      <td>3.8</td>\n",
       "      <td>1.3</td>\n",
       "      <td>4.9</td>\n",
       "    </tr>\n",
       "    <tr>\n",
       "      <th>6</th>\n",
       "      <td>0.0</td>\n",
       "      <td>0.0</td>\n",
       "      <td>0.0</td>\n",
       "      <td>0.0</td>\n",
       "      <td>0.0</td>\n",
       "      <td>0.0</td>\n",
       "      <td>0.0</td>\n",
       "      <td>0.85</td>\n",
       "      <td>3.7</td>\n",
       "      <td>0.9</td>\n",
       "      <td>2.7</td>\n",
       "      <td>3.4</td>\n",
       "      <td>3.8</td>\n",
       "    </tr>\n",
       "    <tr>\n",
       "      <th>7</th>\n",
       "      <td>0.0</td>\n",
       "      <td>0.0</td>\n",
       "      <td>0.0</td>\n",
       "      <td>0.0</td>\n",
       "      <td>0.0</td>\n",
       "      <td>0.0</td>\n",
       "      <td>0.0</td>\n",
       "      <td>0.00</td>\n",
       "      <td>4.5</td>\n",
       "      <td>0.4</td>\n",
       "      <td>2.8</td>\n",
       "      <td>2.7</td>\n",
       "      <td>3.9</td>\n",
       "    </tr>\n",
       "    <tr>\n",
       "      <th>8</th>\n",
       "      <td>0.0</td>\n",
       "      <td>0.0</td>\n",
       "      <td>0.0</td>\n",
       "      <td>0.0</td>\n",
       "      <td>0.0</td>\n",
       "      <td>0.0</td>\n",
       "      <td>0.0</td>\n",
       "      <td>0.00</td>\n",
       "      <td>0.0</td>\n",
       "      <td>4.2</td>\n",
       "      <td>3.3</td>\n",
       "      <td>5.7</td>\n",
       "      <td>3.8</td>\n",
       "    </tr>\n",
       "    <tr>\n",
       "      <th>9</th>\n",
       "      <td>0.0</td>\n",
       "      <td>0.0</td>\n",
       "      <td>0.0</td>\n",
       "      <td>0.0</td>\n",
       "      <td>0.0</td>\n",
       "      <td>0.0</td>\n",
       "      <td>0.0</td>\n",
       "      <td>0.00</td>\n",
       "      <td>0.0</td>\n",
       "      <td>0.0</td>\n",
       "      <td>2.5</td>\n",
       "      <td>2.6</td>\n",
       "      <td>3.6</td>\n",
       "    </tr>\n",
       "    <tr>\n",
       "      <th>10</th>\n",
       "      <td>0.0</td>\n",
       "      <td>0.0</td>\n",
       "      <td>0.0</td>\n",
       "      <td>0.0</td>\n",
       "      <td>0.0</td>\n",
       "      <td>0.0</td>\n",
       "      <td>0.0</td>\n",
       "      <td>0.00</td>\n",
       "      <td>0.0</td>\n",
       "      <td>0.0</td>\n",
       "      <td>0.0</td>\n",
       "      <td>3.0</td>\n",
       "      <td>1.2</td>\n",
       "    </tr>\n",
       "    <tr>\n",
       "      <th>11</th>\n",
       "      <td>0.0</td>\n",
       "      <td>0.0</td>\n",
       "      <td>0.0</td>\n",
       "      <td>0.0</td>\n",
       "      <td>0.0</td>\n",
       "      <td>0.0</td>\n",
       "      <td>0.0</td>\n",
       "      <td>0.00</td>\n",
       "      <td>0.0</td>\n",
       "      <td>0.0</td>\n",
       "      <td>0.0</td>\n",
       "      <td>0.0</td>\n",
       "      <td>2.1</td>\n",
       "    </tr>\n",
       "    <tr>\n",
       "      <th>12</th>\n",
       "      <td>0.0</td>\n",
       "      <td>0.0</td>\n",
       "      <td>0.0</td>\n",
       "      <td>0.0</td>\n",
       "      <td>0.0</td>\n",
       "      <td>0.0</td>\n",
       "      <td>0.0</td>\n",
       "      <td>0.00</td>\n",
       "      <td>0.0</td>\n",
       "      <td>0.0</td>\n",
       "      <td>0.0</td>\n",
       "      <td>0.0</td>\n",
       "      <td>0.0</td>\n",
       "    </tr>\n",
       "  </tbody>\n",
       "</table>\n",
       "</div>"
      ],
      "text/plain": [
       "     0    1    2    3    4    5    6     7    8    9    10   11   12\n",
       "0   0.0  3.8  2.1  2.4  3.5  4.2  5.0  4.40  5.5  4.2  2.5  3.1  1.9\n",
       "1   0.0  0.0  3.8  1.1  1.3  3.3  1.3  1.10  3.4  0.8  1.7  2.5  2.8\n",
       "2   0.0  0.0  0.0  3.1  3.0  5.8  4.8  4.90  4.3  4.6  2.2  4.4  1.0\n",
       "3   0.0  0.0  0.0  0.0  0.9  3.1  2.5  2.00  3.9  1.8  1.0  2.3  2.1\n",
       "4   0.0  0.0  0.0  0.0  0.0  4.2  2.0  2.40  2.7  2.0  1.0  3.4  2.1\n",
       "5   0.0  0.0  0.0  0.0  0.0  0.0  3.5  2.70  6.5  2.6  3.8  1.3  4.9\n",
       "6   0.0  0.0  0.0  0.0  0.0  0.0  0.0  0.85  3.7  0.9  2.7  3.4  3.8\n",
       "7   0.0  0.0  0.0  0.0  0.0  0.0  0.0  0.00  4.5  0.4  2.8  2.7  3.9\n",
       "8   0.0  0.0  0.0  0.0  0.0  0.0  0.0  0.00  0.0  4.2  3.3  5.7  3.8\n",
       "9   0.0  0.0  0.0  0.0  0.0  0.0  0.0  0.00  0.0  0.0  2.5  2.6  3.6\n",
       "10  0.0  0.0  0.0  0.0  0.0  0.0  0.0  0.00  0.0  0.0  0.0  3.0  1.2\n",
       "11  0.0  0.0  0.0  0.0  0.0  0.0  0.0  0.00  0.0  0.0  0.0  0.0  2.1\n",
       "12  0.0  0.0  0.0  0.0  0.0  0.0  0.0  0.00  0.0  0.0  0.0  0.0  0.0"
      ]
     },
     "execution_count": 287,
     "metadata": {},
     "output_type": "execute_result"
    }
   ],
   "source": [
    "matrix=(Convert('0 3.8 2.1 2.4 3.5 4.2 5.0 4.4 5.5 4.2 2.5 3.1 1.9'),\n",
    "Convert('0 0 3.8 1.1 1.3 3.3 1.3 1.1 3.4 0.800 1.7 2.5 2.8'),\n",
    "Convert('0 0 0 3.1 3.0 5.8 4.8 4.9 4.3 4.6 2.2 4.4 1.0'),\n",
    "Convert('0 0 0 0 0.900 3.1 2.5 2.0 3.9 1.8 1.0 2.3 2.1'),\n",
    "Convert('0 0 0 0 0 4.2 2.0 2.4 2.7 2.0 1.0 3.4 2.1'),\n",
    "Convert('0 0 0 0 0 0 3.5 2.7 6.5 2.6 3.8 1.3 4.9'),\n",
    "Convert('0 0 0 0 0 0 0 0.850 3.7 0.900 2.7 3.4 3.8'),\n",
    "Convert('0 0 0 0 0 0 0 0 4.5 0.400 2.8 2.7 3.9'),\n",
    "Convert('0 0 0 0 0 0 0 0 0 4.2 3.3 5.7 3.8'),\n",
    "Convert('0 0 0 0 0 0 0 0 0 0 2.5 2.6 3.6'),\n",
    "Convert('0 0 0 0 0 0 0 0 0 0 0 3.0 1.2'),\n",
    "Convert('0 0 0 0 0 0 0 0 0 0 0 0 2.1'),\n",
    "Convert('0 0 0 0 0 0 0 0 0 0 0 0 0'))\n",
    "a=np.matrix(matrix)\n",
    "a = a.astype(float)\n",
    "df=pd.DataFrame(a)\n",
    "df\n",
    "# df=pd.DataFrame(np.array(matrix)+np.array(matrix).transpose())\n",
    "# df"
   ]
  },
  {
   "cell_type": "code",
   "execution_count": 288,
   "metadata": {},
   "outputs": [
    {
     "name": "stdout",
     "output_type": "stream",
     "text": [
      "total appreciations' score is\n",
      "24.0\n",
      "places to visit is\n"
     ]
    },
    {
     "data": {
      "text/plain": [
       "[(0, 'TE', 0.0),\n",
       " (1, 'ML', 0.0),\n",
       " (2, 'AT', 1.0),\n",
       " (3, 'MO', 1.0),\n",
       " (4, 'JT', 1.0),\n",
       " (5, 'CA', 1.0),\n",
       " (6, 'CP', 0.0),\n",
       " (7, 'CN', 0.0),\n",
       " (8, 'BS', 1.0),\n",
       " (9, 'SC', 0.0),\n",
       " (10, 'PC', 1.0),\n",
       " (11, 'TM', 0.0),\n",
       " (12, 'AC', 1.0)]"
      ]
     },
     "execution_count": 288,
     "metadata": {},
     "output_type": "execute_result"
    }
   ],
   "source": [
    "# Preference 1\n",
    "A_ub = np.array([[9/2,3,1,2,3/2,2,5/2,2,2,3/2,3/4,2,3/2],[15.5,12,9.5,11,0,10,10,5,8,8.5,0,15,0]])\n",
    "b_ub = np.array([12,65])\n",
    "for i in range(0,13):\n",
    "    for j in range(i,13):\n",
    "        if df[j][i]>0 and df[j][i]<1:\n",
    "            list_A= np.zeros(13)\n",
    "            list_A[j]=1\n",
    "            list_A[i]=-1\n",
    "            list_b=np.array([0])\n",
    "            list_A=np.array(list_A)\n",
    "            A_ub=np.insert(A_ub, 0, values=list_A, axis=0)\n",
    "            b_ub=np.insert(b_ub, 0, values=list_b, axis=0)\n",
    "            list_A= np.zeros(13)\n",
    "            list_A[j]=-1\n",
    "            list_A[i]=1\n",
    "            list_b=np.array([0])\n",
    "            list_A=np.array(list_A)\n",
    "            A_ub=np.insert(A_ub, 0, values=list_A, axis=0)\n",
    "            b_ub=np.insert(b_ub, 0, values=list_b, axis=0)\n",
    "c = np.array([-5,-4,-3,-2,-3,-4,-1,-5,-4,-1,-3,-2,-5])\n",
    "i = np.empty(13)\n",
    "i.fill(1)\n",
    "res = linprog(c, A_ub=A_ub, b_ub=b_ub,integrality=i, bounds=([(0,1)]*13))\n",
    "print(\"total appreciations' score is\")\n",
    "print(-res.fun)\n",
    "print(\"places to visit is\")\n",
    "ListVisitP1=(list((zip([i for i in range(13)],places,res.x))))\n",
    "ListVisitP1"
   ]
  },
  {
   "cell_type": "code",
   "execution_count": 289,
   "metadata": {},
   "outputs": [
    {
     "name": "stdout",
     "output_type": "stream",
     "text": [
      "total appreciations' score is\n",
      "25.0\n",
      "places to visit is\n"
     ]
    },
    {
     "data": {
      "text/plain": [
       "[(0, 'TE', 1.0),\n",
       " (1, 'ML', 0.0),\n",
       " (2, 'AT', 1.0),\n",
       " (3, 'MO', 0.0),\n",
       " (4, 'JT', 0.0),\n",
       " (5, 'CA', 1.0),\n",
       " (6, 'CP', 0.0),\n",
       " (7, 'CN', 1.0),\n",
       " (8, 'BS', 0.0),\n",
       " (9, 'SC', 0.0),\n",
       " (10, 'PC', 1.0),\n",
       " (11, 'TM', 0.0),\n",
       " (12, 'AC', 1.0)]"
      ]
     },
     "execution_count": 289,
     "metadata": {},
     "output_type": "execute_result"
    }
   ],
   "source": [
    "# Preference 2\n",
    "A_ub = np.array([[9/2,3,1,2,3/2,2,5/2,2,2,3/2,3/4,2,3/2],[15.5,12,9.5,11,0,10,10,5,8,8.5,0,15,0]])\n",
    "b_ub = np.array([12,65])\n",
    "A_eq=np.array([[0,0,0,0,0,0,0,0,0,0,0,0,0]])\n",
    "b_eq=np.array([[0]])\n",
    "for i in range(0,13):\n",
    "    if i==0 or i==5:\n",
    "        list_A= np.zeros(13)\n",
    "        list_A[i]=1\n",
    "        list_b=np.array([1])\n",
    "        b_eq=np.insert(b_eq, 0, values=list_b, axis=0)\n",
    "        list_A=np.array(list_A)\n",
    "        A_eq=np.insert(A_eq, 0, values=list_A, axis=0)\n",
    "c = np.array([-5,-4,-3,-2,-3,-4,-1,-5,-4,-1,-3,-2,-5])\n",
    "i = np.empty(13)\n",
    "i.fill(1)\n",
    "res = linprog(c,A_ub, b_ub, A_eq,b_eq,integrality=i, bounds=([(0,1)]*13))\n",
    "print(\"total appreciations' score is\")\n",
    "print(-res.fun)\n",
    "print(\"places to visit is\")\n",
    "ListVisitP2=(list((zip([i for i in range(13)],places,res.x))))\n",
    "ListVisitP2"
   ]
  },
  {
   "cell_type": "code",
   "execution_count": 290,
   "metadata": {},
   "outputs": [
    {
     "name": "stdout",
     "output_type": "stream",
     "text": [
      "total appreciations' score is\n",
      "27.0\n",
      "places to visit is\n"
     ]
    },
    {
     "data": {
      "text/plain": [
       "[(0, 'TE', 0.0),\n",
       " (1, 'ML', 0.0),\n",
       " (2, 'AT', 1.0),\n",
       " (3, 'MO', 0.0),\n",
       " (4, 'JT', 1.0),\n",
       " (5, 'CA', 1.0),\n",
       " (6, 'CP', 0.0),\n",
       " (7, 'CN', 1.0),\n",
       " (8, 'BS', 1.0),\n",
       " (9, 'SC', 0.0),\n",
       " (10, 'PC', 1.0),\n",
       " (11, 'TM', 0.0),\n",
       " (12, 'AC', 1.0)]"
      ]
     },
     "execution_count": 290,
     "metadata": {},
     "output_type": "execute_result"
    }
   ],
   "source": [
    "# Preference 3\n",
    "A_ub = np.array([[9/2,3,1,2,3/2,2,5/2,2,2,3/2,3/4,2,3/2],[15.5,12,9.5,11,0,10,10,5,8,8.5,0,15,0]])\n",
    "b_ub = np.array([12,65])\n",
    "list_A= np.zeros(13)\n",
    "for i in [7,9]:\n",
    "    list_A[i]=1\n",
    "A_ub=np.insert(A_ub, 0, values=list_A, axis=0)\n",
    "list_b=np.array([1])\n",
    "b_ub=np.insert(b_ub, 0, values=list_b, axis=0)\n",
    "c = np.array([-5,-4,-3,-2,-3,-4,-1,-5,-4,-1,-3,-2,-5])\n",
    "i = np.empty(13)\n",
    "i.fill(1)\n",
    "res = linprog(c,A_ub, b_ub,integrality=i, bounds=([(0,1)]*13))\n",
    "print(\"total appreciations' score is\")\n",
    "print(-res.fun)\n",
    "print(\"places to visit is\")\n",
    "ListVisitP3=(list((zip([i for i in range(13)],places,res.x))))\n",
    "ListVisitP3"
   ]
  },
  {
   "cell_type": "code",
   "execution_count": 291,
   "metadata": {},
   "outputs": [
    {
     "name": "stdout",
     "output_type": "stream",
     "text": [
      "total appreciations' score is\n",
      "26.0\n",
      "places to visit is\n"
     ]
    },
    {
     "data": {
      "text/plain": [
       "[(0, 'TE', 0.0),\n",
       " (1, 'ML', 0.0),\n",
       " (2, 'AT', 1.0),\n",
       " (3, 'MO', 0.0),\n",
       " (4, 'JT', 0.0),\n",
       " (5, 'CA', 1.0),\n",
       " (6, 'CP', 0.0),\n",
       " (7, 'CN', 1.0),\n",
       " (8, 'BS', 1.0),\n",
       " (9, 'SC', 0.0),\n",
       " (10, 'PC', 1.0),\n",
       " (11, 'TM', 1.0),\n",
       " (12, 'AC', 1.0)]"
      ]
     },
     "execution_count": 291,
     "metadata": {},
     "output_type": "execute_result"
    }
   ],
   "source": [
    "# Preference 4\n",
    "A_ub = np.array([[9/2,3,1,2,3/2,2,5/2,2,2,3/2,3/4,2,3/2],[15.5,12,9.5,11,0,10,10,5,8,8.5,0,15,0]])\n",
    "b_ub = np.array([12,65])\n",
    "A_eq=np.array([[0,0,0,0,0,0,0,0,0,0,0,0,0]])\n",
    "b_eq=np.array([[0]])\n",
    "for i in range(0,13):\n",
    "    if i==11:\n",
    "        list_A= np.zeros(13)\n",
    "        list_A[i]=1\n",
    "        list_b=np.array([1])\n",
    "        b_eq=np.insert(b_eq, 0, values=list_b, axis=0)\n",
    "        list_A=np.array(list_A)\n",
    "        A_eq=np.insert(A_eq, 0, values=list_A, axis=0)\n",
    "c = np.array([-5,-4,-3,-2,-3,-4,-1,-5,-4,-1,-3,-2,-5])\n",
    "i = np.empty(13)\n",
    "i.fill(1)\n",
    "res = linprog(c,A_ub, b_ub, A_eq,b_eq,integrality=i, bounds=([(0,1)]*13))\n",
    "print(\"total appreciations' score is\")\n",
    "print(-res.fun)\n",
    "print(\"places to visit is\")\n",
    "ListVisitP4=(list((zip([i for i in range(13)],places,res.x))))\n",
    "ListVisitP4"
   ]
  },
  {
   "cell_type": "code",
   "execution_count": 292,
   "metadata": {},
   "outputs": [
    {
     "name": "stdout",
     "output_type": "stream",
     "text": [
      "total appreciations' score is\n",
      "27.0\n",
      "places to visit is\n"
     ]
    },
    {
     "data": {
      "text/plain": [
       "[(0, 'TE', 0.0),\n",
       " (1, 'ML', -0.0),\n",
       " (2, 'AT', 1.0),\n",
       " (3, 'MO', 0.0),\n",
       " (4, 'JT', 1.0),\n",
       " (5, 'CA', 1.0),\n",
       " (6, 'CP', 0.0),\n",
       " (7, 'CN', 1.0),\n",
       " (8, 'BS', 1.0),\n",
       " (9, 'SC', 0.0),\n",
       " (10, 'PC', 1.0),\n",
       " (11, 'TM', 0.0),\n",
       " (12, 'AC', 1.0)]"
      ]
     },
     "execution_count": 292,
     "metadata": {},
     "output_type": "execute_result"
    }
   ],
   "source": [
    "# Preference 5\n",
    "A_ub = np.array([[9/2,3,1,2,3/2,2,5/2,2,2,3/2,3/4,2,3/2],[15.5,12,9.5,11,0,10,10,5,8,8.5,0,15,0]])\n",
    "b_ub = np.array([12,65])\n",
    "list_A= np.zeros(13)\n",
    "list_A[1]=1\n",
    "list_A[6]=-1\n",
    "A_ub=np.insert(A_ub, 0, values=list_A, axis=0)\n",
    "list_b=np.array([0])\n",
    "b_ub=np.insert(b_ub, 0, values=list_b, axis=0)\n",
    "c = np.array([-5,-4,-3,-2,-3,-4,-1,-5,-4,-1,-3,-2,-5])\n",
    "i = np.empty(13)\n",
    "i.fill(1)\n",
    "res = linprog(c,A_ub, b_ub,integrality=i, bounds=([(0,1)]*13))\n",
    "print(\"total appreciations' score is\")\n",
    "print(-res.fun)\n",
    "print(\"places to visit is\")\n",
    "ListVisitP5=(list((zip([i for i in range(13)],places,res.x))))\n",
    "ListVisitP5"
   ]
  },
  {
   "cell_type": "code",
   "execution_count": 293,
   "metadata": {},
   "outputs": [
    {
     "name": "stdout",
     "output_type": "stream",
     "text": [
      "False\n",
      "False\n",
      "False\n",
      "False\n",
      "False\n"
     ]
    }
   ],
   "source": [
    "def sameList(list1,list2):\n",
    "    if list1==list2: return True\n",
    "    else: return False\n",
    "print(sameList(ListVisit1,ListVisitP1))\n",
    "print(sameList(ListVisit1,ListVisitP2))\n",
    "print(sameList(ListVisit1,ListVisitP3))\n",
    "print(sameList(ListVisit1,ListVisitP4))\n",
    "print(sameList(ListVisit1,ListVisitP5))"
   ]
  },
  {
   "cell_type": "markdown",
   "metadata": {},
   "source": [
    "### Question 2-2(b)\n",
    "(b)  If Mr. Doe wishes, at the same time, to take into account Preference 1 and Preference 2, which list(s) would you recommend\n",
    "to him ?"
   ]
  },
  {
   "cell_type": "code",
   "execution_count": 294,
   "metadata": {},
   "outputs": [
    {
     "name": "stdout",
     "output_type": "stream",
     "text": [
      "total appreciations' score is\n",
      "24.0\n",
      "places to visit is\n"
     ]
    },
    {
     "data": {
      "text/plain": [
       "[(0, 'TE', 1.0),\n",
       " (1, 'ML', 0.0),\n",
       " (2, 'AT', 1.0),\n",
       " (3, 'MO', 0.0),\n",
       " (4, 'JT', 0.0),\n",
       " (5, 'CA', 1.0),\n",
       " (6, 'CP', 0.0),\n",
       " (7, 'CN', 0.0),\n",
       " (8, 'BS', 1.0),\n",
       " (9, 'SC', 0.0),\n",
       " (10, 'PC', 1.0),\n",
       " (11, 'TM', 0.0),\n",
       " (12, 'AC', 1.0)]"
      ]
     },
     "execution_count": 294,
     "metadata": {},
     "output_type": "execute_result"
    }
   ],
   "source": [
    "A_ub = np.array([[9/2,3,1,2,3/2,2,5/2,2,2,3/2,3/4,2,3/2],[15.5,12,9.5,11,0,10,10,5,8,8.5,0,15,0]])\n",
    "b_ub = np.array([12,65])\n",
    "for i in range(0,13):\n",
    "    for j in range(i,13):\n",
    "        if df[j][i]>0 and df[j][i]<1:\n",
    "            list_A= np.zeros(13)\n",
    "            list_A[j]=1\n",
    "            list_A[i]=-1\n",
    "            list_b=np.array([0])\n",
    "            list_A=np.array(list_A)\n",
    "            A_ub=np.insert(A_ub, 0, values=list_A, axis=0)\n",
    "            b_ub=np.insert(b_ub, 0, values=list_b, axis=0)\n",
    "            list_A= np.zeros(13)\n",
    "            list_A[j]=-1\n",
    "            list_A[i]=1\n",
    "            list_b=np.array([0])\n",
    "            list_A=np.array(list_A)\n",
    "            A_ub=np.insert(A_ub, 0, values=list_A, axis=0)\n",
    "            b_ub=np.insert(b_ub, 0, values=list_b, axis=0)\n",
    "A_eq=np.array([[0,0,0,0,0,0,0,0,0,0,0,0,0]])\n",
    "b_eq=np.array([[0]])\n",
    "for i in range(0,13):\n",
    "    if i==0 or i==5:\n",
    "        list_A= np.zeros(13)\n",
    "        list_A[i]=1\n",
    "        list_b=np.array([1])\n",
    "        b_eq=np.insert(b_eq, 0, values=list_b, axis=0)\n",
    "        list_A=np.array(list_A)\n",
    "        A_eq=np.insert(A_eq, 0, values=list_A, axis=0)\n",
    "c = np.array([-5,-4,-3,-2,-3,-4,-1,-5,-4,-1,-3,-2,-5])\n",
    "i = np.empty(13)\n",
    "i.fill(1)\n",
    "res = linprog(c,A_ub, b_ub, A_eq,b_eq,integrality=i, bounds=([(0,1)]*13))\n",
    "print(\"total appreciations' score is\")\n",
    "print(-res.fun)\n",
    "print(\"places to visit is\")\n",
    "ListVisitb=(list((zip([i for i in range(13)],places,res.x))))\n",
    "ListVisitb"
   ]
  },
  {
   "cell_type": "markdown",
   "metadata": {},
   "source": [
    "### Question 2-2(c)\n",
    "(c)  If Mr. Doe wishes, at the same time, to take into account Preference 1 and Preference 3, which list(s) would you recommend\n",
    "to him ?"
   ]
  },
  {
   "cell_type": "code",
   "execution_count": 295,
   "metadata": {},
   "outputs": [
    {
     "name": "stdout",
     "output_type": "stream",
     "text": [
      "total appreciations' score is\n",
      "24.0\n",
      "places to visit is\n"
     ]
    },
    {
     "data": {
      "text/plain": [
       "[(0, 'TE', 0.0),\n",
       " (1, 'ML', 0.0),\n",
       " (2, 'AT', 1.0),\n",
       " (3, 'MO', 1.0),\n",
       " (4, 'JT', 1.0),\n",
       " (5, 'CA', 1.0),\n",
       " (6, 'CP', 0.0),\n",
       " (7, 'CN', 0.0),\n",
       " (8, 'BS', 1.0),\n",
       " (9, 'SC', 0.0),\n",
       " (10, 'PC', 1.0),\n",
       " (11, 'TM', 0.0),\n",
       " (12, 'AC', 1.0)]"
      ]
     },
     "execution_count": 295,
     "metadata": {},
     "output_type": "execute_result"
    }
   ],
   "source": [
    "A_ub = np.array([[9/2,3,1,2,3/2,2,5/2,2,2,3/2,3/4,2,3/2],[15.5,12,9.5,11,0,10,10,5,8,8.5,0,15,0]])\n",
    "b_ub = np.array([12,65])\n",
    "for i in range(0,13):\n",
    "    for j in range(i,13):\n",
    "        if df[j][i]>0 and df[j][i]<1:\n",
    "            list_A= np.zeros(13)\n",
    "            list_A[j]=1\n",
    "            list_A[i]=-1\n",
    "            list_b=np.array([0])\n",
    "            list_A=np.array(list_A)\n",
    "            A_ub=np.insert(A_ub, 0, values=list_A, axis=0)\n",
    "            b_ub=np.insert(b_ub, 0, values=list_b, axis=0)\n",
    "            list_A= np.zeros(13)\n",
    "            list_A[j]=-1\n",
    "            list_A[i]=1\n",
    "            list_b=np.array([0])\n",
    "            list_A=np.array(list_A)\n",
    "            A_ub=np.insert(A_ub, 0, values=list_A, axis=0)\n",
    "            b_ub=np.insert(b_ub, 0, values=list_b, axis=0)            \n",
    "list_A= np.zeros(13)\n",
    "for i in [7,9]:\n",
    "    list_A[i]=1\n",
    "A_ub=np.insert(A_ub, 0, values=list_A, axis=0)\n",
    "list_b=np.array([1])\n",
    "b_ub=np.insert(b_ub, 0, values=list_b, axis=0)\n",
    "c = np.array([-5,-4,-3,-2,-3,-4,-1,-5,-4,-1,-3,-2,-5])\n",
    "i = np.empty(13)\n",
    "i.fill(1)\n",
    "res = linprog(c, A_ub=A_ub, b_ub=b_ub,integrality=i, bounds=([(0,1)]*13))\n",
    "print(\"total appreciations' score is\")\n",
    "print(-res.fun)\n",
    "print(\"places to visit is\")\n",
    "ListVisitc=(list((zip([i for i in range(13)],places,res.x))))\n",
    "ListVisitc\n"
   ]
  },
  {
   "cell_type": "markdown",
   "metadata": {},
   "source": [
    "### Question 2-2(d)\n",
    "(d)  If Mr. Doe wishes, at the same time, to take into account Preference 1 and Preference 4, which list(s) would you recommend\n",
    "to him ?"
   ]
  },
  {
   "cell_type": "code",
   "execution_count": 296,
   "metadata": {},
   "outputs": [
    {
     "name": "stdout",
     "output_type": "stream",
     "text": [
      "total appreciations' score is\n",
      "23.0\n",
      "places to visit is\n"
     ]
    },
    {
     "data": {
      "text/plain": [
       "[(0, 'TE', 0.0),\n",
       " (1, 'ML', 0.0),\n",
       " (2, 'AT', 0.0),\n",
       " (3, 'MO', 1.0),\n",
       " (4, 'JT', 1.0),\n",
       " (5, 'CA', 1.0),\n",
       " (6, 'CP', 0.0),\n",
       " (7, 'CN', 0.0),\n",
       " (8, 'BS', 1.0),\n",
       " (9, 'SC', 0.0),\n",
       " (10, 'PC', 1.0),\n",
       " (11, 'TM', 1.0),\n",
       " (12, 'AC', 1.0)]"
      ]
     },
     "execution_count": 296,
     "metadata": {},
     "output_type": "execute_result"
    }
   ],
   "source": [
    "A_ub = np.array([[9/2,3,1,2,3/2,2,5/2,2,2,3/2,3/4,2,3/2],[15.5,12,9.5,11,0,10,10,5,8,8.5,0,15,0]])\n",
    "b_ub = np.array([12,65])\n",
    "A_eq=np.array([[0,0,0,0,0,0,0,0,0,0,0,0,0]])\n",
    "b_eq=np.array([[0]])\n",
    "for i in range(0,13):\n",
    "    if i==11:\n",
    "        list_A= np.zeros(13)\n",
    "        list_A[i]=1\n",
    "        list_b=np.array([1])\n",
    "        b_eq=np.insert(b_eq, 0, values=list_b, axis=0)\n",
    "        list_A=np.array(list_A)\n",
    "        A_eq=np.insert(A_eq, 0, values=list_A, axis=0)\n",
    "for i in range(0,13):\n",
    "    for j in range(i,13):\n",
    "        if df[j][i]>0 and df[j][i]<1:\n",
    "            list_A= np.zeros(13)\n",
    "            list_A[j]=1\n",
    "            list_A[i]=-1\n",
    "            list_b=np.array([0])\n",
    "            list_A=np.array(list_A)\n",
    "            A_ub=np.insert(A_ub, 0, values=list_A, axis=0)\n",
    "            b_ub=np.insert(b_ub, 0, values=list_b, axis=0)\n",
    "            list_A= np.zeros(13)\n",
    "            list_A[j]=-1\n",
    "            list_A[i]=1\n",
    "            list_b=np.array([0])\n",
    "            list_A=np.array(list_A)\n",
    "            A_ub=np.insert(A_ub, 0, values=list_A, axis=0)\n",
    "            b_ub=np.insert(b_ub, 0, values=list_b, axis=0)\n",
    "c = np.array([-5,-4,-3,-2,-3,-4,-1,-5,-4,-1,-3,-2,-5])\n",
    "i = np.empty(13)\n",
    "i.fill(1)\n",
    "res = linprog(c,A_ub, b_ub, A_eq,b_eq,integrality=i, bounds=([(0,1)]*13))\n",
    "print(\"total appreciations' score is\")\n",
    "print(-res.fun)\n",
    "print(\"places to visit is\")\n",
    "ListVisitd=(list((zip([i for i in range(13)],places,res.x))))\n",
    "ListVisitd"
   ]
  },
  {
   "cell_type": "markdown",
   "metadata": {},
   "source": [
    "### Question 2-2(e)\n",
    "(e)  If Mr. Doe wishes, at the same time, to take into account Preference 2 and Preference 5, which list(s) would you recommend\n",
    "to him ?"
   ]
  },
  {
   "cell_type": "code",
   "execution_count": 297,
   "metadata": {},
   "outputs": [
    {
     "name": "stdout",
     "output_type": "stream",
     "text": [
      "total appreciations' score is\n",
      "25.0\n",
      "places to visit is\n"
     ]
    },
    {
     "data": {
      "text/plain": [
       "[(0, 'TE', 1.0),\n",
       " (1, 'ML', 0.0),\n",
       " (2, 'AT', 1.0),\n",
       " (3, 'MO', 0.0),\n",
       " (4, 'JT', 0.0),\n",
       " (5, 'CA', 1.0),\n",
       " (6, 'CP', 0.0),\n",
       " (7, 'CN', 1.0),\n",
       " (8, 'BS', 0.0),\n",
       " (9, 'SC', 0.0),\n",
       " (10, 'PC', 1.0),\n",
       " (11, 'TM', 0.0),\n",
       " (12, 'AC', 1.0)]"
      ]
     },
     "execution_count": 297,
     "metadata": {},
     "output_type": "execute_result"
    }
   ],
   "source": [
    "A_ub = np.array([[9/2,3,1,2,3/2,2,5/2,2,2,3/2,3/4,2,3/2],[15.5,12,9.5,11,0,10,10,5,8,8.5,0,15,0]])\n",
    "b_ub = np.array([12,65])\n",
    "A_eq=np.array([[0,0,0,0,0,0,0,0,0,0,0,0,0]])\n",
    "b_eq=np.array([[0]])\n",
    "for i in range(0,13):\n",
    "    if i==0 or i==5:\n",
    "        list_A= np.zeros(13)\n",
    "        list_A[i]=1\n",
    "        list_b=np.array([1])\n",
    "        b_eq=np.insert(b_eq, 0, values=list_b, axis=0)\n",
    "        list_A=np.array(list_A)\n",
    "        A_eq=np.insert(A_eq, 0, values=list_A, axis=0)\n",
    "list_A= np.zeros(13)\n",
    "list_A[1]=1\n",
    "list_A[6]=-1\n",
    "A_ub=np.insert(A_ub, 0, values=list_A, axis=0)\n",
    "list_b=np.array([0])\n",
    "b_ub=np.insert(b_ub, 0, values=list_b, axis=0)\n",
    "c = np.array([-5,-4,-3,-2,-3,-4,-1,-5,-4,-1,-3,-2,-5])\n",
    "i = np.empty(13)\n",
    "i.fill(1)\n",
    "res = linprog(c,A_ub, b_ub, A_eq,b_eq,integrality=i, bounds=([(0,1)]*13))\n",
    "print(\"total appreciations' score is\")\n",
    "print(-res.fun)\n",
    "print(\"places to visit is\")\n",
    "ListVisite=(list((zip([i for i in range(13)],places,res.x))))\n",
    "ListVisite"
   ]
  },
  {
   "cell_type": "markdown",
   "metadata": {},
   "source": [
    "### Question 2-2(f)\n",
    "(f)  If Mr. Doe wishes, at the same time, to take into account Preference 3 and Preference 4, which list(s) would you recommend\n",
    "to him ?"
   ]
  },
  {
   "cell_type": "code",
   "execution_count": 298,
   "metadata": {},
   "outputs": [
    {
     "name": "stdout",
     "output_type": "stream",
     "text": [
      "total appreciations' score is\n",
      "26.0\n",
      "places to visit is\n"
     ]
    },
    {
     "data": {
      "text/plain": [
       "[(0, 'TE', 0.0),\n",
       " (1, 'ML', 0.0),\n",
       " (2, 'AT', 1.0),\n",
       " (3, 'MO', 0.0),\n",
       " (4, 'JT', 0.0),\n",
       " (5, 'CA', 1.0),\n",
       " (6, 'CP', 0.0),\n",
       " (7, 'CN', 1.0),\n",
       " (8, 'BS', 1.0),\n",
       " (9, 'SC', 0.0),\n",
       " (10, 'PC', 1.0),\n",
       " (11, 'TM', 1.0),\n",
       " (12, 'AC', 1.0)]"
      ]
     },
     "execution_count": 298,
     "metadata": {},
     "output_type": "execute_result"
    }
   ],
   "source": [
    "A_ub = np.array([[9/2,3,1,2,3/2,2,5/2,2,2,3/2,3/4,2,3/2],[15.5,12,9.5,11,0,10,10,5,8,8.5,0,15,0]])\n",
    "b_ub = np.array([12,65])\n",
    "A_eq=np.array([[0,0,0,0,0,0,0,0,0,0,0,0,0]])\n",
    "b_eq=np.array([[0]])\n",
    "for i in range(0,13):\n",
    "    if i==11:\n",
    "        list_A= np.zeros(13)\n",
    "        list_A[i]=1\n",
    "        list_b=np.array([1])\n",
    "        b_eq=np.insert(b_eq, 0, values=list_b, axis=0)\n",
    "        list_A=np.array(list_A)\n",
    "        A_eq=np.insert(A_eq, 0, values=list_A, axis=0)\n",
    "list_A= np.zeros(13)\n",
    "for i in [7,9]:\n",
    "    list_A[i]=1\n",
    "A_ub=np.insert(A_ub, 0, values=list_A, axis=0)\n",
    "list_b=np.array([1])\n",
    "b_ub=np.insert(b_ub, 0, values=list_b, axis=0)\n",
    "c = np.array([-5,-4,-3,-2,-3,-4,-1,-5,-4,-1,-3,-2,-5])\n",
    "i = np.empty(13)\n",
    "i.fill(1)\n",
    "res = linprog(c,A_ub, b_ub, A_eq,b_eq,integrality=i, bounds=([(0,1)]*13))\n",
    "print(\"total appreciations' score is\")\n",
    "print(-res.fun)\n",
    "print(\"places to visit is\")\n",
    "ListVisitf=(list((zip([i for i in range(13)],places,res.x))))\n",
    "ListVisitf"
   ]
  },
  {
   "cell_type": "markdown",
   "metadata": {},
   "source": [
    "### Question 2-2(g)\n",
    "(g)  If Mr. Doe wishes, at the same time, to take into account Preference 4 and Preference 5, which list(s) would you recommend\n",
    "to him ?"
   ]
  },
  {
   "cell_type": "code",
   "execution_count": 299,
   "metadata": {},
   "outputs": [
    {
     "name": "stdout",
     "output_type": "stream",
     "text": [
      "total appreciations' score is\n",
      "26.0\n",
      "places to visit is\n"
     ]
    },
    {
     "data": {
      "text/plain": [
       "[(0, 'TE', 0.0),\n",
       " (1, 'ML', 0.0),\n",
       " (2, 'AT', 1.0),\n",
       " (3, 'MO', 0.0),\n",
       " (4, 'JT', 0.0),\n",
       " (5, 'CA', 1.0),\n",
       " (6, 'CP', 0.0),\n",
       " (7, 'CN', 1.0),\n",
       " (8, 'BS', 1.0),\n",
       " (9, 'SC', 0.0),\n",
       " (10, 'PC', 1.0),\n",
       " (11, 'TM', 1.0),\n",
       " (12, 'AC', 1.0)]"
      ]
     },
     "execution_count": 299,
     "metadata": {},
     "output_type": "execute_result"
    }
   ],
   "source": [
    "A_ub = np.array([[9/2,3,1,2,3/2,2,5/2,2,2,3/2,3/4,2,3/2],[15.5,12,9.5,11,0,10,10,5,8,8.5,0,15,0]])\n",
    "b_ub = np.array([12,65])\n",
    "A_eq=np.array([[0,0,0,0,0,0,0,0,0,0,0,0,0]])\n",
    "b_eq=np.array([[0]])\n",
    "for i in range(0,13):\n",
    "    if i==11:\n",
    "        list_A= np.zeros(13)\n",
    "        list_A[i]=1\n",
    "        list_b=np.array([1])\n",
    "        b_eq=np.insert(b_eq, 0, values=list_b, axis=0)\n",
    "        list_A=np.array(list_A)\n",
    "        A_eq=np.insert(A_eq, 0, values=list_A, axis=0)\n",
    "list_A= np.zeros(13)\n",
    "list_A[1]=1\n",
    "list_A[6]=-1\n",
    "A_ub=np.insert(A_ub, 0, values=list_A, axis=0)\n",
    "list_b=np.array([0])\n",
    "b_ub=np.insert(b_ub, 0, values=list_b, axis=0)\n",
    "c = np.array([-5,-4,-3,-2,-3,-4,-1,-5,-4,-1,-3,-2,-5])\n",
    "i = np.empty(13)\n",
    "i.fill(1)\n",
    "res = linprog(c,A_ub, b_ub, A_eq,b_eq,integrality=i, bounds=([(0,1)]*13))\n",
    "print(\"total appreciations' score is\")\n",
    "print(-res.fun)\n",
    "print(\"places to visit is\")\n",
    "ListVisitg=(list((zip([i for i in range(13)],places,res.x))))\n",
    "ListVisitg"
   ]
  },
  {
   "cell_type": "markdown",
   "metadata": {},
   "source": [
    "### Question 2-2(h)\n",
    "(h)  If Mr. Doe wishes, at the same time, to take into account Preference 1, Preference 2 and Preference 4, which list(s) would\n",
    "you recommend to him ?"
   ]
  },
  {
   "cell_type": "code",
   "execution_count": 300,
   "metadata": {},
   "outputs": [
    {
     "name": "stdout",
     "output_type": "stream",
     "text": [
      "total appreciations' score is\n",
      "24.0\n",
      "places to visit is\n"
     ]
    },
    {
     "data": {
      "text/plain": [
       "[(0, 'TE', 1.0),\n",
       " (1, 'ML', 0.0),\n",
       " (2, 'AT', 1.0),\n",
       " (3, 'MO', 0.0),\n",
       " (4, 'JT', 0.0),\n",
       " (5, 'CA', 1.0),\n",
       " (6, 'CP', 0.0),\n",
       " (7, 'CN', 0.0),\n",
       " (8, 'BS', 1.0),\n",
       " (9, 'SC', 0.0),\n",
       " (10, 'PC', 1.0),\n",
       " (11, 'TM', 0.0),\n",
       " (12, 'AC', 1.0)]"
      ]
     },
     "execution_count": 300,
     "metadata": {},
     "output_type": "execute_result"
    }
   ],
   "source": [
    "A_ub = np.array([[9/2,3,1,2,3/2,2,5/2,2,2,3/2,3/4,2,3/2],[15.5,12,9.5,11,0,10,10,5,8,8.5,0,15,0]])\n",
    "b_ub = np.array([12,65])\n",
    "A_eq=np.array([[0,0,0,0,0,0,0,0,0,0,0,0,0]])\n",
    "b_eq=np.array([[0]])\n",
    "for i in range(0,13):\n",
    "    if i==0 or i==5:\n",
    "        list_A= np.zeros(13)\n",
    "        list_A[i]=1\n",
    "        list_b=np.array([1])\n",
    "        b_eq=np.insert(b_eq, 0, values=list_b, axis=0)\n",
    "        list_A=np.array(list_A)\n",
    "        A_eq=np.insert(A_eq, 0, values=list_A, axis=0)\n",
    "list_A= np.zeros(13)\n",
    "list_A[1]=1\n",
    "list_A[6]=-1\n",
    "A_ub=np.insert(A_ub, 0, values=list_A, axis=0)\n",
    "list_b=np.array([0])\n",
    "b_ub=np.insert(b_ub, 0, values=list_b, axis=0)\n",
    "for i in range(0,13):\n",
    "    for j in range(i,13):\n",
    "        if df[j][i]>0 and df[j][i]<1:\n",
    "            list_A= np.zeros(13)\n",
    "            list_A[j]=1\n",
    "            list_A[i]=-1\n",
    "            list_b=np.array([0])\n",
    "            list_A=np.array(list_A)\n",
    "            A_ub=np.insert(A_ub, 0, values=list_A, axis=0)\n",
    "            b_ub=np.insert(b_ub, 0, values=list_b, axis=0)\n",
    "            list_A= np.zeros(13)\n",
    "            list_A[j]=-1\n",
    "            list_A[i]=1\n",
    "            list_b=np.array([0])\n",
    "            list_A=np.array(list_A)\n",
    "            A_ub=np.insert(A_ub, 0, values=list_A, axis=0)\n",
    "            b_ub=np.insert(b_ub, 0, values=list_b, axis=0)\n",
    "c = np.array([-5,-4,-3,-2,-3,-4,-1,-5,-4,-1,-3,-2,-5])\n",
    "i = np.empty(13)\n",
    "i.fill(1)\n",
    "res = linprog(c,A_ub, b_ub, A_eq,b_eq,integrality=i, bounds=([(0,1)]*13))\n",
    "print(\"total appreciations' score is\")\n",
    "print(-res.fun)\n",
    "print(\"places to visit is\")\n",
    "ListVisith=(list((zip([i for i in range(13)],places,res.x))))\n",
    "ListVisith\n"
   ]
  },
  {
   "cell_type": "markdown",
   "metadata": {},
   "source": [
    "### Question 2-2(i)\n",
    "(i)  If Mr. Doe wishes, at the same time, to take into account Preference 2, Preference 3 and Preference 5, which list(s) would\n",
    "you recommend to him ?"
   ]
  },
  {
   "cell_type": "code",
   "execution_count": 301,
   "metadata": {},
   "outputs": [
    {
     "name": "stdout",
     "output_type": "stream",
     "text": [
      "total appreciations' score is\n",
      "25.0\n",
      "places to visit is\n"
     ]
    },
    {
     "data": {
      "text/plain": [
       "[(0, 'TE', 1.0),\n",
       " (1, 'ML', 0.0),\n",
       " (2, 'AT', 1.0),\n",
       " (3, 'MO', 0.0),\n",
       " (4, 'JT', 0.0),\n",
       " (5, 'CA', 1.0),\n",
       " (6, 'CP', 0.0),\n",
       " (7, 'CN', 1.0),\n",
       " (8, 'BS', 0.0),\n",
       " (9, 'SC', 0.0),\n",
       " (10, 'PC', 1.0),\n",
       " (11, 'TM', 0.0),\n",
       " (12, 'AC', 1.0)]"
      ]
     },
     "execution_count": 301,
     "metadata": {},
     "output_type": "execute_result"
    }
   ],
   "source": [
    "# Preference 2\n",
    "A_ub = np.array([[9/2,3,1,2,3/2,2,5/2,2,2,3/2,3/4,2,3/2],[15.5,12,9.5,11,0,10,10,5,8,8.5,0,15,0]])\n",
    "b_ub = np.array([12,65])\n",
    "A_eq=np.array([[0,0,0,0,0,0,0,0,0,0,0,0,0]])\n",
    "b_eq=np.array([[0]])\n",
    "for i in range(0,13):\n",
    "    if i==0 or i==5:\n",
    "        list_A= np.zeros(13)\n",
    "        list_A[i]=1\n",
    "        list_b=np.array([1])\n",
    "        b_eq=np.insert(b_eq, 0, values=list_b, axis=0)\n",
    "        list_A=np.array(list_A)\n",
    "        A_eq=np.insert(A_eq, 0, values=list_A, axis=0)\n",
    "list_A= np.zeros(13)\n",
    "for i in [7,9]:\n",
    "    list_A[i]=1\n",
    "A_ub=np.insert(A_ub, 0, values=list_A, axis=0)\n",
    "list_b=np.array([1])\n",
    "b_ub=np.insert(b_ub, 0, values=list_b, axis=0)\n",
    "list_A= np.zeros(13)\n",
    "list_A[1]=1\n",
    "list_A[6]=-1\n",
    "A_ub=np.insert(A_ub, 0, values=list_A, axis=0)\n",
    "list_b=np.array([0])\n",
    "b_ub=np.insert(b_ub, 0, values=list_b, axis=0)\n",
    "c = np.array([-5,-4,-3,-2,-3,-4,-1,-5,-4,-1,-3,-2,-5])\n",
    "i = np.empty(13)\n",
    "i.fill(1)\n",
    "res = linprog(c,A_ub, b_ub, A_eq,b_eq,integrality=i, bounds=([(0,1)]*13))\n",
    "print(\"total appreciations' score is\")\n",
    "print(-res.fun)\n",
    "print(\"places to visit is\")\n",
    "ListVisiti=(list((zip([i for i in range(13)],places,res.x))))\n",
    "ListVisiti"
   ]
  },
  {
   "cell_type": "markdown",
   "metadata": {},
   "source": [
    "### Question 2-2(j)\n",
    "(j)  If Mr. Doe wishes, at the same time, to take into account Preference 2, Preference 3, Preference 4 and Preference 5, which\n",
    "list(s) would you recommend to him ?"
   ]
  },
  {
   "cell_type": "code",
   "execution_count": 302,
   "metadata": {},
   "outputs": [
    {
     "name": "stdout",
     "output_type": "stream",
     "text": [
      "total appreciations' score is\n",
      "22.0\n",
      "places to visit is\n"
     ]
    },
    {
     "data": {
      "text/plain": [
       "[(0, 'TE', 1.0),\n",
       " (1, 'ML', 0.0),\n",
       " (2, 'AT', 1.0),\n",
       " (3, 'MO', 0.0),\n",
       " (4, 'JT', 0.0),\n",
       " (5, 'CA', 1.0),\n",
       " (6, 'CP', 0.0),\n",
       " (7, 'CN', 0.0),\n",
       " (8, 'BS', 0.0),\n",
       " (9, 'SC', 0.0),\n",
       " (10, 'PC', 1.0),\n",
       " (11, 'TM', 1.0),\n",
       " (12, 'AC', 1.0)]"
      ]
     },
     "execution_count": 302,
     "metadata": {},
     "output_type": "execute_result"
    }
   ],
   "source": [
    "A_ub = np.array([[9/2,3,1,2,3/2,2,5/2,2,2,3/2,3/4,2,3/2],[15.5,12,9.5,11,0,10,10,5,8,8.5,0,15,0]])\n",
    "b_ub = np.array([12,65])\n",
    "A_eq=np.array([[0,0,0,0,0,0,0,0,0,0,0,0,0]])\n",
    "b_eq=np.array([[0]])\n",
    "for i in range(0,13):\n",
    "    if i==0 or i==5:\n",
    "        list_A= np.zeros(13)\n",
    "        list_A[i]=1\n",
    "        list_b=np.array([1])\n",
    "        b_eq=np.insert(b_eq, 0, values=list_b, axis=0)\n",
    "        list_A=np.array(list_A)\n",
    "        A_eq=np.insert(A_eq, 0, values=list_A, axis=0)\n",
    "for i in range(0,13):\n",
    "    if i==11:\n",
    "        list_A= np.zeros(13)\n",
    "        list_A[i]=1\n",
    "        list_b=np.array([1])\n",
    "        b_eq=np.insert(b_eq, 0, values=list_b, axis=0)\n",
    "        list_A=np.array(list_A)\n",
    "        A_eq=np.insert(A_eq, 0, values=list_A, axis=0)\n",
    "list_A= np.zeros(13)\n",
    "for i in [7,9]:\n",
    "    list_A[i]=1\n",
    "A_ub=np.insert(A_ub, 0, values=list_A, axis=0)\n",
    "list_b=np.array([1])\n",
    "b_ub=np.insert(b_ub, 0, values=list_b, axis=0)\n",
    "list_A= np.zeros(13)\n",
    "list_A[1]=1\n",
    "list_A[6]=-1\n",
    "A_ub=np.insert(A_ub, 0, values=list_A, axis=0)\n",
    "list_b=np.array([0])\n",
    "b_ub=np.insert(b_ub, 0, values=list_b, axis=0)\n",
    "\n",
    "c = np.array([-5,-4,-3,-2,-3,-4,-1,-5,-4,-1,-3,-2,-5])\n",
    "i = np.empty(13)\n",
    "i.fill(1)\n",
    "res = linprog(c,A_ub, b_ub, A_eq,b_eq,integrality=i, bounds=([(0,1)]*13))\n",
    "print(\"total appreciations' score is\")\n",
    "print(-res.fun)\n",
    "print(\"places to visit is\")\n",
    "ListVisitj=(list((zip([i for i in range(13)],places,res.x))))\n",
    "ListVisitj"
   ]
  },
  {
   "cell_type": "markdown",
   "metadata": {},
   "source": [
    "### Question 2-2(k)\n",
    "(k)  If Mr. Doe wishes, at the same time, to take into account Preference 1, Preference 2, Preference 4 and Preference 5, which\n",
    "list(s) would you recommend to him ?"
   ]
  },
  {
   "cell_type": "code",
   "execution_count": 303,
   "metadata": {},
   "outputs": [
    {
     "name": "stdout",
     "output_type": "stream",
     "text": [
      "total appreciations' score is\n",
      "24.0\n",
      "places to visit is\n"
     ]
    },
    {
     "data": {
      "text/plain": [
       "[(0, 'TE', 1.0),\n",
       " (1, 'ML', 0.0),\n",
       " (2, 'AT', 1.0),\n",
       " (3, 'MO', 0.0),\n",
       " (4, 'JT', 0.0),\n",
       " (5, 'CA', 1.0),\n",
       " (6, 'CP', 0.0),\n",
       " (7, 'CN', 0.0),\n",
       " (8, 'BS', 1.0),\n",
       " (9, 'SC', 0.0),\n",
       " (10, 'PC', 1.0),\n",
       " (11, 'TM', 0.0),\n",
       " (12, 'AC', 1.0)]"
      ]
     },
     "execution_count": 303,
     "metadata": {},
     "output_type": "execute_result"
    }
   ],
   "source": [
    "A_ub = np.array([[9/2,3,1,2,3/2,2,5/2,2,2,3/2,3/4,2,3/2],[15.5,12,9.5,11,0,10,10,5,8,8.5,0,15,0]])\n",
    "b_ub = np.array([12,65])\n",
    "A_eq=np.array([[0,0,0,0,0,0,0,0,0,0,0,0,0]])\n",
    "b_eq=np.array([[0]])\n",
    "for i in range(0,13):\n",
    "    if i==0 or i==5:\n",
    "        list_A= np.zeros(13)\n",
    "        list_A[i]=1\n",
    "        list_b=np.array([1])\n",
    "        b_eq=np.insert(b_eq, 0, values=list_b, axis=0)\n",
    "        list_A=np.array(list_A)\n",
    "        A_eq=np.insert(A_eq, 0, values=list_A, axis=0)\n",
    "list_A= np.zeros(13)\n",
    "list_A[1]=1\n",
    "list_A[6]=-1\n",
    "A_ub=np.insert(A_ub, 0, values=list_A, axis=0)\n",
    "list_b=np.array([0])\n",
    "b_ub=np.insert(b_ub, 0, values=list_b, axis=0)\n",
    "for i in range(0,13):\n",
    "    for j in range(i,13):\n",
    "        if df[j][i]>0 and df[j][i]<1:\n",
    "            list_A= np.zeros(13)\n",
    "            list_A[j]=1\n",
    "            list_A[i]=-1\n",
    "            list_b=np.array([0])\n",
    "            list_A=np.array(list_A)\n",
    "            A_ub=np.insert(A_ub, 0, values=list_A, axis=0)\n",
    "            b_ub=np.insert(b_ub, 0, values=list_b, axis=0)\n",
    "            list_A= np.zeros(13)\n",
    "            list_A[j]=-1\n",
    "            list_A[i]=1\n",
    "            list_b=np.array([0])\n",
    "            list_A=np.array(list_A)\n",
    "            A_ub=np.insert(A_ub, 0, values=list_A, axis=0)\n",
    "            b_ub=np.insert(b_ub, 0, values=list_b, axis=0)\n",
    "list_A= np.zeros(13)\n",
    "list_A[1]=1\n",
    "list_A[6]=-1\n",
    "A_ub=np.insert(A_ub, 0, values=list_A, axis=0)\n",
    "list_b=np.array([0])\n",
    "b_ub=np.insert(b_ub, 0, values=list_b, axis=0)\n",
    "c = np.array([-5,-4,-3,-2,-3,-4,-1,-5,-4,-1,-3,-2,-5])\n",
    "i = np.empty(13)\n",
    "i.fill(1)\n",
    "res = linprog(c,A_ub, b_ub, A_eq,b_eq,integrality=i, bounds=([(0,1)]*13))\n",
    "print(\"total appreciations' score is\")\n",
    "print(-res.fun)\n",
    "print(\"places to visit is\")\n",
    "ListVisitk=(list((zip([i for i in range(13)],places,res.x))))\n",
    "ListVisitk"
   ]
  },
  {
   "cell_type": "markdown",
   "metadata": {},
   "source": [
    "### Question 2-2(l)\n",
    "(l)  If Mr. Doe wishes, at the same time, to take into account Preference 1, Preference 2, Preference 3, Preference 4 and\n",
    "Preference 5, which list(s) would you recommend to him ?"
   ]
  },
  {
   "cell_type": "code",
   "execution_count": 304,
   "metadata": {},
   "outputs": [
    {
     "name": "stdout",
     "output_type": "stream",
     "text": [
      "total appreciations' score is\n",
      "22.0\n",
      "places to visit is\n"
     ]
    },
    {
     "data": {
      "text/plain": [
       "[(0, 'TE', 1.0),\n",
       " (1, 'ML', 0.0),\n",
       " (2, 'AT', 1.0),\n",
       " (3, 'MO', 0.0),\n",
       " (4, 'JT', 0.0),\n",
       " (5, 'CA', 1.0),\n",
       " (6, 'CP', 0.0),\n",
       " (7, 'CN', 0.0),\n",
       " (8, 'BS', -0.0),\n",
       " (9, 'SC', 0.0),\n",
       " (10, 'PC', 1.0),\n",
       " (11, 'TM', 1.0),\n",
       " (12, 'AC', 1.0)]"
      ]
     },
     "execution_count": 304,
     "metadata": {},
     "output_type": "execute_result"
    }
   ],
   "source": [
    "A_ub = np.array([[9/2,3,1,2,3/2,2,5/2,2,2,3/2,3/4,2,3/2],[15.5,12,9.5,11,0,10,10,5,8,8.5,0,15,0]])\n",
    "b_ub = np.array([12,65])\n",
    "A_eq=np.array([[0,0,0,0,0,0,0,0,0,0,0,0,0]])\n",
    "b_eq=np.array([[0]])\n",
    "for i in range(0,13):\n",
    "    if i==0 or i==5:\n",
    "        list_A= np.zeros(13)\n",
    "        list_A[i]=1\n",
    "        list_b=np.array([1])\n",
    "        b_eq=np.insert(b_eq, 0, values=list_b, axis=0)\n",
    "        list_A=np.array(list_A)\n",
    "        A_eq=np.insert(A_eq, 0, values=list_A, axis=0)\n",
    "for i in range(0,13):\n",
    "    if i==11:\n",
    "        list_A= np.zeros(13)\n",
    "        list_A[i]=1\n",
    "        list_b=np.array([1])\n",
    "        b_eq=np.insert(b_eq, 0, values=list_b, axis=0)\n",
    "        list_A=np.array(list_A)\n",
    "        A_eq=np.insert(A_eq, 0, values=list_A, axis=0)\n",
    "for i in range(0,13):\n",
    "    for j in range(i,13):\n",
    "        if df[j][i]>0 and df[j][i]<1:\n",
    "            list_A= np.zeros(13)\n",
    "            list_A[j]=1\n",
    "            list_A[i]=-1\n",
    "            list_b=np.array([0])\n",
    "            list_A=np.array(list_A)\n",
    "            A_ub=np.insert(A_ub, 0, values=list_A, axis=0)\n",
    "            b_ub=np.insert(b_ub, 0, values=list_b, axis=0)\n",
    "            list_A= np.zeros(13)\n",
    "            list_A[j]=-1\n",
    "            list_A[i]=1\n",
    "            list_b=np.array([0])\n",
    "            list_A=np.array(list_A)\n",
    "            A_ub=np.insert(A_ub, 0, values=list_A, axis=0)\n",
    "            b_ub=np.insert(b_ub, 0, values=list_b, axis=0)\n",
    "list_A= np.zeros(13)\n",
    "for i in [7,9]:\n",
    "    list_A[i]=1\n",
    "A_ub=np.insert(A_ub, 0, values=list_A, axis=0)\n",
    "list_b=np.array([1])\n",
    "b_ub=np.insert(b_ub, 0, values=list_b, axis=0)\n",
    "list_A= np.zeros(13)\n",
    "list_A[1]=1\n",
    "list_A[6]=-1\n",
    "A_ub=np.insert(A_ub, 0, values=list_A, axis=0)\n",
    "list_b=np.array([0])\n",
    "b_ub=np.insert(b_ub, 0, values=list_b, axis=0)\n",
    "\n",
    "c = np.array([-5,-4,-3,-2,-3,-4,-1,-5,-4,-1,-3,-2,-5])\n",
    "i = np.empty(13)\n",
    "i.fill(1)\n",
    "res = linprog(c,A_ub, b_ub, A_eq,b_eq,integrality=i, bounds=([(0,1)]*13))\n",
    "print(\"total appreciations' score is\")\n",
    "print(-res.fun)\n",
    "print(\"places to visit is\")\n",
    "ListVisitl=(list((zip([i for i in range(13)],places,res.x))))\n",
    "ListVisitl"
   ]
  },
  {
   "cell_type": "markdown",
   "metadata": {},
   "source": [
    "### Question 2-2(m)\n",
    "(m)  If Mr. Doe wishes, at the same time, to take into account Preference 1, Preference 2, Preference 3, Preference 4 and\n",
    "Preference 5, which list(s) would you recommend to him ?"
   ]
  },
  {
   "cell_type": "code",
   "execution_count": 305,
   "metadata": {},
   "outputs": [
    {
     "name": "stdout",
     "output_type": "stream",
     "text": [
      "False\n",
      "False\n",
      "False\n",
      "False\n",
      "False\n",
      "False\n",
      "False\n",
      "False\n",
      "False\n",
      "False\n",
      "False\n"
     ]
    }
   ],
   "source": [
    "print(sameList(ListVisit1,ListVisitb))\n",
    "print(sameList(ListVisit1,ListVisitc))\n",
    "print(sameList(ListVisit1,ListVisitd))\n",
    "print(sameList(ListVisit1,ListVisite))\n",
    "print(sameList(ListVisit1,ListVisitf))\n",
    "print(sameList(ListVisit1,ListVisitg))\n",
    "print(sameList(ListVisit1,ListVisith))\n",
    "print(sameList(ListVisit1,ListVisiti))\n",
    "print(sameList(ListVisit1,ListVisitj))\n",
    "print(sameList(ListVisit1,ListVisitk))\n",
    "print(sameList(ListVisit1,ListVisitl))"
   ]
  },
  {
   "cell_type": "markdown",
   "metadata": {},
   "source": [
    "## Question 2-3\n"
   ]
  },
  {
   "cell_type": "markdown",
   "metadata": {},
   "source": [
    "Kendall’s tau is a measure of the correspondence between two rankings. Values close to 1 indicate strong agreement, values close to -1 indicate strong disagreement. \n",
    "\n",
    "source: https://docs.scipy.org/doc/scipy-0.15.1/reference/generated/scipy.stats.kendalltau.html"
   ]
  },
  {
   "cell_type": "code",
   "execution_count": 307,
   "metadata": {},
   "outputs": [
    {
     "name": "stdout",
     "output_type": "stream",
     "text": [
      "the tau value and p-value are: \n",
      "0.1515325460564539 0.5161856881484197\n",
      "no so much correlated\n"
     ]
    }
   ],
   "source": [
    "import scipy.stats as stats\n",
    "DurationList=[9/2,3,1,2,3/2,2,5/2,2,2,3/2,3/4,2,3/2]\n",
    "AppreciationsList=[5,4,3,2,3,4,1,5,4,1,3,2,5]\n",
    "PriceList=[15.5,12,9.5,11,0,10,10,5,8,8.5,0,15,0]\n",
    "\n",
    "def listCorrelationKendall(list1,list2):\n",
    "    tau, p_value = stats.kendalltau(list1, list2)\n",
    "    print(\"the tau value and p-value are: \")\n",
    "    print(tau, p_value)\n",
    "    if tau>0.5: print(\"highly positively correlated\")\n",
    "    else:\n",
    "        if tau<-0.5: print(\"highly negatively correlated\")\n",
    "        else: print(\"no so much correlated\")"
   ]
  },
  {
   "cell_type": "code",
   "execution_count": 308,
   "metadata": {},
   "outputs": [
    {
     "name": "stdout",
     "output_type": "stream",
     "text": [
      "the tau value and p-value are: \n",
      "0.1515325460564539 0.5161856881484197\n",
      "no so much correlated\n"
     ]
    }
   ],
   "source": [
    "listCorrelationKendall(DurationList,AppreciationsList)"
   ]
  },
  {
   "cell_type": "code",
   "execution_count": 309,
   "metadata": {},
   "outputs": [
    {
     "name": "stdout",
     "output_type": "stream",
     "text": [
      "the tau value and p-value are: \n",
      "-0.08521145659838941 0.7052177490979787\n",
      "no so much correlated\n"
     ]
    }
   ],
   "source": [
    "listCorrelationKendall(PriceList,AppreciationsList)"
   ]
  },
  {
   "cell_type": "code",
   "execution_count": 311,
   "metadata": {},
   "outputs": [
    {
     "name": "stdout",
     "output_type": "stream",
     "text": [
      "the tau value and p-value are: \n",
      "0.605587290764896 0.007214039543463278\n",
      "highly positively correlated\n"
     ]
    }
   ],
   "source": [
    "listCorrelationKendall(DurationList,PriceList)"
   ]
  }
 ],
 "metadata": {
  "kernelspec": {
   "display_name": "Python 3.8.0b2 64-bit",
   "language": "python",
   "name": "python3"
  },
  "language_info": {
   "codemirror_mode": {
    "name": "ipython",
    "version": 3
   },
   "file_extension": ".py",
   "mimetype": "text/x-python",
   "name": "python",
   "nbconvert_exporter": "python",
   "pygments_lexer": "ipython3",
   "version": "3.8.0b2"
  },
  "orig_nbformat": 4,
  "vscode": {
   "interpreter": {
    "hash": "aee8b7b246df8f9039afb4144a1f6fd8d2ca17a180786b69acc140d282b71a49"
   }
  }
 },
 "nbformat": 4,
 "nbformat_minor": 2
}
