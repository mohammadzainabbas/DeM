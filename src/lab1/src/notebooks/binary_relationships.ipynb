{
 "cells": [
  {
   "cell_type": "code",
   "execution_count": 2,
   "id": "8477c89f-d8b1-48a2-a44e-ad2a4b41ae6e",
   "metadata": {},
   "outputs": [],
   "source": [
    "import pandas as pd\n",
    "import numpy as np\n",
    "from numpy import matrixlib as npmat\n",
    "import networkx as nx\n",
    "import matplotlib.pyplot as plt\n",
    "import logging as log\n",
    "from enum import Enum\n",
    "from os.path import join, exists, isfile, isdir, abspath, dirname, basename, realpath\n",
    "from os import makedirs, listdir, pardir, getcwd\n",
    "from dataclasses import dataclass, field\n",
    "from typing import Union\n",
    "\n",
    "from IPython.core.interactiveshell import InteractiveShell\n",
    "InteractiveShell.ast_node_interactivity = \"all\""
   ]
  },
  {
   "cell_type": "markdown",
   "id": "265c8365",
   "metadata": {},
   "source": [
    "##### Helpful functions"
   ]
  },
  {
   "cell_type": "code",
   "execution_count": 3,
   "id": "ed4553a9",
   "metadata": {},
   "outputs": [],
   "source": [
    "# ------------------------ #\n",
    "# Helper logging functions\n",
    "# ------------------------ #\n",
    "def print_log(text: str):\n",
    "    \"\"\"\n",
    "    Prints the log\n",
    "    \"\"\"\n",
    "    print(f\"[ log ]: {text}\")\n",
    "\n",
    "def print_error(text: str):\n",
    "    \"\"\"\n",
    "    Prints the error\n",
    "    \"\"\"\n",
    "    print(f\"[ error ]: {text}\")\n",
    "\n",
    "# ------------------------ #\n",
    "# Helper matrix functions\n",
    "# ------------------------ #\n",
    "def get_matrix(n_row: int = 5, n_col: int = 5, low: int = 2, seed: int = 0) -> npmat.matrix:\n",
    "    \"\"\"\n",
    "    Returns a random matrix of a given size\n",
    "\n",
    "    Parameters\n",
    "    ----------\n",
    "    n_row: int\n",
    "        Number of rows\n",
    "    n_col: int\n",
    "        Number of columns\n",
    "    low: int\n",
    "        Lower bound of the random numbers\n",
    "    seed: int\n",
    "        Seed for the random number generator\n",
    "    \n",
    "    Returns\n",
    "    -------\n",
    "    npmat.matrix\n",
    "        A random matrix\n",
    "    \n",
    "    Example\n",
    "    -------\n",
    "    >>> get_matrix(n_row=n_row, n_col=n_col, seed=0)\n",
    "    matrix([[0, 1, 1, 0, 1],\n",
    "            [1, 1, 1, 1, 1],\n",
    "            [1, 0, 0, 1, 0],\n",
    "            [0, 0, 0, 0, 1],\n",
    "            [0, 1, 1, 0, 0]])\n",
    "    \"\"\"\n",
    "    np.random.seed(seed=seed)\n",
    "    return npmat.asmatrix(np.random.randint(low, size=(n_row, n_col)))\n",
    "\n",
    "def get_matrix_from_list(list_of_lists: list) -> npmat.matrix:\n",
    "    \"\"\"\n",
    "    Returns a matrix from a list of lists\n",
    "    \"\"\"\n",
    "    return npmat.asmatrix(list_of_lists)"
   ]
  },
  {
   "cell_type": "markdown",
   "id": "1a228895",
   "metadata": {},
   "source": [
    "#### Get data"
   ]
  },
  {
   "cell_type": "code",
   "execution_count": 22,
   "id": "942890ed",
   "metadata": {},
   "outputs": [
    {
     "data": {
      "text/plain": [
       "matrix([[0, 1, 1, 0, 1, 1],\n",
       "        [1, 1, 1, 1, 1, 0],\n",
       "        [0, 1, 0, 0, 0, 0],\n",
       "        [0, 1, 0, 1, 1, 0],\n",
       "        [0, 1, 1, 1, 1, 0]])"
      ]
     },
     "execution_count": 22,
     "metadata": {},
     "output_type": "execute_result"
    }
   ],
   "source": [
    "# parent_dir = abspath(join(join(getcwd(), pardir), pardir))\n",
    "# data_dir = join(parent_dir, 'data')\n",
    "# data_file = join(data_dir, 'DM-HT_small.txt')\n",
    "\n",
    "n_row, n_col = 5, 6\n",
    "matrix = get_matrix(n_row=n_row, n_col=n_col, seed=0)\n",
    "matrix"
   ]
  },
  {
   "cell_type": "code",
   "execution_count": 23,
   "id": "b8ab4a77",
   "metadata": {},
   "outputs": [
    {
     "data": {
      "text/plain": [
       "(5, 6)"
      ]
     },
     "execution_count": 23,
     "metadata": {},
     "output_type": "execute_result"
    }
   ],
   "source": [
    "matrix.shape"
   ]
  },
  {
   "cell_type": "code",
   "execution_count": 4,
   "id": "30908245",
   "metadata": {},
   "outputs": [],
   "source": [
    "def CompleteCheck(matrix: npmat.matrix) -> bool:\n",
    "    \"\"\"\n",
    "    Checks if the matrix is complete\n",
    "    \"\"\"\n",
    "    for i in range(n_row):\n",
    "        for j in range(n_col):\n",
    "            if matrix[i, j] == 0 or matrix[i, j] == 0:\n",
    "                return False\n",
    "    return True"
   ]
  },
  {
   "cell_type": "code",
   "execution_count": 5,
   "id": "471dc34c",
   "metadata": {},
   "outputs": [],
   "source": [
    "def ReflexiveCheck(matrix: npmat.matrix) -> bool:\n",
    "    \"\"\"\n",
    "    Checks if the matrix is reflexive\n",
    "    \"\"\"\n",
    "    for i in range(n_row):\n",
    "        if matrix[i, i] != 1:\n",
    "            return False\n",
    "    return True"
   ]
  },
  {
   "cell_type": "code",
   "execution_count": 6,
   "id": "3d6955e3",
   "metadata": {},
   "outputs": [],
   "source": [
    "def SymmetricCheck(matrix: npmat.matrix) -> bool:\n",
    "    \"\"\"\n",
    "    Checks if the matrix is symmetric\n",
    "    \"\"\"\n",
    "    for i in range(n_row):\n",
    "        for j in range(n_col):\n",
    "            if matrix[i, j] != matrix[j, i]:\n",
    "                return False\n",
    "    return True"
   ]
  },
  {
   "cell_type": "code",
   "execution_count": 7,
   "id": "8110feb7",
   "metadata": {},
   "outputs": [],
   "source": [
    "def AntisymmetricCheck(matrix: npmat.matrix) -> bool:\n",
    "    \"\"\"\n",
    "    Checks if the matrix is antisymmetric\n",
    "    \"\"\"\n",
    "    for i in range(n_row):\n",
    "        for j in range(n_col):\n",
    "            if matrix[i, j] == 1 and matrix[j, i] == 1 and i != j:\n",
    "                return False\n",
    "    return True"
   ]
  },
  {
   "cell_type": "code",
   "execution_count": 8,
   "id": "5b7ddbcb",
   "metadata": {},
   "outputs": [],
   "source": [
    "def TransitiveCheck(matrix: npmat.matrix) -> bool:\n",
    "    \"\"\"\n",
    "    Checks if the matrix is transitive\n",
    "    \"\"\"\n",
    "    for i in range(n_row):\n",
    "        for j in range(n_col):\n",
    "            for k in range(n_col):\n",
    "                if matrix[i, j] == 1 and matrix[j, k] == 1 and matrix[i, k] != 1:\n",
    "                    return False\n",
    "    return True"
   ]
  },
  {
   "cell_type": "code",
   "execution_count": 9,
   "id": "6f22e917",
   "metadata": {},
   "outputs": [],
   "source": [
    "def EquivalenceCheck(matrix: npmat.matrix) -> bool:\n",
    "    \"\"\"\n",
    "    Checks if the matrix is an equivalence relation\n",
    "    \"\"\"\n",
    "    return ReflexiveCheck(matrix) and SymmetricCheck(matrix) and TransitiveCheck(matrix)"
   ]
  },
  {
   "cell_type": "code",
   "execution_count": 10,
   "id": "af0dc020",
   "metadata": {},
   "outputs": [],
   "source": [
    "def PartialOrderCheck(matrix: npmat.matrix) -> bool:\n",
    "    \"\"\"\n",
    "    Checks if the matrix is a partial order\n",
    "    \"\"\"\n",
    "    return AntisymmetricCheck(matrix) and TransitiveCheck(matrix)"
   ]
  },
  {
   "cell_type": "code",
   "execution_count": null,
   "id": "3c75384f",
   "metadata": {},
   "outputs": [],
   "source": []
  }
 ],
 "metadata": {
  "kernelspec": {
   "display_name": "Python 3.9.13 ('decision_modelling')",
   "language": "python",
   "name": "python3"
  },
  "language_info": {
   "codemirror_mode": {
    "name": "ipython",
    "version": 3
   },
   "file_extension": ".py",
   "mimetype": "text/x-python",
   "name": "python",
   "nbconvert_exporter": "python",
   "pygments_lexer": "ipython3",
   "version": "3.10.6"
  },
  "vscode": {
   "interpreter": {
    "hash": "922e2005b522558b637e02e4ef2271899f71cd2929a60d5c7b1a2137b531939a"
   }
  }
 },
 "nbformat": 4,
 "nbformat_minor": 5
}
