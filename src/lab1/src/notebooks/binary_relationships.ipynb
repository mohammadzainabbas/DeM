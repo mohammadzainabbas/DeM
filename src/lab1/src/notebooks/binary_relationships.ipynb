{
 "cells": [
  {
   "cell_type": "code",
   "execution_count": 1,
   "id": "8477c89f-d8b1-48a2-a44e-ad2a4b41ae6e",
   "metadata": {},
   "outputs": [],
   "source": [
    "import pandas as pd\n",
    "import numpy as np\n",
    "from numpy import matrixlib as npmat\n",
    "import networkx as nx\n",
    "import matplotlib.pyplot as plt\n",
    "import logging as log\n",
    "from enum import Enum\n",
    "from os.path import join, exists, isfile, isdir, abspath, dirname, basename, realpath\n",
    "from os import makedirs, listdir, pardir, getcwd\n",
    "from dataclasses import dataclass, field\n",
    "from typing import Union\n",
    "\n",
    "from IPython.core.interactiveshell import InteractiveShell\n",
    "InteractiveShell.ast_node_interactivity = \"all\""
   ]
  },
  {
   "cell_type": "markdown",
   "id": "265c8365",
   "metadata": {},
   "source": [
    "##### Helpful functions"
   ]
  },
  {
   "cell_type": "code",
   "execution_count": 2,
   "id": "ed4553a9",
   "metadata": {},
   "outputs": [],
   "source": [
    "def print_log(text: str):\n",
    "    \"\"\"\n",
    "    Prints the log\n",
    "    \"\"\"\n",
    "    print(f\"[ log ]: {text}\")\n",
    "    # log.info(f\"[ log ]: {text}\")\n",
    "\n",
    "def print_error(text: str):\n",
    "    \"\"\"\n",
    "    Prints the error\n",
    "    \"\"\"\n",
    "    print(f\"[ error ]: {text}\")\n",
    "    # log.warn(f\"[ error ]: {text}\")"
   ]
  },
  {
   "cell_type": "markdown",
   "id": "1a228895",
   "metadata": {},
   "source": [
    "#### Get data"
   ]
  },
  {
   "cell_type": "code",
   "execution_count": 15,
   "id": "942890ed",
   "metadata": {},
   "outputs": [
    {
     "data": {
      "text/plain": [
       "matrix([[1, 1, 0, 1, 1],\n",
       "        [0, 0, 0, 1, 1],\n",
       "        [0, 1, 0, 0, 1],\n",
       "        [0, 0, 0, 1, 0],\n",
       "        [1, 0, 1, 1, 1]])"
      ]
     },
     "execution_count": 15,
     "metadata": {},
     "output_type": "execute_result"
    }
   ],
   "source": [
    "parent_dir = abspath(join(join(getcwd(), pardir), pardir))\n",
    "data_dir = join(parent_dir, 'data')\n",
    "# data_file = join(data_dir, 'DM-HT_small.txt')\n",
    "\n",
    "n_row, n_col = 5, 5\n",
    "matrix = npmat.asmatrix(np.random.randint(2, size=(n_row, n_col)))\n",
    "matrix"
   ]
  },
  {
   "cell_type": "code",
   "execution_count": null,
   "id": "c98dae77",
   "metadata": {},
   "outputs": [],
   "source": [
    "def get_matrix(n_row: int = 5, n_col: int = 5, low: int = 2) -> npmat.matrix:\n",
    "    \"\"\"\n",
    "    Returns a random matrix of a given size\n",
    "    \"\"\"\n",
    "    return npmat.asmatrix(np.random.randint(low, size=(n_row, n_col)))"
   ]
  }
 ],
 "metadata": {
  "kernelspec": {
   "display_name": "Python 3.9.13 ('decision_modelling')",
   "language": "python",
   "name": "python3"
  },
  "language_info": {
   "codemirror_mode": {
    "name": "ipython",
    "version": 3
   },
   "file_extension": ".py",
   "mimetype": "text/x-python",
   "name": "python",
   "nbconvert_exporter": "python",
   "pygments_lexer": "ipython3",
   "version": "3.10.6"
  },
  "vscode": {
   "interpreter": {
    "hash": "922e2005b522558b637e02e4ef2271899f71cd2929a60d5c7b1a2137b531939a"
   }
  }
 },
 "nbformat": 4,
 "nbformat_minor": 5
}
