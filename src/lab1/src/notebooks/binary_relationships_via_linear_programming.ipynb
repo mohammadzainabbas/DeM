{
 "cells": [
  {
   "cell_type": "markdown",
   "id": "e136a84c-af15-4dfc-ad71-5225a1cca97f",
   "metadata": {},
   "source": [
    "### Import libraries"
   ]
  },
  {
   "cell_type": "code",
   "execution_count": 1,
   "id": "ed08ef5c",
   "metadata": {},
   "outputs": [],
   "source": [
    "%load_ext autoreload\n",
    "%autoreload\n",
    "\n",
    "from os import getcwd\n",
    "from os.path import join, abspath, pardir, relpath, exists\n",
    "\n",
    "from dataclasses import dataclass, field\n",
    "\n",
    "import pandas as pd\n",
    "import numpy as np\n",
    "from numpy import matrixlib as npmat\n",
    "import networkx as nx\n",
    "from typing import Union\n",
    "import pulp as p\n",
    "from itertools import combinations\n",
    "from typing import List\n",
    "from enum import Enum\n",
    "\n",
    "from IPython.display import IFrame\n",
    "from IPython.core.interactiveshell import InteractiveShell\n",
    "InteractiveShell.ast_node_interactivity = \"all\""
   ]
  },
  {
   "cell_type": "markdown",
   "id": "bbbb968b-ce9f-4189-9a95-6b2368d9c015",
   "metadata": {
    "tags": []
   },
   "source": [
    "### Helper methods"
   ]
  },
  {
   "cell_type": "code",
   "execution_count": 2,
   "id": "b18f387e-86ff-40da-b2e5-88272eb041a0",
   "metadata": {},
   "outputs": [],
   "source": [
    "# ------------------------ #\n",
    "# Helper logging functions\n",
    "# ------------------------ #\n",
    "def print_log(text: str) -> None:\n",
    "    \"\"\" Prints the log \"\"\"\n",
    "    print(f\"[ log ]: {text}\")\n",
    "\n",
    "def print_error(text: str) -> None:\n",
    "    \"\"\" Prints the error \"\"\"\n",
    "    print(f\"[ error ]: {text}\")\n",
    "# -------------------------------------------------- #\n",
    "# Helper functions\n",
    "# -------------------------------------------------- #\n",
    "def is_identical(list1: List, list2: List) -> bool:\n",
    "    \"\"\"Check if two lists are identical.\"\"\"\n",
    "    return sorted(list1) == sorted(list2)\n",
    "# -------------------------------------------------- #\n",
    "# Helper functions for matrix related operations\n",
    "# -------------------------------------------------- #\n",
    "def graph_to_matrix(G: Union[nx.Graph, npmat.matrix]) -> npmat.matrix:\n",
    "    \"\"\"\n",
    "    Converts a graph to a matrix\n",
    "    \"\"\"\n",
    "    return nx.to_numpy_matrix(G) if isinstance(G, nx.Graph) else G\n",
    "\n",
    "def matrix_to_graph(matrix: Union[nx.Graph, npmat.matrix]) -> nx.Graph:\n",
    "    \"\"\"\n",
    "    Convert from a numpy matrix to a network graph\n",
    "    \"\"\"\n",
    "    return nx.from_numpy_matrix(matrix) if isinstance(matrix, npmat.matrix) else matrix\n",
    "\n",
    "def undirected_to_directed(graph: nx.Graph) -> nx.DiGraph:\n",
    "    \"\"\"\n",
    "    Converts an undirected graph to a directed graph\n",
    "    \"\"\"\n",
    "    di_graph = nx.DiGraph()\n",
    "    di_graph.add_edges_from(graph.edges())\n",
    "    return di_graph\n",
    "\n",
    "def csv_to_matrix(csv_file: str) -> npmat.matrix:\n",
    "    \"\"\"\n",
    "    Returns a matrix from a csv file\n",
    "    \"\"\"\n",
    "    return npmat.asmatrix(pd.read_csv(csv_file, header=None, on_bad_lines=\"skip\").to_numpy())"
   ]
  },
  {
   "cell_type": "markdown",
   "id": "f4b746f7-26de-45d9-83a8-b09eb5ae2126",
   "metadata": {},
   "source": [
    "### Documentation"
   ]
  },
  {
   "cell_type": "code",
   "execution_count": 3,
   "id": "70f01e56",
   "metadata": {},
   "outputs": [
    {
     "data": {
      "text/html": [
       "\n",
       "        <iframe\n",
       "            width=\"1200\"\n",
       "            height=\"350\"\n",
       "            src=\"../../docs/practical_works_linear_programing_v3.pdf\"\n",
       "            frameborder=\"0\"\n",
       "            allowfullscreen\n",
       "            \n",
       "        ></iframe>\n",
       "        "
      ],
      "text/plain": [
       "<IPython.lib.display.IFrame at 0x1075c1300>"
      ]
     },
     "execution_count": 3,
     "metadata": {},
     "output_type": "execute_result"
    }
   ],
   "source": [
    "parent_dir = abspath(join(join(getcwd(), pardir), pardir))\n",
    "data_dir = join(parent_dir, 'data')\n",
    "data_file = join(data_dir, \"data.csv\")\n",
    "docs_dir = join(parent_dir, 'docs')\n",
    "if exists(docs_dir):\n",
    "    doc_file = relpath(join(docs_dir, 'practical_works_linear_programing_v3.pdf'))\n",
    "    IFrame(doc_file, width=1200, height=350)\n",
    "matrix = csv_to_matrix(data_file)"
   ]
  },
  {
   "cell_type": "markdown",
   "id": "00239dcc",
   "metadata": {},
   "source": [
    "#### General settings"
   ]
  },
  {
   "cell_type": "code",
   "execution_count": 4,
   "id": "9b1d6bcf",
   "metadata": {},
   "outputs": [],
   "source": [
    "LpSolverDefault = p.PULP_CBC_CMD\n",
    "show_solver_output = False"
   ]
  },
  {
   "cell_type": "markdown",
   "id": "786942b9-081d-4251-9355-dab3d85f57c8",
   "metadata": {
    "jp-MarkdownHeadingCollapsed": true,
    "tags": []
   },
   "source": [
    "#### Linear Programming via PuLP"
   ]
  },
  {
   "cell_type": "code",
   "execution_count": 5,
   "id": "640310fa-85a2-4ddc-845b-1c8f171f7349",
   "metadata": {},
   "outputs": [
    {
     "name": "stderr",
     "output_type": "stream",
     "text": [
      "/opt/homebrew/Caskroom/mambaforge/base/envs/decision_modelling/lib/python3.10/site-packages/pulp/pulp.py:1352: UserWarning: Spaces are not permitted in the name. Converted to '_'\n",
      "  warnings.warn(\"Spaces are not permitted in the name. Converted to '_'\")\n"
     ]
    },
    {
     "data": {
      "text/plain": [
       "[Medicine_1_units, Medicine_2_units]"
      ]
     },
     "execution_count": 5,
     "metadata": {},
     "output_type": "execute_result"
    },
    {
     "data": {
      "text/plain": [
       "1"
      ]
     },
     "execution_count": 5,
     "metadata": {},
     "output_type": "execute_result"
    }
   ],
   "source": [
    "# Create the variable to contain the problem data\n",
    "problem = p.LpProblem(name=\"The Miracle Worker\", sense=p.const.LpMaximize)\n",
    "\n",
    "# Create problem variables\n",
    "x = p.LpVariable(name=\"Medicine_1_units\", lowBound=0, upBound=None, cat=p.LpInteger)\n",
    "y = p.LpVariable(name=\"Medicine_2_units\", lowBound=0, upBound=None, cat=p.LpInteger)\n",
    "\n",
    "# The objective function is added to \"problem\" first\n",
    "problem += 25*x + 20*y, \"Health restored; to be maximized\"\n",
    "\n",
    "# The two contraints for the herbs\n",
    "problem += 3*x + 4*y <= 25, \"Herb A constraint\"\n",
    "problem += 2*x + y <= 10, \"Herb B constraint\"\n",
    "\n",
    "# The problem data is written to an .lp file\n",
    "# problem.writeLP(filename=join(data_dir, \"miracle_worker.lp\"), writeSOS=1, mip=1, max_length=100)\n",
    "problem.writeLP(filename=join(data_dir, \"miracle_worker.lp\"), writeSOS=1, mip=1, max_length=100)\n",
    "\n",
    "# The problem is solved using PuLP's choice of solver\n",
    "problem.solve(solver=LpSolverDefault(msg=show_solver_output))"
   ]
  },
  {
   "cell_type": "markdown",
   "id": "e1fa80a6-c542-4f60-8142-03407c3004b4",
   "metadata": {
    "jp-MarkdownHeadingCollapsed": true,
    "tags": []
   },
   "source": [
    "#### Output"
   ]
  },
  {
   "cell_type": "code",
   "execution_count": 6,
   "id": "0bbd016f",
   "metadata": {},
   "outputs": [
    {
     "name": "stdout",
     "output_type": "stream",
     "text": [
      "[ log ]: p.LpStatus[problem.status] = 'Optimal'\n",
      "[ log ]: Medicine_1_units = 3.0\n",
      "[ log ]: Medicine_2_units = 4.0\n",
      "[ log ]: p.value(problem.objective) = 155.0\n"
     ]
    }
   ],
   "source": [
    "print_log(f\"{p.LpStatus[problem.status] = }\")\n",
    "\n",
    "_ = [print_log(f\"{v.name} = {v.varValue}\") for v in problem.variables()]\n",
    "\n",
    "print_log(f\"{p.value(problem.objective) = }\")"
   ]
  },
  {
   "cell_type": "markdown",
   "id": "9038793d-6256-40fd-906d-0e088fdd8721",
   "metadata": {
    "tags": []
   },
   "source": [
    "#### Toy example (Linear Programming via PuLP)"
   ]
  },
  {
   "cell_type": "code",
   "execution_count": 7,
   "id": "bc944985-8405-425b-9dc4-b5ddf12106a3",
   "metadata": {},
   "outputs": [
    {
     "data": {
      "text/plain": [
       "[Toy_1_units, Toy_2_units]"
      ]
     },
     "execution_count": 7,
     "metadata": {},
     "output_type": "execute_result"
    },
    {
     "data": {
      "text/plain": [
       "1"
      ]
     },
     "execution_count": 7,
     "metadata": {},
     "output_type": "execute_result"
    }
   ],
   "source": [
    "# Create the variable to contain the problem data\n",
    "problem = p.LpProblem(name=\"Toy Manufacturing\", sense=p.const.LpMaximize)\n",
    "\n",
    "# Create problem variables\n",
    "x = p.LpVariable(name=\"Toy_1_units\", lowBound=0, upBound=None, cat=p.LpInteger)\n",
    "y = p.LpVariable(name=\"Toy_2_units\", lowBound=0, upBound=None, cat=p.LpInteger)\n",
    "\n",
    "# The objective function is added to \"problem\" first\n",
    "problem += 25*x + 20*y, \"Profit; to be maximized\"\n",
    "\n",
    "# The two contraints for the herbs\n",
    "problem += 20*x + 12*y <= 2000, \"Required units - constraint\"\n",
    "problem += 5*x + 5*y <= 540, \"Time required - constraint\"\n",
    "\n",
    "# The problem data is written to an .lp file\n",
    "problem.writeLP(filename=join(data_dir, \"toy_manufacturing.lp\"), writeSOS=1, mip=1, max_length=100)\n",
    "\n",
    "# The problem is solved using PuLP's choice of solver\n",
    "problem.solve(solver=LpSolverDefault(msg=show_solver_output))"
   ]
  },
  {
   "cell_type": "markdown",
   "id": "8e0a433d-4e71-412a-8fdb-48d4fe55319e",
   "metadata": {
    "jp-MarkdownHeadingCollapsed": true,
    "tags": []
   },
   "source": [
    "#### Output"
   ]
  },
  {
   "cell_type": "code",
   "execution_count": 8,
   "id": "a603fa9a-6ea5-416f-98e0-3d985eed5698",
   "metadata": {},
   "outputs": [
    {
     "name": "stdout",
     "output_type": "stream",
     "text": [
      "[ log ]: p.LpStatus[problem.status] = 'Optimal'\n",
      "[ log ]: Toy_1_units = 88.0\n",
      "[ log ]: Toy_2_units = 20.0\n",
      "[ log ]: p.value(problem.objective) = 2600.0\n"
     ]
    }
   ],
   "source": [
    "print_log(f\"{p.LpStatus[problem.status] = }\")\n",
    "\n",
    "_ = [print_log(f\"{v.name} = {v.varValue}\") for v in problem.variables()]\n",
    "\n",
    "print_log(f\"{p.value(problem.objective) = }\")"
   ]
  },
  {
   "cell_type": "markdown",
   "id": "cadd6020-6f74-461e-876e-b2c7b2fe1103",
   "metadata": {
    "tags": []
   },
   "source": [
    "### How to visit Paris ? (efficiently with low budget)"
   ]
  },
  {
   "cell_type": "code",
   "execution_count": 9,
   "id": "3b844276",
   "metadata": {},
   "outputs": [],
   "source": [
    "@dataclass(frozen=False, order=False)\n",
    "class SiteInfo:\n",
    "    \"\"\"\n",
    "    A dataclass to hold the site information\n",
    "    \"\"\"\n",
    "    name: str = field(default=\"\")\n",
    "    site_code: str = field(default=\"\")\n",
    "    price: float = field(default=0.0) # price in euros\n",
    "    duration: float = field(default=0.0) # duration in hours\n",
    "    rating: int = field(default=0) # appreciation rating"
   ]
  },
  {
   "cell_type": "code",
   "execution_count": 10,
   "id": "d92f0ac3",
   "metadata": {},
   "outputs": [],
   "source": [
    "sites_info = [\n",
    "    SiteInfo(name=\"La Tour Eiffel\", site_code=\"TE\", duration=4.5, rating=5, price=15.50),\n",
    "    SiteInfo(name=\"Le Musée du louvre\", site_code=\"ML\", duration=3, rating=4, price=12),\n",
    "    SiteInfo(name=\"l’Arc de triomphe\", site_code=\"AT\", duration=1, rating=3, price=9.50),\n",
    "    SiteInfo(name=\"le Musée d’Orsay\", site_code=\"MO\", duration=2, rating=2, price=11),\n",
    "    SiteInfo(name=\"le Jardin des tuileries\", site_code=\"JT\", duration=1.5, rating=3, price=0),\n",
    "    SiteInfo(name=\"les Catacombes\", site_code=\"CA\", duration=2, rating=4, price=10),\n",
    "    SiteInfo(name=\"le Centre Pompido\", site_code=\"CP\", duration=2.5, rating=1, price=10),\n",
    "    SiteInfo(name=\"la Cathédrale Notre Dame de Paris\", site_code=\"CN\", duration=2, rating=5, price=5),\n",
    "    SiteInfo(name=\"la Basilique du Sacré-Coeur\", site_code=\"BS\", duration=2, rating=4, price=8),\n",
    "    SiteInfo(name=\"la Sainte Chapelle\", site_code=\"SC\", duration=1.5, rating=1, price=8.50),\n",
    "    SiteInfo(name=\"La Place de la Concorde\", site_code=\"PC\", duration=0.75, rating=3, price=0),\n",
    "    SiteInfo(name=\"la Tour Montparnasse\", site_code=\"TM\", duration=2, rating=2, price=15),\n",
    "    SiteInfo(name=\"l’Avenue des Champs-Elysées\", site_code=\"AC\", duration=1.5, rating=5, price=0),\n",
    "]"
   ]
  },
  {
   "cell_type": "code",
   "execution_count": 11,
   "id": "74a9be1c",
   "metadata": {},
   "outputs": [
    {
     "data": {
      "text/html": [
       "<div>\n",
       "<style scoped>\n",
       "    .dataframe tbody tr th:only-of-type {\n",
       "        vertical-align: middle;\n",
       "    }\n",
       "\n",
       "    .dataframe tbody tr th {\n",
       "        vertical-align: top;\n",
       "    }\n",
       "\n",
       "    .dataframe thead th {\n",
       "        text-align: right;\n",
       "    }\n",
       "</style>\n",
       "<table border=\"1\" class=\"dataframe\">\n",
       "  <thead>\n",
       "    <tr style=\"text-align: right;\">\n",
       "      <th></th>\n",
       "      <th>TE</th>\n",
       "      <th>ML</th>\n",
       "      <th>AT</th>\n",
       "      <th>MO</th>\n",
       "      <th>JT</th>\n",
       "      <th>CA</th>\n",
       "      <th>CP</th>\n",
       "      <th>CN</th>\n",
       "      <th>BS</th>\n",
       "      <th>SC</th>\n",
       "      <th>PC</th>\n",
       "      <th>TM</th>\n",
       "      <th>AC</th>\n",
       "    </tr>\n",
       "  </thead>\n",
       "  <tbody>\n",
       "    <tr>\n",
       "      <th>TE</th>\n",
       "      <td>0.0</td>\n",
       "      <td>3.8</td>\n",
       "      <td>2.1</td>\n",
       "      <td>2.4</td>\n",
       "      <td>3.5</td>\n",
       "      <td>4.2</td>\n",
       "      <td>5.00</td>\n",
       "      <td>4.40</td>\n",
       "      <td>5.5</td>\n",
       "      <td>4.2</td>\n",
       "      <td>2.5</td>\n",
       "      <td>3.1</td>\n",
       "      <td>1.9</td>\n",
       "    </tr>\n",
       "    <tr>\n",
       "      <th>ML</th>\n",
       "      <td>3.8</td>\n",
       "      <td>0.0</td>\n",
       "      <td>3.8</td>\n",
       "      <td>1.1</td>\n",
       "      <td>1.3</td>\n",
       "      <td>3.3</td>\n",
       "      <td>1.30</td>\n",
       "      <td>1.10</td>\n",
       "      <td>3.4</td>\n",
       "      <td>0.8</td>\n",
       "      <td>1.7</td>\n",
       "      <td>2.5</td>\n",
       "      <td>2.8</td>\n",
       "    </tr>\n",
       "    <tr>\n",
       "      <th>AT</th>\n",
       "      <td>2.1</td>\n",
       "      <td>3.8</td>\n",
       "      <td>0.0</td>\n",
       "      <td>3.1</td>\n",
       "      <td>3.0</td>\n",
       "      <td>5.8</td>\n",
       "      <td>4.80</td>\n",
       "      <td>4.90</td>\n",
       "      <td>4.3</td>\n",
       "      <td>4.6</td>\n",
       "      <td>2.2</td>\n",
       "      <td>4.4</td>\n",
       "      <td>1.0</td>\n",
       "    </tr>\n",
       "    <tr>\n",
       "      <th>MO</th>\n",
       "      <td>2.4</td>\n",
       "      <td>1.1</td>\n",
       "      <td>3.1</td>\n",
       "      <td>0.0</td>\n",
       "      <td>0.9</td>\n",
       "      <td>3.1</td>\n",
       "      <td>2.50</td>\n",
       "      <td>2.00</td>\n",
       "      <td>3.9</td>\n",
       "      <td>1.8</td>\n",
       "      <td>1.0</td>\n",
       "      <td>2.3</td>\n",
       "      <td>2.1</td>\n",
       "    </tr>\n",
       "    <tr>\n",
       "      <th>JT</th>\n",
       "      <td>3.5</td>\n",
       "      <td>1.3</td>\n",
       "      <td>3.0</td>\n",
       "      <td>0.9</td>\n",
       "      <td>0.0</td>\n",
       "      <td>4.2</td>\n",
       "      <td>2.00</td>\n",
       "      <td>2.40</td>\n",
       "      <td>2.7</td>\n",
       "      <td>2.0</td>\n",
       "      <td>1.0</td>\n",
       "      <td>3.4</td>\n",
       "      <td>2.1</td>\n",
       "    </tr>\n",
       "    <tr>\n",
       "      <th>CA</th>\n",
       "      <td>4.2</td>\n",
       "      <td>3.3</td>\n",
       "      <td>5.8</td>\n",
       "      <td>3.1</td>\n",
       "      <td>4.2</td>\n",
       "      <td>0.0</td>\n",
       "      <td>3.50</td>\n",
       "      <td>2.70</td>\n",
       "      <td>6.5</td>\n",
       "      <td>2.6</td>\n",
       "      <td>3.8</td>\n",
       "      <td>1.3</td>\n",
       "      <td>4.9</td>\n",
       "    </tr>\n",
       "    <tr>\n",
       "      <th>CP</th>\n",
       "      <td>5.0</td>\n",
       "      <td>1.3</td>\n",
       "      <td>4.8</td>\n",
       "      <td>2.5</td>\n",
       "      <td>2.0</td>\n",
       "      <td>3.5</td>\n",
       "      <td>0.00</td>\n",
       "      <td>0.85</td>\n",
       "      <td>3.7</td>\n",
       "      <td>0.9</td>\n",
       "      <td>2.7</td>\n",
       "      <td>3.4</td>\n",
       "      <td>3.8</td>\n",
       "    </tr>\n",
       "    <tr>\n",
       "      <th>CN</th>\n",
       "      <td>4.4</td>\n",
       "      <td>1.1</td>\n",
       "      <td>4.9</td>\n",
       "      <td>2.0</td>\n",
       "      <td>2.4</td>\n",
       "      <td>2.7</td>\n",
       "      <td>0.85</td>\n",
       "      <td>0.00</td>\n",
       "      <td>4.5</td>\n",
       "      <td>0.4</td>\n",
       "      <td>2.8</td>\n",
       "      <td>2.7</td>\n",
       "      <td>3.9</td>\n",
       "    </tr>\n",
       "    <tr>\n",
       "      <th>BS</th>\n",
       "      <td>5.5</td>\n",
       "      <td>3.4</td>\n",
       "      <td>4.3</td>\n",
       "      <td>3.9</td>\n",
       "      <td>2.7</td>\n",
       "      <td>6.5</td>\n",
       "      <td>3.70</td>\n",
       "      <td>4.50</td>\n",
       "      <td>0.0</td>\n",
       "      <td>4.2</td>\n",
       "      <td>3.3</td>\n",
       "      <td>5.7</td>\n",
       "      <td>3.8</td>\n",
       "    </tr>\n",
       "    <tr>\n",
       "      <th>SC</th>\n",
       "      <td>4.2</td>\n",
       "      <td>0.8</td>\n",
       "      <td>4.6</td>\n",
       "      <td>1.8</td>\n",
       "      <td>2.0</td>\n",
       "      <td>2.6</td>\n",
       "      <td>0.90</td>\n",
       "      <td>0.40</td>\n",
       "      <td>4.2</td>\n",
       "      <td>0.0</td>\n",
       "      <td>2.5</td>\n",
       "      <td>2.6</td>\n",
       "      <td>3.6</td>\n",
       "    </tr>\n",
       "    <tr>\n",
       "      <th>PC</th>\n",
       "      <td>2.5</td>\n",
       "      <td>1.7</td>\n",
       "      <td>2.2</td>\n",
       "      <td>1.0</td>\n",
       "      <td>1.0</td>\n",
       "      <td>3.8</td>\n",
       "      <td>2.70</td>\n",
       "      <td>2.80</td>\n",
       "      <td>3.3</td>\n",
       "      <td>2.5</td>\n",
       "      <td>0.0</td>\n",
       "      <td>3.0</td>\n",
       "      <td>1.2</td>\n",
       "    </tr>\n",
       "    <tr>\n",
       "      <th>TM</th>\n",
       "      <td>3.1</td>\n",
       "      <td>2.5</td>\n",
       "      <td>4.4</td>\n",
       "      <td>2.3</td>\n",
       "      <td>3.4</td>\n",
       "      <td>1.3</td>\n",
       "      <td>3.40</td>\n",
       "      <td>2.70</td>\n",
       "      <td>5.7</td>\n",
       "      <td>2.6</td>\n",
       "      <td>3.0</td>\n",
       "      <td>0.0</td>\n",
       "      <td>2.1</td>\n",
       "    </tr>\n",
       "    <tr>\n",
       "      <th>AC</th>\n",
       "      <td>1.9</td>\n",
       "      <td>2.8</td>\n",
       "      <td>1.0</td>\n",
       "      <td>2.1</td>\n",
       "      <td>2.1</td>\n",
       "      <td>4.9</td>\n",
       "      <td>3.80</td>\n",
       "      <td>3.90</td>\n",
       "      <td>3.8</td>\n",
       "      <td>3.6</td>\n",
       "      <td>1.2</td>\n",
       "      <td>2.1</td>\n",
       "      <td>0.0</td>\n",
       "    </tr>\n",
       "  </tbody>\n",
       "</table>\n",
       "</div>"
      ],
      "text/plain": [
       "     TE   ML   AT   MO   JT   CA    CP    CN   BS   SC   PC   TM   AC\n",
       "TE  0.0  3.8  2.1  2.4  3.5  4.2  5.00  4.40  5.5  4.2  2.5  3.1  1.9\n",
       "ML  3.8  0.0  3.8  1.1  1.3  3.3  1.30  1.10  3.4  0.8  1.7  2.5  2.8\n",
       "AT  2.1  3.8  0.0  3.1  3.0  5.8  4.80  4.90  4.3  4.6  2.2  4.4  1.0\n",
       "MO  2.4  1.1  3.1  0.0  0.9  3.1  2.50  2.00  3.9  1.8  1.0  2.3  2.1\n",
       "JT  3.5  1.3  3.0  0.9  0.0  4.2  2.00  2.40  2.7  2.0  1.0  3.4  2.1\n",
       "CA  4.2  3.3  5.8  3.1  4.2  0.0  3.50  2.70  6.5  2.6  3.8  1.3  4.9\n",
       "CP  5.0  1.3  4.8  2.5  2.0  3.5  0.00  0.85  3.7  0.9  2.7  3.4  3.8\n",
       "CN  4.4  1.1  4.9  2.0  2.4  2.7  0.85  0.00  4.5  0.4  2.8  2.7  3.9\n",
       "BS  5.5  3.4  4.3  3.9  2.7  6.5  3.70  4.50  0.0  4.2  3.3  5.7  3.8\n",
       "SC  4.2  0.8  4.6  1.8  2.0  2.6  0.90  0.40  4.2  0.0  2.5  2.6  3.6\n",
       "PC  2.5  1.7  2.2  1.0  1.0  3.8  2.70  2.80  3.3  2.5  0.0  3.0  1.2\n",
       "TM  3.1  2.5  4.4  2.3  3.4  1.3  3.40  2.70  5.7  2.6  3.0  0.0  2.1\n",
       "AC  1.9  2.8  1.0  2.1  2.1  4.9  3.80  3.90  3.8  3.6  1.2  2.1  0.0"
      ]
     },
     "execution_count": 11,
     "metadata": {},
     "output_type": "execute_result"
    }
   ],
   "source": [
    "sites = [x.site_code for x in sites_info]\n",
    "\n",
    "distance_in_kms = npmat.asmatrix(data=[\n",
    "        [0, 3.8, 2.1, 2.4, 3.5, 4.2, 5.0,  4.4, 5.5, 4.2, 2.5, 3.1, 1.9],\n",
    "        [0,   0, 3.8, 1.1, 1.3, 3.3, 1.3,  1.1, 3.4, 0.8, 1.7, 2.5, 2.8],\n",
    "        [0,   0,   0, 3.1, 3.0, 5.8, 4.8,  4.9, 4.3, 4.6, 2.2, 4.4, 1.0],\n",
    "        [0,   0,   0,   0, 0.9, 3.1, 2.5,  2.0, 3.9, 1.8, 1.0, 2.3, 2.1],\n",
    "        [0,   0,   0,   0,   0, 4.2, 2.0,  2.4, 2.7, 2.0, 1.0, 3.4, 2.1],\n",
    "        [0,   0,   0,   0,   0,   0, 3.5,  2.7, 6.5, 2.6, 3.8, 1.3, 4.9],\n",
    "        [0,   0,   0,   0,   0,   0,   0, 0.85, 3.7, 0.9, 2.7, 3.4, 3.8],\n",
    "        [0,   0,   0,   0,   0,   0,   0,    0, 4.5, 0.4, 2.8, 2.7, 3.9],\n",
    "        [0,   0,   0,   0,   0,   0,   0,    0,   0, 4.2, 3.3, 5.7, 3.8],\n",
    "        [0,   0,   0,   0,   0,   0,   0,    0,   0,   0, 2.5, 2.6, 3.6],\n",
    "        [0,   0,   0,   0,   0,   0,   0,    0,   0,   0,   0, 3.0, 1.2],\n",
    "        [0,   0,   0,   0,   0,   0,   0,    0,   0,   0,   0,   0, 2.1],\n",
    "        [0,   0,   0,   0,   0,   0,   0,    0,   0,   0,   0,   0,   0]\n",
    "    ], dtype=float)\n",
    "    \n",
    "distance_df = pd.DataFrame(np.matrix(distance_in_kms.T + distance_in_kms), columns=sites, index=sites)\n",
    "distance_df"
   ]
  },
  {
   "cell_type": "markdown",
   "id": "93c4c3e0",
   "metadata": {},
   "source": [
    "##### 1. It is assumed that Mr. Doe gives equal importance to each tourist site, and he wants to visit the maximum number of sites. Which list(s) of places could you recommend to him ? This solution will be called `ListVisit 1`."
   ]
  },
  {
   "cell_type": "code",
   "execution_count": 12,
   "id": "33e1ccfd",
   "metadata": {},
   "outputs": [
    {
     "name": "stdout",
     "output_type": "stream",
     "text": [
      "[ log ]: Creating variable for site = 'TE'\n",
      "[ log ]: Creating variable for site = 'ML'\n",
      "[ log ]: Creating variable for site = 'AT'\n",
      "[ log ]: Creating variable for site = 'MO'\n",
      "[ log ]: Creating variable for site = 'JT'\n",
      "[ log ]: Creating variable for site = 'CA'\n",
      "[ log ]: Creating variable for site = 'CP'\n",
      "[ log ]: Creating variable for site = 'CN'\n",
      "[ log ]: Creating variable for site = 'BS'\n",
      "[ log ]: Creating variable for site = 'SC'\n",
      "[ log ]: Creating variable for site = 'PC'\n",
      "[ log ]: Creating variable for site = 'TM'\n",
      "[ log ]: Creating variable for site = 'AC'\n"
     ]
    },
    {
     "name": "stderr",
     "output_type": "stream",
     "text": [
      "/opt/homebrew/Caskroom/mambaforge/base/envs/decision_modelling/lib/python3.10/site-packages/pulp/pulp.py:1352: UserWarning: Spaces are not permitted in the name. Converted to '_'\n",
      "  warnings.warn(\"Spaces are not permitted in the name. Converted to '_'\")\n"
     ]
    },
    {
     "data": {
      "text/plain": [
       "[AC, AT, BS, CA, CN, CP, JT, ML, MO, PC, SC, TE, TM]"
      ]
     },
     "execution_count": 12,
     "metadata": {},
     "output_type": "execute_result"
    },
    {
     "data": {
      "text/plain": [
       "1"
      ]
     },
     "execution_count": 12,
     "metadata": {},
     "output_type": "execute_result"
    }
   ],
   "source": [
    "# Create the variable to contain the problem data\n",
    "problem = p.LpProblem(name=\"Paris Visit - Max. number of sites\", sense=p.const.LpMaximize)\n",
    "\n",
    "# Create the variables\n",
    "for site in sites:\n",
    "    site_info = next(x for x in sites_info if x.site_code == site)\n",
    "    print_log(f\"Creating variable for {site = }\")\n",
    "    globals()[f\"{site}\"] = p.LpVariable(name=f\"{site}\", lowBound=0, upBound=1, cat=p.LpInteger)\n",
    "\n",
    "# Create the objective function\n",
    "# problem += p.lpSum([globals()[f\"{site}\"] * sites_info[i].rating for i, site in enumerate(sites)])\n",
    "problem += p.lpSum([globals()[f\"{site}\"] * 1 for site in sites]), \"Max. number of sites\"\n",
    "\n",
    "# Create the constraints\n",
    "# 1. Max. duration\n",
    "problem += p.lpSum([globals()[f\"{site}\"] * sites_info[i].duration for i, site in enumerate(sites)]) <= 12, \"Max. duration\"\n",
    "# 2. Max. price\n",
    "problem += p.lpSum([globals()[f\"{site}\"] * sites_info[i].price for i, site in enumerate(sites)]) <= 65, \"Max. price\"\n",
    "\n",
    "# The problem data is written to an .lp file\n",
    "problem.writeLP(filename=join(data_dir, \"ListVisit_1.lp\"), writeSOS=1, mip=1, max_length=100)\n",
    "\n",
    "# The problem is solved using PuLP's choice of solver\n",
    "problem.solve(solver=LpSolverDefault(msg=show_solver_output))"
   ]
  },
  {
   "cell_type": "markdown",
   "id": "6594c837",
   "metadata": {},
   "source": [
    "#### Output"
   ]
  },
  {
   "cell_type": "code",
   "execution_count": 13,
   "id": "17aecd3c",
   "metadata": {},
   "outputs": [
    {
     "name": "stdout",
     "output_type": "stream",
     "text": [
      "[ log ]: p.LpStatus[problem.status] = 'Optimal'\n",
      "[ log ]: AC = 1.0\n",
      "[ log ]: AT = 1.0\n",
      "[ log ]: BS = 1.0\n",
      "[ log ]: CA = 1.0\n",
      "[ log ]: CN = 1.0\n",
      "[ log ]: CP = 0.0\n",
      "[ log ]: JT = 0.0\n",
      "[ log ]: ML = 0.0\n",
      "[ log ]: MO = 0.0\n",
      "[ log ]: PC = 1.0\n",
      "[ log ]: SC = 1.0\n",
      "[ log ]: TE = 0.0\n",
      "[ log ]: TM = 0.0\n",
      "[ log ]: p.value(problem.objective) = 7.0\n",
      "[ log ]: You should visit total '7.0' places. i.e:\n",
      "\n",
      "l’Avenue des Champs-Elysées --- l’Arc de triomphe --- la Basilique du Sacré-Coeur --- les Catacombes --- la Cathédrale Notre Dame de Paris --- La Place de la Concorde --- la Sainte Chapelle\n"
     ]
    }
   ],
   "source": [
    "print_log(f\"{p.LpStatus[problem.status] = }\")\n",
    "\n",
    "# _ = [print_log(f\"{v.name} = {v.varValue}\") for v in problem.variables()]\n",
    "to_visit = []\n",
    "for v in problem.variables():\n",
    "    print_log(f\"{v.name} = {v.varValue}\")\n",
    "    if v.varValue == 1:\n",
    "        site = next(x for x in sites_info if x.site_code == v.name)\n",
    "        to_visit.append(site.name)\n",
    "\n",
    "print_log(f\"{p.value(problem.objective) = }\")\n",
    "print_log(f\"You should visit total '{p.value(problem.objective)}' places. i.e:\\n\\n{' --- '.join(to_visit)}\")\n",
    "\n",
    "listvisit_1 = to_visit.copy() # save the result for later use"
   ]
  },
  {
   "cell_type": "markdown",
   "id": "edc08c6a",
   "metadata": {},
   "source": [
    "##### 2. Actually, Mr. Doe has some preferences among these tourist sites and he expresses them as follows:"
   ]
  },
  {
   "cell_type": "markdown",
   "id": "07717f41",
   "metadata": {},
   "source": [
    "- Preference 1 : If two sites are geographically very close (within a radius of 1 km of walking), he will prefer to visit these two sites instead of visiting only one."
   ]
  },
  {
   "cell_type": "code",
   "execution_count": 14,
   "id": "f53b541f",
   "metadata": {},
   "outputs": [
    {
     "name": "stdout",
     "output_type": "stream",
     "text": [
      "[ log ]: Creating variable for site = 'TE'\n",
      "[ log ]: Creating variable for site = 'ML'\n",
      "[ log ]: Creating variable for site = 'AT'\n",
      "[ log ]: Creating variable for site = 'MO'\n",
      "[ log ]: Creating variable for site = 'JT'\n",
      "[ log ]: Creating variable for site = 'CA'\n",
      "[ log ]: Creating variable for site = 'CP'\n",
      "[ log ]: Creating variable for site = 'CN'\n",
      "[ log ]: Creating variable for site = 'BS'\n",
      "[ log ]: Creating variable for site = 'SC'\n",
      "[ log ]: Creating variable for site = 'PC'\n",
      "[ log ]: Creating variable for site = 'TM'\n",
      "[ log ]: Creating variable for site = 'AC'\n"
     ]
    },
    {
     "data": {
      "text/plain": [
       "[AC, AT, BS, CA, CN, CP, JT, ML, MO, PC, SC, TE, TM]"
      ]
     },
     "execution_count": 14,
     "metadata": {},
     "output_type": "execute_result"
    },
    {
     "data": {
      "text/plain": [
       "1"
      ]
     },
     "execution_count": 14,
     "metadata": {},
     "output_type": "execute_result"
    }
   ],
   "source": [
    "# Create the variable to contain the problem data\n",
    "problem = p.LpProblem(name=\"Paris Visit - Max. number of sites (within 1 km radius)\", sense=p.const.LpMaximize)\n",
    "\n",
    "# Create the variables\n",
    "for site in sites:\n",
    "    site_info = next(x for x in sites_info if x.site_code == site)\n",
    "    print_log(f\"Creating variable for {site = }\")\n",
    "    globals()[f\"{site}\"] = p.LpVariable(name=f\"{site}\", lowBound=0, upBound=1, cat=p.LpInteger)\n",
    "\n",
    "# Create the objective function\n",
    "problem += p.lpSum([globals()[f\"{site}\"] * sites_info[i].rating for i, site in enumerate(sites)]), \"Max. number of sites\"\n",
    "\n",
    "# Create the constraints\n",
    "# 1. Max. duration\n",
    "problem += p.lpSum([globals()[f\"{site}\"] * sites_info[i].duration for i, site in enumerate(sites)]) <= 12, \"Max. duration\"\n",
    "# 2. Max. price\n",
    "problem += p.lpSum([globals()[f\"{site}\"] * sites_info[i].price for i, site in enumerate(sites)]) <= 65, \"Max. price\"\n",
    "\n",
    "# 3. Distance between sites\n",
    "for i, site1 in enumerate(sites):\n",
    "    for j, site2 in enumerate(sites):\n",
    "        if distance_df.loc[site1, site2] <= 1 and site1 != site2: # if distance is between 0 and 1 km\n",
    "            # print_log(f\"{site1 = } {site2 = } -> {distance_df.loc[site1, site2]}\")\n",
    "            problem += globals()[f\"{site1}\"] - globals()[f\"{site2}\"] == 0, f\"Distance between {site1} and {site2}\"\n",
    "            # problem += locals()[f\"{site1}\"] + locals()[f\"{site2}\"] <= 1 + distance_df.loc[site1, site2] / 10, f\"Distance between {site1} and {site2}\"\n",
    "\n",
    "# The problem data is written to an .lp file\n",
    "problem.writeLP(filename=join(data_dir, \"ListVisit_2_a.lp\"), writeSOS=1, mip=1, max_length=100)\n",
    "\n",
    "# The problem is solved using PuLP's choice of solver\n",
    "problem.solve(solver=LpSolverDefault(msg=show_solver_output))"
   ]
  },
  {
   "cell_type": "markdown",
   "id": "3883bfb1",
   "metadata": {},
   "source": [
    "#### Output"
   ]
  },
  {
   "cell_type": "code",
   "execution_count": 15,
   "id": "06f8527c",
   "metadata": {},
   "outputs": [
    {
     "name": "stdout",
     "output_type": "stream",
     "text": [
      "[ log ]: p.LpStatus[problem.status] = 'Optimal'\n",
      "[ log ]: AC = 1.0\n",
      "[ log ]: AT = 1.0\n",
      "[ log ]: BS = 1.0\n",
      "[ log ]: CA = 1.0\n",
      "[ log ]: CN = 0.0\n",
      "[ log ]: CP = 0.0\n",
      "[ log ]: JT = 1.0\n",
      "[ log ]: ML = 0.0\n",
      "[ log ]: MO = 1.0\n",
      "[ log ]: PC = 1.0\n",
      "[ log ]: SC = 0.0\n",
      "[ log ]: TE = 0.0\n",
      "[ log ]: TM = 0.0\n",
      "[ log ]: p.value(problem.objective) = 24.0\n",
      "[ log ]: You should visit total '7' places. i.e:\n",
      "\n",
      "l’Avenue des Champs-Elysées --- l’Arc de triomphe --- la Basilique du Sacré-Coeur --- les Catacombes --- le Jardin des tuileries --- le Musée d’Orsay --- La Place de la Concorde\n"
     ]
    }
   ],
   "source": [
    "print_log(f\"{p.LpStatus[problem.status] = }\")\n",
    "\n",
    "# _ = [print_log(f\"{v.name} = {v.varValue}\") for v in problem.variables()]\n",
    "to_visit = []\n",
    "for v in problem.variables():\n",
    "    print_log(f\"{v.name} = {v.varValue}\")\n",
    "    if v.varValue == 1:\n",
    "        site = next(x for x in sites_info if x.site_code == v.name)\n",
    "        to_visit.append(site.name)\n",
    "\n",
    "print_log(f\"{p.value(problem.objective) = }\")\n",
    "print_log(f\"You should visit total '{len(to_visit)}' places. i.e:\\n\\n{' --- '.join(to_visit)}\")\n",
    "\n",
    "listvisit_2a = to_visit.copy() # save the result for later use"
   ]
  },
  {
   "cell_type": "markdown",
   "id": "5a696fbc",
   "metadata": {},
   "source": [
    "- Preference 2 : He absolutely wants to visit the `Eiffel Tower` (TE) and `Catacombes` (CA).\n",
    "\n",
    "Two solutions:\n",
    "\n",
    "1. Set lower bounds for `TE` and `CA` to 1 (minimum value will be 1 i.e: must visit them)\n",
    "2. Add constraints explicitly for `TE` and `CA` (for e.g: `TE` == 1)"
   ]
  },
  {
   "cell_type": "code",
   "execution_count": 16,
   "id": "f6c9faac",
   "metadata": {},
   "outputs": [
    {
     "name": "stdout",
     "output_type": "stream",
     "text": [
      "[ log ]: Creating variable for site = 'TE'\n",
      "[ log ]: Creating variable for site = 'ML'\n",
      "[ log ]: Creating variable for site = 'AT'\n",
      "[ log ]: Creating variable for site = 'MO'\n",
      "[ log ]: Creating variable for site = 'JT'\n",
      "[ log ]: Creating variable for site = 'CA'\n",
      "[ log ]: Creating variable for site = 'CP'\n",
      "[ log ]: Creating variable for site = 'CN'\n",
      "[ log ]: Creating variable for site = 'BS'\n",
      "[ log ]: Creating variable for site = 'SC'\n",
      "[ log ]: Creating variable for site = 'PC'\n",
      "[ log ]: Creating variable for site = 'TM'\n",
      "[ log ]: Creating variable for site = 'AC'\n"
     ]
    },
    {
     "data": {
      "text/plain": [
       "[AC, AT, BS, CA, CN, CP, JT, ML, MO, PC, SC, TE, TM]"
      ]
     },
     "execution_count": 16,
     "metadata": {},
     "output_type": "execute_result"
    },
    {
     "data": {
      "text/plain": [
       "1"
      ]
     },
     "execution_count": 16,
     "metadata": {},
     "output_type": "execute_result"
    }
   ],
   "source": [
    "# Create the variable to contain the problem data\n",
    "problem = p.LpProblem(name=\"Paris Visit - Max. number of sites (must visit effiel tower and catacombs)\", sense=p.const.LpMaximize)\n",
    "\n",
    "# Create the variables\n",
    "for site in sites:\n",
    "    site_info = next(x for x in sites_info if x.site_code == site)\n",
    "    print_log(f\"Creating variable for {site = }\")\n",
    "    globals()[f\"{site}\"] = p.LpVariable(name=f\"{site}\", lowBound=0, upBound=1, cat=p.LpInteger)\n",
    "\n",
    "# Create the objective function\n",
    "problem += p.lpSum([globals()[f\"{site}\"] * sites_info[i].rating for i, site in enumerate(sites)]), \"Max. number of sites\"\n",
    "\n",
    "# Create the constraints\n",
    "# 1. Max. duration\n",
    "problem += p.lpSum([globals()[f\"{site}\"] * sites_info[i].duration for i, site in enumerate(sites)]) <= 12, \"Max. duration\"\n",
    "\n",
    "# 2. Max. price\n",
    "problem += p.lpSum([globals()[f\"{site}\"] * sites_info[i].price for i, site in enumerate(sites)]) <= 65, \"Max. price\"\n",
    "\n",
    "# 3. Must visit Effiel Tower (TE) and Catacombs (CA)\n",
    "must_visit = [\"TE\", \"CA\"]\n",
    "for site in must_visit:\n",
    "    problem += globals()[f\"{site}\"] == 1, f\"Must visit {site}\"\n",
    "\n",
    "# The problem data is written to an .lp file\n",
    "problem.writeLP(filename=join(data_dir, \"ListVisit_2_b.lp\"), writeSOS=1, mip=1, max_length=100)\n",
    "\n",
    "# The problem is solved using PuLP's choice of solver\n",
    "problem.solve(solver=LpSolverDefault(msg=show_solver_output))"
   ]
  },
  {
   "cell_type": "markdown",
   "id": "f104059c",
   "metadata": {},
   "source": [
    "#### Output"
   ]
  },
  {
   "cell_type": "code",
   "execution_count": 17,
   "id": "57985a9a",
   "metadata": {},
   "outputs": [
    {
     "name": "stdout",
     "output_type": "stream",
     "text": [
      "[ log ]: p.LpStatus[problem.status] = 'Optimal'\n",
      "[ log ]: AC = 1.0\n",
      "[ log ]: AT = 1.0\n",
      "[ log ]: BS = 0.0\n",
      "[ log ]: CA = 1.0\n",
      "[ log ]: CN = 1.0\n",
      "[ log ]: CP = 0.0\n",
      "[ log ]: JT = 0.0\n",
      "[ log ]: ML = 0.0\n",
      "[ log ]: MO = 0.0\n",
      "[ log ]: PC = 1.0\n",
      "[ log ]: SC = 0.0\n",
      "[ log ]: TE = 1.0\n",
      "[ log ]: TM = 0.0\n",
      "[ log ]: p.value(problem.objective) = 25.0\n",
      "[ log ]: You should visit total '6' places. i.e:\n",
      "\n",
      "l’Avenue des Champs-Elysées --- l’Arc de triomphe --- les Catacombes --- la Cathédrale Notre Dame de Paris --- La Place de la Concorde --- La Tour Eiffel\n"
     ]
    }
   ],
   "source": [
    "print_log(f\"{p.LpStatus[problem.status] = }\")\n",
    "\n",
    "# _ = [print_log(f\"{v.name} = {v.varValue}\") for v in problem.variables()]\n",
    "to_visit = []\n",
    "for v in problem.variables():\n",
    "    print_log(f\"{v.name} = {v.varValue}\")\n",
    "    if v.varValue == 1:\n",
    "        site = next(x for x in sites_info if x.site_code == v.name)\n",
    "        to_visit.append(site.name)\n",
    "\n",
    "print_log(f\"{p.value(problem.objective) = }\")\n",
    "print_log(f\"You should visit total '{len(to_visit)}' places. i.e:\\n\\n{' --- '.join(to_visit)}\")\n",
    "\n",
    "listvisit_2b = to_visit.copy() # save the result for later use"
   ]
  },
  {
   "cell_type": "markdown",
   "id": "f9421f9b",
   "metadata": {},
   "source": [
    "- Preference 3 : If he visits `Notre Dame Cathedral` (CN) then he will not visit the `Sainte Chapelle` (SC)."
   ]
  },
  {
   "cell_type": "code",
   "execution_count": 18,
   "id": "50209826",
   "metadata": {},
   "outputs": [
    {
     "name": "stdout",
     "output_type": "stream",
     "text": [
      "[ log ]: Creating variable for site = 'TE'\n",
      "[ log ]: Creating variable for site = 'ML'\n",
      "[ log ]: Creating variable for site = 'AT'\n",
      "[ log ]: Creating variable for site = 'MO'\n",
      "[ log ]: Creating variable for site = 'JT'\n",
      "[ log ]: Creating variable for site = 'CA'\n",
      "[ log ]: Creating variable for site = 'CP'\n",
      "[ log ]: Creating variable for site = 'CN'\n",
      "[ log ]: Creating variable for site = 'BS'\n",
      "[ log ]: Creating variable for site = 'SC'\n",
      "[ log ]: Creating variable for site = 'PC'\n",
      "[ log ]: Creating variable for site = 'TM'\n",
      "[ log ]: Creating variable for site = 'AC'\n"
     ]
    },
    {
     "data": {
      "text/plain": [
       "[AC, AT, BS, CA, CN, CP, JT, ML, MO, PC, SC, TE, TM]"
      ]
     },
     "execution_count": 18,
     "metadata": {},
     "output_type": "execute_result"
    },
    {
     "data": {
      "text/plain": [
       "1"
      ]
     },
     "execution_count": 18,
     "metadata": {},
     "output_type": "execute_result"
    }
   ],
   "source": [
    "# Create the variable to contain the problem data\n",
    "problem = p.LpProblem(name=\"Paris Visit - Max. number of sites (either visit Notre Dame Cathedral or Sainte Chapelle)\", sense=p.const.LpMaximize)\n",
    "\n",
    "# Create the variables\n",
    "for site in sites:\n",
    "    site_info = next(x for x in sites_info if x.site_code == site)\n",
    "    print_log(f\"Creating variable for {site = }\")\n",
    "    globals()[f\"{site}\"] = p.LpVariable(name=f\"{site}\", lowBound=0, upBound=1, cat=p.LpInteger)\n",
    "\n",
    "# Create the objective function\n",
    "problem += p.lpSum([globals()[f\"{site}\"] * sites_info[i].rating for i, site in enumerate(sites)]), \"Max. number of sites\"\n",
    "\n",
    "# Create the constraints\n",
    "# 1. Max. duration\n",
    "problem += p.lpSum([globals()[f\"{site}\"] * sites_info[i].duration for i, site in enumerate(sites)]) <= 12, \"Max. duration\"\n",
    "\n",
    "# 2. Max. price\n",
    "problem += p.lpSum([globals()[f\"{site}\"] * sites_info[i].price for i, site in enumerate(sites)]) <= 65, \"Max. price\"\n",
    "\n",
    "# 3. Either visit Notre Dame Cathedral or Sainte Chapelle\n",
    "either_visit = [\"TE\", \"CA\"]\n",
    "for _site in combinations(either_visit, 2):\n",
    "    site1, site2 = _site\n",
    "    problem += globals()[f\"{site1}\"] + globals()[f\"{site2}\"] == 1, f\"Either visit {site1} or {site2}\"\n",
    "\n",
    "# The problem data is written to an .lp file\n",
    "problem.writeLP(filename=join(data_dir, \"ListVisit_2_c.lp\"), writeSOS=1, mip=1, max_length=100)\n",
    "\n",
    "# The problem is solved using PuLP's choice of solver\n",
    "problem.solve(solver=LpSolverDefault(msg=show_solver_output))"
   ]
  },
  {
   "cell_type": "markdown",
   "id": "dd6f3294",
   "metadata": {},
   "source": [
    "#### Output"
   ]
  },
  {
   "cell_type": "code",
   "execution_count": 19,
   "id": "50dce34b",
   "metadata": {},
   "outputs": [
    {
     "name": "stdout",
     "output_type": "stream",
     "text": [
      "[ log ]: p.LpStatus[problem.status] = 'Optimal'\n",
      "[ log ]: AC = 1.0\n",
      "[ log ]: AT = 1.0\n",
      "[ log ]: BS = 1.0\n",
      "[ log ]: CA = 1.0\n",
      "[ log ]: CN = 1.0\n",
      "[ log ]: CP = 0.0\n",
      "[ log ]: JT = 1.0\n",
      "[ log ]: ML = 0.0\n",
      "[ log ]: MO = 0.0\n",
      "[ log ]: PC = 1.0\n",
      "[ log ]: SC = 0.0\n",
      "[ log ]: TE = 0.0\n",
      "[ log ]: TM = 0.0\n",
      "[ log ]: p.value(problem.objective) = 27.0\n",
      "[ log ]: You should visit total '7' places. i.e:\n",
      "\n",
      "l’Avenue des Champs-Elysées --- l’Arc de triomphe --- la Basilique du Sacré-Coeur --- les Catacombes --- la Cathédrale Notre Dame de Paris --- le Jardin des tuileries --- La Place de la Concorde\n"
     ]
    }
   ],
   "source": [
    "print_log(f\"{p.LpStatus[problem.status] = }\")\n",
    "\n",
    "# _ = [print_log(f\"{v.name} = {v.varValue}\") for v in problem.variables()]\n",
    "to_visit = []\n",
    "for v in problem.variables():\n",
    "    print_log(f\"{v.name} = {v.varValue}\")\n",
    "    if v.varValue == 1:\n",
    "        site = next(x for x in sites_info if x.site_code == v.name)\n",
    "        to_visit.append(site.name)\n",
    "\n",
    "print_log(f\"{p.value(problem.objective) = }\")\n",
    "print_log(f\"You should visit total '{len(to_visit)}' places. i.e:\\n\\n{' --- '.join(to_visit)}\")\n",
    "\n",
    "listvisit_2c = to_visit.copy() # save the result for later use"
   ]
  },
  {
   "cell_type": "markdown",
   "id": "9a1f692f",
   "metadata": {},
   "source": [
    "- Preference 4 : He absolutely wants to visit `Tour Montparnasse` (TM)."
   ]
  },
  {
   "cell_type": "code",
   "execution_count": 20,
   "id": "6ae5f272",
   "metadata": {},
   "outputs": [
    {
     "name": "stdout",
     "output_type": "stream",
     "text": [
      "[ log ]: Creating variable for site = 'TE'\n",
      "[ log ]: Creating variable for site = 'ML'\n",
      "[ log ]: Creating variable for site = 'AT'\n",
      "[ log ]: Creating variable for site = 'MO'\n",
      "[ log ]: Creating variable for site = 'JT'\n",
      "[ log ]: Creating variable for site = 'CA'\n",
      "[ log ]: Creating variable for site = 'CP'\n",
      "[ log ]: Creating variable for site = 'CN'\n",
      "[ log ]: Creating variable for site = 'BS'\n",
      "[ log ]: Creating variable for site = 'SC'\n",
      "[ log ]: Creating variable for site = 'PC'\n",
      "[ log ]: Creating variable for site = 'TM'\n",
      "[ log ]: Creating variable for site = 'AC'\n"
     ]
    },
    {
     "data": {
      "text/plain": [
       "[AC, AT, BS, CA, CN, CP, JT, ML, MO, PC, SC, TE, TM]"
      ]
     },
     "execution_count": 20,
     "metadata": {},
     "output_type": "execute_result"
    },
    {
     "data": {
      "text/plain": [
       "1"
      ]
     },
     "execution_count": 20,
     "metadata": {},
     "output_type": "execute_result"
    }
   ],
   "source": [
    "# Create the variable to contain the problem data\n",
    "problem = p.LpProblem(name=\"Paris Visit - Max. number of sites (must visit tour montparnasse)\", sense=p.const.LpMaximize)\n",
    "\n",
    "# Create the variables\n",
    "for site in sites:\n",
    "    site_info = next(x for x in sites_info if x.site_code == site)\n",
    "    print_log(f\"Creating variable for {site = }\")\n",
    "    globals()[f\"{site}\"] = p.LpVariable(name=f\"{site}\", lowBound=0, upBound=1, cat=p.LpInteger)\n",
    "\n",
    "# Create the objective function\n",
    "problem += p.lpSum([globals()[f\"{site}\"] * sites_info[i].rating for i, site in enumerate(sites)]), \"Max. number of sites\"\n",
    "\n",
    "# Create the constraints\n",
    "# 1. Max. duration\n",
    "problem += p.lpSum([globals()[f\"{site}\"] * sites_info[i].duration for i, site in enumerate(sites)]) <= 12, \"Max. duration\"\n",
    "\n",
    "# 2. Max. price\n",
    "problem += p.lpSum([globals()[f\"{site}\"] * sites_info[i].price for i, site in enumerate(sites)]) <= 65, \"Max. price\"\n",
    "\n",
    "# 3. Must visit Tour Montparnasse (TM)\n",
    "must_visit = [\"TM\"]\n",
    "for site in must_visit:\n",
    "    problem += globals()[f\"{site}\"] == 1, f\"Must visit {site}\"\n",
    "\n",
    "# The problem data is written to an .lp file\n",
    "problem.writeLP(filename=join(data_dir, \"ListVisit_2_d.lp\"), writeSOS=1, mip=1, max_length=100)\n",
    "\n",
    "# The problem is solved using PuLP's choice of solver\n",
    "problem.solve(solver=LpSolverDefault(msg=show_solver_output))"
   ]
  },
  {
   "cell_type": "markdown",
   "id": "8e4c6853",
   "metadata": {},
   "source": [
    "#### Output"
   ]
  },
  {
   "cell_type": "code",
   "execution_count": 21,
   "id": "c863434c",
   "metadata": {},
   "outputs": [
    {
     "name": "stdout",
     "output_type": "stream",
     "text": [
      "[ log ]: p.LpStatus[problem.status] = 'Optimal'\n",
      "[ log ]: AC = 1.0\n",
      "[ log ]: AT = 1.0\n",
      "[ log ]: BS = 1.0\n",
      "[ log ]: CA = 1.0\n",
      "[ log ]: CN = 1.0\n",
      "[ log ]: CP = 0.0\n",
      "[ log ]: JT = 0.0\n",
      "[ log ]: ML = 0.0\n",
      "[ log ]: MO = 0.0\n",
      "[ log ]: PC = 1.0\n",
      "[ log ]: SC = 0.0\n",
      "[ log ]: TE = 0.0\n",
      "[ log ]: TM = 1.0\n",
      "[ log ]: p.value(problem.objective) = 26.0\n",
      "[ log ]: You should visit total '7' places. i.e:\n",
      "\n",
      "l’Avenue des Champs-Elysées --- l’Arc de triomphe --- la Basilique du Sacré-Coeur --- les Catacombes --- la Cathédrale Notre Dame de Paris --- La Place de la Concorde --- la Tour Montparnasse\n"
     ]
    }
   ],
   "source": [
    "print_log(f\"{p.LpStatus[problem.status] = }\")\n",
    "\n",
    "# _ = [print_log(f\"{v.name} = {v.varValue}\") for v in problem.variables()]\n",
    "to_visit = []\n",
    "for v in problem.variables():\n",
    "    print_log(f\"{v.name} = {v.varValue}\")\n",
    "    if v.varValue == 1:\n",
    "        site = next(x for x in sites_info if x.site_code == v.name)\n",
    "        to_visit.append(site.name)\n",
    "\n",
    "print_log(f\"{p.value(problem.objective) = }\")\n",
    "print_log(f\"You should visit total '{len(to_visit)}' places. i.e:\\n\\n{' --- '.join(to_visit)}\")\n",
    "\n",
    "listvisit_2d = to_visit.copy() # save the result for later use"
   ]
  },
  {
   "cell_type": "markdown",
   "id": "bbc06af0",
   "metadata": {},
   "source": [
    "- Preference 5 : If he visits the `Louvre` (ML) Museum then he must visit the `Pompidou Center` (CP)."
   ]
  },
  {
   "cell_type": "code",
   "execution_count": 22,
   "id": "f1de41bd",
   "metadata": {},
   "outputs": [
    {
     "name": "stdout",
     "output_type": "stream",
     "text": [
      "[ log ]: Creating variable for site = 'TE'\n",
      "[ log ]: Creating variable for site = 'ML'\n",
      "[ log ]: Creating variable for site = 'AT'\n",
      "[ log ]: Creating variable for site = 'MO'\n",
      "[ log ]: Creating variable for site = 'JT'\n",
      "[ log ]: Creating variable for site = 'CA'\n",
      "[ log ]: Creating variable for site = 'CP'\n",
      "[ log ]: Creating variable for site = 'CN'\n",
      "[ log ]: Creating variable for site = 'BS'\n",
      "[ log ]: Creating variable for site = 'SC'\n",
      "[ log ]: Creating variable for site = 'PC'\n",
      "[ log ]: Creating variable for site = 'TM'\n",
      "[ log ]: Creating variable for site = 'AC'\n"
     ]
    },
    {
     "data": {
      "text/plain": [
       "[AC, AT, BS, CA, CN, CP, JT, ML, MO, PC, SC, TE, TM]"
      ]
     },
     "execution_count": 22,
     "metadata": {},
     "output_type": "execute_result"
    },
    {
     "data": {
      "text/plain": [
       "1"
      ]
     },
     "execution_count": 22,
     "metadata": {},
     "output_type": "execute_result"
    }
   ],
   "source": [
    "# Create the variable to contain the problem data\n",
    "problem = p.LpProblem(name=\"Paris Visit - Max. number of sites (must visit the Pompidou Center if he visits Louvre)\", sense=p.const.LpMaximize)\n",
    "\n",
    "# Create the variables\n",
    "for site in sites:\n",
    "    site_info = next(x for x in sites_info if x.site_code == site)\n",
    "    print_log(f\"Creating variable for {site = }\")\n",
    "    globals()[f\"{site}\"] = p.LpVariable(name=f\"{site}\", lowBound=0, upBound=1, cat=p.LpInteger)\n",
    "\n",
    "# Create the objective function\n",
    "problem += p.lpSum([globals()[f\"{site}\"] * sites_info[i].rating for i, site in enumerate(sites)]), \"Max. number of sites\"\n",
    "\n",
    "# Create the constraints\n",
    "# 1. Max. duration\n",
    "problem += p.lpSum([globals()[f\"{site}\"] * sites_info[i].duration for i, site in enumerate(sites)]) <= 12, \"Max. duration\"\n",
    "\n",
    "# 2. Max. price\n",
    "problem += p.lpSum([globals()[f\"{site}\"] * sites_info[i].price for i, site in enumerate(sites)]) <= 65, \"Max. price\"\n",
    "\n",
    "# 3. Must visit the Pompidou Center (CP) if he visits Louvre (ML)\n",
    "problem += globals()[f\"{ML}\"] - globals()[f\"{CP}\"] <= 0, f\"Must visit CP if he visits ML\"\n",
    "\n",
    "# The problem data is written to an .lp file\n",
    "problem.writeLP(filename=join(data_dir, \"ListVisit_2_e.lp\"), writeSOS=1, mip=1, max_length=100)\n",
    "\n",
    "# The problem is solved using PuLP's choice of solver\n",
    "problem.solve(solver=LpSolverDefault(msg=show_solver_output))"
   ]
  },
  {
   "cell_type": "markdown",
   "id": "27f4730f",
   "metadata": {},
   "source": [
    "#### Output"
   ]
  },
  {
   "cell_type": "code",
   "execution_count": 23,
   "id": "c8951818",
   "metadata": {},
   "outputs": [
    {
     "name": "stdout",
     "output_type": "stream",
     "text": [
      "[ log ]: p.LpStatus[problem.status] = 'Optimal'\n",
      "[ log ]: AC = 1.0\n",
      "[ log ]: AT = 1.0\n",
      "[ log ]: BS = 1.0\n",
      "[ log ]: CA = 1.0\n",
      "[ log ]: CN = 1.0\n",
      "[ log ]: CP = 0.0\n",
      "[ log ]: JT = 1.0\n",
      "[ log ]: ML = 0.0\n",
      "[ log ]: MO = 0.0\n",
      "[ log ]: PC = 1.0\n",
      "[ log ]: SC = 0.0\n",
      "[ log ]: TE = 0.0\n",
      "[ log ]: TM = 0.0\n",
      "[ log ]: p.value(problem.objective) = 27.0\n",
      "[ log ]: You should visit total '7' places. i.e:\n",
      "\n",
      "l’Avenue des Champs-Elysées --- l’Arc de triomphe --- la Basilique du Sacré-Coeur --- les Catacombes --- la Cathédrale Notre Dame de Paris --- le Jardin des tuileries --- La Place de la Concorde\n"
     ]
    }
   ],
   "source": [
    "print_log(f\"{p.LpStatus[problem.status] = }\")\n",
    "\n",
    "# _ = [print_log(f\"{v.name} = {v.varValue}\") for v in problem.variables()]\n",
    "to_visit = []\n",
    "for v in problem.variables():\n",
    "    print_log(f\"{v.name} = {v.varValue}\")\n",
    "    if v.varValue == 1:\n",
    "        site = next(x for x in sites_info if x.site_code == v.name)\n",
    "        to_visit.append(site.name)\n",
    "\n",
    "print_log(f\"{p.value(problem.objective) = }\")\n",
    "print_log(f\"You should visit total '{len(to_visit)}' places. i.e:\\n\\n{' --- '.join(to_visit)}\")\n",
    "\n",
    "listvisit_2e = to_visit.copy() # save the result for later use"
   ]
  },
  {
   "cell_type": "markdown",
   "id": "32ca9589",
   "metadata": {},
   "source": [
    "#### 2.a - For each of the five preferences above, suggest to Mr. Doe, one or more lists of tourist sites to visit. Are the obtained lists different from the solution `ListVisit 1` ? To answer this last question, you can implement a python function returning `True` (respectively `False`) if two lists are identical (respectively different)."
   ]
  },
  {
   "cell_type": "code",
   "execution_count": 24,
   "id": "00bad801",
   "metadata": {},
   "outputs": [
    {
     "name": "stdout",
     "output_type": "stream",
     "text": [
      "[ log ]: Are 'ListVisit 1' and output of 'Preference 1' same ? False\n",
      "[ log ]: Are 'ListVisit 1' and output of 'Preference 2' same ? False\n",
      "[ log ]: Are 'ListVisit 1' and output of 'Preference 3' same ? False\n",
      "[ log ]: Are 'ListVisit 1' and output of 'Preference 4' same ? False\n",
      "[ log ]: Are 'ListVisit 1' and output of 'Preference 5' same ? False\n"
     ]
    }
   ],
   "source": [
    "for i, x in enumerate(list('abcde')):\n",
    "    print_log(f\"Are 'ListVisit 1' and output of 'Preference {i + 1}' same ? {is_identical(listvisit_1, globals()[f'listvisit_2{x}'])}\")"
   ]
  },
  {
   "cell_type": "code",
   "execution_count": 25,
   "id": "a0cccf76",
   "metadata": {},
   "outputs": [],
   "source": [
    "#--------------------------------------------\n",
    "# Helper functions for adding constraints\n",
    "#--------------------------------------------\n",
    "def create_variables(problem: p.LpProblem, sites: List, sites_info: List[SiteInfo]) -> p.LpProblem:\n",
    "    for site in sites:\n",
    "        site_info = next(x for x in sites_info if x.site_code == site)\n",
    "        print_log(f\"Creating variable for {site = }\")\n",
    "        globals()[f\"{site}\"] = p.LpVariable(name=f\"{site}\", lowBound=0, upBound=1, cat=p.LpInteger)\n",
    "    return problem\n",
    "\n",
    "def create_objective_function(problem: p.LpProblem, sites: List, sites_info: List[SiteInfo]) -> p.LpProblem:\n",
    "    problem += p.lpSum([globals()[f\"{site}\"] * sites_info[i].rating for i, site in enumerate(sites)]), \"Max. number of sites\"\n",
    "    return problem\n",
    "\n",
    "def add_generic_constraints(problem: p.LpProblem, sites: List, sites_info: List[SiteInfo]) -> p.LpProblem:\n",
    "    # 1. Max. duration\n",
    "    problem += p.lpSum([globals()[f\"{site}\"] * sites_info[i].duration for i, site in enumerate(sites)]) <= 12, \"Max. duration\"\n",
    "    # 2. Max. price\n",
    "    problem += p.lpSum([globals()[f\"{site}\"] * sites_info[i].price for i, site in enumerate(sites)]) <= 65, \"Max. price\"\n",
    "    return problem\n",
    "\n",
    "class PREFERENCE(str, Enum):\n",
    "    ONE = \"ONE\"\n",
    "    TWO = \"TWO\"\n",
    "    THREE = \"THREE\"\n",
    "    FOUR = \"FOUR\"\n",
    "    FIVE = \"FIVE\"\n",
    "    def __str__(self) -> str:\n",
    "        return self.value\n",
    "\n",
    "def add_specific_constraints(problem: p.LpProblem, preference: PREFERENCE, distance_df: pd.DataFrame, sites: List, sites_info: List[SiteInfo], verbose: bool = False) -> p.LpProblem:\n",
    "    if verbose: print_log(f\"Adding constraints for {preference = }\")\n",
    "    if preference == str(PREFERENCE.ONE):\n",
    "        # 3. Distance between sites (within 1 km radius)\n",
    "        for i, site1 in enumerate(sites):\n",
    "            for j, site2 in enumerate(sites):\n",
    "                if distance_df.loc[site1, site2] <= 1 and site1 != site2: # if distance is between 0 and 1 km\n",
    "                    if verbose: print_log(f\"{site1 = } {site2 = } -> {distance_df.loc[site1, site2]}\")\n",
    "                    problem += globals()[f\"{site1}\"] - globals()[f\"{site2}\"] == 0, f\"Distance between {site1} and {site2}\"\n",
    "    elif preference == str(PREFERENCE.TWO):\n",
    "        # 3. Must visit Effiel Tower (TE) and Catacombs (CA)\n",
    "        must_visit = [\"TE\", \"CA\"]\n",
    "        for site in must_visit:\n",
    "            problem += globals()[f\"{site}\"] == 1, f\"Must visit {site}\"\n",
    "    elif preference == str(PREFERENCE.THREE):\n",
    "        # 3. Either visit Notre Dame Cathedral or Sainte Chapelle\n",
    "        either_visit = [\"TE\", \"CA\"]\n",
    "        for _site in combinations(either_visit, 2):\n",
    "            site1, site2 = _site\n",
    "            problem += globals()[f\"{site1}\"] + globals()[f\"{site2}\"] == 1, f\"Either visit {site1} or {site2}\"\n",
    "    elif preference == str(PREFERENCE.FOUR):\n",
    "        # 3. Must visit Tour Montparnasse (TM)\n",
    "        must_visit = [\"TM\"]\n",
    "        for site in must_visit:\n",
    "            problem += globals()[f\"{site}\"] == 1, f\"Must visit {site}\"\n",
    "    elif preference == str(PREFERENCE.FIVE):\n",
    "        # 3. Must visit the Pompidou Center (CP) if he visits Louvre (ML)\n",
    "        problem += globals()[f\"{ML}\"] - globals()[f\"{CP}\"] <= 0, f\"Must visit CP if he visits ML\"\n",
    "    return problem\n",
    "\n",
    "def display_solver_output(problem: p.LpProblem, sites_info: List[SiteInfo]) -> List[str]:\n",
    "    print_log(f\"{p.LpStatus[problem.status] = }\")\n",
    "    \n",
    "    to_visit = []\n",
    "    for v in problem.variables():\n",
    "        print_log(f\"{v.name} = {v.varValue}\")\n",
    "        if v.varValue == 1:\n",
    "            site = next(x for x in sites_info if x.site_code == v.name)\n",
    "            to_visit.append(site.name)\n",
    "\n",
    "    print_log(f\"{p.value(problem.objective) = }\")\n",
    "    print_log(f\"You should visit total '{len(to_visit)}' places. i.e:\\n\\n{' --- '.join(to_visit)}\")\n",
    "    return to_visit"
   ]
  },
  {
   "cell_type": "markdown",
   "id": "ef33ac7f",
   "metadata": {},
   "source": [
    "#### 2.b - If Mr. Doe wishes, at the same time, to take into account `Preference 1` and `Preference 2`, which list(s) would you recommend to him ?"
   ]
  },
  {
   "cell_type": "code",
   "execution_count": 26,
   "id": "b1ccdd1c",
   "metadata": {},
   "outputs": [
    {
     "name": "stdout",
     "output_type": "stream",
     "text": [
      "[ log ]: Creating variable for site = 'TE'\n",
      "[ log ]: Creating variable for site = 'ML'\n",
      "[ log ]: Creating variable for site = 'AT'\n",
      "[ log ]: Creating variable for site = 'MO'\n",
      "[ log ]: Creating variable for site = 'JT'\n",
      "[ log ]: Creating variable for site = 'CA'\n",
      "[ log ]: Creating variable for site = 'CP'\n",
      "[ log ]: Creating variable for site = 'CN'\n",
      "[ log ]: Creating variable for site = 'BS'\n",
      "[ log ]: Creating variable for site = 'SC'\n",
      "[ log ]: Creating variable for site = 'PC'\n",
      "[ log ]: Creating variable for site = 'TM'\n",
      "[ log ]: Creating variable for site = 'AC'\n"
     ]
    },
    {
     "data": {
      "text/plain": [
       "[AC, AT, BS, CA, CN, CP, JT, ML, MO, PC, SC, TE, TM]"
      ]
     },
     "execution_count": 26,
     "metadata": {},
     "output_type": "execute_result"
    },
    {
     "data": {
      "text/plain": [
       "1"
      ]
     },
     "execution_count": 26,
     "metadata": {},
     "output_type": "execute_result"
    },
    {
     "name": "stdout",
     "output_type": "stream",
     "text": [
      "[ log ]: p.LpStatus[problem.status] = 'Optimal'\n",
      "[ log ]: AC = 1.0\n",
      "[ log ]: AT = 1.0\n",
      "[ log ]: BS = 1.0\n",
      "[ log ]: CA = 1.0\n",
      "[ log ]: CN = 0.0\n",
      "[ log ]: CP = 0.0\n",
      "[ log ]: JT = 0.0\n",
      "[ log ]: ML = 0.0\n",
      "[ log ]: MO = 0.0\n",
      "[ log ]: PC = 0.0\n",
      "[ log ]: SC = 0.0\n",
      "[ log ]: TE = 1.0\n",
      "[ log ]: TM = 0.0\n",
      "[ log ]: p.value(problem.objective) = 21.0\n",
      "[ log ]: You should visit total '5' places. i.e:\n",
      "\n",
      "l’Avenue des Champs-Elysées --- l’Arc de triomphe --- la Basilique du Sacré-Coeur --- les Catacombes --- La Tour Eiffel\n"
     ]
    }
   ],
   "source": [
    "verbose = False\n",
    "\n",
    "# Create the variable to contain the problem data\n",
    "problem = p.LpProblem(name=\"Paris Visit - Max. number of sites (within 1 km radius & must visit effiel tower and catacombs)\", sense=p.const.LpMaximize)\n",
    "\n",
    "# Create the variables\n",
    "problem = create_variables(problem=problem, sites=sites, sites_info=sites_info)\n",
    "\n",
    "# Create the objective function\n",
    "problem = create_objective_function(problem=problem, sites=sites, sites_info=sites_info)\n",
    "\n",
    "# Create the constraints\n",
    "problem = add_generic_constraints(problem=problem, sites=sites, sites_info=sites_info)\n",
    "\n",
    "# Add specific constraints\n",
    "problem = add_specific_constraints(problem=problem, preference=str(PREFERENCE.ONE), distance_df=distance_df, sites=sites, sites_info=sites_info, verbose=verbose)\n",
    "problem = add_specific_constraints(problem=problem, preference=str(PREFERENCE.TWO), distance_df=distance_df, sites=sites, sites_info=sites_info, verbose=verbose)\n",
    "\n",
    "# The problem data is written to an .lp file\n",
    "problem.writeLP(filename=join(data_dir, \"to_visit_2b.lp\"), writeSOS=1, mip=1, max_length=100)\n",
    "\n",
    "# The problem is solved using PuLP's choice of solver\n",
    "problem.solve(solver=LpSolverDefault(msg=show_solver_output))\n",
    "\n",
    "# Output the status of the solution\n",
    "to_visit_2b = display_solver_output(problem=problem, sites_info=sites_info) # save the result for later use"
   ]
  },
  {
   "cell_type": "markdown",
   "id": "ace90240",
   "metadata": {},
   "source": [
    "#### 2.c - If Mr. Doe wishes, at the same time, to take into account `Preference 1` and `Preference 3`, which list(s) would you recommend to him ?"
   ]
  },
  {
   "cell_type": "code",
   "execution_count": 27,
   "id": "b2e6bb1b",
   "metadata": {},
   "outputs": [
    {
     "name": "stdout",
     "output_type": "stream",
     "text": [
      "[ log ]: Creating variable for site = 'TE'\n",
      "[ log ]: Creating variable for site = 'ML'\n",
      "[ log ]: Creating variable for site = 'AT'\n",
      "[ log ]: Creating variable for site = 'MO'\n",
      "[ log ]: Creating variable for site = 'JT'\n",
      "[ log ]: Creating variable for site = 'CA'\n",
      "[ log ]: Creating variable for site = 'CP'\n",
      "[ log ]: Creating variable for site = 'CN'\n",
      "[ log ]: Creating variable for site = 'BS'\n",
      "[ log ]: Creating variable for site = 'SC'\n",
      "[ log ]: Creating variable for site = 'PC'\n",
      "[ log ]: Creating variable for site = 'TM'\n",
      "[ log ]: Creating variable for site = 'AC'\n"
     ]
    },
    {
     "data": {
      "text/plain": [
       "[AC, AT, BS, CA, CN, CP, JT, ML, MO, PC, SC, TE, TM]"
      ]
     },
     "execution_count": 27,
     "metadata": {},
     "output_type": "execute_result"
    },
    {
     "data": {
      "text/plain": [
       "1"
      ]
     },
     "execution_count": 27,
     "metadata": {},
     "output_type": "execute_result"
    },
    {
     "name": "stdout",
     "output_type": "stream",
     "text": [
      "[ log ]: p.LpStatus[problem.status] = 'Optimal'\n",
      "[ log ]: AC = 1.0\n",
      "[ log ]: AT = 1.0\n",
      "[ log ]: BS = 1.0\n",
      "[ log ]: CA = 1.0\n",
      "[ log ]: CN = 0.0\n",
      "[ log ]: CP = 0.0\n",
      "[ log ]: JT = 1.0\n",
      "[ log ]: ML = 0.0\n",
      "[ log ]: MO = 1.0\n",
      "[ log ]: PC = 1.0\n",
      "[ log ]: SC = 0.0\n",
      "[ log ]: TE = 0.0\n",
      "[ log ]: TM = 0.0\n",
      "[ log ]: p.value(problem.objective) = 24.0\n",
      "[ log ]: You should visit total '7' places. i.e:\n",
      "\n",
      "l’Avenue des Champs-Elysées --- l’Arc de triomphe --- la Basilique du Sacré-Coeur --- les Catacombes --- le Jardin des tuileries --- le Musée d’Orsay --- La Place de la Concorde\n"
     ]
    }
   ],
   "source": [
    "verbose = False\n",
    "\n",
    "# Create the variable to contain the problem data\n",
    "problem = p.LpProblem(name=\"Paris Visit - Max. number of sites (within 1 km radius & either visit Notre Dame Cathedral or Sainte Chapelle)\", sense=p.const.LpMaximize)\n",
    "\n",
    "# Create the variables\n",
    "problem = create_variables(problem=problem, sites=sites, sites_info=sites_info)\n",
    "\n",
    "# Create the objective function\n",
    "problem = create_objective_function(problem=problem, sites=sites, sites_info=sites_info)\n",
    "\n",
    "# Create the constraints\n",
    "problem = add_generic_constraints(problem=problem, sites=sites, sites_info=sites_info)\n",
    "\n",
    "# Add specific constraints\n",
    "problem = add_specific_constraints(problem=problem, preference=str(PREFERENCE.ONE), distance_df=distance_df, sites=sites, sites_info=sites_info, verbose=verbose)\n",
    "problem = add_specific_constraints(problem=problem, preference=str(PREFERENCE.THREE), distance_df=distance_df, sites=sites, sites_info=sites_info, verbose=verbose)\n",
    "\n",
    "# The problem data is written to an .lp file\n",
    "problem.writeLP(filename=join(data_dir, \"to_visit_2c.lp\"), writeSOS=1, mip=1, max_length=100)\n",
    "\n",
    "# The problem is solved using PuLP's choice of solver\n",
    "problem.solve(solver=LpSolverDefault(msg=show_solver_output))\n",
    "\n",
    "# Output the status of the solution\n",
    "to_visit_2c = display_solver_output(problem=problem, sites_info=sites_info) # save the result for later use"
   ]
  },
  {
   "cell_type": "markdown",
   "id": "66b36867",
   "metadata": {},
   "source": [
    "#### 2.d - If Mr. Doe wishes, at the same time, to take into account `Preference 1` and `Preference 4`, which list(s) would you recommend to him ?"
   ]
  },
  {
   "cell_type": "code",
   "execution_count": 28,
   "id": "a4fad665",
   "metadata": {},
   "outputs": [
    {
     "name": "stdout",
     "output_type": "stream",
     "text": [
      "[ log ]: Creating variable for site = 'TE'\n",
      "[ log ]: Creating variable for site = 'ML'\n",
      "[ log ]: Creating variable for site = 'AT'\n",
      "[ log ]: Creating variable for site = 'MO'\n",
      "[ log ]: Creating variable for site = 'JT'\n",
      "[ log ]: Creating variable for site = 'CA'\n",
      "[ log ]: Creating variable for site = 'CP'\n",
      "[ log ]: Creating variable for site = 'CN'\n",
      "[ log ]: Creating variable for site = 'BS'\n",
      "[ log ]: Creating variable for site = 'SC'\n",
      "[ log ]: Creating variable for site = 'PC'\n",
      "[ log ]: Creating variable for site = 'TM'\n",
      "[ log ]: Creating variable for site = 'AC'\n"
     ]
    },
    {
     "data": {
      "text/plain": [
       "[AC, AT, BS, CA, CN, CP, JT, ML, MO, PC, SC, TE, TM]"
      ]
     },
     "execution_count": 28,
     "metadata": {},
     "output_type": "execute_result"
    },
    {
     "data": {
      "text/plain": [
       "1"
      ]
     },
     "execution_count": 28,
     "metadata": {},
     "output_type": "execute_result"
    },
    {
     "name": "stdout",
     "output_type": "stream",
     "text": [
      "[ log ]: p.LpStatus[problem.status] = 'Optimal'\n",
      "[ log ]: AC = 1.0\n",
      "[ log ]: AT = 1.0\n",
      "[ log ]: BS = 0.0\n",
      "[ log ]: CA = 1.0\n",
      "[ log ]: CN = 0.0\n",
      "[ log ]: CP = 0.0\n",
      "[ log ]: JT = 1.0\n",
      "[ log ]: ML = 0.0\n",
      "[ log ]: MO = 1.0\n",
      "[ log ]: PC = 1.0\n",
      "[ log ]: SC = 0.0\n",
      "[ log ]: TE = 0.0\n",
      "[ log ]: TM = 1.0\n",
      "[ log ]: p.value(problem.objective) = 22.0\n",
      "[ log ]: You should visit total '7' places. i.e:\n",
      "\n",
      "l’Avenue des Champs-Elysées --- l’Arc de triomphe --- les Catacombes --- le Jardin des tuileries --- le Musée d’Orsay --- La Place de la Concorde --- la Tour Montparnasse\n"
     ]
    }
   ],
   "source": [
    "verbose = False\n",
    "\n",
    "# Create the variable to contain the problem data\n",
    "problem = p.LpProblem(name=\"Paris Visit - Max. number of sites (within 1 km radius & must visit Tour Montparnasse)\", sense=p.const.LpMaximize)\n",
    "\n",
    "# Create the variables\n",
    "problem = create_variables(problem=problem, sites=sites, sites_info=sites_info)\n",
    "\n",
    "# Create the objective function\n",
    "problem = create_objective_function(problem=problem, sites=sites, sites_info=sites_info)\n",
    "\n",
    "# Create the constraints\n",
    "problem = add_generic_constraints(problem=problem, sites=sites, sites_info=sites_info)\n",
    "\n",
    "# Add specific constraints\n",
    "problem = add_specific_constraints(problem=problem, preference=str(PREFERENCE.ONE), distance_df=distance_df, sites=sites, sites_info=sites_info, verbose=verbose)\n",
    "problem = add_specific_constraints(problem=problem, preference=str(PREFERENCE.FOUR), distance_df=distance_df, sites=sites, sites_info=sites_info, verbose=verbose)\n",
    "\n",
    "# The problem data is written to an .lp file\n",
    "problem.writeLP(filename=join(data_dir, \"to_visit_2d.lp\"), writeSOS=1, mip=1, max_length=100)\n",
    "\n",
    "# The problem is solved using PuLP's choice of solver\n",
    "problem.solve(solver=LpSolverDefault(msg=show_solver_output))\n",
    "\n",
    "# Output the status of the solution\n",
    "to_visit_2d = display_solver_output(problem=problem, sites_info=sites_info) # save the result for later use"
   ]
  },
  {
   "cell_type": "markdown",
   "id": "bc8799c6",
   "metadata": {},
   "source": [
    "#### 2.e - If Mr. Doe wishes, at the same time, to take into account `Preference 2` and `Preference 5`, which list(s) would you recommend to him ?"
   ]
  },
  {
   "cell_type": "code",
   "execution_count": 29,
   "id": "de88b89c",
   "metadata": {},
   "outputs": [
    {
     "name": "stdout",
     "output_type": "stream",
     "text": [
      "[ log ]: Creating variable for site = 'TE'\n",
      "[ log ]: Creating variable for site = 'ML'\n",
      "[ log ]: Creating variable for site = 'AT'\n",
      "[ log ]: Creating variable for site = 'MO'\n",
      "[ log ]: Creating variable for site = 'JT'\n",
      "[ log ]: Creating variable for site = 'CA'\n",
      "[ log ]: Creating variable for site = 'CP'\n",
      "[ log ]: Creating variable for site = 'CN'\n",
      "[ log ]: Creating variable for site = 'BS'\n",
      "[ log ]: Creating variable for site = 'SC'\n",
      "[ log ]: Creating variable for site = 'PC'\n",
      "[ log ]: Creating variable for site = 'TM'\n",
      "[ log ]: Creating variable for site = 'AC'\n"
     ]
    },
    {
     "data": {
      "text/plain": [
       "[AC, AT, BS, CA, CN, CP, JT, ML, MO, PC, SC, TE, TM]"
      ]
     },
     "execution_count": 29,
     "metadata": {},
     "output_type": "execute_result"
    },
    {
     "data": {
      "text/plain": [
       "1"
      ]
     },
     "execution_count": 29,
     "metadata": {},
     "output_type": "execute_result"
    },
    {
     "name": "stdout",
     "output_type": "stream",
     "text": [
      "[ log ]: p.LpStatus[problem.status] = 'Optimal'\n",
      "[ log ]: AC = 1.0\n",
      "[ log ]: AT = 1.0\n",
      "[ log ]: BS = 0.0\n",
      "[ log ]: CA = 1.0\n",
      "[ log ]: CN = 1.0\n",
      "[ log ]: CP = 0.0\n",
      "[ log ]: JT = 0.0\n",
      "[ log ]: ML = 0.0\n",
      "[ log ]: MO = 0.0\n",
      "[ log ]: PC = 1.0\n",
      "[ log ]: SC = 0.0\n",
      "[ log ]: TE = 1.0\n",
      "[ log ]: TM = 0.0\n",
      "[ log ]: p.value(problem.objective) = 25.0\n",
      "[ log ]: You should visit total '6' places. i.e:\n",
      "\n",
      "l’Avenue des Champs-Elysées --- l’Arc de triomphe --- les Catacombes --- la Cathédrale Notre Dame de Paris --- La Place de la Concorde --- La Tour Eiffel\n"
     ]
    }
   ],
   "source": [
    "verbose = False\n",
    "\n",
    "# Create the variable to contain the problem data\n",
    "problem = p.LpProblem(name=\"Paris Visit - Max. number of sites (must visit effiel tower and catacombs & must visit the Pompidou Center if he visits Louvre)\", sense=p.const.LpMaximize)\n",
    "\n",
    "# Create the variables\n",
    "problem = create_variables(problem=problem, sites=sites, sites_info=sites_info)\n",
    "\n",
    "# Create the objective function\n",
    "problem = create_objective_function(problem=problem, sites=sites, sites_info=sites_info)\n",
    "\n",
    "# Create the constraints\n",
    "problem = add_generic_constraints(problem=problem, sites=sites, sites_info=sites_info)\n",
    "\n",
    "# Add specific constraints\n",
    "problem = add_specific_constraints(problem=problem, preference=str(PREFERENCE.TWO), distance_df=distance_df, sites=sites, sites_info=sites_info, verbose=verbose)\n",
    "problem = add_specific_constraints(problem=problem, preference=str(PREFERENCE.FIVE), distance_df=distance_df, sites=sites, sites_info=sites_info, verbose=verbose)\n",
    "\n",
    "# The problem data is written to an .lp file\n",
    "problem.writeLP(filename=join(data_dir, \"to_visit_2e.lp\"), writeSOS=1, mip=1, max_length=100)\n",
    "\n",
    "# The problem is solved using PuLP's choice of solver\n",
    "problem.solve(solver=LpSolverDefault(msg=show_solver_output))\n",
    "\n",
    "# Output the status of the solution\n",
    "to_visit_2e = display_solver_output(problem=problem, sites_info=sites_info) # save the result for later use"
   ]
  },
  {
   "cell_type": "markdown",
   "id": "bde134f7",
   "metadata": {},
   "source": [
    "#### 2.f - If Mr. Doe wishes, at the same time, to take into account `Preference 3` and `Preference 4`, which list(s) would you recommend to him ?"
   ]
  },
  {
   "cell_type": "code",
   "execution_count": 30,
   "id": "969c9670",
   "metadata": {},
   "outputs": [
    {
     "name": "stdout",
     "output_type": "stream",
     "text": [
      "[ log ]: Creating variable for site = 'TE'\n",
      "[ log ]: Creating variable for site = 'ML'\n",
      "[ log ]: Creating variable for site = 'AT'\n",
      "[ log ]: Creating variable for site = 'MO'\n",
      "[ log ]: Creating variable for site = 'JT'\n",
      "[ log ]: Creating variable for site = 'CA'\n",
      "[ log ]: Creating variable for site = 'CP'\n",
      "[ log ]: Creating variable for site = 'CN'\n",
      "[ log ]: Creating variable for site = 'BS'\n",
      "[ log ]: Creating variable for site = 'SC'\n",
      "[ log ]: Creating variable for site = 'PC'\n",
      "[ log ]: Creating variable for site = 'TM'\n",
      "[ log ]: Creating variable for site = 'AC'\n"
     ]
    },
    {
     "data": {
      "text/plain": [
       "[AC, AT, BS, CA, CN, CP, JT, ML, MO, PC, SC, TE, TM]"
      ]
     },
     "execution_count": 30,
     "metadata": {},
     "output_type": "execute_result"
    },
    {
     "data": {
      "text/plain": [
       "1"
      ]
     },
     "execution_count": 30,
     "metadata": {},
     "output_type": "execute_result"
    },
    {
     "name": "stdout",
     "output_type": "stream",
     "text": [
      "[ log ]: p.LpStatus[problem.status] = 'Optimal'\n",
      "[ log ]: AC = 1.0\n",
      "[ log ]: AT = 0.0\n",
      "[ log ]: BS = 1.0\n",
      "[ log ]: CA = 1.0\n",
      "[ log ]: CN = 1.0\n",
      "[ log ]: CP = 0.0\n",
      "[ log ]: JT = 1.0\n",
      "[ log ]: ML = 0.0\n",
      "[ log ]: MO = 0.0\n",
      "[ log ]: PC = 1.0\n",
      "[ log ]: SC = 0.0\n",
      "[ log ]: TE = 0.0\n",
      "[ log ]: TM = 1.0\n",
      "[ log ]: p.value(problem.objective) = 26.0\n",
      "[ log ]: You should visit total '7' places. i.e:\n",
      "\n",
      "l’Avenue des Champs-Elysées --- la Basilique du Sacré-Coeur --- les Catacombes --- la Cathédrale Notre Dame de Paris --- le Jardin des tuileries --- La Place de la Concorde --- la Tour Montparnasse\n"
     ]
    }
   ],
   "source": [
    "verbose = False\n",
    "\n",
    "# Create the variable to contain the problem data\n",
    "problem = p.LpProblem(name=\"Paris Visit - Max. number of sites (must visit effiel tower and catacombs & must visit the Pompidou Center if he visits Louvre)\", sense=p.const.LpMaximize)\n",
    "\n",
    "# Create the variables\n",
    "problem = create_variables(problem=problem, sites=sites, sites_info=sites_info)\n",
    "\n",
    "# Create the objective function\n",
    "problem = create_objective_function(problem=problem, sites=sites, sites_info=sites_info)\n",
    "\n",
    "# Create the constraints\n",
    "problem = add_generic_constraints(problem=problem, sites=sites, sites_info=sites_info)\n",
    "\n",
    "# Add specific constraints\n",
    "problem = add_specific_constraints(problem=problem, preference=str(PREFERENCE.THREE), distance_df=distance_df, sites=sites, sites_info=sites_info, verbose=verbose)\n",
    "problem = add_specific_constraints(problem=problem, preference=str(PREFERENCE.FOUR), distance_df=distance_df, sites=sites, sites_info=sites_info, verbose=verbose)\n",
    "\n",
    "# The problem data is written to an .lp file\n",
    "problem.writeLP(filename=join(data_dir, \"to_visit_2f.lp\"), writeSOS=1, mip=1, max_length=100)\n",
    "\n",
    "# The problem is solved using PuLP's choice of solver\n",
    "problem.solve(solver=LpSolverDefault(msg=show_solver_output))\n",
    "\n",
    "# Output the status of the solution\n",
    "to_visit_2f = display_solver_output(problem=problem, sites_info=sites_info) # save the result for later use"
   ]
  },
  {
   "cell_type": "markdown",
   "id": "f133f24b",
   "metadata": {},
   "source": [
    "#### 2.g - If Mr. Doe wishes, at the same time, to take into account `Preference 4` and `Preference 5`, which list(s) would you recommend to him ?"
   ]
  },
  {
   "cell_type": "code",
   "execution_count": 31,
   "id": "fd4ba841",
   "metadata": {},
   "outputs": [
    {
     "name": "stdout",
     "output_type": "stream",
     "text": [
      "[ log ]: Creating variable for site = 'TE'\n",
      "[ log ]: Creating variable for site = 'ML'\n",
      "[ log ]: Creating variable for site = 'AT'\n",
      "[ log ]: Creating variable for site = 'MO'\n",
      "[ log ]: Creating variable for site = 'JT'\n",
      "[ log ]: Creating variable for site = 'CA'\n",
      "[ log ]: Creating variable for site = 'CP'\n",
      "[ log ]: Creating variable for site = 'CN'\n",
      "[ log ]: Creating variable for site = 'BS'\n",
      "[ log ]: Creating variable for site = 'SC'\n",
      "[ log ]: Creating variable for site = 'PC'\n",
      "[ log ]: Creating variable for site = 'TM'\n",
      "[ log ]: Creating variable for site = 'AC'\n"
     ]
    },
    {
     "data": {
      "text/plain": [
       "[AC, AT, BS, CA, CN, CP, JT, ML, MO, PC, SC, TE, TM]"
      ]
     },
     "execution_count": 31,
     "metadata": {},
     "output_type": "execute_result"
    },
    {
     "data": {
      "text/plain": [
       "1"
      ]
     },
     "execution_count": 31,
     "metadata": {},
     "output_type": "execute_result"
    },
    {
     "name": "stdout",
     "output_type": "stream",
     "text": [
      "[ log ]: p.LpStatus[problem.status] = 'Optimal'\n",
      "[ log ]: AC = 1.0\n",
      "[ log ]: AT = 1.0\n",
      "[ log ]: BS = 1.0\n",
      "[ log ]: CA = 1.0\n",
      "[ log ]: CN = 1.0\n",
      "[ log ]: CP = 0.0\n",
      "[ log ]: JT = 0.0\n",
      "[ log ]: ML = 0.0\n",
      "[ log ]: MO = 0.0\n",
      "[ log ]: PC = 1.0\n",
      "[ log ]: SC = 0.0\n",
      "[ log ]: TE = 0.0\n",
      "[ log ]: TM = 1.0\n",
      "[ log ]: p.value(problem.objective) = 26.0\n",
      "[ log ]: You should visit total '7' places. i.e:\n",
      "\n",
      "l’Avenue des Champs-Elysées --- l’Arc de triomphe --- la Basilique du Sacré-Coeur --- les Catacombes --- la Cathédrale Notre Dame de Paris --- La Place de la Concorde --- la Tour Montparnasse\n"
     ]
    }
   ],
   "source": [
    "verbose = False\n",
    "\n",
    "# Create the variable to contain the problem data\n",
    "problem = p.LpProblem(name=\"Paris Visit - Max. number of sites (must visit tour montparnasse & must visit the Pompidou Center if he visits Louvre)\", sense=p.const.LpMaximize)\n",
    "\n",
    "# Create the variables\n",
    "problem = create_variables(problem=problem, sites=sites, sites_info=sites_info)\n",
    "\n",
    "# Create the objective function\n",
    "problem = create_objective_function(problem=problem, sites=sites, sites_info=sites_info)\n",
    "\n",
    "# Create the constraints\n",
    "problem = add_generic_constraints(problem=problem, sites=sites, sites_info=sites_info)\n",
    "\n",
    "# Add specific constraints\n",
    "problem = add_specific_constraints(problem=problem, preference=str(PREFERENCE.FOUR), distance_df=distance_df, sites=sites, sites_info=sites_info, verbose=verbose)\n",
    "problem = add_specific_constraints(problem=problem, preference=str(PREFERENCE.FIVE), distance_df=distance_df, sites=sites, sites_info=sites_info, verbose=verbose)\n",
    "\n",
    "# The problem data is written to an .lp file\n",
    "problem.writeLP(filename=join(data_dir, \"to_visit_2g.lp\"), writeSOS=1, mip=1, max_length=100)\n",
    "\n",
    "# The problem is solved using PuLP's choice of solver\n",
    "problem.solve(solver=LpSolverDefault(msg=show_solver_output))\n",
    "\n",
    "# Output the status of the solution\n",
    "to_visit_2g = display_solver_output(problem=problem, sites_info=sites_info) # save the result for later use"
   ]
  },
  {
   "cell_type": "markdown",
   "id": "3971817e",
   "metadata": {},
   "source": [
    "#### 2.h - If Mr. Doe wishes, at the same time, to take into account `Preference 1`, `Preference 2` and `Preference 4`, which list(s) would you recommend to him ?"
   ]
  },
  {
   "cell_type": "code",
   "execution_count": 32,
   "id": "da9e8fbd",
   "metadata": {},
   "outputs": [
    {
     "name": "stdout",
     "output_type": "stream",
     "text": [
      "[ log ]: Creating variable for site = 'TE'\n",
      "[ log ]: Creating variable for site = 'ML'\n",
      "[ log ]: Creating variable for site = 'AT'\n",
      "[ log ]: Creating variable for site = 'MO'\n",
      "[ log ]: Creating variable for site = 'JT'\n",
      "[ log ]: Creating variable for site = 'CA'\n",
      "[ log ]: Creating variable for site = 'CP'\n",
      "[ log ]: Creating variable for site = 'CN'\n",
      "[ log ]: Creating variable for site = 'BS'\n",
      "[ log ]: Creating variable for site = 'SC'\n",
      "[ log ]: Creating variable for site = 'PC'\n",
      "[ log ]: Creating variable for site = 'TM'\n",
      "[ log ]: Creating variable for site = 'AC'\n"
     ]
    },
    {
     "data": {
      "text/plain": [
       "[AC, AT, BS, CA, CN, CP, JT, ML, MO, PC, SC, TE, TM]"
      ]
     },
     "execution_count": 32,
     "metadata": {},
     "output_type": "execute_result"
    },
    {
     "data": {
      "text/plain": [
       "1"
      ]
     },
     "execution_count": 32,
     "metadata": {},
     "output_type": "execute_result"
    },
    {
     "name": "stdout",
     "output_type": "stream",
     "text": [
      "[ log ]: p.LpStatus[problem.status] = 'Optimal'\n",
      "[ log ]: AC = 1.0\n",
      "[ log ]: AT = 1.0\n",
      "[ log ]: BS = 0.0\n",
      "[ log ]: CA = 1.0\n",
      "[ log ]: CN = 0.0\n",
      "[ log ]: CP = 0.0\n",
      "[ log ]: JT = 0.0\n",
      "[ log ]: ML = 0.0\n",
      "[ log ]: MO = 0.0\n",
      "[ log ]: PC = 0.0\n",
      "[ log ]: SC = 0.0\n",
      "[ log ]: TE = 1.0\n",
      "[ log ]: TM = 1.0\n",
      "[ log ]: p.value(problem.objective) = 19.0\n",
      "[ log ]: You should visit total '5' places. i.e:\n",
      "\n",
      "l’Avenue des Champs-Elysées --- l’Arc de triomphe --- les Catacombes --- La Tour Eiffel --- la Tour Montparnasse\n"
     ]
    }
   ],
   "source": [
    "verbose = False\n",
    "\n",
    "# Create the variable to contain the problem data\n",
    "problem = p.LpProblem(name=\"Paris Visit - Max. number of sites (within 1 km radius & must visit effiel tower and catacombs & must visit the Pompidou Center if he visits Louvre)\", sense=p.const.LpMaximize)\n",
    "\n",
    "# Create the variables\n",
    "problem = create_variables(problem=problem, sites=sites, sites_info=sites_info)\n",
    "\n",
    "# Create the objective function\n",
    "problem = create_objective_function(problem=problem, sites=sites, sites_info=sites_info)\n",
    "\n",
    "# Create the constraints\n",
    "problem = add_generic_constraints(problem=problem, sites=sites, sites_info=sites_info)\n",
    "\n",
    "# Add specific constraints\n",
    "problem = add_specific_constraints(problem=problem, preference=str(PREFERENCE.ONE), distance_df=distance_df, sites=sites, sites_info=sites_info, verbose=verbose)\n",
    "problem = add_specific_constraints(problem=problem, preference=str(PREFERENCE.TWO), distance_df=distance_df, sites=sites, sites_info=sites_info, verbose=verbose)\n",
    "problem = add_specific_constraints(problem=problem, preference=str(PREFERENCE.FOUR), distance_df=distance_df, sites=sites, sites_info=sites_info, verbose=verbose)\n",
    "\n",
    "# The problem data is written to an .lp file\n",
    "problem.writeLP(filename=join(data_dir, \"to_visit_2h.lp\"), writeSOS=1, mip=1, max_length=100)\n",
    "\n",
    "# The problem is solved using PuLP's choice of solver\n",
    "problem.solve(solver=LpSolverDefault(msg=show_solver_output))\n",
    "\n",
    "# Output the status of the solution\n",
    "to_visit_2h = display_solver_output(problem=problem, sites_info=sites_info) # save the result for later use"
   ]
  },
  {
   "cell_type": "markdown",
   "id": "34076ce0",
   "metadata": {},
   "source": [
    "#### 2.i - If Mr. Doe wishes, at the same time, to take into account `Preference 2`, `Preference 3` and `Preference 5`, which list(s) would you recommend to him ?"
   ]
  },
  {
   "cell_type": "code",
   "execution_count": 33,
   "id": "17ba61c1",
   "metadata": {},
   "outputs": [
    {
     "name": "stdout",
     "output_type": "stream",
     "text": [
      "[ log ]: Creating variable for site = 'TE'\n",
      "[ log ]: Creating variable for site = 'ML'\n",
      "[ log ]: Creating variable for site = 'AT'\n",
      "[ log ]: Creating variable for site = 'MO'\n",
      "[ log ]: Creating variable for site = 'JT'\n",
      "[ log ]: Creating variable for site = 'CA'\n",
      "[ log ]: Creating variable for site = 'CP'\n",
      "[ log ]: Creating variable for site = 'CN'\n",
      "[ log ]: Creating variable for site = 'BS'\n",
      "[ log ]: Creating variable for site = 'SC'\n",
      "[ log ]: Creating variable for site = 'PC'\n",
      "[ log ]: Creating variable for site = 'TM'\n",
      "[ log ]: Creating variable for site = 'AC'\n"
     ]
    },
    {
     "data": {
      "text/plain": [
       "[AC, AT, BS, CA, CN, CP, JT, ML, MO, PC, SC, TE, TM]"
      ]
     },
     "execution_count": 33,
     "metadata": {},
     "output_type": "execute_result"
    },
    {
     "data": {
      "text/plain": [
       "-1"
      ]
     },
     "execution_count": 33,
     "metadata": {},
     "output_type": "execute_result"
    },
    {
     "name": "stdout",
     "output_type": "stream",
     "text": [
      "[ log ]: p.LpStatus[problem.status] = 'Infeasible'\n",
      "[ log ]: AC = 1.0\n",
      "[ log ]: AT = 1.0\n",
      "[ log ]: BS = 1.0\n",
      "[ log ]: CA = 0.0\n",
      "[ log ]: CN = 1.0\n",
      "[ log ]: CP = 0.0\n",
      "[ log ]: JT = 1.0\n",
      "[ log ]: ML = -0.41666667\n",
      "[ log ]: MO = 0.0\n",
      "[ log ]: PC = 1.0\n",
      "[ log ]: SC = 0.0\n",
      "[ log ]: TE = 1.0\n",
      "[ log ]: TM = 0.0\n",
      "[ log ]: p.value(problem.objective) = 26.33333332\n",
      "[ log ]: You should visit total '7' places. i.e:\n",
      "\n",
      "l’Avenue des Champs-Elysées --- l’Arc de triomphe --- la Basilique du Sacré-Coeur --- la Cathédrale Notre Dame de Paris --- le Jardin des tuileries --- La Place de la Concorde --- La Tour Eiffel\n"
     ]
    }
   ],
   "source": [
    "verbose = False\n",
    "\n",
    "# Create the variable to contain the problem data\n",
    "problem = p.LpProblem(name=\"Paris Visit - Max. number of sites (must visit effiel tower and catacombs & either visit Notre Dame Cathedral or Sainte Chapelle & must visit the Pompidou Center if he visits Louvre)\", sense=p.const.LpMaximize)\n",
    "\n",
    "# Create the variables\n",
    "problem = create_variables(problem=problem, sites=sites, sites_info=sites_info)\n",
    "\n",
    "# Create the objective function\n",
    "problem = create_objective_function(problem=problem, sites=sites, sites_info=sites_info)\n",
    "\n",
    "# Create the constraints\n",
    "problem = add_generic_constraints(problem=problem, sites=sites, sites_info=sites_info)\n",
    "\n",
    "# Add specific constraints\n",
    "problem = add_specific_constraints(problem=problem, preference=str(PREFERENCE.TWO), distance_df=distance_df, sites=sites, sites_info=sites_info, verbose=verbose)\n",
    "problem = add_specific_constraints(problem=problem, preference=str(PREFERENCE.THREE), distance_df=distance_df, sites=sites, sites_info=sites_info, verbose=verbose)\n",
    "problem = add_specific_constraints(problem=problem, preference=str(PREFERENCE.FIVE), distance_df=distance_df, sites=sites, sites_info=sites_info, verbose=verbose)\n",
    "\n",
    "# The problem data is written to an .lp file\n",
    "problem.writeLP(filename=join(data_dir, \"to_visit_2i.lp\"), writeSOS=1, mip=1, max_length=100)\n",
    "\n",
    "# The problem is solved using PuLP's choice of solver\n",
    "problem.solve(solver=LpSolverDefault(msg=show_solver_output))\n",
    "\n",
    "# Output the status of the solution\n",
    "to_visit_2i = display_solver_output(problem=problem, sites_info=sites_info) # save the result for later use"
   ]
  },
  {
   "cell_type": "markdown",
   "id": "2db40d79",
   "metadata": {},
   "source": [
    "#### 2.j - If Mr. Doe wishes, at the same time, to take into account `Preference 2`, `Preference 3`, `Preference 4` and `Preference 5`, which list(s) would you recommend to him ?"
   ]
  },
  {
   "cell_type": "code",
   "execution_count": 34,
   "id": "68aa2465",
   "metadata": {},
   "outputs": [
    {
     "name": "stdout",
     "output_type": "stream",
     "text": [
      "[ log ]: Creating variable for site = 'TE'\n",
      "[ log ]: Creating variable for site = 'ML'\n",
      "[ log ]: Creating variable for site = 'AT'\n",
      "[ log ]: Creating variable for site = 'MO'\n",
      "[ log ]: Creating variable for site = 'JT'\n",
      "[ log ]: Creating variable for site = 'CA'\n",
      "[ log ]: Creating variable for site = 'CP'\n",
      "[ log ]: Creating variable for site = 'CN'\n",
      "[ log ]: Creating variable for site = 'BS'\n",
      "[ log ]: Creating variable for site = 'SC'\n",
      "[ log ]: Creating variable for site = 'PC'\n",
      "[ log ]: Creating variable for site = 'TM'\n",
      "[ log ]: Creating variable for site = 'AC'\n"
     ]
    },
    {
     "data": {
      "text/plain": [
       "[AC, AT, BS, CA, CN, CP, JT, ML, MO, PC, SC, TE, TM]"
      ]
     },
     "execution_count": 34,
     "metadata": {},
     "output_type": "execute_result"
    },
    {
     "data": {
      "text/plain": [
       "-1"
      ]
     },
     "execution_count": 34,
     "metadata": {},
     "output_type": "execute_result"
    },
    {
     "name": "stdout",
     "output_type": "stream",
     "text": [
      "[ log ]: p.LpStatus[problem.status] = 'Infeasible'\n",
      "[ log ]: AC = 1.0\n",
      "[ log ]: AT = 1.0\n",
      "[ log ]: BS = 1.0\n",
      "[ log ]: CA = 0.0\n",
      "[ log ]: CN = 1.0\n",
      "[ log ]: CP = 0.0\n",
      "[ log ]: JT = -1.1666667\n",
      "[ log ]: ML = 0.0\n",
      "[ log ]: MO = 0.0\n",
      "[ log ]: PC = 1.0\n",
      "[ log ]: SC = 0.0\n",
      "[ log ]: TE = 1.0\n",
      "[ log ]: TM = 1.0\n",
      "[ log ]: p.value(problem.objective) = 23.4999999\n",
      "[ log ]: You should visit total '7' places. i.e:\n",
      "\n",
      "l’Avenue des Champs-Elysées --- l’Arc de triomphe --- la Basilique du Sacré-Coeur --- la Cathédrale Notre Dame de Paris --- La Place de la Concorde --- La Tour Eiffel --- la Tour Montparnasse\n"
     ]
    }
   ],
   "source": [
    "verbose = False\n",
    "\n",
    "# Create the variable to contain the problem data\n",
    "problem = p.LpProblem(name=\"Paris Visit - Max. number of sites (must visit effiel tower and catacombs & either visit Notre Dame Cathedral or Sainte Chapelle & must visit tour montparnasse & must visit the Pompidou Center if he visits Louvre)\", sense=p.const.LpMaximize)\n",
    "\n",
    "# Create the variables\n",
    "problem = create_variables(problem=problem, sites=sites, sites_info=sites_info)\n",
    "\n",
    "# Create the objective function\n",
    "problem = create_objective_function(problem=problem, sites=sites, sites_info=sites_info)\n",
    "\n",
    "# Create the constraints\n",
    "problem = add_generic_constraints(problem=problem, sites=sites, sites_info=sites_info)\n",
    "\n",
    "# Add specific constraints\n",
    "problem = add_specific_constraints(problem=problem, preference=str(PREFERENCE.TWO), distance_df=distance_df, sites=sites, sites_info=sites_info, verbose=verbose)\n",
    "problem = add_specific_constraints(problem=problem, preference=str(PREFERENCE.THREE), distance_df=distance_df, sites=sites, sites_info=sites_info, verbose=verbose)\n",
    "problem = add_specific_constraints(problem=problem, preference=str(PREFERENCE.FOUR), distance_df=distance_df, sites=sites, sites_info=sites_info, verbose=verbose)\n",
    "problem = add_specific_constraints(problem=problem, preference=str(PREFERENCE.FIVE), distance_df=distance_df, sites=sites, sites_info=sites_info, verbose=verbose)\n",
    "\n",
    "# The problem data is written to an .lp file\n",
    "problem.writeLP(filename=join(data_dir, \"to_visit_2j.lp\"), writeSOS=1, mip=1, max_length=100)\n",
    "\n",
    "# The problem is solved using PuLP's choice of solver\n",
    "problem.solve(solver=LpSolverDefault(msg=show_solver_output))\n",
    "\n",
    "# Output the status of the solution\n",
    "to_visit_2j = display_solver_output(problem=problem, sites_info=sites_info) # save the result for later use"
   ]
  },
  {
   "cell_type": "markdown",
   "id": "fb0b3804",
   "metadata": {},
   "source": [
    "#### 2.k - If Mr. Doe wishes, at the same time, to take into account `Preference 1`, `Preference 2`, `Preference 4` and `Preference 5`, which list(s) would you recommend to him ?"
   ]
  },
  {
   "cell_type": "code",
   "execution_count": 35,
   "id": "bc5849d4",
   "metadata": {},
   "outputs": [
    {
     "name": "stdout",
     "output_type": "stream",
     "text": [
      "[ log ]: Creating variable for site = 'TE'\n",
      "[ log ]: Creating variable for site = 'ML'\n",
      "[ log ]: Creating variable for site = 'AT'\n",
      "[ log ]: Creating variable for site = 'MO'\n",
      "[ log ]: Creating variable for site = 'JT'\n",
      "[ log ]: Creating variable for site = 'CA'\n",
      "[ log ]: Creating variable for site = 'CP'\n",
      "[ log ]: Creating variable for site = 'CN'\n",
      "[ log ]: Creating variable for site = 'BS'\n",
      "[ log ]: Creating variable for site = 'SC'\n",
      "[ log ]: Creating variable for site = 'PC'\n",
      "[ log ]: Creating variable for site = 'TM'\n",
      "[ log ]: Creating variable for site = 'AC'\n"
     ]
    },
    {
     "data": {
      "text/plain": [
       "[AC, AT, BS, CA, CN, CP, JT, ML, MO, PC, SC, TE, TM]"
      ]
     },
     "execution_count": 35,
     "metadata": {},
     "output_type": "execute_result"
    },
    {
     "data": {
      "text/plain": [
       "1"
      ]
     },
     "execution_count": 35,
     "metadata": {},
     "output_type": "execute_result"
    },
    {
     "name": "stdout",
     "output_type": "stream",
     "text": [
      "[ log ]: p.LpStatus[problem.status] = 'Optimal'\n",
      "[ log ]: AC = 1.0\n",
      "[ log ]: AT = 1.0\n",
      "[ log ]: BS = 0.0\n",
      "[ log ]: CA = 1.0\n",
      "[ log ]: CN = 0.0\n",
      "[ log ]: CP = 0.0\n",
      "[ log ]: JT = 0.0\n",
      "[ log ]: ML = 0.0\n",
      "[ log ]: MO = 0.0\n",
      "[ log ]: PC = 0.0\n",
      "[ log ]: SC = 0.0\n",
      "[ log ]: TE = 1.0\n",
      "[ log ]: TM = 1.0\n",
      "[ log ]: p.value(problem.objective) = 19.0\n",
      "[ log ]: You should visit total '5' places. i.e:\n",
      "\n",
      "l’Avenue des Champs-Elysées --- l’Arc de triomphe --- les Catacombes --- La Tour Eiffel --- la Tour Montparnasse\n"
     ]
    }
   ],
   "source": [
    "verbose = False\n",
    "\n",
    "# Create the variable to contain the problem data\n",
    "problem = p.LpProblem(name=\"Paris Visit - Max. number of sites (within 1 km radius & must visit effiel tower and catacombs & must visit tour montparnasse & must visit the Pompidou Center if he visits Louvre)\", sense=p.const.LpMaximize)\n",
    "\n",
    "# Create the variables\n",
    "problem = create_variables(problem=problem, sites=sites, sites_info=sites_info)\n",
    "\n",
    "# Create the objective function\n",
    "problem = create_objective_function(problem=problem, sites=sites, sites_info=sites_info)\n",
    "\n",
    "# Create the constraints\n",
    "problem = add_generic_constraints(problem=problem, sites=sites, sites_info=sites_info)\n",
    "\n",
    "# Add specific constraints\n",
    "problem = add_specific_constraints(problem=problem, preference=str(PREFERENCE.ONE), distance_df=distance_df, sites=sites, sites_info=sites_info, verbose=verbose)\n",
    "problem = add_specific_constraints(problem=problem, preference=str(PREFERENCE.TWO), distance_df=distance_df, sites=sites, sites_info=sites_info, verbose=verbose)\n",
    "problem = add_specific_constraints(problem=problem, preference=str(PREFERENCE.FOUR), distance_df=distance_df, sites=sites, sites_info=sites_info, verbose=verbose)\n",
    "problem = add_specific_constraints(problem=problem, preference=str(PREFERENCE.FIVE), distance_df=distance_df, sites=sites, sites_info=sites_info, verbose=verbose)\n",
    "\n",
    "# The problem data is written to an .lp file\n",
    "problem.writeLP(filename=join(data_dir, \"to_visit_2k.lp\"), writeSOS=1, mip=1, max_length=100)\n",
    "\n",
    "# The problem is solved using PuLP's choice of solver\n",
    "problem.solve(solver=LpSolverDefault(msg=show_solver_output))\n",
    "\n",
    "# Output the status of the solution\n",
    "to_visit_2k = display_solver_output(problem=problem, sites_info=sites_info) # save the result for later use"
   ]
  },
  {
   "cell_type": "markdown",
   "id": "9add87e5",
   "metadata": {},
   "source": [
    "#### 2.l - If Mr. Doe wishes, at the same time, to take into account `Preference 1`, `Preference 2`, `Preference 3`, `Preference 4` and `Preference 5`, which list(s) would you recommend to him ?"
   ]
  },
  {
   "cell_type": "code",
   "execution_count": 36,
   "id": "3bb1c897",
   "metadata": {},
   "outputs": [
    {
     "name": "stdout",
     "output_type": "stream",
     "text": [
      "[ log ]: Creating variable for site = 'TE'\n",
      "[ log ]: Creating variable for site = 'ML'\n",
      "[ log ]: Creating variable for site = 'AT'\n",
      "[ log ]: Creating variable for site = 'MO'\n",
      "[ log ]: Creating variable for site = 'JT'\n",
      "[ log ]: Creating variable for site = 'CA'\n",
      "[ log ]: Creating variable for site = 'CP'\n",
      "[ log ]: Creating variable for site = 'CN'\n",
      "[ log ]: Creating variable for site = 'BS'\n",
      "[ log ]: Creating variable for site = 'SC'\n",
      "[ log ]: Creating variable for site = 'PC'\n",
      "[ log ]: Creating variable for site = 'TM'\n",
      "[ log ]: Creating variable for site = 'AC'\n"
     ]
    },
    {
     "data": {
      "text/plain": [
       "[AC, AT, BS, CA, CN, CP, JT, ML, MO, PC, SC, TE, TM]"
      ]
     },
     "execution_count": 36,
     "metadata": {},
     "output_type": "execute_result"
    },
    {
     "data": {
      "text/plain": [
       "-1"
      ]
     },
     "execution_count": 36,
     "metadata": {},
     "output_type": "execute_result"
    },
    {
     "name": "stdout",
     "output_type": "stream",
     "text": [
      "[ log ]: p.LpStatus[problem.status] = 'Infeasible'\n",
      "[ log ]: AC = 1.0\n",
      "[ log ]: AT = 1.0\n",
      "[ log ]: BS = 1.5\n",
      "[ log ]: CA = 0.0\n",
      "[ log ]: CN = 0.0\n",
      "[ log ]: CP = 0.0\n",
      "[ log ]: JT = 0.0\n",
      "[ log ]: ML = 0.0\n",
      "[ log ]: MO = 0.0\n",
      "[ log ]: PC = 0.0\n",
      "[ log ]: SC = 0.0\n",
      "[ log ]: TE = 1.0\n",
      "[ log ]: TM = 1.0\n",
      "[ log ]: p.value(problem.objective) = 21.0\n",
      "[ log ]: You should visit total '4' places. i.e:\n",
      "\n",
      "l’Avenue des Champs-Elysées --- l’Arc de triomphe --- La Tour Eiffel --- la Tour Montparnasse\n"
     ]
    }
   ],
   "source": [
    "verbose = False\n",
    "\n",
    "# Create the variable to contain the problem data\n",
    "problem = p.LpProblem(name=\"Paris Visit - Max. number of sites (within 1 km radius & must visit effiel tower and catacombs & either visit Notre Dame Cathedral or Sainte Chapelle & must visit tour montparnasse & must visit the Pompidou Center if he visits Louvre)\", sense=p.const.LpMaximize)\n",
    "\n",
    "# Create the variables\n",
    "problem = create_variables(problem=problem, sites=sites, sites_info=sites_info)\n",
    "\n",
    "# Create the objective function\n",
    "problem = create_objective_function(problem=problem, sites=sites, sites_info=sites_info)\n",
    "\n",
    "# Create the constraints\n",
    "problem = add_generic_constraints(problem=problem, sites=sites, sites_info=sites_info)\n",
    "\n",
    "# Add specific constraints\n",
    "problem = add_specific_constraints(problem=problem, preference=str(PREFERENCE.ONE), distance_df=distance_df, sites=sites, sites_info=sites_info, verbose=verbose)\n",
    "problem = add_specific_constraints(problem=problem, preference=str(PREFERENCE.TWO), distance_df=distance_df, sites=sites, sites_info=sites_info, verbose=verbose)\n",
    "problem = add_specific_constraints(problem=problem, preference=str(PREFERENCE.THREE), distance_df=distance_df, sites=sites, sites_info=sites_info, verbose=verbose)\n",
    "problem = add_specific_constraints(problem=problem, preference=str(PREFERENCE.FOUR), distance_df=distance_df, sites=sites, sites_info=sites_info, verbose=verbose)\n",
    "problem = add_specific_constraints(problem=problem, preference=str(PREFERENCE.FIVE), distance_df=distance_df, sites=sites, sites_info=sites_info, verbose=verbose)\n",
    "\n",
    "# The problem data is written to an .lp file\n",
    "problem.writeLP(filename=join(data_dir, \"to_visit_2l.lp\"), writeSOS=1, mip=1, max_length=100)\n",
    "\n",
    "# The problem is solved using PuLP's choice of solver\n",
    "problem.solve(solver=LpSolverDefault(msg=show_solver_output))\n",
    "\n",
    "# Output the status of the solution\n",
    "to_visit_2l = display_solver_output(problem=problem, sites_info=sites_info) # save the result for later use"
   ]
  },
  {
   "cell_type": "markdown",
   "id": "aa11e6b2",
   "metadata": {},
   "source": [
    "#### 2.m - Is the solution `ListVisit1` different to these solutions founded above (with the combination of preferences) ?"
   ]
  },
  {
   "cell_type": "code",
   "execution_count": 37,
   "id": "c7ed53fc",
   "metadata": {},
   "outputs": [
    {
     "name": "stdout",
     "output_type": "stream",
     "text": [
      "[ log ]: Are 'ListVisit 1' and output of '2.b' same ? False\n",
      "[ log ]: Are 'ListVisit 1' and output of '2.c' same ? False\n",
      "[ log ]: Are 'ListVisit 1' and output of '2.d' same ? False\n",
      "[ log ]: Are 'ListVisit 1' and output of '2.e' same ? False\n",
      "[ log ]: Are 'ListVisit 1' and output of '2.f' same ? False\n",
      "[ log ]: Are 'ListVisit 1' and output of '2.i' same ? False\n",
      "[ log ]: Are 'ListVisit 1' and output of '2.j' same ? False\n",
      "[ log ]: Are 'ListVisit 1' and output of '2.k' same ? False\n",
      "[ log ]: Are 'ListVisit 1' and output of '2.l' same ? False\n"
     ]
    }
   ],
   "source": [
    "for i, x in enumerate(list('bcdefijkl')):\n",
    "    print_log(f\"Are 'ListVisit 1' and output of '2.{x}' same ? {is_identical(listvisit_1, globals()[f'to_visit_2{x}'])}\")"
   ]
  },
  {
   "cell_type": "markdown",
   "id": "f87497bb",
   "metadata": {},
   "source": [
    "##### 3. Let be:\n",
    "\n",
    "- Ranking of the touristic sites obtained by observing only the `Duration` criterion (see the column “Duration” of the\n",
    "Table above)\n",
    "- Ranking of the touristic sites obtained by observing only the `Appreciations` criterion (see the column “Appreciations”\n",
    "of the Table above)\n",
    "- Ranking of the touristic sites obtained by observing only the `Price` criterion (see the column “Price” of the Table\n",
    "above)\n",
    "\n",
    "Are these rankings two rankings different ? To answer this question, you can use the `Kendall` or `Spearman` rank correlation coefficient."
   ]
  },
  {
   "cell_type": "code",
   "execution_count": null,
   "id": "0a085a52",
   "metadata": {},
   "outputs": [],
   "source": [
    "# Create the variable to contain the problem data\n",
    "problem = p.LpProblem(name=\"Paris Visit - Max. number of sites (duration)\", sense=p.const.LpMaximize)\n",
    "\n",
    "# Create the variables\n",
    "for site in sites:\n",
    "    site_info = next(x for x in sites_info if x.site_code == site)\n",
    "    print_log(f\"Creating variable for {site = }\")\n",
    "    globals()[f\"{site}\"] = p.LpVariable(name=f\"{site}\", lowBound=0, upBound=1, cat=p.LpInteger)\n",
    "\n",
    "# Create the objective function\n",
    "problem += p.lpSum([globals()[f\"{site}\"] * 1 for site in sites]), \"Max. number of sites\"\n",
    "\n",
    "# Create the constraints\n",
    "# 1. Max. duration\n",
    "problem += p.lpSum([globals()[f\"{site}\"] * sites_info[i].duration for i, site in enumerate(sites)]) <= 12, \"Max. duration\"\n",
    "# 2. Max. price\n",
    "problem += p.lpSum([globals()[f\"{site}\"] * sites_info[i].price for i, site in enumerate(sites)]) <= 65, \"Max. price\"\n",
    "\n",
    "# The problem data is written to an .lp file\n",
    "problem.writeLP(filename=join(data_dir, \"ListVisit_1.lp\"), writeSOS=1, mip=1, max_length=100)\n",
    "\n",
    "# The problem is solved using PuLP's choice of solver\n",
    "problem.solve(solver=LpSolverDefault(msg=show_solver_output))"
   ]
  },
  {
   "cell_type": "code",
   "execution_count": 38,
   "id": "e2022ddd",
   "metadata": {},
   "outputs": [],
   "source": [
    "# for i, site1 in enumerate(sites):\n",
    "#     for j, site2 in enumerate(sites):\n",
    "#         if distance_df.loc[site1, site2] <= 1 and site1 != site2: # if distance is between 0 and 1 km\n",
    "#             print_log(f\"{site1 = } {site2 = } -> {distance_df.loc[site1, site2]}\")"
   ]
  },
  {
   "cell_type": "code",
   "execution_count": 39,
   "id": "bf51e894",
   "metadata": {},
   "outputs": [],
   "source": [
    "# # 3. Distance between sites\n",
    "# for i, site in enumerate(sites):\n",
    "#     for j, site2 in enumerate(sites):\n",
    "#         if i != j:\n",
    "#             problem += locals()[f\"{site}\"] + locals()[f\"{site2}\"] <= 1 + distance_df.loc[site, site2] / 10, f\"Distance between {site} and {site2}\"\n",
    "\n",
    "#     locals()[f\"duration_{site}\"] = p.LpVariable(name=f\"duration_{site}\", lowBound=0, upBound=site_info.duration, cat=p.const.LpContinuous)\n",
    "#     locals()[f\"price_{site}\"] = p.LpVariable(name=f\"price_{site}\", lowBound=0, upBound=site_info.price, cat=p.const.LpContinuous)\n",
    "\n",
    "#     locals()[site] = p.LpVariable(name=site, lowBound=0, upBound=1, cat=p.const.LpInteger)\n",
    "\n",
    "\n",
    "# x = p.LpVariable(name=\"Toy_1_units\", lowBound=0, upBound=None, cat=p.LpInteger)\n",
    "# y = p.LpVariable(name=\"Toy_2_units\", lowBound=0, upBound=None, cat=p.LpInteger)\n",
    "\n",
    "# # The objective function is added to \"problem\" first\n",
    "# problem += 25*x + 20*y, \"Profit; to be maximized\"\n",
    "\n",
    "# # The two contraints for the herbs\n",
    "# problem += 20*x + 12*y <= 2000, \"Required units - constraint\"\n",
    "# problem += 5*x + 5*y <= 540, \"Time required - constraint\""
   ]
  }
 ],
 "metadata": {
  "kernelspec": {
   "display_name": "Python 3.10.6 ('decision_modelling')",
   "language": "python",
   "name": "python3"
  },
  "language_info": {
   "codemirror_mode": {
    "name": "ipython",
    "version": 3
   },
   "file_extension": ".py",
   "mimetype": "text/x-python",
   "name": "python",
   "nbconvert_exporter": "python",
   "pygments_lexer": "ipython3",
   "version": "3.10.6"
  },
  "vscode": {
   "interpreter": {
    "hash": "922e2005b522558b637e02e4ef2271899f71cd2929a60d5c7b1a2137b531939a"
   }
  }
 },
 "nbformat": 4,
 "nbformat_minor": 5
}
