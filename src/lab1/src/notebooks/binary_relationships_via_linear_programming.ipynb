{
 "cells": [
  {
   "cell_type": "markdown",
   "id": "e136a84c-af15-4dfc-ad71-5225a1cca97f",
   "metadata": {},
   "source": [
    "### Import libraries"
   ]
  },
  {
   "cell_type": "code",
   "execution_count": 1,
   "id": "ed08ef5c",
   "metadata": {},
   "outputs": [],
   "source": [
    "%load_ext autoreload\n",
    "%autoreload\n",
    "\n",
    "from os import getcwd\n",
    "from os.path import join, abspath, pardir, relpath, exists\n",
    "\n",
    "from dataclasses import dataclass, field\n",
    "\n",
    "import pandas as pd\n",
    "import numpy as np\n",
    "from numpy import matrixlib as npmat\n",
    "import networkx as nx\n",
    "from typing import Union\n",
    "import pulp as p\n",
    "\n",
    "from IPython.display import IFrame\n",
    "from IPython.core.interactiveshell import InteractiveShell\n",
    "InteractiveShell.ast_node_interactivity = \"all\""
   ]
  },
  {
   "cell_type": "markdown",
   "id": "bbbb968b-ce9f-4189-9a95-6b2368d9c015",
   "metadata": {
    "tags": []
   },
   "source": [
    "### Helper methods"
   ]
  },
  {
   "cell_type": "code",
   "execution_count": 2,
   "id": "b18f387e-86ff-40da-b2e5-88272eb041a0",
   "metadata": {},
   "outputs": [],
   "source": [
    "# ------------------------ #\n",
    "# Helper logging functions\n",
    "# ------------------------ #\n",
    "def print_log(text: str) -> None:\n",
    "    \"\"\" Prints the log \"\"\"\n",
    "    print(f\"[ log ]: {text}\")\n",
    "\n",
    "def print_error(text: str) -> None:\n",
    "    \"\"\" Prints the error \"\"\"\n",
    "    print(f\"[ error ]: {text}\")\n",
    "# -------------------------------------------------- #\n",
    "# Helper functions for matrix related operations\n",
    "# -------------------------------------------------- #\n",
    "def graph_to_matrix(G: Union[nx.Graph, npmat.matrix]) -> npmat.matrix:\n",
    "    \"\"\"\n",
    "    Converts a graph to a matrix\n",
    "    \"\"\"\n",
    "    return nx.to_numpy_matrix(G) if isinstance(G, nx.Graph) else G\n",
    "\n",
    "def matrix_to_graph(matrix: Union[nx.Graph, npmat.matrix]) -> nx.Graph:\n",
    "    \"\"\"\n",
    "    Convert from a numpy matrix to a network graph\n",
    "    \"\"\"\n",
    "    return nx.from_numpy_matrix(matrix) if isinstance(matrix, npmat.matrix) else matrix\n",
    "\n",
    "def undirected_to_directed(graph: nx.Graph) -> nx.DiGraph:\n",
    "    \"\"\"\n",
    "    Converts an undirected graph to a directed graph\n",
    "    \"\"\"\n",
    "    di_graph = nx.DiGraph()\n",
    "    di_graph.add_edges_from(graph.edges())\n",
    "    return di_graph\n",
    "\n",
    "def csv_to_matrix(csv_file: str) -> npmat.matrix:\n",
    "    \"\"\"\n",
    "    Returns a matrix from a csv file\n",
    "    \"\"\"\n",
    "    return npmat.asmatrix(pd.read_csv(csv_file, header=None, on_bad_lines=\"skip\").to_numpy())"
   ]
  },
  {
   "cell_type": "markdown",
   "id": "f4b746f7-26de-45d9-83a8-b09eb5ae2126",
   "metadata": {},
   "source": [
    "### Documentation"
   ]
  },
  {
   "cell_type": "code",
   "execution_count": 3,
   "id": "70f01e56",
   "metadata": {},
   "outputs": [
    {
     "data": {
      "text/html": [
       "\n",
       "        <iframe\n",
       "            width=\"1200\"\n",
       "            height=\"350\"\n",
       "            src=\"../../docs/practical_works_linear_programing_v3.pdf\"\n",
       "            frameborder=\"0\"\n",
       "            allowfullscreen\n",
       "            \n",
       "        ></iframe>\n",
       "        "
      ],
      "text/plain": [
       "<IPython.lib.display.IFrame at 0x1067409a0>"
      ]
     },
     "execution_count": 3,
     "metadata": {},
     "output_type": "execute_result"
    }
   ],
   "source": [
    "parent_dir = abspath(join(join(getcwd(), pardir), pardir))\n",
    "data_dir = join(parent_dir, 'data')\n",
    "data_file = join(data_dir, \"data.csv\")\n",
    "docs_dir = join(parent_dir, 'docs')\n",
    "if exists(docs_dir):\n",
    "    doc_file = relpath(join(docs_dir, 'practical_works_linear_programing_v3.pdf'))\n",
    "    IFrame(doc_file, width=1200, height=350)\n",
    "matrix = csv_to_matrix(data_file)"
   ]
  },
  {
   "cell_type": "markdown",
   "id": "786942b9-081d-4251-9355-dab3d85f57c8",
   "metadata": {
    "jp-MarkdownHeadingCollapsed": true,
    "tags": []
   },
   "source": [
    "#### Linear Programming via PuLP"
   ]
  },
  {
   "cell_type": "code",
   "execution_count": 4,
   "id": "640310fa-85a2-4ddc-845b-1c8f171f7349",
   "metadata": {},
   "outputs": [
    {
     "name": "stderr",
     "output_type": "stream",
     "text": [
      "/opt/homebrew/Caskroom/mambaforge/base/envs/decision_modelling/lib/python3.10/site-packages/pulp/pulp.py:1352: UserWarning: Spaces are not permitted in the name. Converted to '_'\n",
      "  warnings.warn(\"Spaces are not permitted in the name. Converted to '_'\")\n"
     ]
    },
    {
     "data": {
      "text/plain": [
       "[Medicine_1_units, Medicine_2_units]"
      ]
     },
     "execution_count": 4,
     "metadata": {},
     "output_type": "execute_result"
    },
    {
     "name": "stdout",
     "output_type": "stream",
     "text": [
      "Welcome to the CBC MILP Solver \n",
      "Version: 2.10.3 \n",
      "Build Date: Dec 15 2019 \n",
      "\n",
      "command line - /opt/homebrew/Caskroom/mambaforge/base/envs/decision_modelling/lib/python3.10/site-packages/pulp/apis/../solverdir/cbc/osx/64/cbc /var/folders/mm/5vsgc5194kqf1xnmgq439jww0000gn/T/671c1cc667684d3e9bb5433dc5a1749a-pulp.mps max timeMode elapsed branch printingOptions all solution /var/folders/mm/5vsgc5194kqf1xnmgq439jww0000gn/T/671c1cc667684d3e9bb5433dc5a1749a-pulp.sol (default strategy 1)\n",
      "At line 2 NAME          MODEL\n",
      "At line 3 ROWS\n",
      "At line 7 COLUMNS\n",
      "At line 18 RHS\n",
      "At line 21 BOUNDS\n",
      "At line 24 ENDATA\n",
      "Problem MODEL has 2 rows, 2 columns and 4 elements\n",
      "Coin0008I MODEL read with 0 errors\n",
      "Option for timeMode changed from cpu to elapsed\n",
      "Continuous objective value is 155 - 0.00 seconds\n",
      "Cgl0004I processed model has 2 rows, 2 columns (2 integer (0 of which binary)) and 4 elements\n",
      "Cutoff increment increased from 1e-05 to 4.9999\n",
      "Cbc0012I Integer solution of -155 found by DiveCoefficient after 0 iterations and 0 nodes (0.02 seconds)\n",
      "Cbc0001I Search completed - best objective -155, took 0 iterations and 0 nodes (0.02 seconds)\n",
      "Cbc0035I Maximum depth 0, 0 variables fixed on reduced cost\n",
      "Cuts at root node changed objective from -155 to -155\n",
      "Probing was tried 0 times and created 0 cuts of which 0 were active after adding rounds of cuts (0.000 seconds)\n",
      "Gomory was tried 0 times and created 0 cuts of which 0 were active after adding rounds of cuts (0.000 seconds)\n",
      "Knapsack was tried 0 times and created 0 cuts of which 0 were active after adding rounds of cuts (0.000 seconds)\n",
      "Clique was tried 0 times and created 0 cuts of which 0 were active after adding rounds of cuts (0.000 seconds)\n",
      "MixedIntegerRounding2 was tried 0 times and created 0 cuts of which 0 were active after adding rounds of cuts (0.000 seconds)\n",
      "FlowCover was tried 0 times and created 0 cuts of which 0 were active after adding rounds of cuts (0.000 seconds)\n",
      "TwoMirCuts was tried 0 times and created 0 cuts of which 0 were active after adding rounds of cuts (0.000 seconds)\n",
      "ZeroHalf was tried 0 times and created 0 cuts of which 0 were active after adding rounds of cuts (0.000 seconds)\n",
      "\n",
      "Result - Optimal solution found\n",
      "\n",
      "Objective value:                155.00000000\n",
      "Enumerated nodes:               0\n",
      "Total iterations:               0\n",
      "Time (CPU seconds):             0.00\n",
      "Time (Wallclock seconds):       0.02\n",
      "\n",
      "Option for printingOptions changed from normal to all\n",
      "Total time (CPU seconds):       0.00   (Wallclock seconds):       0.02\n",
      "\n"
     ]
    },
    {
     "data": {
      "text/plain": [
       "1"
      ]
     },
     "execution_count": 4,
     "metadata": {},
     "output_type": "execute_result"
    }
   ],
   "source": [
    "# Create the variable to contain the problem data\n",
    "problem = p.LpProblem(name=\"The Miracle Worker\", sense=p.const.LpMaximize)\n",
    "\n",
    "# Create problem variables\n",
    "x = p.LpVariable(name=\"Medicine_1_units\", lowBound=0, upBound=None, cat=p.LpInteger)\n",
    "y = p.LpVariable(name=\"Medicine_2_units\", lowBound=0, upBound=None, cat=p.LpInteger)\n",
    "\n",
    "# The objective function is added to \"problem\" first\n",
    "problem += 25*x + 20*y, \"Health restored; to be maximized\"\n",
    "\n",
    "# The two contraints for the herbs\n",
    "problem += 3*x + 4*y <= 25, \"Herb A constraint\"\n",
    "problem += 2*x + y <= 10, \"Herb B constraint\"\n",
    "\n",
    "# The problem data is written to an .lp file\n",
    "problem.writeLP(filename=join(data_dir, \"miracle_worker.lp\"), writeSOS=1, mip=1, max_length=100)\n",
    "\n",
    "# The problem is solved using PuLP's choice of solver\n",
    "problem.solve()"
   ]
  },
  {
   "cell_type": "markdown",
   "id": "e1fa80a6-c542-4f60-8142-03407c3004b4",
   "metadata": {
    "jp-MarkdownHeadingCollapsed": true,
    "tags": []
   },
   "source": [
    "#### Output"
   ]
  },
  {
   "cell_type": "code",
   "execution_count": 5,
   "id": "0bbd016f",
   "metadata": {},
   "outputs": [
    {
     "name": "stdout",
     "output_type": "stream",
     "text": [
      "[ log ]: p.LpStatus[problem.status] = 'Optimal'\n",
      "[ log ]: Medicine_1_units = 3.0\n",
      "[ log ]: Medicine_2_units = 4.0\n",
      "[ log ]: p.value(problem.objective) = 155.0\n"
     ]
    }
   ],
   "source": [
    "print_log(f\"{p.LpStatus[problem.status] = }\")\n",
    "\n",
    "_ = [print_log(f\"{v.name} = {v.varValue}\") for v in problem.variables()]\n",
    "\n",
    "print_log(f\"{p.value(problem.objective) = }\")"
   ]
  },
  {
   "cell_type": "markdown",
   "id": "9038793d-6256-40fd-906d-0e088fdd8721",
   "metadata": {
    "tags": []
   },
   "source": [
    "#### Toy example (Linear Programming via PuLP)"
   ]
  },
  {
   "cell_type": "code",
   "execution_count": 6,
   "id": "bc944985-8405-425b-9dc4-b5ddf12106a3",
   "metadata": {},
   "outputs": [
    {
     "data": {
      "text/plain": [
       "[Toy_1_units, Toy_2_units]"
      ]
     },
     "execution_count": 6,
     "metadata": {},
     "output_type": "execute_result"
    },
    {
     "name": "stdout",
     "output_type": "stream",
     "text": [
      "Welcome to the CBC MILP Solver \n",
      "Version: 2.10.3 \n",
      "Build Date: Dec 15 2019 \n",
      "\n",
      "command line - /opt/homebrew/Caskroom/mambaforge/base/envs/decision_modelling/lib/python3.10/site-packages/pulp/apis/../solverdir/cbc/osx/64/cbc /var/folders/mm/5vsgc5194kqf1xnmgq439jww0000gn/T/658458297cea4ed3a36ffcdb30e67adf-pulp.mps max timeMode elapsed branch printingOptions all solution /var/folders/mm/5vsgc5194kqf1xnmgq439jww0000gn/T/658458297cea4ed3a36ffcdb30e67adf-pulp.sol (default strategy 1)\n",
      "At line 2 NAME          MODEL\n",
      "At line 3 ROWS\n",
      "At line 7 COLUMNS\n",
      "At line 18 RHS\n",
      "At line 21 BOUNDS\n",
      "At line 24 ENDATA\n",
      "Problem MODEL has 2 rows, 2 columns and 4 elements\n",
      "Coin0008I MODEL read with 0 errors\n",
      "Option for timeMode changed from cpu to elapsed\n",
      "Continuous objective value is 2600 - 0.00 seconds\n",
      "Cgl0004I processed model has 2 rows, 2 columns (2 integer (0 of which binary)) and 4 elements\n",
      "Cutoff increment increased from 1e-05 to 4.9999\n",
      "Cbc0012I Integer solution of -2600 found by DiveCoefficient after 0 iterations and 0 nodes (0.00 seconds)\n",
      "Cbc0001I Search completed - best objective -2600, took 0 iterations and 0 nodes (0.00 seconds)\n",
      "Cbc0035I Maximum depth 0, 0 variables fixed on reduced cost\n",
      "Cuts at root node changed objective from -2600 to -2600\n",
      "Probing was tried 0 times and created 0 cuts of which 0 were active after adding rounds of cuts (0.000 seconds)\n",
      "Gomory was tried 0 times and created 0 cuts of which 0 were active after adding rounds of cuts (0.000 seconds)\n",
      "Knapsack was tried 0 times and created 0 cuts of which 0 were active after adding rounds of cuts (0.000 seconds)\n",
      "Clique was tried 0 times and created 0 cuts of which 0 were active after adding rounds of cuts (0.000 seconds)\n",
      "MixedIntegerRounding2 was tried 0 times and created 0 cuts of which 0 were active after adding rounds of cuts (0.000 seconds)\n",
      "FlowCover was tried 0 times and created 0 cuts of which 0 were active after adding rounds of cuts (0.000 seconds)\n",
      "TwoMirCuts was tried 0 times and created 0 cuts of which 0 were active after adding rounds of cuts (0.000 seconds)\n",
      "ZeroHalf was tried 0 times and created 0 cuts of which 0 were active after adding rounds of cuts (0.000 seconds)\n",
      "\n",
      "Result - Optimal solution found\n",
      "\n",
      "Objective value:                2600.00000000\n",
      "Enumerated nodes:               0\n",
      "Total iterations:               0\n",
      "Time (CPU seconds):             0.00\n",
      "Time (Wallclock seconds):       0.00\n",
      "\n",
      "Option for printingOptions changed from normal to all\n",
      "Total time (CPU seconds):       0.00   (Wallclock seconds):       0.00\n",
      "\n"
     ]
    },
    {
     "data": {
      "text/plain": [
       "1"
      ]
     },
     "execution_count": 6,
     "metadata": {},
     "output_type": "execute_result"
    }
   ],
   "source": [
    "# Create the variable to contain the problem data\n",
    "problem = p.LpProblem(name=\"Toy Manufacturing\", sense=p.const.LpMaximize)\n",
    "\n",
    "# Create problem variables\n",
    "x = p.LpVariable(name=\"Toy_1_units\", lowBound=0, upBound=None, cat=p.LpInteger)\n",
    "y = p.LpVariable(name=\"Toy_2_units\", lowBound=0, upBound=None, cat=p.LpInteger)\n",
    "\n",
    "# The objective function is added to \"problem\" first\n",
    "problem += 25*x + 20*y, \"Profit; to be maximized\"\n",
    "\n",
    "# The two contraints for the herbs\n",
    "problem += 20*x + 12*y <= 2000, \"Required units - constraint\"\n",
    "problem += 5*x + 5*y <= 540, \"Time required - constraint\"\n",
    "\n",
    "# The problem data is written to an .lp file\n",
    "problem.writeLP(filename=join(data_dir, \"toy_manufacturing.lp\"), writeSOS=1, mip=1, max_length=100)\n",
    "\n",
    "# The problem is solved using PuLP's choice of solver\n",
    "problem.solve()"
   ]
  },
  {
   "cell_type": "markdown",
   "id": "8e0a433d-4e71-412a-8fdb-48d4fe55319e",
   "metadata": {
    "jp-MarkdownHeadingCollapsed": true,
    "tags": []
   },
   "source": [
    "#### Output"
   ]
  },
  {
   "cell_type": "code",
   "execution_count": 7,
   "id": "a603fa9a-6ea5-416f-98e0-3d985eed5698",
   "metadata": {},
   "outputs": [
    {
     "name": "stdout",
     "output_type": "stream",
     "text": [
      "[ log ]: p.LpStatus[problem.status] = 'Optimal'\n",
      "[ log ]: Toy_1_units = 88.0\n",
      "[ log ]: Toy_2_units = 20.0\n",
      "[ log ]: p.value(problem.objective) = 2600.0\n"
     ]
    }
   ],
   "source": [
    "print_log(f\"{p.LpStatus[problem.status] = }\")\n",
    "\n",
    "_ = [print_log(f\"{v.name} = {v.varValue}\") for v in problem.variables()]\n",
    "\n",
    "print_log(f\"{p.value(problem.objective) = }\")"
   ]
  },
  {
   "cell_type": "markdown",
   "id": "cadd6020-6f74-461e-876e-b2c7b2fe1103",
   "metadata": {
    "tags": []
   },
   "source": [
    "### How to visit Paris ? (efficiently with low budget)"
   ]
  },
  {
   "cell_type": "code",
   "execution_count": 8,
   "id": "3b844276",
   "metadata": {},
   "outputs": [],
   "source": [
    "@dataclass(frozen=False, order=False)\n",
    "class SiteInfo:\n",
    "    \"\"\"\n",
    "    A dataclass to hold the site information\n",
    "    \"\"\"\n",
    "    name: str = field(default=\"\")\n",
    "    site_code: str = field(default=\"\")\n",
    "    price: float = field(default=0.0) # price in euros\n",
    "    duration: float = field(default=0.0) # duration in hours\n",
    "    rating: int = field(default=0) # appreciation rating"
   ]
  },
  {
   "cell_type": "code",
   "execution_count": 9,
   "id": "d92f0ac3",
   "metadata": {},
   "outputs": [],
   "source": [
    "sites_info = [\n",
    "    SiteInfo(name=\"La Tour Eiffel\", site_code=\"TE\", duration=4.5, rating=5, price=15.50),\n",
    "    SiteInfo(name=\"Le Musée du louvre\", site_code=\"ML\", duration=3, rating=4, price=12),\n",
    "    SiteInfo(name=\"l’Arc de triomphe\", site_code=\"AT\", duration=1, rating=3, price=9.50),\n",
    "    SiteInfo(name=\"le Musée d’Orsay\", site_code=\"MO\", duration=2, rating=2, price=11),\n",
    "    SiteInfo(name=\"le Jardin des tuileries\", site_code=\"JT\", duration=1.5, rating=3, price=0),\n",
    "    SiteInfo(name=\"les Catacombes\", site_code=\"CA\", duration=2, rating=4, price=10),\n",
    "    SiteInfo(name=\"le Centre Pompido\", site_code=\"CP\", duration=2.5, rating=1, price=10),\n",
    "    SiteInfo(name=\"la Cathédrale Notre Dame de Paris\", site_code=\"CN\", duration=2, rating=5, price=5),\n",
    "    SiteInfo(name=\"la Basilique du Sacré-Coeur\", site_code=\"BS\", duration=2, rating=4, price=8),\n",
    "    SiteInfo(name=\"la Sainte Chapelle\", site_code=\"SC\", duration=1.5, rating=1, price=8.50),\n",
    "    SiteInfo(name=\"La Place de la Concorde\", site_code=\"PC\", duration=0.75, rating=3, price=0),\n",
    "    SiteInfo(name=\"la Tour Montparnasse\", site_code=\"TM\", duration=2, rating=2, price=15),\n",
    "    SiteInfo(name=\"l’Avenue des Champs-Elysées\", site_code=\"AC\", duration=1.5, rating=5, price=0),\n",
    "]"
   ]
  },
  {
   "cell_type": "code",
   "execution_count": 10,
   "id": "74a9be1c",
   "metadata": {},
   "outputs": [
    {
     "data": {
      "text/html": [
       "<div>\n",
       "<style scoped>\n",
       "    .dataframe tbody tr th:only-of-type {\n",
       "        vertical-align: middle;\n",
       "    }\n",
       "\n",
       "    .dataframe tbody tr th {\n",
       "        vertical-align: top;\n",
       "    }\n",
       "\n",
       "    .dataframe thead th {\n",
       "        text-align: right;\n",
       "    }\n",
       "</style>\n",
       "<table border=\"1\" class=\"dataframe\">\n",
       "  <thead>\n",
       "    <tr style=\"text-align: right;\">\n",
       "      <th></th>\n",
       "      <th>TE</th>\n",
       "      <th>ML</th>\n",
       "      <th>AT</th>\n",
       "      <th>MO</th>\n",
       "      <th>JT</th>\n",
       "      <th>CA</th>\n",
       "      <th>CP</th>\n",
       "      <th>CN</th>\n",
       "      <th>BS</th>\n",
       "      <th>SC</th>\n",
       "      <th>PC</th>\n",
       "      <th>TM</th>\n",
       "      <th>AC</th>\n",
       "    </tr>\n",
       "  </thead>\n",
       "  <tbody>\n",
       "    <tr>\n",
       "      <th>TE</th>\n",
       "      <td>0.0</td>\n",
       "      <td>3.8</td>\n",
       "      <td>2.1</td>\n",
       "      <td>2.4</td>\n",
       "      <td>3.5</td>\n",
       "      <td>4.2</td>\n",
       "      <td>5.00</td>\n",
       "      <td>4.40</td>\n",
       "      <td>5.5</td>\n",
       "      <td>4.2</td>\n",
       "      <td>2.5</td>\n",
       "      <td>3.1</td>\n",
       "      <td>1.9</td>\n",
       "    </tr>\n",
       "    <tr>\n",
       "      <th>ML</th>\n",
       "      <td>3.8</td>\n",
       "      <td>0.0</td>\n",
       "      <td>3.8</td>\n",
       "      <td>1.1</td>\n",
       "      <td>1.3</td>\n",
       "      <td>3.3</td>\n",
       "      <td>1.30</td>\n",
       "      <td>1.10</td>\n",
       "      <td>3.4</td>\n",
       "      <td>0.8</td>\n",
       "      <td>1.7</td>\n",
       "      <td>2.5</td>\n",
       "      <td>2.8</td>\n",
       "    </tr>\n",
       "    <tr>\n",
       "      <th>AT</th>\n",
       "      <td>2.1</td>\n",
       "      <td>3.8</td>\n",
       "      <td>0.0</td>\n",
       "      <td>3.1</td>\n",
       "      <td>3.0</td>\n",
       "      <td>5.8</td>\n",
       "      <td>4.80</td>\n",
       "      <td>4.90</td>\n",
       "      <td>4.3</td>\n",
       "      <td>4.6</td>\n",
       "      <td>2.2</td>\n",
       "      <td>4.4</td>\n",
       "      <td>1.0</td>\n",
       "    </tr>\n",
       "    <tr>\n",
       "      <th>MO</th>\n",
       "      <td>2.4</td>\n",
       "      <td>1.1</td>\n",
       "      <td>3.1</td>\n",
       "      <td>0.0</td>\n",
       "      <td>0.9</td>\n",
       "      <td>3.1</td>\n",
       "      <td>2.50</td>\n",
       "      <td>2.00</td>\n",
       "      <td>3.9</td>\n",
       "      <td>1.8</td>\n",
       "      <td>1.0</td>\n",
       "      <td>2.3</td>\n",
       "      <td>2.1</td>\n",
       "    </tr>\n",
       "    <tr>\n",
       "      <th>JT</th>\n",
       "      <td>3.5</td>\n",
       "      <td>1.3</td>\n",
       "      <td>3.0</td>\n",
       "      <td>0.9</td>\n",
       "      <td>0.0</td>\n",
       "      <td>4.2</td>\n",
       "      <td>2.00</td>\n",
       "      <td>2.40</td>\n",
       "      <td>2.7</td>\n",
       "      <td>2.0</td>\n",
       "      <td>1.0</td>\n",
       "      <td>3.4</td>\n",
       "      <td>2.1</td>\n",
       "    </tr>\n",
       "    <tr>\n",
       "      <th>CA</th>\n",
       "      <td>4.2</td>\n",
       "      <td>3.3</td>\n",
       "      <td>5.8</td>\n",
       "      <td>3.1</td>\n",
       "      <td>4.2</td>\n",
       "      <td>0.0</td>\n",
       "      <td>3.50</td>\n",
       "      <td>2.70</td>\n",
       "      <td>6.5</td>\n",
       "      <td>2.6</td>\n",
       "      <td>3.8</td>\n",
       "      <td>1.3</td>\n",
       "      <td>4.9</td>\n",
       "    </tr>\n",
       "    <tr>\n",
       "      <th>CP</th>\n",
       "      <td>5.0</td>\n",
       "      <td>1.3</td>\n",
       "      <td>4.8</td>\n",
       "      <td>2.5</td>\n",
       "      <td>2.0</td>\n",
       "      <td>3.5</td>\n",
       "      <td>0.00</td>\n",
       "      <td>0.85</td>\n",
       "      <td>3.7</td>\n",
       "      <td>0.9</td>\n",
       "      <td>2.7</td>\n",
       "      <td>3.4</td>\n",
       "      <td>3.8</td>\n",
       "    </tr>\n",
       "    <tr>\n",
       "      <th>CN</th>\n",
       "      <td>4.4</td>\n",
       "      <td>1.1</td>\n",
       "      <td>4.9</td>\n",
       "      <td>2.0</td>\n",
       "      <td>2.4</td>\n",
       "      <td>2.7</td>\n",
       "      <td>0.85</td>\n",
       "      <td>0.00</td>\n",
       "      <td>4.5</td>\n",
       "      <td>0.4</td>\n",
       "      <td>2.8</td>\n",
       "      <td>2.7</td>\n",
       "      <td>3.9</td>\n",
       "    </tr>\n",
       "    <tr>\n",
       "      <th>BS</th>\n",
       "      <td>5.5</td>\n",
       "      <td>3.4</td>\n",
       "      <td>4.3</td>\n",
       "      <td>3.9</td>\n",
       "      <td>2.7</td>\n",
       "      <td>6.5</td>\n",
       "      <td>3.70</td>\n",
       "      <td>4.50</td>\n",
       "      <td>0.0</td>\n",
       "      <td>4.2</td>\n",
       "      <td>3.3</td>\n",
       "      <td>5.7</td>\n",
       "      <td>3.8</td>\n",
       "    </tr>\n",
       "    <tr>\n",
       "      <th>SC</th>\n",
       "      <td>4.2</td>\n",
       "      <td>0.8</td>\n",
       "      <td>4.6</td>\n",
       "      <td>1.8</td>\n",
       "      <td>2.0</td>\n",
       "      <td>2.6</td>\n",
       "      <td>0.90</td>\n",
       "      <td>0.40</td>\n",
       "      <td>4.2</td>\n",
       "      <td>0.0</td>\n",
       "      <td>2.5</td>\n",
       "      <td>2.6</td>\n",
       "      <td>3.6</td>\n",
       "    </tr>\n",
       "    <tr>\n",
       "      <th>PC</th>\n",
       "      <td>2.5</td>\n",
       "      <td>1.7</td>\n",
       "      <td>2.2</td>\n",
       "      <td>1.0</td>\n",
       "      <td>1.0</td>\n",
       "      <td>3.8</td>\n",
       "      <td>2.70</td>\n",
       "      <td>2.80</td>\n",
       "      <td>3.3</td>\n",
       "      <td>2.5</td>\n",
       "      <td>0.0</td>\n",
       "      <td>3.0</td>\n",
       "      <td>1.2</td>\n",
       "    </tr>\n",
       "    <tr>\n",
       "      <th>TM</th>\n",
       "      <td>3.1</td>\n",
       "      <td>2.5</td>\n",
       "      <td>4.4</td>\n",
       "      <td>2.3</td>\n",
       "      <td>3.4</td>\n",
       "      <td>1.3</td>\n",
       "      <td>3.40</td>\n",
       "      <td>2.70</td>\n",
       "      <td>5.7</td>\n",
       "      <td>2.6</td>\n",
       "      <td>3.0</td>\n",
       "      <td>0.0</td>\n",
       "      <td>2.1</td>\n",
       "    </tr>\n",
       "    <tr>\n",
       "      <th>AC</th>\n",
       "      <td>1.9</td>\n",
       "      <td>2.8</td>\n",
       "      <td>1.0</td>\n",
       "      <td>2.1</td>\n",
       "      <td>2.1</td>\n",
       "      <td>4.9</td>\n",
       "      <td>3.80</td>\n",
       "      <td>3.90</td>\n",
       "      <td>3.8</td>\n",
       "      <td>3.6</td>\n",
       "      <td>1.2</td>\n",
       "      <td>2.1</td>\n",
       "      <td>0.0</td>\n",
       "    </tr>\n",
       "  </tbody>\n",
       "</table>\n",
       "</div>"
      ],
      "text/plain": [
       "     TE   ML   AT   MO   JT   CA    CP    CN   BS   SC   PC   TM   AC\n",
       "TE  0.0  3.8  2.1  2.4  3.5  4.2  5.00  4.40  5.5  4.2  2.5  3.1  1.9\n",
       "ML  3.8  0.0  3.8  1.1  1.3  3.3  1.30  1.10  3.4  0.8  1.7  2.5  2.8\n",
       "AT  2.1  3.8  0.0  3.1  3.0  5.8  4.80  4.90  4.3  4.6  2.2  4.4  1.0\n",
       "MO  2.4  1.1  3.1  0.0  0.9  3.1  2.50  2.00  3.9  1.8  1.0  2.3  2.1\n",
       "JT  3.5  1.3  3.0  0.9  0.0  4.2  2.00  2.40  2.7  2.0  1.0  3.4  2.1\n",
       "CA  4.2  3.3  5.8  3.1  4.2  0.0  3.50  2.70  6.5  2.6  3.8  1.3  4.9\n",
       "CP  5.0  1.3  4.8  2.5  2.0  3.5  0.00  0.85  3.7  0.9  2.7  3.4  3.8\n",
       "CN  4.4  1.1  4.9  2.0  2.4  2.7  0.85  0.00  4.5  0.4  2.8  2.7  3.9\n",
       "BS  5.5  3.4  4.3  3.9  2.7  6.5  3.70  4.50  0.0  4.2  3.3  5.7  3.8\n",
       "SC  4.2  0.8  4.6  1.8  2.0  2.6  0.90  0.40  4.2  0.0  2.5  2.6  3.6\n",
       "PC  2.5  1.7  2.2  1.0  1.0  3.8  2.70  2.80  3.3  2.5  0.0  3.0  1.2\n",
       "TM  3.1  2.5  4.4  2.3  3.4  1.3  3.40  2.70  5.7  2.6  3.0  0.0  2.1\n",
       "AC  1.9  2.8  1.0  2.1  2.1  4.9  3.80  3.90  3.8  3.6  1.2  2.1  0.0"
      ]
     },
     "execution_count": 10,
     "metadata": {},
     "output_type": "execute_result"
    }
   ],
   "source": [
    "sites = [x.site_code for x in sites_info]\n",
    "\n",
    "distance_in_kms = npmat.asmatrix(data=[\n",
    "        [0, 3.8, 2.1, 2.4, 3.5, 4.2, 5.0,  4.4, 5.5, 4.2, 2.5, 3.1, 1.9],\n",
    "        [0,   0, 3.8, 1.1, 1.3, 3.3, 1.3,  1.1, 3.4, 0.8, 1.7, 2.5, 2.8],\n",
    "        [0,   0,   0, 3.1, 3.0, 5.8, 4.8,  4.9, 4.3, 4.6, 2.2, 4.4, 1.0],\n",
    "        [0,   0,   0,   0, 0.9, 3.1, 2.5,  2.0, 3.9, 1.8, 1.0, 2.3, 2.1],\n",
    "        [0,   0,   0,   0,   0, 4.2, 2.0,  2.4, 2.7, 2.0, 1.0, 3.4, 2.1],\n",
    "        [0,   0,   0,   0,   0,   0, 3.5,  2.7, 6.5, 2.6, 3.8, 1.3, 4.9],\n",
    "        [0,   0,   0,   0,   0,   0,   0, 0.85, 3.7, 0.9, 2.7, 3.4, 3.8],\n",
    "        [0,   0,   0,   0,   0,   0,   0,    0, 4.5, 0.4, 2.8, 2.7, 3.9],\n",
    "        [0,   0,   0,   0,   0,   0,   0,    0,   0, 4.2, 3.3, 5.7, 3.8],\n",
    "        [0,   0,   0,   0,   0,   0,   0,    0,   0,   0, 2.5, 2.6, 3.6],\n",
    "        [0,   0,   0,   0,   0,   0,   0,    0,   0,   0,   0, 3.0, 1.2],\n",
    "        [0,   0,   0,   0,   0,   0,   0,    0,   0,   0,   0,   0, 2.1],\n",
    "        [0,   0,   0,   0,   0,   0,   0,    0,   0,   0,   0,   0,   0]\n",
    "    ], dtype=float)\n",
    "    \n",
    "distance_df = pd.DataFrame(np.matrix(distance_in_kms.T + distance_in_kms), columns=sites, index=sites)\n",
    "distance_df"
   ]
  },
  {
   "cell_type": "markdown",
   "id": "93c4c3e0",
   "metadata": {},
   "source": [
    "##### 1. It is assumed that Mr. Doe gives equal importance to each tourist site, and he wants to visit the maximum number of sites. Which list(s) of places could you recommend to him ? This solution will be called `ListVisit 1`."
   ]
  },
  {
   "cell_type": "code",
   "execution_count": 16,
   "id": "33e1ccfd",
   "metadata": {},
   "outputs": [
    {
     "name": "stdout",
     "output_type": "stream",
     "text": [
      "[ log ]: Creating variable for site = 'TE'\n",
      "[ log ]: Creating variable for site = 'ML'\n",
      "[ log ]: Creating variable for site = 'AT'\n",
      "[ log ]: Creating variable for site = 'MO'\n",
      "[ log ]: Creating variable for site = 'JT'\n",
      "[ log ]: Creating variable for site = 'CA'\n",
      "[ log ]: Creating variable for site = 'CP'\n",
      "[ log ]: Creating variable for site = 'CN'\n",
      "[ log ]: Creating variable for site = 'BS'\n",
      "[ log ]: Creating variable for site = 'SC'\n",
      "[ log ]: Creating variable for site = 'PC'\n",
      "[ log ]: Creating variable for site = 'TM'\n",
      "[ log ]: Creating variable for site = 'AC'\n"
     ]
    },
    {
     "data": {
      "text/plain": [
       "[AC, AT, BS, CA, CN, CP, JT, ML, MO, PC, SC, TE, TM]"
      ]
     },
     "execution_count": 16,
     "metadata": {},
     "output_type": "execute_result"
    },
    {
     "name": "stdout",
     "output_type": "stream",
     "text": [
      "Welcome to the CBC MILP Solver \n",
      "Version: 2.10.3 \n",
      "Build Date: Dec 15 2019 \n",
      "\n",
      "command line - /opt/homebrew/Caskroom/mambaforge/base/envs/decision_modelling/lib/python3.10/site-packages/pulp/apis/../solverdir/cbc/osx/64/cbc /var/folders/mm/5vsgc5194kqf1xnmgq439jww0000gn/T/d201e9ca95604722819bb0332c3b023b-pulp.mps max timeMode elapsed branch printingOptions all solution /var/folders/mm/5vsgc5194kqf1xnmgq439jww0000gn/T/d201e9ca95604722819bb0332c3b023b-pulp.sol (default strategy 1)\n",
      "At line 2 NAME          MODEL\n",
      "At line 3 ROWS\n",
      "At line 7 COLUMNS\n",
      "At line 70 RHS\n",
      "At line 73 BOUNDS\n",
      "At line 87 ENDATA\n",
      "Problem MODEL has 2 rows, 13 columns and 23 elements\n",
      "Coin0008I MODEL read with 0 errors\n",
      "Option for timeMode changed from cpu to elapsed\n",
      "Continuous objective value is 7.875 - 0.00 seconds\n",
      "Cgl0004I processed model has 2 rows, 12 columns (12 integer (11 of which binary)) and 22 elements\n",
      "Cutoff increment increased from 1e-05 to 0.9999\n",
      "Cbc0038I Initial state - 1 integers unsatisfied sum - 0.125\n",
      "Cbc0038I Pass   1: suminf.    0.16667 (1) obj. -7.83333 iterations 1\n",
      "Cbc0038I Solution found of -7.83333\n",
      "Cbc0038I Branch and bound needed to clear up 1 general integers\n",
      "Cbc0038I Full problem 2 rows 12 columns, reduced to 0 rows 0 columns\n",
      "Cbc0038I Cleaned solution of -7\n",
      "Cbc0038I Before mini branch and bound, 10 integers at bound fixed and 0 continuous\n",
      "Cbc0038I Mini branch and bound did not improve solution (0.01 seconds)\n",
      "Cbc0038I After 0.01 seconds - Feasibility pump exiting with objective of -7 - took 0.00 seconds\n",
      "Cbc0012I Integer solution of -7 found by feasibility pump after 0 iterations and 0 nodes (0.01 seconds)\n",
      "Cbc0001I Search completed - best objective -7, took 0 iterations and 0 nodes (0.01 seconds)\n",
      "Cbc0035I Maximum depth 0, 6 variables fixed on reduced cost\n",
      "Cuts at root node changed objective from -7.875 to -7.875\n",
      "Probing was tried 0 times and created 0 cuts of which 0 were active after adding rounds of cuts (0.000 seconds)\n",
      "Gomory was tried 0 times and created 0 cuts of which 0 were active after adding rounds of cuts (0.000 seconds)\n",
      "Knapsack was tried 0 times and created 0 cuts of which 0 were active after adding rounds of cuts (0.000 seconds)\n",
      "Clique was tried 0 times and created 0 cuts of which 0 were active after adding rounds of cuts (0.000 seconds)\n",
      "MixedIntegerRounding2 was tried 0 times and created 0 cuts of which 0 were active after adding rounds of cuts (0.000 seconds)\n",
      "FlowCover was tried 0 times and created 0 cuts of which 0 were active after adding rounds of cuts (0.000 seconds)\n",
      "TwoMirCuts was tried 0 times and created 0 cuts of which 0 were active after adding rounds of cuts (0.000 seconds)\n",
      "ZeroHalf was tried 0 times and created 0 cuts of which 0 were active after adding rounds of cuts (0.000 seconds)\n",
      "\n",
      "Result - Optimal solution found\n",
      "\n",
      "Objective value:                7.00000000\n",
      "Enumerated nodes:               0\n",
      "Total iterations:               0\n",
      "Time (CPU seconds):             0.00\n",
      "Time (Wallclock seconds):       0.01\n",
      "\n",
      "Option for printingOptions changed from normal to all\n",
      "Total time (CPU seconds):       0.00   (Wallclock seconds):       0.01\n",
      "\n"
     ]
    },
    {
     "data": {
      "text/plain": [
       "1"
      ]
     },
     "execution_count": 16,
     "metadata": {},
     "output_type": "execute_result"
    }
   ],
   "source": [
    "# Create the variable to contain the problem data\n",
    "problem = p.LpProblem(name=\"Paris Visit - Max. number of sites\", sense=p.const.LpMaximize)\n",
    "\n",
    "# Create the variables\n",
    "for site in sites:\n",
    "    site_info = next(x for x in sites_info if x.site_code == site)\n",
    "    print_log(f\"Creating variable for {site = }\")\n",
    "    globals()[f\"{site}\"] = p.LpVariable(name=f\"{site}\", lowBound=0, upBound=1, cat=p.LpInteger)\n",
    "\n",
    "# Create the objective function\n",
    "# problem += p.lpSum([globals()[f\"{site}\"] * sites_info[i].rating for i, site in enumerate(sites)])\n",
    "problem += p.lpSum([globals()[f\"{site}\"] * 1 for site in sites]), \"Max. number of sites\"\n",
    "\n",
    "# Create the constraints\n",
    "# 1. Max. duration\n",
    "problem += p.lpSum([globals()[f\"{site}\"] * sites_info[i].duration for i, site in enumerate(sites)]) <= 12, \"Max. duration\"\n",
    "# 2. Max. price\n",
    "problem += p.lpSum([globals()[f\"{site}\"] * sites_info[i].price for i, site in enumerate(sites)]) <= 65, \"Max. price\"\n",
    "\n",
    "# The problem data is written to an .lp file\n",
    "problem.writeLP(filename=join(data_dir, \"ListVisit_1.lp\"), writeSOS=1, mip=1, max_length=100)\n",
    "\n",
    "# The problem is solved using PuLP's choice of solver\n",
    "problem.solve()"
   ]
  },
  {
   "cell_type": "markdown",
   "id": "6594c837",
   "metadata": {},
   "source": [
    "#### Output"
   ]
  },
  {
   "cell_type": "code",
   "execution_count": 25,
   "id": "17aecd3c",
   "metadata": {},
   "outputs": [
    {
     "name": "stdout",
     "output_type": "stream",
     "text": [
      "[ log ]: p.LpStatus[problem.status] = 'Optimal'\n",
      "[ log ]: AC = 1.0\n",
      "[ log ]: AT = 1.0\n",
      "[ log ]: BS = 1.0\n",
      "[ log ]: CA = 1.0\n",
      "[ log ]: CN = 1.0\n",
      "[ log ]: CP = 0.0\n",
      "[ log ]: JT = 0.0\n",
      "[ log ]: ML = 0.0\n",
      "[ log ]: MO = 0.0\n",
      "[ log ]: PC = 1.0\n",
      "[ log ]: SC = 1.0\n",
      "[ log ]: TE = 0.0\n",
      "[ log ]: TM = 0.0\n",
      "[ log ]: p.value(problem.objective) = 7.0\n",
      "[ log ]: You should visit total '7.0' places. i.e:\n",
      "\n",
      "l’Avenue des Champs-Elysées --- l’Arc de triomphe --- la Basilique du Sacré-Coeur --- les Catacombes --- la Cathédrale Notre Dame de Paris --- La Place de la Concorde --- la Sainte Chapelle\n"
     ]
    }
   ],
   "source": [
    "print_log(f\"{p.LpStatus[problem.status] = }\")\n",
    "\n",
    "# _ = [print_log(f\"{v.name} = {v.varValue}\") for v in problem.variables()]\n",
    "to_visit = []\n",
    "for v in problem.variables():\n",
    "    print_log(f\"{v.name} = {v.varValue}\")\n",
    "    if v.varValue == 1:\n",
    "        site = next(x for x in sites_info if x.site_code == v.name)\n",
    "        to_visit.append(site.name)\n",
    "\n",
    "print_log(f\"{p.value(problem.objective) = }\")\n",
    "print_log(f\"You should visit total '{p.value(problem.objective)}' places. i.e:\\n\\n{' --- '.join(to_visit)}\")"
   ]
  },
  {
   "cell_type": "markdown",
   "id": "edc08c6a",
   "metadata": {},
   "source": [
    "##### 2. Actually, Mr. Doe has some preferences among these tourist sites and he expresses them as follows:"
   ]
  },
  {
   "cell_type": "markdown",
   "id": "07717f41",
   "metadata": {},
   "source": [
    "- Preference 1 : If two sites are geographically very close (within a radius of 1 km of walking), he will prefer to visit these two sites instead of visiting only one."
   ]
  },
  {
   "cell_type": "code",
   "execution_count": 35,
   "id": "f53b541f",
   "metadata": {},
   "outputs": [
    {
     "name": "stdout",
     "output_type": "stream",
     "text": [
      "[ log ]: Creating variable for site = 'TE'\n",
      "[ log ]: Creating variable for site = 'ML'\n",
      "[ log ]: Creating variable for site = 'AT'\n",
      "[ log ]: Creating variable for site = 'MO'\n",
      "[ log ]: Creating variable for site = 'JT'\n",
      "[ log ]: Creating variable for site = 'CA'\n",
      "[ log ]: Creating variable for site = 'CP'\n",
      "[ log ]: Creating variable for site = 'CN'\n",
      "[ log ]: Creating variable for site = 'BS'\n",
      "[ log ]: Creating variable for site = 'SC'\n",
      "[ log ]: Creating variable for site = 'PC'\n",
      "[ log ]: Creating variable for site = 'TM'\n",
      "[ log ]: Creating variable for site = 'AC'\n",
      "[ log ]: site1 = 'ML' site2 = 'SC' -> 0.8\n",
      "[ log ]: site1 = 'AT' site2 = 'AC' -> 1.0\n",
      "[ log ]: site1 = 'MO' site2 = 'JT' -> 0.9\n",
      "[ log ]: site1 = 'MO' site2 = 'PC' -> 1.0\n",
      "[ log ]: site1 = 'JT' site2 = 'MO' -> 0.9\n",
      "[ log ]: site1 = 'JT' site2 = 'PC' -> 1.0\n",
      "[ log ]: site1 = 'CP' site2 = 'CN' -> 0.85\n",
      "[ log ]: site1 = 'CP' site2 = 'SC' -> 0.9\n",
      "[ log ]: site1 = 'CN' site2 = 'CP' -> 0.85\n",
      "[ log ]: site1 = 'CN' site2 = 'SC' -> 0.4\n",
      "[ log ]: site1 = 'SC' site2 = 'ML' -> 0.8\n",
      "[ log ]: site1 = 'SC' site2 = 'CP' -> 0.9\n",
      "[ log ]: site1 = 'SC' site2 = 'CN' -> 0.4\n",
      "[ log ]: site1 = 'PC' site2 = 'MO' -> 1.0\n",
      "[ log ]: site1 = 'PC' site2 = 'JT' -> 1.0\n",
      "[ log ]: site1 = 'AC' site2 = 'AT' -> 1.0\n"
     ]
    },
    {
     "name": "stderr",
     "output_type": "stream",
     "text": [
      "/opt/homebrew/Caskroom/mambaforge/base/envs/decision_modelling/lib/python3.10/site-packages/pulp/pulp.py:1352: UserWarning: Spaces are not permitted in the name. Converted to '_'\n",
      "  warnings.warn(\"Spaces are not permitted in the name. Converted to '_'\")\n"
     ]
    },
    {
     "data": {
      "text/plain": [
       "[AC, AT, BS, CA, CN, CP, JT, ML, MO, PC, SC, TE, TM]"
      ]
     },
     "execution_count": 35,
     "metadata": {},
     "output_type": "execute_result"
    },
    {
     "name": "stdout",
     "output_type": "stream",
     "text": [
      "Welcome to the CBC MILP Solver \n",
      "Version: 2.10.3 \n",
      "Build Date: Dec 15 2019 \n",
      "\n",
      "command line - /opt/homebrew/Caskroom/mambaforge/base/envs/decision_modelling/lib/python3.10/site-packages/pulp/apis/../solverdir/cbc/osx/64/cbc /var/folders/mm/5vsgc5194kqf1xnmgq439jww0000gn/T/c0b7d91c613d464abc4c6f49fd90b2b0-pulp.mps max timeMode elapsed branch printingOptions all solution /var/folders/mm/5vsgc5194kqf1xnmgq439jww0000gn/T/c0b7d91c613d464abc4c6f49fd90b2b0-pulp.sol (default strategy 1)\n",
      "At line 2 NAME          MODEL\n",
      "At line 3 ROWS\n",
      "At line 23 COLUMNS\n",
      "At line 118 RHS\n",
      "At line 137 BOUNDS\n",
      "At line 151 ENDATA\n",
      "Problem MODEL has 18 rows, 13 columns and 55 elements\n",
      "Coin0008I MODEL read with 0 errors\n",
      "Option for timeMode changed from cpu to elapsed\n",
      "Continuous objective value is 25.5278 - 0.00 seconds\n",
      "Cgl0004I processed model has 2 rows, 7 columns (7 integer (7 of which binary)) and 14 elements\n",
      "Cutoff increment increased from 1e-05 to 0.9999\n",
      "Cbc0038I Initial state - 1 integers unsatisfied sum - 0.138889\n",
      "Cbc0038I Solution found of -24\n",
      "Cbc0038I Before mini branch and bound, 6 integers at bound fixed and 0 continuous\n",
      "Cbc0038I Full problem 2 rows 7 columns, reduced to 0 rows 0 columns\n",
      "Cbc0038I Mini branch and bound did not improve solution (0.02 seconds)\n",
      "Cbc0038I Round again with cutoff of -25.0527\n",
      "Cbc0038I Reduced cost fixing fixed 5 variables on major pass 2\n",
      "Cbc0038I Pass   1: suminf.    0.09570 (1) obj. -25.0527 iterations 1\n",
      "Cbc0038I Pass   2: suminf.    0.13889 (1) obj. -25.5278 iterations 1\n",
      "Cbc0038I Pass   3: suminf.    0.37500 (1) obj. -25.25 iterations 1\n",
      "Cbc0038I Pass   4: suminf.    0.37500 (1) obj. -25.25 iterations 0\n",
      "Cbc0038I Pass   5: suminf.    0.37500 (1) obj. -25.25 iterations 0\n",
      "Cbc0038I Pass   6: suminf.    0.37500 (1) obj. -25.25 iterations 0\n",
      "Cbc0038I Pass   7: suminf.    0.37500 (1) obj. -25.25 iterations 0\n",
      "Cbc0038I Pass   8: suminf.    0.37500 (1) obj. -25.25 iterations 0\n",
      "Cbc0038I Pass   9: suminf.    0.37500 (1) obj. -25.25 iterations 0\n",
      "Cbc0038I Pass  10: suminf.    0.37500 (1) obj. -25.25 iterations 0\n",
      "Cbc0038I Pass  11: suminf.    0.37500 (1) obj. -25.25 iterations 0\n",
      "Cbc0038I Pass  12: suminf.    0.37500 (1) obj. -25.25 iterations 0\n",
      "Cbc0038I Pass  13: suminf.    0.37500 (1) obj. -25.25 iterations 0\n",
      "Cbc0038I Pass  14: suminf.    0.37500 (1) obj. -25.25 iterations 0\n",
      "Cbc0038I Pass  15: suminf.    0.37500 (1) obj. -25.25 iterations 0\n",
      "Cbc0038I Pass  16: suminf.    0.37500 (1) obj. -25.25 iterations 0\n",
      "Cbc0038I Pass  17: suminf.    0.37500 (1) obj. -25.25 iterations 0\n",
      "Cbc0038I Pass  18: suminf.    0.37500 (1) obj. -25.25 iterations 0\n",
      "Cbc0038I Pass  19: suminf.    0.37500 (1) obj. -25.25 iterations 0\n",
      "Cbc0038I Pass  20: suminf.    0.37500 (1) obj. -25.25 iterations 0\n",
      "Cbc0038I Pass  21: suminf.    0.37500 (1) obj. -25.25 iterations 0\n",
      "Cbc0038I Pass  22: suminf.    0.37500 (1) obj. -25.25 iterations 0\n",
      "Cbc0038I Pass  23: suminf.    0.37500 (1) obj. -25.25 iterations 0\n",
      "Cbc0038I Pass  24: suminf.    0.37500 (1) obj. -25.25 iterations 0\n",
      "Cbc0038I Pass  25: suminf.    0.37500 (1) obj. -25.25 iterations 0\n",
      "Cbc0038I Pass  26: suminf.    0.37500 (1) obj. -25.25 iterations 0\n",
      "Cbc0038I Pass  27: suminf.    0.37500 (1) obj. -25.25 iterations 0\n",
      "Cbc0038I Pass  28: suminf.    0.37500 (1) obj. -25.25 iterations 0\n",
      "Cbc0038I Pass  29: suminf.    0.37500 (1) obj. -25.25 iterations 0\n",
      "Cbc0038I Pass  30: suminf.    0.37500 (1) obj. -25.25 iterations 0\n",
      "Cbc0038I No solution found this major pass\n",
      "Cbc0038I Before mini branch and bound, 5 integers at bound fixed and 0 continuous\n",
      "Cbc0038I Mini branch and bound did not improve solution (0.02 seconds)\n",
      "Cbc0038I After 0.02 seconds - Feasibility pump exiting with objective of -24 - took 0.00 seconds\n",
      "Cbc0012I Integer solution of -24 found by feasibility pump after 0 iterations and 0 nodes (0.02 seconds)\n",
      "Cbc0001I Search completed - best objective -24, took 0 iterations and 0 nodes (0.02 seconds)\n",
      "Cbc0035I Maximum depth 0, 4 variables fixed on reduced cost\n",
      "Cuts at root node changed objective from -25.5278 to -24\n",
      "Probing was tried 0 times and created 0 cuts of which 0 were active after adding rounds of cuts (0.000 seconds)\n",
      "Gomory was tried 0 times and created 0 cuts of which 0 were active after adding rounds of cuts (0.000 seconds)\n",
      "Knapsack was tried 0 times and created 0 cuts of which 0 were active after adding rounds of cuts (0.000 seconds)\n",
      "Clique was tried 0 times and created 0 cuts of which 0 were active after adding rounds of cuts (0.000 seconds)\n",
      "MixedIntegerRounding2 was tried 0 times and created 0 cuts of which 0 were active after adding rounds of cuts (0.000 seconds)\n",
      "FlowCover was tried 0 times and created 0 cuts of which 0 were active after adding rounds of cuts (0.000 seconds)\n",
      "TwoMirCuts was tried 0 times and created 0 cuts of which 0 were active after adding rounds of cuts (0.000 seconds)\n",
      "ZeroHalf was tried 0 times and created 0 cuts of which 0 were active after adding rounds of cuts (0.000 seconds)\n",
      "\n",
      "Result - Optimal solution found\n",
      "\n",
      "Objective value:                24.00000000\n",
      "Enumerated nodes:               0\n",
      "Total iterations:               0\n",
      "Time (CPU seconds):             0.00\n",
      "Time (Wallclock seconds):       0.02\n",
      "\n",
      "Option for printingOptions changed from normal to all\n",
      "Total time (CPU seconds):       0.01   (Wallclock seconds):       0.03\n",
      "\n"
     ]
    },
    {
     "data": {
      "text/plain": [
       "1"
      ]
     },
     "execution_count": 35,
     "metadata": {},
     "output_type": "execute_result"
    }
   ],
   "source": [
    "# Create the variable to contain the problem data\n",
    "problem = p.LpProblem(name=\"Paris Visit - Max. number of sites (within 1 km radius)\", sense=p.const.LpMaximize)\n",
    "\n",
    "# Create the variables\n",
    "for site in sites:\n",
    "    site_info = next(x for x in sites_info if x.site_code == site)\n",
    "    print_log(f\"Creating variable for {site = }\")\n",
    "    globals()[f\"{site}\"] = p.LpVariable(name=f\"{site}\", lowBound=0, upBound=1, cat=p.LpInteger)\n",
    "\n",
    "# Create the objective function\n",
    "problem += p.lpSum([globals()[f\"{site}\"] * sites_info[i].rating for i, site in enumerate(sites)]), \"Max. number of sites\"\n",
    "\n",
    "# Create the constraints\n",
    "# 1. Max. duration\n",
    "problem += p.lpSum([globals()[f\"{site}\"] * sites_info[i].duration for i, site in enumerate(sites)]) <= 12, \"Max. duration\"\n",
    "# 2. Max. price\n",
    "problem += p.lpSum([globals()[f\"{site}\"] * sites_info[i].price for i, site in enumerate(sites)]) <= 65, \"Max. price\"\n",
    "\n",
    "# 3. Distance between sites\n",
    "for i, site1 in enumerate(sites):\n",
    "    for j, site2 in enumerate(sites):\n",
    "        if distance_df.loc[site1, site2] <= 1 and site1 != site2: # if distance is between 0 and 1 km\n",
    "            print_log(f\"{site1 = } {site2 = } -> {distance_df.loc[site1, site2]}\")\n",
    "            problem += globals()[f\"{site1}\"] - globals()[f\"{site2}\"] == 0, f\"Distance between {site1} and {site2}\"\n",
    "            # problem += locals()[f\"{site1}\"] + locals()[f\"{site2}\"] <= 1 + distance_df.loc[site1, site2] / 10, f\"Distance between {site1} and {site2}\"\n",
    "\n",
    "# The problem data is written to an .lp file\n",
    "problem.writeLP(filename=join(data_dir, \"ListVisit_2_a.lp\"), writeSOS=1, mip=1, max_length=100)\n",
    "\n",
    "# The problem is solved using PuLP's choice of solver\n",
    "problem.solve()"
   ]
  },
  {
   "cell_type": "markdown",
   "id": "3883bfb1",
   "metadata": {},
   "source": [
    "#### Output"
   ]
  },
  {
   "cell_type": "code",
   "execution_count": 36,
   "id": "06f8527c",
   "metadata": {},
   "outputs": [
    {
     "name": "stdout",
     "output_type": "stream",
     "text": [
      "[ log ]: p.LpStatus[problem.status] = 'Optimal'\n",
      "[ log ]: AC = 1.0\n",
      "[ log ]: AT = 1.0\n",
      "[ log ]: BS = 1.0\n",
      "[ log ]: CA = 1.0\n",
      "[ log ]: CN = 0.0\n",
      "[ log ]: CP = 0.0\n",
      "[ log ]: JT = 1.0\n",
      "[ log ]: ML = 0.0\n",
      "[ log ]: MO = 1.0\n",
      "[ log ]: PC = 1.0\n",
      "[ log ]: SC = 0.0\n",
      "[ log ]: TE = 0.0\n",
      "[ log ]: TM = 0.0\n",
      "[ log ]: p.value(problem.objective) = 24.0\n",
      "[ log ]: You should visit total '24.0' places. i.e:\n",
      "\n",
      "l’Avenue des Champs-Elysées --- l’Arc de triomphe --- la Basilique du Sacré-Coeur --- les Catacombes --- le Jardin des tuileries --- le Musée d’Orsay --- La Place de la Concorde\n"
     ]
    }
   ],
   "source": [
    "print_log(f\"{p.LpStatus[problem.status] = }\")\n",
    "\n",
    "# _ = [print_log(f\"{v.name} = {v.varValue}\") for v in problem.variables()]\n",
    "to_visit = []\n",
    "for v in problem.variables():\n",
    "    print_log(f\"{v.name} = {v.varValue}\")\n",
    "    if v.varValue == 1:\n",
    "        site = next(x for x in sites_info if x.site_code == v.name)\n",
    "        to_visit.append(site.name)\n",
    "\n",
    "print_log(f\"{p.value(problem.objective) = }\")\n",
    "print_log(f\"You should visit total '{p.value(problem.objective)}' places. i.e:\\n\\n{' --- '.join(to_visit)}\")"
   ]
  },
  {
   "cell_type": "markdown",
   "id": "5a696fbc",
   "metadata": {},
   "source": [
    "- Preference 2 : He absolutely wants to visit the `Eiffel Tower` (TE) and `Catacombes` (CA)."
   ]
  },
  {
   "cell_type": "code",
   "execution_count": null,
   "id": "f6c9faac",
   "metadata": {},
   "outputs": [],
   "source": [
    "# Create the variable to contain the problem data\n",
    "problem = p.LpProblem(name=\"Paris Visit - Max. number of sites (must visit effiel tower and catacombs)\", sense=p.const.LpMaximize)\n",
    "\n",
    "# Create the variables\n",
    "for site in sites:\n",
    "    site_info = next(x for x in sites_info if x.site_code == site)\n",
    "    print_log(f\"Creating variable for {site = }\")\n",
    "    globals()[f\"{site}\"] = p.LpVariable(name=f\"{site}\", lowBound=0, upBound=1, cat=p.LpInteger)\n",
    "\n",
    "# Create the objective function\n",
    "problem += p.lpSum([globals()[f\"{site}\"] * sites_info[i].rating for i, site in enumerate(sites)]), \"Max. number of sites\"\n",
    "\n",
    "# Create the constraints\n",
    "# 1. Max. duration\n",
    "problem += p.lpSum([globals()[f\"{site}\"] * sites_info[i].duration for i, site in enumerate(sites)]) <= 12, \"Max. duration\"\n",
    "# 2. Max. price\n",
    "problem += p.lpSum([globals()[f\"{site}\"] * sites_info[i].price for i, site in enumerate(sites)]) <= 65, \"Max. price\"\n",
    "\n",
    "# 3. Must visit Effiel Tower (TE) and Catacombs (CA)\n",
    "problem += globals()[f\"{site1}\"] - globals()[f\"{site2}\"] == 0, f\"Distance between {site1} and {site2}\"\n",
    "\n",
    "# The problem data is written to an .lp file\n",
    "problem.writeLP(filename=join(data_dir, \"ListVisit_2_b.lp\"), writeSOS=1, mip=1, max_length=100)\n",
    "\n",
    "# The problem is solved using PuLP's choice of solver\n",
    "problem.solve()"
   ]
  },
  {
   "cell_type": "code",
   "execution_count": null,
   "id": "57985a9a",
   "metadata": {},
   "outputs": [],
   "source": []
  },
  {
   "cell_type": "code",
   "execution_count": null,
   "id": "50209826",
   "metadata": {},
   "outputs": [],
   "source": []
  },
  {
   "cell_type": "code",
   "execution_count": 31,
   "id": "e2022ddd",
   "metadata": {},
   "outputs": [
    {
     "name": "stdout",
     "output_type": "stream",
     "text": [
      "[ log ]: site1 = 'ML' site2 = 'SC' -> 0.8\n",
      "[ log ]: site1 = 'AT' site2 = 'AC' -> 1.0\n",
      "[ log ]: site1 = 'MO' site2 = 'JT' -> 0.9\n",
      "[ log ]: site1 = 'MO' site2 = 'PC' -> 1.0\n",
      "[ log ]: site1 = 'JT' site2 = 'MO' -> 0.9\n",
      "[ log ]: site1 = 'JT' site2 = 'PC' -> 1.0\n",
      "[ log ]: site1 = 'CP' site2 = 'CN' -> 0.85\n",
      "[ log ]: site1 = 'CP' site2 = 'SC' -> 0.9\n",
      "[ log ]: site1 = 'CN' site2 = 'CP' -> 0.85\n",
      "[ log ]: site1 = 'CN' site2 = 'SC' -> 0.4\n",
      "[ log ]: site1 = 'SC' site2 = 'ML' -> 0.8\n",
      "[ log ]: site1 = 'SC' site2 = 'CP' -> 0.9\n",
      "[ log ]: site1 = 'SC' site2 = 'CN' -> 0.4\n",
      "[ log ]: site1 = 'PC' site2 = 'MO' -> 1.0\n",
      "[ log ]: site1 = 'PC' site2 = 'JT' -> 1.0\n",
      "[ log ]: site1 = 'AC' site2 = 'AT' -> 1.0\n"
     ]
    }
   ],
   "source": [
    "for i, site1 in enumerate(sites):\n",
    "    for j, site2 in enumerate(sites):\n",
    "        if distance_df.loc[site1, site2] <= 1 and site1 != site2: # if distance is between 0 and 1 km\n",
    "            print_log(f\"{site1 = } {site2 = } -> {distance_df.loc[site1, site2]}\")"
   ]
  },
  {
   "cell_type": "code",
   "execution_count": null,
   "id": "bf51e894",
   "metadata": {},
   "outputs": [],
   "source": [
    "# # 3. Distance between sites\n",
    "# for i, site in enumerate(sites):\n",
    "#     for j, site2 in enumerate(sites):\n",
    "#         if i != j:\n",
    "#             problem += locals()[f\"{site}\"] + locals()[f\"{site2}\"] <= 1 + distance_df.loc[site, site2] / 10, f\"Distance between {site} and {site2}\"\n",
    "\n",
    "#     locals()[f\"duration_{site}\"] = p.LpVariable(name=f\"duration_{site}\", lowBound=0, upBound=site_info.duration, cat=p.const.LpContinuous)\n",
    "#     locals()[f\"price_{site}\"] = p.LpVariable(name=f\"price_{site}\", lowBound=0, upBound=site_info.price, cat=p.const.LpContinuous)\n",
    "\n",
    "#     locals()[site] = p.LpVariable(name=site, lowBound=0, upBound=1, cat=p.const.LpInteger)\n",
    "\n",
    "\n",
    "# x = p.LpVariable(name=\"Toy_1_units\", lowBound=0, upBound=None, cat=p.LpInteger)\n",
    "# y = p.LpVariable(name=\"Toy_2_units\", lowBound=0, upBound=None, cat=p.LpInteger)\n",
    "\n",
    "# # The objective function is added to \"problem\" first\n",
    "# problem += 25*x + 20*y, \"Profit; to be maximized\"\n",
    "\n",
    "# # The two contraints for the herbs\n",
    "# problem += 20*x + 12*y <= 2000, \"Required units - constraint\"\n",
    "# problem += 5*x + 5*y <= 540, \"Time required - constraint\""
   ]
  }
 ],
 "metadata": {
  "kernelspec": {
   "display_name": "Python 3.10.6 ('decision_modelling')",
   "language": "python",
   "name": "python3"
  },
  "language_info": {
   "codemirror_mode": {
    "name": "ipython",
    "version": 3
   },
   "file_extension": ".py",
   "mimetype": "text/x-python",
   "name": "python",
   "nbconvert_exporter": "python",
   "pygments_lexer": "ipython3",
   "version": "3.10.6"
  },
  "vscode": {
   "interpreter": {
    "hash": "922e2005b522558b637e02e4ef2271899f71cd2929a60d5c7b1a2137b531939a"
   }
  }
 },
 "nbformat": 4,
 "nbformat_minor": 5
}
