{
 "cells": [
  {
   "cell_type": "markdown",
   "id": "e136a84c-af15-4dfc-ad71-5225a1cca97f",
   "metadata": {},
   "source": [
    "### Import libraries"
   ]
  },
  {
   "cell_type": "code",
   "execution_count": 9,
   "id": "ed08ef5c",
   "metadata": {},
   "outputs": [
    {
     "name": "stdout",
     "output_type": "stream",
     "text": [
      "The autoreload extension is already loaded. To reload it, use:\n",
      "  %reload_ext autoreload\n"
     ]
    }
   ],
   "source": [
    "%load_ext autoreload\n",
    "%autoreload\n",
    "\n",
    "from os import getcwd\n",
    "from os.path import join, abspath, pardir, relpath, exists\n",
    "\n",
    "from dataclasses import dataclass, field\n",
    "\n",
    "import pandas as pd\n",
    "import numpy as np\n",
    "from numpy import matrixlib as npmat\n",
    "import networkx as nx\n",
    "from typing import Union\n",
    "import pulp as p\n",
    "\n",
    "from IPython.display import IFrame\n",
    "from IPython.core.interactiveshell import InteractiveShell\n",
    "InteractiveShell.ast_node_interactivity = \"all\""
   ]
  },
  {
   "cell_type": "markdown",
   "id": "bbbb968b-ce9f-4189-9a95-6b2368d9c015",
   "metadata": {
    "tags": []
   },
   "source": [
    "### Helper methods"
   ]
  },
  {
   "cell_type": "code",
   "execution_count": 2,
   "id": "b18f387e-86ff-40da-b2e5-88272eb041a0",
   "metadata": {},
   "outputs": [],
   "source": [
    "# ------------------------ #\n",
    "# Helper logging functions\n",
    "# ------------------------ #\n",
    "def print_log(text: str) -> None:\n",
    "    \"\"\" Prints the log \"\"\"\n",
    "    print(f\"[ log ]: {text}\")\n",
    "\n",
    "def print_error(text: str) -> None:\n",
    "    \"\"\" Prints the error \"\"\"\n",
    "    print(f\"[ error ]: {text}\")\n",
    "# -------------------------------------------------- #\n",
    "# Helper functions for matrix related operations\n",
    "# -------------------------------------------------- #\n",
    "def graph_to_matrix(G: Union[nx.Graph, npmat.matrix]) -> npmat.matrix:\n",
    "    \"\"\"\n",
    "    Converts a graph to a matrix\n",
    "    \"\"\"\n",
    "    return nx.to_numpy_matrix(G) if isinstance(G, nx.Graph) else G\n",
    "\n",
    "def matrix_to_graph(matrix: Union[nx.Graph, npmat.matrix]) -> nx.Graph:\n",
    "    \"\"\"\n",
    "    Convert from a numpy matrix to a network graph\n",
    "    \"\"\"\n",
    "    return nx.from_numpy_matrix(matrix) if isinstance(matrix, npmat.matrix) else matrix\n",
    "\n",
    "def undirected_to_directed(graph: nx.Graph) -> nx.DiGraph:\n",
    "    \"\"\"\n",
    "    Converts an undirected graph to a directed graph\n",
    "    \"\"\"\n",
    "    di_graph = nx.DiGraph()\n",
    "    di_graph.add_edges_from(graph.edges())\n",
    "    return di_graph\n",
    "\n",
    "def csv_to_matrix(csv_file: str) -> npmat.matrix:\n",
    "    \"\"\"\n",
    "    Returns a matrix from a csv file\n",
    "    \"\"\"\n",
    "    return npmat.asmatrix(pd.read_csv(csv_file, header=None, on_bad_lines=\"skip\").to_numpy())"
   ]
  },
  {
   "cell_type": "markdown",
   "id": "f4b746f7-26de-45d9-83a8-b09eb5ae2126",
   "metadata": {},
   "source": [
    "### Documentation"
   ]
  },
  {
   "cell_type": "code",
   "execution_count": 3,
   "id": "70f01e56",
   "metadata": {},
   "outputs": [
    {
     "data": {
      "text/html": [
       "\n",
       "        <iframe\n",
       "            width=\"1200\"\n",
       "            height=\"350\"\n",
       "            src=\"../../docs/practical_works_linear_programing_v3.pdf\"\n",
       "            frameborder=\"0\"\n",
       "            allowfullscreen\n",
       "            \n",
       "        ></iframe>\n",
       "        "
      ],
      "text/plain": [
       "<IPython.lib.display.IFrame at 0x1269bbf10>"
      ]
     },
     "execution_count": 3,
     "metadata": {},
     "output_type": "execute_result"
    }
   ],
   "source": [
    "parent_dir = abspath(join(join(getcwd(), pardir), pardir))\n",
    "data_dir = join(parent_dir, 'data')\n",
    "data_file = join(data_dir, \"data.csv\")\n",
    "docs_dir = join(parent_dir, 'docs')\n",
    "if exists(docs_dir):\n",
    "    doc_file = relpath(join(docs_dir, 'practical_works_linear_programing_v3.pdf'))\n",
    "    IFrame(doc_file, width=1200, height=350)\n",
    "matrix = csv_to_matrix(data_file)"
   ]
  },
  {
   "cell_type": "markdown",
   "id": "786942b9-081d-4251-9355-dab3d85f57c8",
   "metadata": {
    "jp-MarkdownHeadingCollapsed": true,
    "tags": []
   },
   "source": [
    "#### Linear Programming via PuLP"
   ]
  },
  {
   "cell_type": "code",
   "execution_count": 4,
   "id": "640310fa-85a2-4ddc-845b-1c8f171f7349",
   "metadata": {},
   "outputs": [
    {
     "name": "stderr",
     "output_type": "stream",
     "text": [
      "/opt/homebrew/Caskroom/mambaforge/base/envs/decision_modelling/lib/python3.10/site-packages/pulp/pulp.py:1352: UserWarning: Spaces are not permitted in the name. Converted to '_'\n",
      "  warnings.warn(\"Spaces are not permitted in the name. Converted to '_'\")\n"
     ]
    },
    {
     "data": {
      "text/plain": [
       "[Medicine_1_units, Medicine_2_units]"
      ]
     },
     "execution_count": 4,
     "metadata": {},
     "output_type": "execute_result"
    },
    {
     "name": "stdout",
     "output_type": "stream",
     "text": [
      "Welcome to the CBC MILP Solver \n",
      "Version: 2.10.3 \n",
      "Build Date: Dec 15 2019 \n",
      "\n",
      "command line - /opt/homebrew/Caskroom/mambaforge/base/envs/decision_modelling/lib/python3.10/site-packages/pulp/apis/../solverdir/cbc/osx/64/cbc /var/folders/mm/5vsgc5194kqf1xnmgq439jww0000gn/T/05450cfbed73439281d4bb1a6abbf724-pulp.mps max timeMode elapsed branch printingOptions all solution /var/folders/mm/5vsgc5194kqf1xnmgq439jww0000gn/T/05450cfbed73439281d4bb1a6abbf724-pulp.sol (default strategy 1)\n",
      "At line 2 NAME          MODEL\n",
      "At line 3 ROWS\n",
      "At line 7 COLUMNS\n",
      "At line 18 RHS\n",
      "At line 21 BOUNDS\n",
      "At line 24 ENDATA\n",
      "Problem MODEL has 2 rows, 2 columns and 4 elements\n",
      "Coin0008I MODEL read with 0 errors\n",
      "Option for timeMode changed from cpu to elapsed\n",
      "Continuous objective value is 155 - 0.00 seconds\n",
      "Cgl0004I processed model has 2 rows, 2 columns (2 integer (0 of which binary)) and 4 elements\n",
      "Cutoff increment increased from 1e-05 to 4.9999\n",
      "Cbc0012I Integer solution of -155 found by DiveCoefficient after 0 iterations and 0 nodes (0.00 seconds)\n",
      "Cbc0001I Search completed - best objective -155, took 0 iterations and 0 nodes (0.00 seconds)\n",
      "Cbc0035I Maximum depth 0, 0 variables fixed on reduced cost\n",
      "Cuts at root node changed objective from -155 to -155\n",
      "Probing was tried 0 times and created 0 cuts of which 0 were active after adding rounds of cuts (0.000 seconds)\n",
      "Gomory was tried 0 times and created 0 cuts of which 0 were active after adding rounds of cuts (0.000 seconds)\n",
      "Knapsack was tried 0 times and created 0 cuts of which 0 were active after adding rounds of cuts (0.000 seconds)\n",
      "Clique was tried 0 times and created 0 cuts of which 0 were active after adding rounds of cuts (0.000 seconds)\n",
      "MixedIntegerRounding2 was tried 0 times and created 0 cuts of which 0 were active after adding rounds of cuts (0.000 seconds)\n",
      "FlowCover was tried 0 times and created 0 cuts of which 0 were active after adding rounds of cuts (0.000 seconds)\n",
      "TwoMirCuts was tried 0 times and created 0 cuts of which 0 were active after adding rounds of cuts (0.000 seconds)\n",
      "ZeroHalf was tried 0 times and created 0 cuts of which 0 were active after adding rounds of cuts (0.000 seconds)\n",
      "\n",
      "Result - Optimal solution found\n",
      "\n",
      "Objective value:                155.00000000\n",
      "Enumerated nodes:               0\n",
      "Total iterations:               0\n",
      "Time (CPU seconds):             0.00\n",
      "Time (Wallclock seconds):       0.00\n",
      "\n",
      "Option for printingOptions changed from normal to all\n",
      "Total time (CPU seconds):       0.00   (Wallclock seconds):       0.00\n",
      "\n"
     ]
    },
    {
     "data": {
      "text/plain": [
       "1"
      ]
     },
     "execution_count": 4,
     "metadata": {},
     "output_type": "execute_result"
    }
   ],
   "source": [
    "# Create the variable to contain the problem data\n",
    "problem = p.LpProblem(name=\"The Miracle Worker\", sense=p.const.LpMaximize)\n",
    "\n",
    "# Create problem variables\n",
    "x = p.LpVariable(name=\"Medicine_1_units\", lowBound=0, upBound=None, cat=p.LpInteger)\n",
    "y = p.LpVariable(name=\"Medicine_2_units\", lowBound=0, upBound=None, cat=p.LpInteger)\n",
    "\n",
    "# The objective function is added to \"problem\" first\n",
    "problem += 25*x + 20*y, \"Health restored; to be maximized\"\n",
    "\n",
    "# The two contraints for the herbs\n",
    "problem += 3*x + 4*y <= 25, \"Herb A constraint\"\n",
    "problem += 2*x + y <= 10, \"Herb B constraint\"\n",
    "\n",
    "# The problem data is written to an .lp file\n",
    "problem.writeLP(filename=join(data_dir, \"miracle_worker.lp\"), writeSOS=1, mip=1, max_length=100)\n",
    "\n",
    "# The problem is solved using PuLP's choice of solver\n",
    "problem.solve()"
   ]
  },
  {
   "cell_type": "markdown",
   "id": "e1fa80a6-c542-4f60-8142-03407c3004b4",
   "metadata": {
    "jp-MarkdownHeadingCollapsed": true,
    "tags": []
   },
   "source": [
    "#### Output"
   ]
  },
  {
   "cell_type": "code",
   "execution_count": 5,
   "id": "0bbd016f",
   "metadata": {},
   "outputs": [
    {
     "name": "stdout",
     "output_type": "stream",
     "text": [
      "[ log ]: p.LpStatus[problem.status] = 'Optimal'\n",
      "[ log ]: Medicine_1_units = 3.0\n",
      "[ log ]: Medicine_2_units = 4.0\n",
      "[ log ]: p.value(problem.objective) = 155.0\n"
     ]
    }
   ],
   "source": [
    "print_log(f\"{p.LpStatus[problem.status] = }\")\n",
    "\n",
    "_ = [print_log(f\"{v.name} = {v.varValue}\") for v in problem.variables()]\n",
    "\n",
    "print_log(f\"{p.value(problem.objective) = }\")"
   ]
  },
  {
   "cell_type": "markdown",
   "id": "9038793d-6256-40fd-906d-0e088fdd8721",
   "metadata": {
    "tags": []
   },
   "source": [
    "#### Toy example (Linear Programming via PuLP)"
   ]
  },
  {
   "cell_type": "code",
   "execution_count": 6,
   "id": "bc944985-8405-425b-9dc4-b5ddf12106a3",
   "metadata": {},
   "outputs": [
    {
     "data": {
      "text/plain": [
       "[Toy_1_units, Toy_2_units]"
      ]
     },
     "execution_count": 6,
     "metadata": {},
     "output_type": "execute_result"
    },
    {
     "name": "stdout",
     "output_type": "stream",
     "text": [
      "Welcome to the CBC MILP Solver \n",
      "Version: 2.10.3 \n",
      "Build Date: Dec 15 2019 \n",
      "\n",
      "command line - /opt/homebrew/Caskroom/mambaforge/base/envs/decision_modelling/lib/python3.10/site-packages/pulp/apis/../solverdir/cbc/osx/64/cbc /var/folders/mm/5vsgc5194kqf1xnmgq439jww0000gn/T/25fbf009db8140fa98c88686e1393238-pulp.mps max timeMode elapsed branch printingOptions all solution /var/folders/mm/5vsgc5194kqf1xnmgq439jww0000gn/T/25fbf009db8140fa98c88686e1393238-pulp.sol (default strategy 1)\n",
      "At line 2 NAME          MODEL\n",
      "At line 3 ROWS\n",
      "At line 7 COLUMNS\n",
      "At line 18 RHS\n",
      "At line 21 BOUNDS\n",
      "At line 24 ENDATA\n",
      "Problem MODEL has 2 rows, 2 columns and 4 elements\n",
      "Coin0008I MODEL read with 0 errors\n",
      "Option for timeMode changed from cpu to elapsed\n",
      "Continuous objective value is 2600 - 0.00 seconds\n",
      "Cgl0004I processed model has 2 rows, 2 columns (2 integer (0 of which binary)) and 4 elements\n",
      "Cutoff increment increased from 1e-05 to 4.9999\n",
      "Cbc0012I Integer solution of -2600 found by DiveCoefficient after 0 iterations and 0 nodes (0.00 seconds)\n",
      "Cbc0001I Search completed - best objective -2600, took 0 iterations and 0 nodes (0.00 seconds)\n",
      "Cbc0035I Maximum depth 0, 0 variables fixed on reduced cost\n",
      "Cuts at root node changed objective from -2600 to -2600\n",
      "Probing was tried 0 times and created 0 cuts of which 0 were active after adding rounds of cuts (0.000 seconds)\n",
      "Gomory was tried 0 times and created 0 cuts of which 0 were active after adding rounds of cuts (0.000 seconds)\n",
      "Knapsack was tried 0 times and created 0 cuts of which 0 were active after adding rounds of cuts (0.000 seconds)\n",
      "Clique was tried 0 times and created 0 cuts of which 0 were active after adding rounds of cuts (0.000 seconds)\n",
      "MixedIntegerRounding2 was tried 0 times and created 0 cuts of which 0 were active after adding rounds of cuts (0.000 seconds)\n",
      "FlowCover was tried 0 times and created 0 cuts of which 0 were active after adding rounds of cuts (0.000 seconds)\n",
      "TwoMirCuts was tried 0 times and created 0 cuts of which 0 were active after adding rounds of cuts (0.000 seconds)\n",
      "ZeroHalf was tried 0 times and created 0 cuts of which 0 were active after adding rounds of cuts (0.000 seconds)\n",
      "\n",
      "Result - Optimal solution found\n",
      "\n",
      "Objective value:                2600.00000000\n",
      "Enumerated nodes:               0\n",
      "Total iterations:               0\n",
      "Time (CPU seconds):             0.00\n",
      "Time (Wallclock seconds):       0.00\n",
      "\n",
      "Option for printingOptions changed from normal to all\n",
      "Total time (CPU seconds):       0.00   (Wallclock seconds):       0.00\n",
      "\n"
     ]
    },
    {
     "data": {
      "text/plain": [
       "1"
      ]
     },
     "execution_count": 6,
     "metadata": {},
     "output_type": "execute_result"
    }
   ],
   "source": [
    "# Create the variable to contain the problem data\n",
    "problem = p.LpProblem(name=\"Toy Manufacturing\", sense=p.const.LpMaximize)\n",
    "\n",
    "# Create problem variables\n",
    "x = p.LpVariable(name=\"Toy_1_units\", lowBound=0, upBound=None, cat=p.LpInteger)\n",
    "y = p.LpVariable(name=\"Toy_2_units\", lowBound=0, upBound=None, cat=p.LpInteger)\n",
    "\n",
    "# The objective function is added to \"problem\" first\n",
    "problem += 25*x + 20*y, \"Profit; to be maximized\"\n",
    "\n",
    "# The two contraints for the herbs\n",
    "problem += 20*x + 12*y <= 2000, \"Required units - constraint\"\n",
    "problem += 5*x + 5*y <= 540, \"Time required - constraint\"\n",
    "\n",
    "# The problem data is written to an .lp file\n",
    "problem.writeLP(filename=join(data_dir, \"toy_manufacturing.lp\"), writeSOS=1, mip=1, max_length=100)\n",
    "\n",
    "# The problem is solved using PuLP's choice of solver\n",
    "problem.solve()"
   ]
  },
  {
   "cell_type": "markdown",
   "id": "8e0a433d-4e71-412a-8fdb-48d4fe55319e",
   "metadata": {
    "jp-MarkdownHeadingCollapsed": true,
    "tags": []
   },
   "source": [
    "#### Output"
   ]
  },
  {
   "cell_type": "code",
   "execution_count": 7,
   "id": "a603fa9a-6ea5-416f-98e0-3d985eed5698",
   "metadata": {},
   "outputs": [
    {
     "name": "stdout",
     "output_type": "stream",
     "text": [
      "[ log ]: p.LpStatus[problem.status] = 'Optimal'\n",
      "[ log ]: Toy_1_units = 88.0\n",
      "[ log ]: Toy_2_units = 20.0\n",
      "[ log ]: p.value(problem.objective) = 2600.0\n"
     ]
    }
   ],
   "source": [
    "print_log(f\"{p.LpStatus[problem.status] = }\")\n",
    "\n",
    "_ = [print_log(f\"{v.name} = {v.varValue}\") for v in problem.variables()]\n",
    "\n",
    "print_log(f\"{p.value(problem.objective) = }\")"
   ]
  },
  {
   "cell_type": "markdown",
   "id": "cadd6020-6f74-461e-876e-b2c7b2fe1103",
   "metadata": {
    "tags": []
   },
   "source": [
    "### How to visit Paris ? (efficiently with low budget)"
   ]
  },
  {
   "cell_type": "code",
   "execution_count": 10,
   "id": "3b844276",
   "metadata": {},
   "outputs": [
    {
     "ename": "TypeError",
     "evalue": "field() got an unexpected keyword argument 'describe'",
     "output_type": "error",
     "traceback": [
      "\u001b[0;31m---------------------------------------------------------------------------\u001b[0m",
      "\u001b[0;31mTypeError\u001b[0m                                 Traceback (most recent call last)",
      "Cell \u001b[0;32mIn [10], line 5\u001b[0m\n\u001b[1;32m      1\u001b[0m \u001b[39mfrom\u001b[39;00m \u001b[39mpydoc\u001b[39;00m \u001b[39mimport\u001b[39;00m describe\n\u001b[1;32m      4\u001b[0m \u001b[39m@dataclass\u001b[39m(frozen\u001b[39m=\u001b[39m\u001b[39mFalse\u001b[39;00m, order\u001b[39m=\u001b[39m\u001b[39mFalse\u001b[39;00m)\n\u001b[0;32m----> 5\u001b[0m \u001b[39mclass\u001b[39;00m \u001b[39mSiteInfo\u001b[39;00m:\n\u001b[1;32m      6\u001b[0m     \u001b[39m\"\"\"\u001b[39;00m\n\u001b[1;32m      7\u001b[0m \u001b[39m    A dataclass to hold the site information\u001b[39;00m\n\u001b[1;32m      8\u001b[0m \u001b[39m    \"\"\"\u001b[39;00m\n\u001b[1;32m      9\u001b[0m     name: \u001b[39mstr\u001b[39m \u001b[39m=\u001b[39m field(default\u001b[39m=\u001b[39m\u001b[39m\"\u001b[39m\u001b[39m\"\u001b[39m)\n",
      "Cell \u001b[0;32mIn [10], line 12\u001b[0m, in \u001b[0;36mSiteInfo\u001b[0;34m()\u001b[0m\n\u001b[1;32m     10\u001b[0m site_code: \u001b[39mstr\u001b[39m \u001b[39m=\u001b[39m field(default\u001b[39m=\u001b[39m\u001b[39m\"\u001b[39m\u001b[39m\"\u001b[39m)\n\u001b[1;32m     11\u001b[0m price: \u001b[39mfloat\u001b[39m \u001b[39m=\u001b[39m field(default\u001b[39m=\u001b[39m\u001b[39m0.0\u001b[39m)\n\u001b[0;32m---> 12\u001b[0m duration: \u001b[39mfloat\u001b[39m \u001b[39m=\u001b[39m field(default\u001b[39m=\u001b[39;49m\u001b[39m0.0\u001b[39;49m, describe\u001b[39m=\u001b[39;49m\u001b[39m\"\u001b[39;49m\u001b[39mDuration in hours\u001b[39;49m\u001b[39m\"\u001b[39;49m)\n\u001b[1;32m     14\u001b[0m \u001b[39mdef\u001b[39;00m \u001b[39m__post_init__\u001b[39m(\u001b[39mself\u001b[39m):\n\u001b[1;32m     15\u001b[0m     \u001b[39mself\u001b[39m\u001b[39m.\u001b[39mname \u001b[39m=\u001b[39m \u001b[39mself\u001b[39m\u001b[39m.\u001b[39mname\u001b[39m.\u001b[39mstrip()\n",
      "\u001b[0;31mTypeError\u001b[0m: field() got an unexpected keyword argument 'describe'"
     ]
    }
   ],
   "source": [
    "@dataclass(frozen=False, order=False)\n",
    "class SiteInfo:\n",
    "    \"\"\"\n",
    "    A dataclass to hold the site information\n",
    "    \"\"\"\n",
    "    name: str = field(default=\"\")\n",
    "    site_code: str = field(default=\"\")\n",
    "    price: float = field(default=0.0)\n",
    "    duration: float = field(default=0.0) # in hours\n",
    "    rating: int = field(default=0)\n"
   ]
  },
  {
   "cell_type": "code",
   "execution_count": null,
   "id": "74a9be1c",
   "metadata": {},
   "outputs": [],
   "source": [
    "sites = [\"TE\", \"ML\", \"AT\", \"MO\", \"JT\", \"CA\", \"CP\", \"CN\", \"BS\", \"SC\", \"PC\", \"TM\", \"AC\"]\n",
    "\n",
    "distance_in_kms = (\n",
    "    list[0, 3.8, 2.1, 2.4, 3.5, 4.2, 5.0,  4.4, 5.5, 4.2, 2.5, 3.1, 1.9],\n",
    "    list[0,   0, 3.8, 1.1, 1.3, 3.3, 1.3,  1.1, 3.4, 0.8, 1.7, 2.5, 2.8],\n",
    "    list[0,   0,   0, 3.1, 3.0, 5.8, 4.8,  4.9, 4.3, 4.6, 2.2, 4.4, 1.0],\n",
    "    list[0,   0,   0,   0, 0.9, 3.1, 2.5,  2.0, 3.9, 1.8, 1.0, 2.3, 2.1],\n",
    "    list[0,   0,   0,   0,   0, 4.2, 2.0,  2.4, 2.7, 2.0, 1.0, 3.4, 2.1],\n",
    "    list[0,   0,   0,   0,   0,   0, 3.5,  2.7, 6.5, 2.6, 3.8, 1.3, 4.9],\n",
    "    list[0,   0,   0,   0,   0,   0,   0, 0.85, 3.7, 0.9, 2.7, 3.4, 3.8],\n",
    "    list[0,   0,   0,   0,   0,   0,   0,    0, 4.5, 0.4, 2.8, 2.7, 3.9],\n",
    "    list[0,   0,   0,   0,   0,   0,   0,    0,   0, 4.2, 3.3, 5.7, 3.8],\n",
    "    list[0,   0,   0,   0,   0,   0,   0,    0,   0,   0, 2.5, 2.6, 3.6],\n",
    "    list[0,   0,   0,   0,   0,   0,   0,    0,   0,   0,   0, 3.0, 1.2],\n",
    "    list[0,   0,   0,   0,   0,   0,   0,    0,   0,   0,   0,   0, 2.1],\n",
    "    list[0,   0,   0,   0,   0,   0,   0,    0,   0,   0,   0,   0,   0]\n",
    "    )\n",
    "a=np.matrix(matrix)\n",
    "a = a.astype(float)\n",
    "df=pd.DataFrame(np.matrix(a.transpose())+a)\n",
    "df\n",
    "# df"
   ]
  }
 ],
 "metadata": {
  "kernelspec": {
   "display_name": "Python 3.10.6 ('decision_modelling')",
   "language": "python",
   "name": "python3"
  },
  "language_info": {
   "codemirror_mode": {
    "name": "ipython",
    "version": 3
   },
   "file_extension": ".py",
   "mimetype": "text/x-python",
   "name": "python",
   "nbconvert_exporter": "python",
   "pygments_lexer": "ipython3",
   "version": "3.10.6"
  },
  "vscode": {
   "interpreter": {
    "hash": "922e2005b522558b637e02e4ef2271899f71cd2929a60d5c7b1a2137b531939a"
   }
  }
 },
 "nbformat": 4,
 "nbformat_minor": 5
}
