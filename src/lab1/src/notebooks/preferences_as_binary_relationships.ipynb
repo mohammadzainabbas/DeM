{
 "cells": [
  {
   "cell_type": "markdown",
   "id": "e136a84c-af15-4dfc-ad71-5225a1cca97f",
   "metadata": {},
   "source": [
    "### Import libraries"
   ]
  },
  {
   "cell_type": "code",
   "execution_count": 1,
   "id": "ed08ef5c",
   "metadata": {},
   "outputs": [],
   "source": [
    "from os import getcwd\n",
    "from os.path import join, abspath, pardir, relpath, exists\n",
    "\n",
    "import pandas as pd\n",
    "import numpy as np\n",
    "from numpy import matrixlib as npmat\n",
    "import networkx as nx\n",
    "from typing import Union\n",
    "\n",
    "from IPython.display import IFrame\n",
    "from IPython.core.interactiveshell import InteractiveShell\n",
    "InteractiveShell.ast_node_interactivity = \"all\""
   ]
  },
  {
   "cell_type": "markdown",
   "id": "bbbb968b-ce9f-4189-9a95-6b2368d9c015",
   "metadata": {
    "jp-MarkdownHeadingCollapsed": true,
    "tags": []
   },
   "source": [
    "### Helper methods"
   ]
  },
  {
   "cell_type": "code",
   "execution_count": 54,
   "id": "b18f387e-86ff-40da-b2e5-88272eb041a0",
   "metadata": {},
   "outputs": [],
   "source": [
    "# ------------------------ #\n",
    "# Helper logging functions\n",
    "# ------------------------ #\n",
    "def print_log(text: str) -> None:\n",
    "    \"\"\" Prints the log \"\"\"\n",
    "    print(f\"[ log ]: {text}\")\n",
    "\n",
    "def print_error(text: str) -> None:\n",
    "    \"\"\" Prints the error \"\"\"\n",
    "    print(f\"[ error ]: {text}\")\n",
    "# -------------------------------------------------- #\n",
    "# Helper functions for matrix related operations\n",
    "# -------------------------------------------------- #\n",
    "def graph_to_matrix(G: Union[nx.Graph, npmat.matrix]) -> npmat.matrix:\n",
    "    \"\"\"\n",
    "    Converts a graph to a matrix\n",
    "    \"\"\"\n",
    "    return nx.to_numpy_matrix(G) if isinstance(G, nx.Graph) else G\n",
    "\n",
    "def matrix_to_graph(matrix: Union[nx.Graph, npmat.matrix]) -> nx.Graph:\n",
    "    \"\"\"\n",
    "    Convert from a numpy matrix to a network graph\n",
    "    \"\"\"\n",
    "    return nx.from_numpy_matrix(matrix) if isinstance(matrix, npmat.matrix) else matrix\n",
    "\n",
    "def undirected_to_directed(graph: nx.Graph) -> nx.DiGraph:\n",
    "    \"\"\"\n",
    "    Converts an undirected graph to a directed graph\n",
    "    \"\"\"\n",
    "    di_graph = nx.DiGraph()\n",
    "    di_graph.add_edges_from(graph.edges())\n",
    "    return di_graph\n",
    "\n",
    "def csv_to_matrix(csv_file: str) -> npmat.matrix:\n",
    "    \"\"\"\n",
    "    Returns a matrix from a csv file\n",
    "    \"\"\"\n",
    "    return npmat.asmatrix(pd.read_csv(csv_file, header=None, on_bad_lines=\"skip\").to_numpy())"
   ]
  },
  {
   "cell_type": "markdown",
   "id": "f4b746f7-26de-45d9-83a8-b09eb5ae2126",
   "metadata": {},
   "source": [
    "### Documentation"
   ]
  },
  {
   "cell_type": "code",
   "execution_count": 7,
   "id": "70f01e56",
   "metadata": {},
   "outputs": [],
   "source": [
    "parent_dir = abspath(join(join(getcwd(), pardir), pardir))\n",
    "data_dir = join(parent_dir, 'data')\n",
    "data_file = join(data_dir, \"data.csv\")\n",
    "# docs_dir = join(parent_dir, 'docs')\n",
    "# if exists(docs_dir):\n",
    "#     doc_file = relpath(join(docs_dir, 'practical_works_binary_relations.pdf'))\n",
    "    # IFrame(doc_file, width=1000, height=250)\n",
    "matrix = csv_to_matrix(data_file)"
   ]
  },
  {
   "cell_type": "markdown",
   "id": "de48cb47-4614-49ca-8c89-605ebc767afd",
   "metadata": {
    "tags": []
   },
   "source": [
    "### Exercise 1 - Basic Matrix utils"
   ]
  },
  {
   "cell_type": "markdown",
   "id": "918cf4b2-0c10-4f80-8a62-96ca0957fe28",
   "metadata": {},
   "source": [
    "#### 1. Python function converting an Excel file (`.xls` or `.xlsx`) to a `.csv` file."
   ]
  },
  {
   "cell_type": "code",
   "execution_count": 8,
   "id": "640310fa-85a2-4ddc-845b-1c8f171f7349",
   "metadata": {},
   "outputs": [],
   "source": [
    "def excel_to_csv(filename: str) -> None:\n",
    "    \"\"\"\n",
    "    Converts an excel file to a csv file\n",
    "\n",
    "    Parameters\n",
    "    ----------\n",
    "    filename: str\n",
    "        Filename of the excel file\n",
    "    \"\"\"\n",
    "    df = pd.read_excel(filename)\n",
    "    df.to_csv(filename.replace(filename.split(\".\")[-1], \"csv\"), index=False)"
   ]
  },
  {
   "cell_type": "markdown",
   "id": "cadd6020-6f74-461e-876e-b2c7b2fe1103",
   "metadata": {},
   "source": [
    "#### 2. Python function showing a graphical representation of this matrix by using appropriate libraries like `networkx` and `matplotlib`."
   ]
  },
  {
   "cell_type": "code",
   "execution_count": 50,
   "id": "b9ad13af-f5e0-459a-99a4-0630470f180b",
   "metadata": {},
   "outputs": [],
   "source": [
    "def plot_graph(graph: Union[npmat.matrix, nx.Graph], **kwargs: dict) -> None:\n",
    "    \"\"\"\n",
    "    Plots a given graph/matrix\n",
    "\n",
    "    Parameters\n",
    "    ----------\n",
    "    matrix: npmat.matrix or nx.Graph\n",
    "        A numpy matrix or a network graph\n",
    "    \"\"\"\n",
    "    if isinstance(graph, npmat.matrix):\n",
    "        n_row, n_col = graph.shape\n",
    "        if n_row != n_col:\n",
    "            print_error(f\"Adjacency matrix not square: nx,ny=({n_row}, {n_col}) [NetworkXError]\")\n",
    "            return\n",
    "        graph = matrix_to_graph(graph)\n",
    "    nx.draw(graph, with_labels=True, **kwargs)"
   ]
  },
  {
   "cell_type": "code",
   "execution_count": 51,
   "id": "c792b6c7",
   "metadata": {},
   "outputs": [
    {
     "data": {
      "image/png": "[encoded data removed]",
      "text/plain": [
       "<Figure size 640x480 with 1 Axes>"
      ]
     },
     "metadata": {},
     "output_type": "display_data"
    }
   ],
   "source": [
    "plot_graph(matrix)"
   ]
  },
  {
   "cell_type": "markdown",
   "id": "20a9ab13-5223-4e8f-8b8d-55c76938898b",
   "metadata": {},
   "source": [
    "### Exercise 2 - Build a Python function `CompleteCheck` testing if a binary relation is _complete_."
   ]
  },
  {
   "cell_type": "code",
   "execution_count": 11,
   "id": "2f263bf6-6762-4986-b2c6-d0a46ee56d67",
   "metadata": {},
   "outputs": [],
   "source": [
    "def CompleteCheck(graph: Union[nx.Graph, npmat.matrix]) -> bool:\n",
    "    \"\"\"\n",
    "    Checks if the graph/matrix is complete\n",
    "    \"\"\"\n",
    "    matrix = graph_to_matrix(graph)\n",
    "    n_row, n_col = matrix.shape\n",
    "    for i in range(n_row):\n",
    "        for j in range(n_col):\n",
    "            if matrix[i, j] == 0 or matrix[i, j] == 0:\n",
    "                return False\n",
    "    return True"
   ]
  },
  {
   "cell_type": "code",
   "execution_count": 12,
   "id": "da445f69-b747-45f6-a098-2879b2375094",
   "metadata": {},
   "outputs": [
    {
     "data": {
      "text/plain": [
       "False"
      ]
     },
     "execution_count": 12,
     "metadata": {},
     "output_type": "execute_result"
    }
   ],
   "source": [
    "CompleteCheck(matrix)"
   ]
  },
  {
   "cell_type": "markdown",
   "id": "8fc83826",
   "metadata": {},
   "source": [
    "### Exercise 3 - Build a Python function `ReflexiveCheck` testing if a binary relation is _reflexive_."
   ]
  },
  {
   "cell_type": "code",
   "execution_count": 15,
   "id": "30cade04-a689-48c6-94fc-11379f2bf57e",
   "metadata": {},
   "outputs": [],
   "source": [
    "def ReflexiveCheck(graph: Union[nx.Graph, npmat.matrix]) -> bool:\n",
    "    \"\"\"\n",
    "    Checks if the graph/matrix is reflexive\n",
    "    \"\"\"\n",
    "    matrix = graph_to_matrix(graph)\n",
    "    return np.all(np.diagonal(matrix) == 1)"
   ]
  },
  {
   "cell_type": "code",
   "execution_count": 16,
   "id": "fffcea52",
   "metadata": {},
   "outputs": [
    {
     "data": {
      "text/plain": [
       "False"
      ]
     },
     "execution_count": 16,
     "metadata": {},
     "output_type": "execute_result"
    }
   ],
   "source": [
    "ReflexiveCheck(matrix)"
   ]
  },
  {
   "cell_type": "markdown",
   "id": "9dd723a2",
   "metadata": {},
   "source": [
    "### Exercise 4 - Build a Python function `AsymmetricCheck` testing if a binary relation is _asymmetric_."
   ]
  },
  {
   "cell_type": "code",
   "execution_count": 17,
   "id": "52f7e5a5",
   "metadata": {},
   "outputs": [],
   "source": [
    "def AntisymmetricCheck(graph: Union[nx.Graph, npmat.matrix]) -> bool:\n",
    "    \"\"\"\n",
    "    Checks if the graph/matrix is antisymmetric\n",
    "    \"\"\"\n",
    "    matrix = graph_to_matrix(graph)\n",
    "    n_row, n_col = matrix.shape\n",
    "    for i in range(n_row):\n",
    "        for j in range(n_col):\n",
    "            if matrix[i, j] == 1 and matrix[j, i] == 1 and i != j:\n",
    "                return False\n",
    "    return True"
   ]
  },
  {
   "cell_type": "code",
   "execution_count": 18,
   "id": "1fcf0f6f",
   "metadata": {},
   "outputs": [
    {
     "data": {
      "text/plain": [
       "False"
      ]
     },
     "execution_count": 18,
     "metadata": {},
     "output_type": "execute_result"
    }
   ],
   "source": [
    "AntisymmetricCheck(matrix)"
   ]
  },
  {
   "cell_type": "markdown",
   "id": "3326893a",
   "metadata": {},
   "source": [
    "### Exercise 5 - Build a Python function `SymmetricCheck` testing if a binary relation is _symmetric_."
   ]
  },
  {
   "cell_type": "code",
   "execution_count": 19,
   "id": "81821007",
   "metadata": {},
   "outputs": [],
   "source": [
    "def SymmetricCheck(graph: Union[nx.Graph, npmat.matrix]) -> bool:\n",
    "    \"\"\"\n",
    "    Checks if the graph/matrix is symmetric\n",
    "    \"\"\"\n",
    "    matrix = graph_to_matrix(graph)\n",
    "    return np.all(matrix == matrix.T)"
   ]
  },
  {
   "cell_type": "code",
   "execution_count": 20,
   "id": "50c80916",
   "metadata": {},
   "outputs": [
    {
     "data": {
      "text/plain": [
       "False"
      ]
     },
     "execution_count": 20,
     "metadata": {},
     "output_type": "execute_result"
    }
   ],
   "source": [
    "SymmetricCheck(matrix)"
   ]
  },
  {
   "cell_type": "markdown",
   "id": "3ac2f982",
   "metadata": {},
   "source": [
    "### Exercise 6 - Build a Python function `AntisymmetricCheck` testing if a binary relation is _antisymmetric_."
   ]
  },
  {
   "cell_type": "code",
   "execution_count": 23,
   "id": "ea1a1ab0",
   "metadata": {},
   "outputs": [],
   "source": [
    "def AntisymmetricCheck(graph: Union[nx.Graph, npmat.matrix]) -> bool:\n",
    "    \"\"\"\n",
    "    Checks if the graph/matrix is antisymmetric\n",
    "    \"\"\"\n",
    "    matrix = graph_to_matrix(graph)\n",
    "    matrix_sum = matrix + matrix.T\n",
    "    check = matrix_sum - np.diag(np.diagonal(matrix_sum))\n",
    "    return (np.logical_not(np.any(check == 2))).all()"
   ]
  },
  {
   "cell_type": "code",
   "execution_count": 24,
   "id": "7de80237",
   "metadata": {},
   "outputs": [
    {
     "data": {
      "text/plain": [
       "False"
      ]
     },
     "execution_count": 24,
     "metadata": {},
     "output_type": "execute_result"
    }
   ],
   "source": [
    "AntisymmetricCheck(matrix)"
   ]
  },
  {
   "cell_type": "markdown",
   "id": "e62ea114",
   "metadata": {},
   "source": [
    "### Exercise 7 - Build a Python function `TransitiveCheck` testing if a binary relation is _transitive_."
   ]
  },
  {
   "cell_type": "code",
   "execution_count": 25,
   "id": "5239117c",
   "metadata": {},
   "outputs": [],
   "source": [
    "def TransitiveCheck(graph: Union[nx.Graph, npmat.matrix]) -> bool:\n",
    "    \"\"\"\n",
    "    Checks if the graph/matrix is transitive\n",
    "    \"\"\"\n",
    "    matrix = graph_to_matrix(graph)\n",
    "    return np.all(np.linalg.matrix_power(matrix, 3) == matrix)"
   ]
  },
  {
   "cell_type": "code",
   "execution_count": 26,
   "id": "46e0b535",
   "metadata": {},
   "outputs": [
    {
     "data": {
      "text/plain": [
       "False"
      ]
     },
     "execution_count": 26,
     "metadata": {},
     "output_type": "execute_result"
    }
   ],
   "source": [
    "TransitiveCheck(matrix)"
   ]
  },
  {
   "cell_type": "markdown",
   "id": "8f2c5241",
   "metadata": {},
   "source": [
    "### Exercise 8 - Build a Python function `NegativetransitiveCheck` testing if a binary relation is _negativetransitive_."
   ]
  },
  {
   "cell_type": "code",
   "execution_count": 27,
   "id": "9a6bdbd8",
   "metadata": {},
   "outputs": [],
   "source": [
    "def NegativetrasiitiveCheck(graph: Union[nx.Graph, npmat.matrix]) -> bool:\n",
    "    \"\"\"\n",
    "    Checks if the graph/matrix is negative transitive\n",
    "    \"\"\"\n",
    "    matrix = graph_to_matrix(graph)\n",
    "    return np.all(np.linalg.matrix_power(matrix, 3) == 0)"
   ]
  },
  {
   "cell_type": "code",
   "execution_count": 28,
   "id": "882c9f91",
   "metadata": {},
   "outputs": [
    {
     "data": {
      "text/plain": [
       "False"
      ]
     },
     "execution_count": 28,
     "metadata": {},
     "output_type": "execute_result"
    }
   ],
   "source": [
    "NegativetrasiitiveCheck(matrix)"
   ]
  },
  {
   "cell_type": "markdown",
   "id": "50d5e7a8",
   "metadata": {},
   "source": [
    "### Exercise 9 - Build a Python function `CompleteOrderCheck` testing if a binary relation is a _complete order_."
   ]
  },
  {
   "cell_type": "code",
   "execution_count": 33,
   "id": "700aa7eb",
   "metadata": {},
   "outputs": [],
   "source": [
    "def CompleteOrderCheck(graph: Union[nx.Graph, npmat.matrix]) -> bool:\n",
    "    \"\"\"\n",
    "    Checks if the graph/matrix is a complete order\n",
    "    \"\"\"\n",
    "    return CompleteCheck(graph) and AntisymmetricCheck(graph) and TransitiveCheck(graph)"
   ]
  },
  {
   "cell_type": "code",
   "execution_count": 34,
   "id": "a3f94380",
   "metadata": {},
   "outputs": [
    {
     "data": {
      "text/plain": [
       "False"
      ]
     },
     "execution_count": 34,
     "metadata": {},
     "output_type": "execute_result"
    }
   ],
   "source": [
    "CompleteOrderCheck(matrix)"
   ]
  },
  {
   "cell_type": "markdown",
   "id": "89b6a475",
   "metadata": {},
   "source": [
    "### Exercise 10 - Build a Python function `CompletePreOrderCheck` testing if a binary relation is a _complete pre-order_."
   ]
  },
  {
   "cell_type": "code",
   "execution_count": 31,
   "id": "d54276f9",
   "metadata": {},
   "outputs": [],
   "source": [
    "def CompletePreOrderCheck(graph: Union[nx.Graph, npmat.matrix]) -> bool:\n",
    "    \"\"\"\n",
    "    Checks if the graph/matrix is a complete preorder\n",
    "    \"\"\"\n",
    "    return CompleteCheck(graph) and TransitiveCheck(graph)"
   ]
  },
  {
   "cell_type": "code",
   "execution_count": 32,
   "id": "22e30ae7",
   "metadata": {},
   "outputs": [
    {
     "data": {
      "text/plain": [
       "False"
      ]
     },
     "execution_count": 32,
     "metadata": {},
     "output_type": "execute_result"
    }
   ],
   "source": [
    "CompletePreOrderCheck(matrix)"
   ]
  },
  {
   "cell_type": "markdown",
   "id": "88d47c2b",
   "metadata": {},
   "source": [
    "### Exercise 11 - Build a Python function `StrictRelation` returning the _strict relation_ part of a binary relation."
   ]
  },
  {
   "cell_type": "code",
   "execution_count": 35,
   "id": "7e9663ce",
   "metadata": {},
   "outputs": [],
   "source": [
    "def StrictRelation(graph: Union[nx.Graph, npmat.matrix]) -> bool:\n",
    "    \"\"\"\n",
    "    Returns a strict relation of a given graph/matrix\n",
    "    \"\"\"\n",
    "    matrix = graph_to_matrix(graph)\n",
    "    output = matrix.copy()\n",
    "\n",
    "    for i in range(0,len(matrix)):\n",
    "        for j in range(0,len(matrix)):\n",
    "            if matrix[i, j] == 1 and matrix[j, i] == 1:\n",
    "                output[i, j], output[j, i] = 0, 0\n",
    "    return output"
   ]
  },
  {
   "cell_type": "code",
   "execution_count": 36,
   "id": "a10ef3d4",
   "metadata": {},
   "outputs": [
    {
     "data": {
      "text/plain": [
       "matrix([[0, 0, 1, 0, 0],\n",
       "        [0, 0, 0, 1, 0],\n",
       "        [0, 0, 0, 0, 0],\n",
       "        [0, 0, 0, 0, 0],\n",
       "        [0, 1, 0, 0, 0]])"
      ]
     },
     "execution_count": 36,
     "metadata": {},
     "output_type": "execute_result"
    }
   ],
   "source": [
    "StrictRelation(matrix)"
   ]
  },
  {
   "cell_type": "markdown",
   "id": "ee9204a2",
   "metadata": {},
   "source": [
    "### Exercise 12 - Build a Python function `IndifferenceRelation` returning the _indifference relation_ part of a binary relation."
   ]
  },
  {
   "cell_type": "code",
   "execution_count": 44,
   "id": "79126f22",
   "metadata": {},
   "outputs": [],
   "source": [
    "def IndifferenceRelation(graph: Union[nx.Graph, npmat.matrix]) -> bool:\n",
    "    \"\"\"\n",
    "    Returns an indifference relation of a given graph/matrix\n",
    "    \"\"\"\n",
    "    matrix = graph_to_matrix(graph)\n",
    "    output = np.zeros(matrix.shape)\n",
    "    for i in range(0,len(matrix)):\n",
    "        for j in range(0,len(matrix)):\n",
    "            if matrix[i, j] == 1 and matrix[j, i] == 1:\n",
    "                output[i, j], output[j, i] = 1, 1\n",
    "    return output"
   ]
  },
  {
   "cell_type": "code",
   "execution_count": 45,
   "id": "d77c15f8",
   "metadata": {},
   "outputs": [
    {
     "data": {
      "text/plain": [
       "array([[0., 1., 0., 0., 0.],\n",
       "       [1., 0., 0., 0., 0.],\n",
       "       [0., 0., 0., 0., 0.],\n",
       "       [0., 0., 0., 0., 0.],\n",
       "       [0., 0., 0., 0., 1.]])"
      ]
     },
     "execution_count": 45,
     "metadata": {},
     "output_type": "execute_result"
    }
   ],
   "source": [
    "IndifferenceRelation(matrix)"
   ]
  },
  {
   "cell_type": "markdown",
   "id": "207ab7c5",
   "metadata": {},
   "source": [
    "### Exercise 13 - Build a Python function `Topologicalsorting` returning a _topological sorting_ of a binary relation."
   ]
  },
  {
   "cell_type": "code",
   "execution_count": 59,
   "id": "1a049b30",
   "metadata": {},
   "outputs": [
    {
     "data": {
      "text/plain": [
       "matrix([[1, 1, 1, 0, 0],\n",
       "        [0, 1, 0, 1, 0],\n",
       "        [0, 0, 1, 0, 0],\n",
       "        [0, 0, 0, 1, 0],\n",
       "        [0, 1, 0, 0, 1]])"
      ]
     },
     "execution_count": 59,
     "metadata": {},
     "output_type": "execute_result"
    }
   ],
   "source": [
    "matrix=np.array([[1, 1, 1, 0, 0],\n",
    "       [0, 1, 0, 1, 0],\n",
    "       [0, 0, 1, 0, 0],\n",
    "       [0, 0, 0, 1, 0],\n",
    "       [0, 1, 0, 0, 1]])\n",
    "\n",
    "matrix = npmat.asmatrix(matrix)\n",
    "matrix"
   ]
  },
  {
   "cell_type": "code",
   "execution_count": 60,
   "id": "5d1a7e58",
   "metadata": {},
   "outputs": [
    {
     "data": {
      "text/plain": [
       "True"
      ]
     },
     "execution_count": 60,
     "metadata": {},
     "output_type": "execute_result"
    }
   ],
   "source": [
    "\n",
    "dagCheck(matrix)"
   ]
  },
  {
   "cell_type": "code",
   "execution_count": 63,
   "id": "6500ad7c",
   "metadata": {},
   "outputs": [],
   "source": [
    "def Topologicalsorting(graph: Union[nx.Graph, npmat.matrix]) -> list:\n",
    "    \"\"\"\n",
    "    Returns a topological sort of a given graph/matrix\n",
    "    \"\"\"\n",
    "    \n",
    "    def dagCheck(matrix: npmat.matrix) -> bool:\n",
    "        matrix -= np.diag(np.diagonal(matrix))\n",
    "        matrix_reachable, matrix_reachable_sum = np.identity(len(matrix)), np.zeros(len(matrix))\n",
    "        for i in range(0, len(matrix)):\n",
    "            matrix_reachable = matrix_reachable.dot(matrix)\n",
    "            matrix_reachable_sum += matrix_reachable\n",
    "        return np.all(np.diagonal(matrix_reachable_sum.dot(matrix_reachable_sum)) == 0)\n",
    "    \n",
    "    matrix = graph_to_matrix(graph)\n",
    "\n",
    "    if not dagCheck(matrix):\n",
    "        print_error(\"Graph is not a DAG\")\n",
    "        return\n",
    "    \n",
    "    topologicalSorting_matrix = matrix - np.diag(np.diagonal(matrix))\n",
    "    topologicalSorting_list, original_list = [], list(range(0,len(matrix)))\n",
    "    while len(original_list) != 0:\n",
    "        sum = topologicalSorting_matrix.sum(axis=1)\n",
    "        for i in original_list:\n",
    "            if sum[i] == 0:\n",
    "                topologicalSorting_list.append(i)\n",
    "                topologicalSorting_matrix[:,i] = np.zeros(len(topologicalSorting_matrix))\n",
    "                original_list.remove(i)\n",
    "    return topologicalSorting_list"
   ]
  },
  {
   "cell_type": "code",
   "execution_count": 64,
   "id": "50cd042a",
   "metadata": {},
   "outputs": [
    {
     "ename": "ValueError",
     "evalue": "non-broadcastable output operand with shape (5,) doesn't match the broadcast shape (5,5)",
     "output_type": "error",
     "traceback": [
      "\u001b[0;31m---------------------------------------------------------------------------\u001b[0m",
      "\u001b[0;31mValueError\u001b[0m                                Traceback (most recent call last)",
      "Cell \u001b[0;32mIn [64], line 1\u001b[0m\n\u001b[0;32m----> 1\u001b[0m Topologicalsorting(matrix)\n",
      "Cell \u001b[0;32mIn [63], line 16\u001b[0m, in \u001b[0;36mTopologicalsorting\u001b[0;34m(graph)\u001b[0m\n\u001b[1;32m     12\u001b[0m     \u001b[39mreturn\u001b[39;00m np\u001b[39m.\u001b[39mall(np\u001b[39m.\u001b[39mdiagonal(matrix_reachable_sum\u001b[39m.\u001b[39mdot(matrix_reachable_sum)) \u001b[39m==\u001b[39m \u001b[39m0\u001b[39m)\n\u001b[1;32m     14\u001b[0m matrix \u001b[39m=\u001b[39m graph_to_matrix(graph)\n\u001b[0;32m---> 16\u001b[0m \u001b[39mif\u001b[39;00m \u001b[39mnot\u001b[39;00m dagCheck(matrix):\n\u001b[1;32m     17\u001b[0m     print_error(\u001b[39m\"\u001b[39m\u001b[39mGraph is not a DAG\u001b[39m\u001b[39m\"\u001b[39m)\n\u001b[1;32m     18\u001b[0m     \u001b[39mreturn\u001b[39;00m\n",
      "Cell \u001b[0;32mIn [63], line 11\u001b[0m, in \u001b[0;36mTopologicalsorting.<locals>.dagCheck\u001b[0;34m(matrix)\u001b[0m\n\u001b[1;32m      9\u001b[0m \u001b[39mfor\u001b[39;00m i \u001b[39min\u001b[39;00m \u001b[39mrange\u001b[39m(\u001b[39m0\u001b[39m, \u001b[39mlen\u001b[39m(matrix)):\n\u001b[1;32m     10\u001b[0m     matrix_reachable \u001b[39m=\u001b[39m matrix_reachable\u001b[39m.\u001b[39mdot(matrix)\n\u001b[0;32m---> 11\u001b[0m     matrix_reachable_sum \u001b[39m+\u001b[39m\u001b[39m=\u001b[39m matrix_reachable\n\u001b[1;32m     12\u001b[0m \u001b[39mreturn\u001b[39;00m np\u001b[39m.\u001b[39mall(np\u001b[39m.\u001b[39mdiagonal(matrix_reachable_sum\u001b[39m.\u001b[39mdot(matrix_reachable_sum)) \u001b[39m==\u001b[39m \u001b[39m0\u001b[39m)\n",
      "\u001b[0;31mValueError\u001b[0m: non-broadcastable output operand with shape (5,) doesn't match the broadcast shape (5,5)"
     ]
    }
   ],
   "source": [
    "Topologicalsorting(matrix)"
   ]
  },
  {
   "cell_type": "code",
   "execution_count": null,
   "id": "f779993d",
   "metadata": {},
   "outputs": [],
   "source": [
    "def dagCheck(matrix):\n",
    "    diag=np.diagonal(matrix)\n",
    "    matrix_diag=np.diag(diag)\n",
    "    matrix=matrix-matrix_diag\n",
    "    matrix_reachable=np.identity(len(matrix))\n",
    "    matrix_reachable_sum=np.zeros(len(matrix))\n",
    "    for i in range(0,len(matrix)):\n",
    "        matrix_reachable=matrix_reachable.dot(matrix)\n",
    "        matrix_reachable_sum=matrix_reachable_sum+matrix_reachable\n",
    "    return np.all(np.diagonal(matrix_reachable_sum.dot(matrix_reachable_sum))==0)\n",
    "dagCheck(matrix)"
   ]
  }
 ],
 "metadata": {
  "kernelspec": {
   "display_name": "Python 3.10.6 ('decision_modelling')",
   "language": "python",
   "name": "python3"
  },
  "language_info": {
   "codemirror_mode": {
    "name": "ipython",
    "version": 3
   },
   "file_extension": ".py",
   "mimetype": "text/x-python",
   "name": "python",
   "nbconvert_exporter": "python",
   "pygments_lexer": "ipython3",
   "version": "3.10.6"
  },
  "vscode": {
   "interpreter": {
    "hash": "922e2005b522558b637e02e4ef2271899f71cd2929a60d5c7b1a2137b531939a"
   }
  }
 },
 "nbformat": 4,
 "nbformat_minor": 5
}
