{
 "cells": [
  {
   "cell_type": "markdown",
   "id": "e136a84c-af15-4dfc-ad71-5225a1cca97f",
   "metadata": {},
   "source": [
    "### Import libraries"
   ]
  },
  {
   "cell_type": "code",
   "execution_count": 11,
   "id": "ed08ef5c",
   "metadata": {},
   "outputs": [],
   "source": [
    "from os import getcwd\n",
    "from os.path import join, abspath, pardir, relpath, exists\n",
    "\n",
    "import pandas as pd\n",
    "import numpy as np\n",
    "from numpy import matrixlib as npmat\n",
    "import networkx as nx\n",
    "from typing import Union\n",
    "\n",
    "from IPython.display import IFrame\n",
    "from IPython.core.interactiveshell import InteractiveShell\n",
    "InteractiveShell.ast_node_interactivity = \"all\""
   ]
  },
  {
   "cell_type": "markdown",
   "id": "f4b746f7-26de-45d9-83a8-b09eb5ae2126",
   "metadata": {},
   "source": [
    "### Documentation"
   ]
  },
  {
   "cell_type": "code",
   "execution_count": 10,
   "id": "70f01e56",
   "metadata": {},
   "outputs": [],
   "source": [
    "parent_dir = abspath(join(join(getcwd(), pardir), pardir))\n",
    "data_dir = join(parent_dir, 'data')\n",
    "docs_dir = join(parent_dir, 'docs')\n",
    "if exists(docs_dir):\n",
    "    doc_file = relpath(join(docs_dir, 'practical_works_binary_relations.pdf'))\n",
    "    # IFrame(doc_file, width=1000, height=250)"
   ]
  },
  {
   "cell_type": "markdown",
   "id": "bbbb968b-ce9f-4189-9a95-6b2368d9c015",
   "metadata": {
    "jp-MarkdownHeadingCollapsed": true,
    "tags": []
   },
   "source": [
    "### Helper methods"
   ]
  },
  {
   "cell_type": "code",
   "execution_count": null,
   "id": "b18f387e-86ff-40da-b2e5-88272eb041a0",
   "metadata": {},
   "outputs": [],
   "source": [
    "# ------------------------ #\n",
    "# Helper logging functions\n",
    "# ------------------------ #\n",
    "def print_log(text: str) -> None:\n",
    "    \"\"\" Prints the log \"\"\"\n",
    "    print(f\"[ log ]: {text}\")\n",
    "\n",
    "def print_error(text: str) -> None:\n",
    "    \"\"\" Prints the error \"\"\"\n",
    "    print(f\"[ error ]: {text}\")\n",
    "# -------------------------------------------------- #\n",
    "# Helper functions for matrix related operations\n",
    "# -------------------------------------------------- #\n",
    "def graph_to_matrix(G: Union[nx.Graph, npmat.matrix]) -> npmat.matrix:\n",
    "    \"\"\"\n",
    "    Converts a graph to a matrix\n",
    "    \"\"\"\n",
    "    return nx.to_numpy_matrix(G) if isinstance(G, nx.Graph) else G\n",
    "\n",
    "def csv_to_matrix(csv_file: str) -> npmat.matrix:\n",
    "    \"\"\"\n",
    "    Returns a matrix from a csv file\n",
    "\n",
    "    Parameters\n",
    "    ----------\n",
    "    csv_file: str\n",
    "        Filename of the csv file\n",
    "    \n",
    "    Returns\n",
    "    -------\n",
    "    npmat.matrix\n",
    "        A matrix\n",
    "    \"\"\"\n",
    "    pd.read_csv(csv_file, error_bad_lines=False, header=None).to_numpy()"
   ]
  },
  {
   "cell_type": "markdown",
   "id": "de48cb47-4614-49ca-8c89-605ebc767afd",
   "metadata": {
    "tags": []
   },
   "source": [
    "### Exercise 1 - Basic Matrix utils"
   ]
  },
  {
   "cell_type": "markdown",
   "id": "918cf4b2-0c10-4f80-8a62-96ca0957fe28",
   "metadata": {},
   "source": [
    "#### 1. Python function converting an Excel file (`.xls` or `.xlsx`) to a `.csv` file."
   ]
  },
  {
   "cell_type": "code",
   "execution_count": null,
   "id": "640310fa-85a2-4ddc-845b-1c8f171f7349",
   "metadata": {},
   "outputs": [],
   "source": [
    "def excel_to_csv(filename: str) -> None:\n",
    "    \"\"\"\n",
    "    Converts an excel file to a csv file\n",
    "\n",
    "    Parameters\n",
    "    ----------\n",
    "    filename: str\n",
    "        Filename of the excel file\n",
    "    \"\"\"\n",
    "    import pandas as pd\n",
    "    df = pd.read_excel(filename)\n",
    "    df.to_csv(filename.replace(filename.split(\".\")[-1], \"csv\"), index=False)"
   ]
  },
  {
   "cell_type": "markdown",
   "id": "cadd6020-6f74-461e-876e-b2c7b2fe1103",
   "metadata": {},
   "source": [
    "#### 2. Python function showing a graphical representation of this matrix by using appropriate libraries like `networkx` and `matplotlib`."
   ]
  },
  {
   "cell_type": "code",
   "execution_count": null,
   "id": "b9ad13af-f5e0-459a-99a4-0630470f180b",
   "metadata": {},
   "outputs": [],
   "source": [
    "def plot_graph(graph: Union[npmat.matrix, nx.Graph], **kwargs: dict) -> None:\n",
    "    \"\"\"\n",
    "    Plots a given graph/matrix\n",
    "\n",
    "    Parameters\n",
    "    ----------\n",
    "    matrix: npmat.matrix or nx.Graph\n",
    "        A numpy matrix or a network graph\n",
    "    \"\"\"\n",
    "    if isinstance(graph, npmat.matrix):\n",
    "        n_row, n_col = graph.shape\n",
    "        if n_row != n_col:\n",
    "            print_error(f\"Adjacency matrix not square: nx,ny=({n_row}, {n_col}) [NetworkXError]\")\n",
    "            return\n",
    "        graph = numpy_matrix_to_network_graph(graph)\n",
    "    nx.draw(graph, with_labels=True, **kwargs)"
   ]
  },
  {
   "cell_type": "markdown",
   "id": "20a9ab13-5223-4e8f-8b8d-55c76938898b",
   "metadata": {},
   "source": [
    "### Exercise 2 - Build a Python function `CompleteCheck` testing if a binary relation is _complete_."
   ]
  },
  {
   "cell_type": "code",
   "execution_count": null,
   "id": "2f263bf6-6762-4986-b2c6-d0a46ee56d67",
   "metadata": {},
   "outputs": [],
   "source": [
    "def CompleteCheck(graph: Union[nx.Graph, npmat.matrix]) -> bool:\n",
    "    \"\"\"\n",
    "    Checks if the graph/matrix is complete\n",
    "    \"\"\"\n",
    "    matrix = graph_to_matrix(graph)\n",
    "    n_row, n_col = matrix.shape\n",
    "    for i in range(n_row):\n",
    "        for j in range(n_col):\n",
    "            if matrix[i, j] == 0 or matrix[i, j] == 0:\n",
    "                return False\n",
    "    return True"
   ]
  },
  {
   "cell_type": "code",
   "execution_count": null,
   "id": "da445f69-b747-45f6-a098-2879b2375094",
   "metadata": {},
   "outputs": [],
   "source": [
    "CompleteCheck(matrix)"
   ]
  },
  {
   "cell_type": "code",
   "execution_count": null,
   "id": "feb653bc-b4a4-4f54-ba67-ae3d12f7fda7",
   "metadata": {},
   "outputs": [],
   "source": [
    "data_file = join(data_dir, \"salaries.xlsx\")\n",
    "excel_to_csv(data_file)"
   ]
  },
  {
   "cell_type": "markdown",
   "id": "1a228895",
   "metadata": {},
   "source": [
    "#### Get data"
   ]
  },
  {
   "cell_type": "code",
   "execution_count": null,
   "id": "942890ed",
   "metadata": {},
   "outputs": [],
   "source": [
    "# parent_dir = abspath(join(join(getcwd(), pardir), pardir))\n",
    "# data_dir = join(parent_dir, 'data')\n",
    "# data_file = join(data_dir, 'DM-HT_small.txt')\n",
    "\n",
    "n_row, n_col = 5, 5\n",
    "matrix = get_matrix(n_row=n_row, n_col=n_col, seed=0)\n",
    "matrix"
   ]
  },
  {
   "cell_type": "code",
   "execution_count": null,
   "id": "3c75384f",
   "metadata": {},
   "outputs": [],
   "source": [
    "plot_graph(matrix)"
   ]
  },
  {
   "cell_type": "code",
   "execution_count": null,
   "id": "81bccdfc",
   "metadata": {},
   "outputs": [],
   "source": [
    "def completeCheck(matrix):\n",
    "    matrix_transpose=matrix.transpose()\n",
    "    matrix_check=matrix+matrix_transpose\n",
    "    return (np.logical_not(np.any(matrix_check==0)))"
   ]
  },
  {
   "cell_type": "code",
   "execution_count": null,
   "id": "bd713c77",
   "metadata": {},
   "outputs": [],
   "source": [
    "matrix = get_matrix(n_row=n_row, n_col=n_col, seed=0)\n",
    "matrix\n",
    "completeCheck(matrix)\n",
    "CompleteCheck(matrix=matrix)\n"
   ]
  },
  {
   "cell_type": "code",
   "execution_count": null,
   "id": "42f2fb8e",
   "metadata": {},
   "outputs": [],
   "source": []
  },
  {
   "cell_type": "code",
   "execution_count": null,
   "id": "9cf4dfa8",
   "metadata": {},
   "outputs": [],
   "source": []
  },
  {
   "cell_type": "code",
   "execution_count": null,
   "id": "30cade04-a689-48c6-94fc-11379f2bf57e",
   "metadata": {},
   "outputs": [],
   "source": []
  }
 ],
 "metadata": {
  "kernelspec": {
   "display_name": "Python 3.10.6 ('decision_modelling')",
   "language": "python",
   "name": "python3"
  },
  "language_info": {
   "codemirror_mode": {
    "name": "ipython",
    "version": 3
   },
   "file_extension": ".py",
   "mimetype": "text/x-python",
   "name": "python",
   "nbconvert_exporter": "python",
   "pygments_lexer": "ipython3",
   "version": "3.10.6"
  },
  "vscode": {
   "interpreter": {
    "hash": "922e2005b522558b637e02e4ef2271899f71cd2929a60d5c7b1a2137b531939a"
   }
  }
 },
 "nbformat": 4,
 "nbformat_minor": 5
}
