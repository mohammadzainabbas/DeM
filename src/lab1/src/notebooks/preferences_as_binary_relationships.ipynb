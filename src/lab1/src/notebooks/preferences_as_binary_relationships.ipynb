{
 "cells": [
  {
   "cell_type": "code",
   "execution_count": 15,
   "id": "8477c89f-d8b1-48a2-a44e-ad2a4b41ae6e",
   "metadata": {},
   "outputs": [
    {
     "name": "stdout",
     "output_type": "stream",
     "text": [
      "The autoreload extension is already loaded. To reload it, use:\n",
      "  %reload_ext autoreload\n"
     ]
    }
   ],
   "source": [
    "%load_ext autoreload\n",
    "%autoreload 2\n",
    "from utils import *\n",
    "from binary_relations_utils import *\n",
    "\n",
    "from IPython.core.interactiveshell import InteractiveShell\n",
    "InteractiveShell.ast_node_interactivity = \"all\""
   ]
  },
  {
   "cell_type": "markdown",
   "id": "1a228895",
   "metadata": {},
   "source": [
    "#### Get data"
   ]
  },
  {
   "cell_type": "code",
   "execution_count": 16,
   "id": "942890ed",
   "metadata": {},
   "outputs": [
    {
     "data": {
      "text/plain": [
       "matrix([[0, 1, 1, 0, 1, 1],\n",
       "        [1, 1, 1, 1, 1, 0],\n",
       "        [0, 1, 0, 0, 0, 0],\n",
       "        [0, 1, 0, 1, 1, 0],\n",
       "        [0, 1, 1, 1, 1, 0]])"
      ]
     },
     "execution_count": 16,
     "metadata": {},
     "output_type": "execute_result"
    }
   ],
   "source": [
    "# parent_dir = abspath(join(join(getcwd(), pardir), pardir))\n",
    "# data_dir = join(parent_dir, 'data')\n",
    "# data_file = join(data_dir, 'DM-HT_small.txt')\n",
    "\n",
    "n_row, n_col = 5, 6\n",
    "matrix = get_matrix(n_row=n_row, n_col=n_col, seed=0)\n",
    "matrix"
   ]
  },
  {
   "cell_type": "code",
   "execution_count": 18,
   "id": "3c75384f",
   "metadata": {},
   "outputs": [
    {
     "name": "stdout",
     "output_type": "stream",
     "text": [
      "hell\n",
      "[ error ]: Adjacency matrix not square: nx,ny=(5, 6) [NetworkXError]\n"
     ]
    }
   ],
   "source": [
    "plot_graph(matrix)"
   ]
  },
  {
   "cell_type": "code",
   "execution_count": null,
   "id": "7f738489",
   "metadata": {},
   "outputs": [],
   "source": []
  }
 ],
 "metadata": {
  "kernelspec": {
   "display_name": "Python 3.9.13 ('decision_modelling')",
   "language": "python",
   "name": "python3"
  },
  "language_info": {
   "codemirror_mode": {
    "name": "ipython",
    "version": 3
   },
   "file_extension": ".py",
   "mimetype": "text/x-python",
   "name": "python",
   "nbconvert_exporter": "python",
   "pygments_lexer": "ipython3",
   "version": "3.10.6"
  },
  "vscode": {
   "interpreter": {
    "hash": "922e2005b522558b637e02e4ef2271899f71cd2929a60d5c7b1a2137b531939a"
   }
  }
 },
 "nbformat": 4,
 "nbformat_minor": 5
}
