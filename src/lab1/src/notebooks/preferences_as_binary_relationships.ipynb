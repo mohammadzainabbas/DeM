{
 "cells": [
  {
   "cell_type": "code",
   "execution_count": 15,
   "id": "8477c89f-d8b1-48a2-a44e-ad2a4b41ae6e",
   "metadata": {},
   "outputs": [
    {
     "name": "stdout",
     "output_type": "stream",
     "text": [
      "The autoreload extension is already loaded. To reload it, use:\n",
      "  %reload_ext autoreload\n"
     ]
    }
   ],
   "source": [
    "%load_ext autoreload\n",
    "%autoreload 2\n",
    "from utils import *\n",
    "from binary_relations_utils import *\n",
    "\n",
    "from IPython.core.interactiveshell import InteractiveShell\n",
    "InteractiveShell.ast_node_interactivity = \"all\""
   ]
  },
  {
   "cell_type": "markdown",
   "id": "1a228895",
   "metadata": {},
   "source": [
    "#### Get data"
   ]
  },
  {
   "cell_type": "code",
   "execution_count": 16,
   "id": "942890ed",
   "metadata": {},
   "outputs": [
    {
     "data": {
      "text/plain": [
       "matrix([[0, 1, 1, 0, 1, 1],\n",
       "        [1, 1, 1, 1, 1, 0],\n",
       "        [0, 1, 0, 0, 0, 0],\n",
       "        [0, 1, 0, 1, 1, 0],\n",
       "        [0, 1, 1, 1, 1, 0]])"
      ]
     },
     "execution_count": 16,
     "metadata": {},
     "output_type": "execute_result"
    }
   ],
   "source": [
    "# parent_dir = abspath(join(join(getcwd(), pardir), pardir))\n",
    "# data_dir = join(parent_dir, 'data')\n",
    "# data_file = join(data_dir, 'DM-HT_small.txt')\n",
    "\n",
    "n_row, n_col = 5, 6\n",
    "matrix = get_matrix(n_row=n_row, n_col=n_col, seed=0)\n",
    "matrix"
   ]
  },
  {
   "cell_type": "code",
   "execution_count": 17,
   "id": "3c75384f",
   "metadata": {},
   "outputs": [
    {
     "ename": "NetworkXError",
     "evalue": "Adjacency matrix not square: nx,ny=(5, 6)",
     "output_type": "error",
     "traceback": [
      "\u001b[0;31m---------------------------------------------------------------------------\u001b[0m",
      "\u001b[0;31mNetworkXError\u001b[0m                             Traceback (most recent call last)",
      "Cell \u001b[0;32mIn [17], line 1\u001b[0m\n\u001b[0;32m----> 1\u001b[0m plot_graph(matrix)\n",
      "File \u001b[0;32m~/Masters/CS/Decision-Modelling/DeM-Lab/src/lab1/src/notebooks/utils.py:110\u001b[0m, in \u001b[0;36mplot_graph\u001b[0;34m(graph)\u001b[0m\n\u001b[1;32m    101\u001b[0m \u001b[39mdef\u001b[39;00m \u001b[39mplot_graph\u001b[39m(graph: Union[npmat\u001b[39m.\u001b[39mmatrix, nx\u001b[39m.\u001b[39mGraph]) \u001b[39m-\u001b[39m\u001b[39m>\u001b[39m \u001b[39mNone\u001b[39;00m:\n\u001b[1;32m    102\u001b[0m     \u001b[39m\"\"\"\u001b[39;00m\n\u001b[1;32m    103\u001b[0m \u001b[39m    Plots a given graph/matrix\u001b[39;00m\n\u001b[1;32m    104\u001b[0m \n\u001b[0;32m   (...)\u001b[0m\n\u001b[1;32m    108\u001b[0m \u001b[39m        A numpy matrix or a network graph\u001b[39;00m\n\u001b[1;32m    109\u001b[0m \u001b[39m    \"\"\"\u001b[39;00m\n\u001b[0;32m--> 110\u001b[0m     \u001b[39mif\u001b[39;00m \u001b[39misinstance\u001b[39m(graph, npmat\u001b[39m.\u001b[39mmatrix): graph \u001b[39m=\u001b[39m numpy_matrix_to_network_graph(graph)\n\u001b[1;32m    111\u001b[0m     nx\u001b[39m.\u001b[39mdraw(graph, with_labels\u001b[39m=\u001b[39m\u001b[39mTrue\u001b[39;00m)\n",
      "File \u001b[0;32m~/Masters/CS/Decision-Modelling/DeM-Lab/src/lab1/src/notebooks/utils.py:99\u001b[0m, in \u001b[0;36mnumpy_matrix_to_network_graph\u001b[0;34m(matrix)\u001b[0m\n\u001b[1;32m     85\u001b[0m \u001b[39mdef\u001b[39;00m \u001b[39mnumpy_matrix_to_network_graph\u001b[39m(matrix: npmat\u001b[39m.\u001b[39mmatrix) \u001b[39m-\u001b[39m\u001b[39m>\u001b[39m nx\u001b[39m.\u001b[39mGraph:\n\u001b[1;32m     86\u001b[0m     \u001b[39m\"\"\"\u001b[39;00m\n\u001b[1;32m     87\u001b[0m \u001b[39m    Prints a network graph from a numpy matrix\u001b[39;00m\n\u001b[1;32m     88\u001b[0m \n\u001b[0;32m   (...)\u001b[0m\n\u001b[1;32m     97\u001b[0m \u001b[39m        A network graph\u001b[39;00m\n\u001b[1;32m     98\u001b[0m \u001b[39m    \"\"\"\u001b[39;00m\n\u001b[0;32m---> 99\u001b[0m     \u001b[39mreturn\u001b[39;00m nx\u001b[39m.\u001b[39;49mfrom_numpy_matrix(matrix)\n",
      "File \u001b[0;32m/opt/homebrew/Caskroom/mambaforge/base/envs/decision_modelling/lib/python3.10/site-packages/networkx/convert_matrix.py:694\u001b[0m, in \u001b[0;36mfrom_numpy_matrix\u001b[0;34m(A, parallel_edges, create_using)\u001b[0m\n\u001b[1;32m    603\u001b[0m \u001b[39m\"\"\"Returns a graph from numpy matrix.\u001b[39;00m\n\u001b[1;32m    604\u001b[0m \n\u001b[1;32m    605\u001b[0m \u001b[39mThe numpy matrix is interpreted as an adjacency matrix for the graph.\u001b[39;00m\n\u001b[0;32m   (...)\u001b[0m\n\u001b[1;32m    685\u001b[0m \n\u001b[1;32m    686\u001b[0m \u001b[39m\"\"\"\u001b[39;00m\n\u001b[1;32m    687\u001b[0m warnings\u001b[39m.\u001b[39mwarn(\n\u001b[1;32m    688\u001b[0m     (\n\u001b[1;32m    689\u001b[0m         \u001b[39m\"\u001b[39m\u001b[39mfrom_numpy_matrix is deprecated and will be removed in NetworkX 3.0.\u001b[39m\u001b[39m\\n\u001b[39;00m\u001b[39m\"\u001b[39m\n\u001b[0;32m   (...)\u001b[0m\n\u001b[1;32m    692\u001b[0m     \u001b[39mDeprecationWarning\u001b[39;00m,\n\u001b[1;32m    693\u001b[0m )\n\u001b[0;32m--> 694\u001b[0m \u001b[39mreturn\u001b[39;00m from_numpy_array(A, parallel_edges\u001b[39m=\u001b[39;49mparallel_edges, create_using\u001b[39m=\u001b[39;49mcreate_using)\n",
      "File \u001b[0;32m/opt/homebrew/Caskroom/mambaforge/base/envs/decision_modelling/lib/python3.10/site-packages/networkx/convert_matrix.py:1615\u001b[0m, in \u001b[0;36mfrom_numpy_array\u001b[0;34m(A, parallel_edges, create_using)\u001b[0m\n\u001b[1;32m   1613\u001b[0m n, m \u001b[39m=\u001b[39m A\u001b[39m.\u001b[39mshape\n\u001b[1;32m   1614\u001b[0m \u001b[39mif\u001b[39;00m n \u001b[39m!=\u001b[39m m:\n\u001b[0;32m-> 1615\u001b[0m     \u001b[39mraise\u001b[39;00m nx\u001b[39m.\u001b[39mNetworkXError(\u001b[39mf\u001b[39m\u001b[39m\"\u001b[39m\u001b[39mAdjacency matrix not square: nx,ny=\u001b[39m\u001b[39m{\u001b[39;00mA\u001b[39m.\u001b[39mshape\u001b[39m}\u001b[39;00m\u001b[39m\"\u001b[39m)\n\u001b[1;32m   1616\u001b[0m dt \u001b[39m=\u001b[39m A\u001b[39m.\u001b[39mdtype\n\u001b[1;32m   1617\u001b[0m \u001b[39mtry\u001b[39;00m:\n",
      "\u001b[0;31mNetworkXError\u001b[0m: Adjacency matrix not square: nx,ny=(5, 6)"
     ]
    }
   ],
   "source": [
    "plot_graph(matrix)"
   ]
  },
  {
   "cell_type": "code",
   "execution_count": null,
   "id": "7f738489",
   "metadata": {},
   "outputs": [],
   "source": []
  }
 ],
 "metadata": {
  "kernelspec": {
   "display_name": "Python 3.9.13 ('decision_modelling')",
   "language": "python",
   "name": "python3"
  },
  "language_info": {
   "codemirror_mode": {
    "name": "ipython",
    "version": 3
   },
   "file_extension": ".py",
   "mimetype": "text/x-python",
   "name": "python",
   "nbconvert_exporter": "python",
   "pygments_lexer": "ipython3",
   "version": "3.10.6"
  },
  "vscode": {
   "interpreter": {
    "hash": "922e2005b522558b637e02e4ef2271899f71cd2929a60d5c7b1a2137b531939a"
   }
  }
 },
 "nbformat": 4,
 "nbformat_minor": 5
}
