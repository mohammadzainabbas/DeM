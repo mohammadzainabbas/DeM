{
 "cells": [
  {
   "cell_type": "markdown",
   "metadata": {},
   "source": [
    "# Exercise_1\n",
    "import the adjacency matrix data"
   ]
  },
  {
   "cell_type": "code",
   "execution_count": 199,
   "metadata": {},
   "outputs": [],
   "source": [
    "import networkx as nx\n",
    "import pandas as pd\n",
    "import numpy as np\n",
    "import matplotlib.pyplot as plt\n",
    "from os.path import join, exists, isfile, isdir, abspath, dirname, basename, realpath\n",
    "from os import makedirs, listdir, pardir, getcwd"
   ]
  },
  {
   "cell_type": "code",
   "execution_count": 200,
   "metadata": {},
   "outputs": [],
   "source": [
    "#parent_dir = abspath(join(join(getcwd(), pardir), pardir))\n",
    "data_dir = join('data')\n",
    "data = pd.read_csv(join(data_dir, \"data.csv\"), header=None,encoding= 'unicode_escape',sep=',',error_bad_lines=False)\n",
    "matrix=data.to_numpy()"
   ]
  },
  {
   "cell_type": "code",
   "execution_count": 201,
   "metadata": {},
   "outputs": [],
   "source": [
    "matrix=np.array([[1, 1, 1, 0, 0],\n",
    "       [0, 1, 0, 1, 0],\n",
    "       [0, 0, 1, 0, 0],\n",
    "       [0, 0, 0, 1, 0],\n",
    "       [0, 1, 0, 0, 1]])"
   ]
  },
  {
   "cell_type": "markdown",
   "metadata": {},
   "source": [
    "# Exercise_1\n",
    "visualize the graph in networkx"
   ]
  },
  {
   "cell_type": "code",
   "execution_count": 202,
   "metadata": {},
   "outputs": [],
   "source": [
    "# G=nx.DiGraph()\n",
    "# for index,row in data.iterrows():\n",
    "#     for i in range(0,5):\n",
    "#         if row[i]==1:\n",
    "#             G.add_edge(index,i)\n",
    "#             print(index,i)\n",
    "G=nx.DiGraph()\n",
    "for i in range(0,len(matrix)):\n",
    "    for j in range(0,len(matrix)):\n",
    "        if matrix[i,j]==1:\n",
    "            G.add_edge(i,j)"
   ]
  },
  {
   "cell_type": "code",
   "execution_count": 203,
   "metadata": {},
   "outputs": [
    {
     "data": {
      "image/png": "[encoded data removed]",
      "text/plain": [
       "<Figure size 432x288 with 1 Axes>"
      ]
     },
     "metadata": {},
     "output_type": "display_data"
    }
   ],
   "source": [
    "nx.draw(G,with_labels=True)"
   ]
  },
  {
   "cell_type": "markdown",
   "metadata": {},
   "source": [
    "## Exercise_2\n",
    "Build a Python function CompleteCheck testing if a binary relation is complete."
   ]
  },
  {
   "cell_type": "code",
   "execution_count": 204,
   "metadata": {},
   "outputs": [
    {
     "data": {
      "text/plain": [
       "False"
      ]
     },
     "execution_count": 204,
     "metadata": {},
     "output_type": "execute_result"
    }
   ],
   "source": [
    "def completeCheck(matrix):\n",
    "    matrix_transpose=matrix.transpose()\n",
    "    matrix_check=matrix+matrix_transpose\n",
    "    return (np.logical_not(np.any(matrix_check==0)))\n",
    "completeCheck(matrix)"
   ]
  },
  {
   "cell_type": "markdown",
   "metadata": {},
   "source": [
    "## Exercise_3\n",
    "Build a Python function ReflexiveCheck testing if a binary relation is reflexive."
   ]
  },
  {
   "cell_type": "code",
   "execution_count": 205,
   "metadata": {},
   "outputs": [
    {
     "name": "stdout",
     "output_type": "stream",
     "text": [
      "[1 1 1 1 1]\n"
     ]
    },
    {
     "data": {
      "text/plain": [
       "True"
      ]
     },
     "execution_count": 205,
     "metadata": {},
     "output_type": "execute_result"
    }
   ],
   "source": [
    "def reflexiveCheck(matrix):\n",
    "    matrix_check=np.diagonal(matrix)\n",
    "    print(matrix_check)\n",
    "    return (np.all(matrix_check==1))\n",
    "reflexiveCheck(matrix)"
   ]
  },
  {
   "cell_type": "markdown",
   "metadata": {},
   "source": [
    "## Exercise_4\n",
    "Build a Python function AsymmetricCheck testing if a binary relation is asymmetric."
   ]
  },
  {
   "cell_type": "code",
   "execution_count": 206,
   "metadata": {},
   "outputs": [
    {
     "data": {
      "text/plain": [
       "False"
      ]
     },
     "execution_count": 206,
     "metadata": {},
     "output_type": "execute_result"
    }
   ],
   "source": [
    "def asymmetricCheck(matrix):\n",
    "    matrix_transpose=matrix.transpose()\n",
    "    matrix_check=matrix+matrix_transpose\n",
    "    return (np.logical_not(np.any(matrix_check==2)))\n",
    "asymmetricCheck(matrix)"
   ]
  },
  {
   "cell_type": "markdown",
   "metadata": {},
   "source": [
    "## Exercise_5\n",
    "Build a Python function SymmetricCheck testing if a binary relation is symmetric."
   ]
  },
  {
   "cell_type": "code",
   "execution_count": 207,
   "metadata": {},
   "outputs": [
    {
     "data": {
      "text/plain": [
       "False"
      ]
     },
     "execution_count": 207,
     "metadata": {},
     "output_type": "execute_result"
    }
   ],
   "source": [
    "def symmetricCheck(matrix):\n",
    "    matrix_transpose=matrix.transpose()\n",
    "    matrix_check=matrix+matrix_transpose\n",
    "    return (np.all(matrix_check==2))\n",
    "symmetricCheck(matrix)"
   ]
  },
  {
   "cell_type": "markdown",
   "metadata": {},
   "source": [
    "## Exercise_6\n",
    "Build a Python function AntisymmetricCheck testing if a binary relation is antisymmetric."
   ]
  },
  {
   "cell_type": "code",
   "execution_count": 208,
   "metadata": {},
   "outputs": [
    {
     "data": {
      "text/plain": [
       "True"
      ]
     },
     "execution_count": 208,
     "metadata": {},
     "output_type": "execute_result"
    }
   ],
   "source": [
    "def antisymmetricCheck(matrix):\n",
    "    matrix_transpose=matrix.transpose()\n",
    "    matrix_sum=matrix+matrix_transpose\n",
    "    diag=np.diagonal(matrix_sum)\n",
    "    matrix_diag=np.diag(diag)\n",
    "    matrix_check=matrix_sum-matrix_diag\n",
    "    return (np.logical_not(np.any(matrix_check==2)))\n",
    "antisymmetricCheck(matrix)"
   ]
  },
  {
   "cell_type": "markdown",
   "metadata": {},
   "source": [
    "## Exercise_7\n",
    "Build a Python function TransitiveCheck testing if a binary relation is transitive."
   ]
  },
  {
   "cell_type": "code",
   "execution_count": 209,
   "metadata": {},
   "outputs": [
    {
     "name": "stdout",
     "output_type": "stream",
     "text": [
      "[1]\n",
      "[1, 1]\n",
      "[1, 1, 1]\n",
      "[1, 1, 1, 1]\n",
      "[1, 1, 1, 1, 0]\n",
      "[1, 1, 1, 1, 0, 1]\n",
      "[1, 1, 1, 1, 0, 1, 1]\n",
      "[1, 1, 1, 1, 0, 1, 1, 1]\n",
      "[1, 1, 1, 1, 0, 1, 1, 1, 1]\n",
      "[1, 1, 1, 1, 0, 1, 1, 1, 1, 1]\n",
      "[1, 1, 1, 1, 0, 1, 1, 1, 1, 1, 1]\n",
      "[1, 1, 1, 1, 0, 1, 1, 1, 1, 1, 1, 1]\n",
      "[1, 1, 1, 1, 0, 1, 1, 1, 1, 1, 1, 1, 0]\n",
      "[1, 1, 1, 1, 0, 1, 1, 1, 1, 1, 1, 1, 0, 1]\n",
      "[1, 1, 1, 1, 0, 1, 1, 1, 1, 1, 1, 1, 0, 1, 1]\n"
     ]
    },
    {
     "data": {
      "text/plain": [
       "False"
      ]
     },
     "execution_count": 209,
     "metadata": {},
     "output_type": "execute_result"
    }
   ],
   "source": [
    "def transitiveCheck(matrix):\n",
    "    matrix_check=[]\n",
    "    for i in range(0,len(matrix)):\n",
    "        for j in range(0,len(matrix)):\n",
    "            for k in range(0,len(matrix)):\n",
    "                if matrix[i,j]==1 and matrix[j,k]==1 :\n",
    "                    matrix_check.append(matrix[i,k])\n",
    "    return (np.logical_not(np.any(np.array(matrix_check) == 0)))\n",
    "transitiveCheck(matrix)"
   ]
  },
  {
   "cell_type": "markdown",
   "metadata": {},
   "source": [
    "## Exercise_8\n",
    "Build a Python function NegativetransitiveCheck testing if a binary relation is negativetransitive."
   ]
  },
  {
   "cell_type": "code",
   "execution_count": 210,
   "metadata": {},
   "outputs": [
    {
     "data": {
      "text/plain": [
       "False"
      ]
     },
     "execution_count": 210,
     "metadata": {},
     "output_type": "execute_result"
    }
   ],
   "source": [
    "def negativeTransitiveCheck(matrix):\n",
    "    matrix_check=[]\n",
    "    for i in range(0,len(matrix)):\n",
    "        for j in range(0,len(matrix)):\n",
    "            for k in range(0,len(matrix)):\n",
    "                if matrix[i,j]==0 and matrix[j,k]==0 :\n",
    "                    matrix_check.append(matrix[i,k])\n",
    "    return (np.all(np.array(matrix_check) == 0))\n",
    "negativeTransitiveCheck(matrix)"
   ]
  },
  {
   "cell_type": "markdown",
   "metadata": {},
   "source": [
    "## Exercise_9\n",
    "Build a Python function CompleteOrderCheck testing if a binary relation is a complete order."
   ]
  },
  {
   "cell_type": "code",
   "execution_count": 211,
   "metadata": {},
   "outputs": [
    {
     "data": {
      "text/plain": [
       "False"
      ]
     },
     "execution_count": 211,
     "metadata": {},
     "output_type": "execute_result"
    }
   ],
   "source": [
    "def completeOrderCheck(matrix):\n",
    "    return (completeCheck(matrix) and antisymmetricCheck(matrix) and transitiveCheck(matrix))\n",
    "completeOrderCheck(matrix)"
   ]
  },
  {
   "cell_type": "markdown",
   "metadata": {},
   "source": [
    "## Exercise_10\n",
    "Build a Python function CompletePreOrderCheck testing if a binary relation is a complete pre-order."
   ]
  },
  {
   "cell_type": "code",
   "execution_count": 212,
   "metadata": {},
   "outputs": [
    {
     "data": {
      "text/plain": [
       "False"
      ]
     },
     "execution_count": 212,
     "metadata": {},
     "output_type": "execute_result"
    }
   ],
   "source": [
    "def completePreOrderCheck(matrix):\n",
    "    return (completeCheck(matrix) and transitiveCheck(matrix))\n",
    "completePreOrderCheck(matrix)"
   ]
  },
  {
   "cell_type": "markdown",
   "metadata": {},
   "source": [
    "## Exercise_11\n",
    "Build a Python function StrictRelation returning the strict relation part of a binary relation."
   ]
  },
  {
   "cell_type": "code",
   "execution_count": 213,
   "metadata": {},
   "outputs": [
    {
     "data": {
      "text/plain": [
       "array([[1, 1, 1, 0, 0],\n",
       "       [0, 1, 0, 1, 0],\n",
       "       [0, 0, 1, 0, 0],\n",
       "       [0, 0, 0, 1, 0],\n",
       "       [0, 1, 0, 0, 1]])"
      ]
     },
     "execution_count": 213,
     "metadata": {},
     "output_type": "execute_result"
    }
   ],
   "source": [
    "def stricRelation(matrix):\n",
    "    matrix_strict=matrix\n",
    "    for i in range(0,len(matrix)):\n",
    "        for j in range(0,len(matrix)):\n",
    "            if matrix[i,j]==1 and matrix[j,i]==1:\n",
    "                matrix_strict[i,j]==0\n",
    "                matrix_strict[j,i]==0\n",
    "    return matrix_strict\n",
    "stricRelation(matrix)"
   ]
  },
  {
   "cell_type": "markdown",
   "metadata": {},
   "source": [
    "## Exercise_12\n",
    "Build a Python function IndifferenceRelation returning the indifference relation part of a binary relation."
   ]
  },
  {
   "cell_type": "code",
   "execution_count": 214,
   "metadata": {},
   "outputs": [
    {
     "data": {
      "text/plain": [
       "array([[1., 0., 0., 0., 0.],\n",
       "       [0., 1., 0., 0., 0.],\n",
       "       [0., 0., 1., 0., 0.],\n",
       "       [0., 0., 0., 1., 0.],\n",
       "       [0., 0., 0., 0., 1.]])"
      ]
     },
     "execution_count": 214,
     "metadata": {},
     "output_type": "execute_result"
    }
   ],
   "source": [
    "def indifferenceRelation(matrix):\n",
    "    matrix_indifference=np.zeros((len(matrix),len(matrix)))\n",
    "    for i in range(0,len(matrix)):\n",
    "        for j in range(0,len(matrix)):\n",
    "            if matrix[i,j]==1 and matrix[j,i]==1:\n",
    "                matrix_indifference[i,j]=1\n",
    "                matrix_indifference[j,i]=1\n",
    "    return matrix_indifference\n",
    "indifferenceRelation(matrix)"
   ]
  },
  {
   "cell_type": "markdown",
   "metadata": {},
   "source": [
    "## Exercise_13\n",
    " Build a Python function Topologicalsorting returning a topological sorting of a binary relation."
   ]
  },
  {
   "cell_type": "code",
   "execution_count": 231,
   "metadata": {},
   "outputs": [
    {
     "data": {
      "text/plain": [
       "True"
      ]
     },
     "execution_count": 231,
     "metadata": {},
     "output_type": "execute_result"
    }
   ],
   "source": [
    "def dagCheck(matrix):\n",
    "    diag=np.diagonal(matrix)\n",
    "    matrix_diag=np.diag(diag)\n",
    "    matrix=matrix-matrix_diag\n",
    "    matrix_reachable=np.identity(len(matrix))\n",
    "    matrix_reachable_sum=np.zeros(len(matrix))\n",
    "    for i in range(0,len(matrix)):\n",
    "        matrix_reachable=matrix_reachable.dot(matrix)\n",
    "        matrix_reachable_sum=matrix_reachable_sum+matrix_reachable\n",
    "    return np.all(np.diagonal(matrix_reachable_sum.dot(matrix_reachable_sum))==0)\n",
    "dagCheck(matrix)"
   ]
  },
  {
   "cell_type": "code",
   "execution_count": 238,
   "metadata": {},
   "outputs": [
    {
     "data": {
      "text/plain": [
       "[2, 3, 1, 0, 4]"
      ]
     },
     "execution_count": 238,
     "metadata": {},
     "output_type": "execute_result"
    }
   ],
   "source": [
    "def topologicalSorting(matrix):\n",
    "    if dagCheck(matrix):\n",
    "        diag=np.diagonal(matrix)\n",
    "        matrix_diag=np.diag(diag)\n",
    "        topologicalSorting_matrix=matrix-matrix_diag\n",
    "        topologicalSorting_list=[]\n",
    "        original_list=list(range(0,len(matrix)))\n",
    "        while len(original_list) != 0:\n",
    "            sum=topologicalSorting_matrix.sum(axis=1)\n",
    "            for i in original_list:\n",
    "                if sum[i]==0:\n",
    "                    topologicalSorting_list.append(i)\n",
    "                    topologicalSorting_matrix[:,i]=np.zeros(len(topologicalSorting_matrix))\n",
    "                    original_list.remove(i)\n",
    "        return topologicalSorting_list\n",
    "    else:\n",
    "        return(\"The input is not DAG, not plausible to the topologicalSorting problem\")\n",
    "topologicalSorting(matrix)"
   ]
  }
 ],
 "metadata": {
  "kernelspec": {
   "display_name": "Python 3.8.0b2 64-bit",
   "language": "python",
   "name": "python3"
  },
  "language_info": {
   "codemirror_mode": {
    "name": "ipython",
    "version": 3
   },
   "file_extension": ".py",
   "mimetype": "text/x-python",
   "name": "python",
   "nbconvert_exporter": "python",
   "pygments_lexer": "ipython3",
   "version": "3.8.0"
  },
  "orig_nbformat": 4,
  "vscode": {
   "interpreter": {
    "hash": "aee8b7b246df8f9039afb4144a1f6fd8d2ca17a180786b69acc140d282b71a49"
   }
  }
 },
 "nbformat": 4,
 "nbformat_minor": 2
}
