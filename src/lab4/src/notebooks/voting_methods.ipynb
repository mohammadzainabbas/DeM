{
 "cells": [
  {
   "cell_type": "markdown",
   "id": "e136a84c-af15-4dfc-ad71-5225a1cca97f",
   "metadata": {},
   "source": [
    "### Import libraries"
   ]
  },
  {
   "cell_type": "code",
   "execution_count": 1,
   "id": "ed08ef5c",
   "metadata": {},
   "outputs": [],
   "source": [
    "from os import getcwd\n",
    "from os.path import join, abspath, pardir, relpath, exists\n",
    "\n",
    "import pandas as pd\n",
    "import numpy as np\n",
    "from numpy import matrixlib as npmat\n",
    "import networkx as nx\n",
    "from typing import Union\n",
    "\n",
    "from IPython.display import IFrame\n",
    "from IPython.core.interactiveshell import InteractiveShell\n",
    "InteractiveShell.ast_node_interactivity = \"all\""
   ]
  },
  {
   "cell_type": "code",
   "execution_count": 3,
   "id": "09728ed6",
   "metadata": {},
   "outputs": [
    {
     "data": {
      "text/html": [
       "<div>\n",
       "<style scoped>\n",
       "    .dataframe tbody tr th:only-of-type {\n",
       "        vertical-align: middle;\n",
       "    }\n",
       "\n",
       "    .dataframe tbody tr th {\n",
       "        vertical-align: top;\n",
       "    }\n",
       "\n",
       "    .dataframe thead th {\n",
       "        text-align: right;\n",
       "    }\n",
       "</style>\n",
       "<table border=\"1\" class=\"dataframe\">\n",
       "  <thead>\n",
       "    <tr style=\"text-align: right;\">\n",
       "      <th></th>\n",
       "      <th>order</th>\n",
       "      <th>score</th>\n",
       "    </tr>\n",
       "  </thead>\n",
       "  <tbody>\n",
       "    <tr>\n",
       "      <th>0</th>\n",
       "      <td>[a, b, c, d]</td>\n",
       "      <td>5</td>\n",
       "    </tr>\n",
       "    <tr>\n",
       "      <th>1</th>\n",
       "      <td>[a, c, b, d]</td>\n",
       "      <td>4</td>\n",
       "    </tr>\n",
       "    <tr>\n",
       "      <th>2</th>\n",
       "      <td>[d, b, a, c]</td>\n",
       "      <td>2</td>\n",
       "    </tr>\n",
       "    <tr>\n",
       "      <th>3</th>\n",
       "      <td>[d, b, c, a]</td>\n",
       "      <td>6</td>\n",
       "    </tr>\n",
       "    <tr>\n",
       "      <th>4</th>\n",
       "      <td>[c, b, a, d]</td>\n",
       "      <td>8</td>\n",
       "    </tr>\n",
       "  </tbody>\n",
       "</table>\n",
       "</div>"
      ],
      "text/plain": [
       "          order  score\n",
       "0  [a, b, c, d]      5\n",
       "1  [a, c, b, d]      4\n",
       "2  [d, b, a, c]      2\n",
       "3  [d, b, c, a]      6\n",
       "4  [c, b, a, d]      8"
      ]
     },
     "execution_count": 3,
     "metadata": {},
     "output_type": "execute_result"
    }
   ],
   "source": [
    "df = pd.DataFrame(\n",
    "    [\n",
    "        [[\"a\", \"b\", \"c\", \"d\"], 5],\n",
    "        [[\"a\", \"c\", \"b\", \"d\"], 4],\n",
    "        [[\"d\", \"b\", \"a\", \"c\"], 2],\n",
    "        [[\"d\", \"b\", \"c\", \"a\"], 6],\n",
    "        [[\"c\", \"b\", \"a\", \"d\"], 8],\n",
    "        [[\"d\", \"c\", \"b\", \"a\"], 2],\n",
    "    ], columns=[\"order\", \"score\"]\n",
    ")\n",
    "df.head()"
   ]
  },
  {
   "cell_type": "markdown",
   "id": "bbbb968b-ce9f-4189-9a95-6b2368d9c015",
   "metadata": {
    "jp-MarkdownHeadingCollapsed": true,
    "tags": []
   },
   "source": [
    "### Helper methods"
   ]
  },
  {
   "cell_type": "code",
   "execution_count": 4,
   "id": "b18f387e-86ff-40da-b2e5-88272eb041a0",
   "metadata": {},
   "outputs": [],
   "source": [
    "# ------------------------ #\n",
    "# Helper logging functions\n",
    "# ------------------------ #\n",
    "def print_log(text: str) -> None:\n",
    "    \"\"\" Prints the log \"\"\"\n",
    "    print(f\"[ log ]: {text}\")\n",
    "\n",
    "def print_error(text: str) -> None:\n",
    "    \"\"\" Prints the error \"\"\"\n",
    "    print(f\"[ error ]: {text}\")\n",
    "# ------------------------ #\n",
    "# Helper functions\n",
    "# ------------------------ #\n",
    "def df_with_choice_column(df: pd.DataFrame) -> pd.DataFrame:\n",
    "    \"\"\"\n",
    "    Returns a dataframe with columns for each choice\n",
    "\n",
    "    Parameters\n",
    "    ----------\n",
    "    df : pd.DataFrame\n",
    "        The dataframe with the choices\n",
    "\n",
    "    Returns\n",
    "    -------\n",
    "    pd.DataFrame\n",
    "        The dataframe with the choices as columns\n",
    "    \n",
    "    Example\n",
    "    -------\n",
    "    >>> df = pd.DataFrame(\n",
    "    ...     [\n",
    "    ...         [[\"a\", \"b\", \"c\", \"d\"], 5],\n",
    "    ...         [[\"a\", \"c\", \"b\", \"d\"], 4],\n",
    "    ...         [[\"d\", \"b\", \"a\", \"c\"], 2],\n",
    "    ...         [[\"d\", \"b\", \"c\", \"a\"], 6],\n",
    "    ...         [[\"c\", \"b\", \"a\", \"d\"], 8],\n",
    "    ...         [[\"d\", \"c\", \"b\", \"a\"], 2],\n",
    "    ...     ], columns=[\"order\", \"score\"]\n",
    "    ... )\n",
    "    >>> df_with_choice_column(df)\n",
    "    >>> \tchoice_1\tchoice_2\tchoice_3\tchoice_4    score\n",
    "        0      a\t        b\t       c            d         5\n",
    "        1      a\t        c\t       b            d         4\n",
    "        2      d\t        b\t       a            c         2\n",
    "        3      d\t        b\t       c            a         6\n",
    "        4      c\t        b\t       a            d         8\n",
    "        5      d\t        c\t       b            a         2\n",
    "    \"\"\"\n",
    "    ndf = pd.DataFrame(df['order'].to_list()).rename(lambda x: x + 1, axis=1).add_prefix('choice_')\n",
    "    ndf['score'] = df['score']\n",
    "    return ndf"
   ]
  },
  {
   "cell_type": "markdown",
   "id": "f4b746f7-26de-45d9-83a8-b09eb5ae2126",
   "metadata": {},
   "source": [
    "### Read from `.csv` file"
   ]
  },
  {
   "cell_type": "code",
   "execution_count": 3,
   "id": "70f01e56",
   "metadata": {},
   "outputs": [],
   "source": [
    "# parent_dir = abspath(join(join(getcwd(), pardir), pardir))\n",
    "# data_dir = join(parent_dir, 'data')\n",
    "# data_file = join(data_dir, \"data.csv\")\n",
    "# # docs_dir = join(parent_dir, 'docs')\n",
    "# # if exists(docs_dir):\n",
    "# #     doc_file = relpath(join(docs_dir, 'practical_works_binary_relations.pdf'))\n",
    "#     # IFrame(doc_file, width=1000, height=250)\n",
    "# matrix = csv_to_matrix(data_file)"
   ]
  },
  {
   "cell_type": "markdown",
   "id": "918cf4b2-0c10-4f80-8a62-96ca0957fe28",
   "metadata": {},
   "source": [
    "#### 1. Compute a function `MajorityRule` returning the result of a simple majority rule voting, between two candidates."
   ]
  },
  {
   "cell_type": "code",
   "execution_count": 8,
   "id": "640310fa-85a2-4ddc-845b-1c8f171f7349",
   "metadata": {},
   "outputs": [],
   "source": [
    "def MajorityRule(df: pd.DataFrame) -> Union[str, None]:\n",
    "    \"\"\" Majority rule \"\"\"\n",
    "    # Get the max score\n",
    "    max_score = df[\"score\"].max()\n",
    "    # Get the rows with the max score\n",
    "    max_rows = df[df[\"score\"] == max_score]\n",
    "    # Get the number of rows\n",
    "    num_rows = max_rows.shape[0]\n",
    "    # If there is more than one row, then there is a tie\n",
    "    if num_rows > 1:\n",
    "        print_error(\"There is a tie\")\n",
    "        return None\n",
    "    # Get the order\n",
    "    order = max_rows[\"order\"].values[0]\n",
    "    # Return the order\n",
    "    return order[0] if len(order) else order"
   ]
  },
  {
   "cell_type": "code",
   "execution_count": 10,
   "id": "cdd96a8a",
   "metadata": {},
   "outputs": [
    {
     "name": "stdout",
     "output_type": "stream",
     "text": [
      "[ log ]: Winner by 'MajorityRule' is 'c'\n"
     ]
    }
   ],
   "source": [
    "winner = MajorityRule(df=df)\n",
    "print_log(f\"Winner by 'MajorityRule' is '{winner}'\")"
   ]
  },
  {
   "cell_type": "markdown",
   "id": "c4bead8f",
   "metadata": {},
   "source": [
    "#### 2. Compute a function `Plurality` returning the result of a plurality voting."
   ]
  },
  {
   "cell_type": "code",
   "execution_count": 11,
   "id": "159b68ef",
   "metadata": {},
   "outputs": [],
   "source": [
    "def Plurality(df: pd.DataFrame) -> Union[str, None]:\n",
    "    \"\"\" Plurality \"\"\"\n",
    "    # Get the max score\n",
    "    max_score = df[\"score\"].max()\n",
    "    # Get the rows with the max score\n",
    "    max_rows = df[df[\"score\"] == max_score]\n",
    "    # Get the number of rows\n",
    "    num_rows = max_rows.shape[0]\n",
    "    # If there is more than one row, then there is a tie\n",
    "    if num_rows > 1:\n",
    "        print_error(\"There is a tie\")\n",
    "        return None\n",
    "    # Get the order\n",
    "    order = max_rows[\"order\"].values[0]\n",
    "    # Return the order\n",
    "    return order[0] if len(order) else order"
   ]
  },
  {
   "cell_type": "code",
   "execution_count": 15,
   "id": "3de2f375",
   "metadata": {},
   "outputs": [
    {
     "name": "stdout",
     "output_type": "stream",
     "text": [
      "[ log ]: Winner by 'Plurality' is 'c'\n"
     ]
    }
   ],
   "source": [
    "winner = Plurality(df=df)\n",
    "print_log(f\"Winner by 'Plurality' is '{winner}'\")"
   ]
  },
  {
   "cell_type": "markdown",
   "id": "cadd6020-6f74-461e-876e-b2c7b2fe1103",
   "metadata": {},
   "source": [
    "#### 3. Compute a function `PluralityRunoff` returning the result of a plurality Runoff voting (plurality with two rounds)."
   ]
  },
  {
   "cell_type": "code",
   "execution_count": null,
   "id": "be480f38",
   "metadata": {},
   "outputs": [],
   "source": [
    "def PluralityRunoff(df: pd.DataFrame) -> Union[str, None]:\n",
    "    \"\"\" Plurality Runoff \"\"\"\n",
    "    # if only one row, then return the winner\n",
    "    if df.shape[0] == 1:\n",
    "        print_log(\"There is only one row\")\n",
    "        return df[\"order\"].values[0][0]\n",
    "    # Get the sum of the scores\n",
    "    sum_scores = df[\"score\"].sum()\n",
    "    # Get df with the choices\n",
    "    cdf = df_with_choice_column(df)\n",
    "    # Only consider the first choice across all rows\n",
    "    best_choice_1 = cdf.groupby([\"choice_1\"], as_index=False)[\"score\"].sum().sort_values(\"score\", ascending=False)\n",
    "    # Get the max score\n",
    "    max_score = best_choice_1.head(1).score.values[0]\n",
    "\n",
    "    # 1st round: If the max score is more than half of the sum of the scores, then return the winner\n",
    "    if max_score > (sum_scores / 2):\n",
    "        print_log(\"Winner has more than 50% of the votes\")\n",
    "        return MajorityRule(df=df)\n",
    "\n",
    "    # 2nd round: If the max score is less than half of the sum of the scores\n",
    "    best_two = cdf.groupby([\"choice_1\", \"choice_2\"], as_index=False)[\"score\"].sum().sort_values(\"score\", ascending=False)\n",
    "    \n",
    "\n",
    "    # Get the rows with the max score\n",
    "    max_rows = df[df[\"score\"] == max_score]\n",
    "    # Get the number of rows\n",
    "    num_rows = max_rows.shape[0]\n",
    "    # If there is more than one row, then there is a tie\n",
    "    if num_rows > 1:\n",
    "        print_error(\"There is a tie\")\n",
    "        return None\n",
    "    # Get the order\n",
    "    order = max_rows[\"order\"].values[0]\n",
    "    # Return the order\n",
    "    return order[0] if len(order) else order"
   ]
  },
  {
   "cell_type": "code",
   "execution_count": 38,
   "id": "c2ee1713",
   "metadata": {},
   "outputs": [
    {
     "data": {
      "text/html": [
       "<div>\n",
       "<style scoped>\n",
       "    .dataframe tbody tr th:only-of-type {\n",
       "        vertical-align: middle;\n",
       "    }\n",
       "\n",
       "    .dataframe tbody tr th {\n",
       "        vertical-align: top;\n",
       "    }\n",
       "\n",
       "    .dataframe thead th {\n",
       "        text-align: right;\n",
       "    }\n",
       "</style>\n",
       "<table border=\"1\" class=\"dataframe\">\n",
       "  <thead>\n",
       "    <tr style=\"text-align: right;\">\n",
       "      <th></th>\n",
       "      <th>choice_1</th>\n",
       "      <th>choice_2</th>\n",
       "      <th>choice_3</th>\n",
       "      <th>choice_4</th>\n",
       "      <th>score</th>\n",
       "    </tr>\n",
       "  </thead>\n",
       "  <tbody>\n",
       "    <tr>\n",
       "      <th>0</th>\n",
       "      <td>a</td>\n",
       "      <td>b</td>\n",
       "      <td>c</td>\n",
       "      <td>d</td>\n",
       "      <td>5</td>\n",
       "    </tr>\n",
       "    <tr>\n",
       "      <th>1</th>\n",
       "      <td>a</td>\n",
       "      <td>c</td>\n",
       "      <td>b</td>\n",
       "      <td>d</td>\n",
       "      <td>4</td>\n",
       "    </tr>\n",
       "    <tr>\n",
       "      <th>2</th>\n",
       "      <td>d</td>\n",
       "      <td>b</td>\n",
       "      <td>a</td>\n",
       "      <td>c</td>\n",
       "      <td>2</td>\n",
       "    </tr>\n",
       "    <tr>\n",
       "      <th>3</th>\n",
       "      <td>d</td>\n",
       "      <td>b</td>\n",
       "      <td>c</td>\n",
       "      <td>a</td>\n",
       "      <td>6</td>\n",
       "    </tr>\n",
       "    <tr>\n",
       "      <th>4</th>\n",
       "      <td>c</td>\n",
       "      <td>b</td>\n",
       "      <td>a</td>\n",
       "      <td>d</td>\n",
       "      <td>8</td>\n",
       "    </tr>\n",
       "    <tr>\n",
       "      <th>5</th>\n",
       "      <td>d</td>\n",
       "      <td>c</td>\n",
       "      <td>b</td>\n",
       "      <td>a</td>\n",
       "      <td>2</td>\n",
       "    </tr>\n",
       "  </tbody>\n",
       "</table>\n",
       "</div>"
      ],
      "text/plain": [
       "  choice_1 choice_2 choice_3 choice_4  score\n",
       "0        a        b        c        d      5\n",
       "1        a        c        b        d      4\n",
       "2        d        b        a        c      2\n",
       "3        d        b        c        a      6\n",
       "4        c        b        a        d      8\n",
       "5        d        c        b        a      2"
      ]
     },
     "execution_count": 38,
     "metadata": {},
     "output_type": "execute_result"
    }
   ],
   "source": [
    "cdf = df_with_choice_column(df)\n",
    "cdf"
   ]
  },
  {
   "cell_type": "code",
   "execution_count": 53,
   "id": "a4362ee5",
   "metadata": {},
   "outputs": [
    {
     "data": {
      "text/plain": [
       "['d', 'a']"
      ]
     },
     "execution_count": 53,
     "metadata": {},
     "output_type": "execute_result"
    }
   ],
   "source": [
    "cdf.groupby([\"choice_1\"], as_index=False)[\"score\"].sum().sort_values(\"score\", ascending=False).head(2).choice_1.values.tolist()"
   ]
  },
  {
   "cell_type": "code",
   "execution_count": 54,
   "id": "d7b4da10",
   "metadata": {},
   "outputs": [],
   "source": [
    "from itertools import combinations"
   ]
  },
  {
   "cell_type": "code",
   "execution_count": 56,
   "id": "1b6744f7",
   "metadata": {},
   "outputs": [
    {
     "data": {
      "text/plain": [
       "[('a', 'b')]"
      ]
     },
     "execution_count": 56,
     "metadata": {},
     "output_type": "execute_result"
    }
   ],
   "source": [
    "list(combinations(['a', 'b'], 2))"
   ]
  },
  {
   "cell_type": "code",
   "execution_count": 44,
   "id": "e29e61fd",
   "metadata": {},
   "outputs": [
    {
     "data": {
      "text/html": [
       "<div>\n",
       "<style scoped>\n",
       "    .dataframe tbody tr th:only-of-type {\n",
       "        vertical-align: middle;\n",
       "    }\n",
       "\n",
       "    .dataframe tbody tr th {\n",
       "        vertical-align: top;\n",
       "    }\n",
       "\n",
       "    .dataframe thead th {\n",
       "        text-align: right;\n",
       "    }\n",
       "</style>\n",
       "<table border=\"1\" class=\"dataframe\">\n",
       "  <thead>\n",
       "    <tr style=\"text-align: right;\">\n",
       "      <th></th>\n",
       "      <th>choice_1</th>\n",
       "      <th>choice_2</th>\n",
       "      <th>score</th>\n",
       "    </tr>\n",
       "  </thead>\n",
       "  <tbody>\n",
       "    <tr>\n",
       "      <th>2</th>\n",
       "      <td>c</td>\n",
       "      <td>b</td>\n",
       "      <td>8</td>\n",
       "    </tr>\n",
       "    <tr>\n",
       "      <th>3</th>\n",
       "      <td>d</td>\n",
       "      <td>b</td>\n",
       "      <td>8</td>\n",
       "    </tr>\n",
       "    <tr>\n",
       "      <th>0</th>\n",
       "      <td>a</td>\n",
       "      <td>b</td>\n",
       "      <td>5</td>\n",
       "    </tr>\n",
       "    <tr>\n",
       "      <th>1</th>\n",
       "      <td>a</td>\n",
       "      <td>c</td>\n",
       "      <td>4</td>\n",
       "    </tr>\n",
       "    <tr>\n",
       "      <th>4</th>\n",
       "      <td>d</td>\n",
       "      <td>c</td>\n",
       "      <td>2</td>\n",
       "    </tr>\n",
       "  </tbody>\n",
       "</table>\n",
       "</div>"
      ],
      "text/plain": [
       "  choice_1 choice_2  score\n",
       "2        c        b      8\n",
       "3        d        b      8\n",
       "0        a        b      5\n",
       "1        a        c      4\n",
       "4        d        c      2"
      ]
     },
     "execution_count": 44,
     "metadata": {},
     "output_type": "execute_result"
    }
   ],
   "source": [
    "cdf.groupby([\"choice_1\", \"choice_2\"], as_index=False)[\"score\"].sum().sort_values(\"score\", ascending=False)"
   ]
  },
  {
   "cell_type": "code",
   "execution_count": 25,
   "id": "9d7b8b69",
   "metadata": {},
   "outputs": [
    {
     "data": {
      "text/plain": [
       "array([[list(['c', 'b', 'a', 'd']), 8],\n",
       "       [list(['d', 'b', 'c', 'a']), 6]], dtype=object)"
      ]
     },
     "execution_count": 25,
     "metadata": {},
     "output_type": "execute_result"
    }
   ],
   "source": [
    "df.sort_values(by=\"score\", ascending=False).head(2).values"
   ]
  },
  {
   "cell_type": "code",
   "execution_count": null,
   "id": "6162e73d",
   "metadata": {},
   "outputs": [],
   "source": [
    "winner = PluralityRunoff(df=df)\n",
    "print_log(f\"Winner by 'PluralityRunoff' is '{winner}'\")"
   ]
  },
  {
   "cell_type": "code",
   "execution_count": 5,
   "id": "b9ad13af-f5e0-459a-99a4-0630470f180b",
   "metadata": {},
   "outputs": [],
   "source": [
    "def plot_graph(graph: Union[npmat.matrix, nx.Graph], **kwargs: dict) -> None:\n",
    "    \"\"\"\n",
    "    Plots a given graph/matrix\n",
    "\n",
    "    Parameters\n",
    "    ----------\n",
    "    matrix: npmat.matrix or nx.Graph\n",
    "        A numpy matrix or a network graph\n",
    "    \"\"\"\n",
    "    if isinstance(graph, npmat.matrix):\n",
    "        n_row, n_col = graph.shape\n",
    "        if n_row != n_col:\n",
    "            print_error(f\"Adjacency matrix not square: nx,ny=({n_row}, {n_col}) [NetworkXError]\")\n",
    "            return\n",
    "        graph = matrix_to_graph(graph)\n",
    "    nx.draw(graph, with_labels=True, **kwargs)"
   ]
  },
  {
   "cell_type": "code",
   "execution_count": 6,
   "id": "c792b6c7",
   "metadata": {},
   "outputs": [
    {
     "data": {
      "image/png": "[encoded data removed]",
      "text/plain": [
       "<Figure size 640x480 with 1 Axes>"
      ]
     },
     "metadata": {},
     "output_type": "display_data"
    }
   ],
   "source": [
    "plot_graph(matrix)"
   ]
  },
  {
   "cell_type": "markdown",
   "id": "20a9ab13-5223-4e8f-8b8d-55c76938898b",
   "metadata": {},
   "source": [
    "### Exercise 2 - Build a Python function `CompleteCheck` testing if a binary relation is _complete_."
   ]
  },
  {
   "cell_type": "code",
   "execution_count": 7,
   "id": "2f263bf6-6762-4986-b2c6-d0a46ee56d67",
   "metadata": {},
   "outputs": [],
   "source": [
    "def CompleteCheck(graph: Union[nx.Graph, npmat.matrix]) -> bool:\n",
    "    \"\"\"\n",
    "    Checks if the graph/matrix is complete\n",
    "    \"\"\"\n",
    "    matrix = graph_to_matrix(graph)\n",
    "    n_row, n_col = matrix.shape\n",
    "    for i in range(n_row):\n",
    "        for j in range(n_col):\n",
    "            if matrix[i, j] == 0 or matrix[i, j] == 0:\n",
    "                return False\n",
    "    return True"
   ]
  },
  {
   "cell_type": "code",
   "execution_count": 8,
   "id": "da445f69-b747-45f6-a098-2879b2375094",
   "metadata": {},
   "outputs": [
    {
     "data": {
      "text/plain": [
       "False"
      ]
     },
     "execution_count": 8,
     "metadata": {},
     "output_type": "execute_result"
    }
   ],
   "source": [
    "CompleteCheck(matrix)"
   ]
  },
  {
   "cell_type": "markdown",
   "id": "8fc83826",
   "metadata": {},
   "source": [
    "### Exercise 3 - Build a Python function `ReflexiveCheck` testing if a binary relation is _reflexive_."
   ]
  },
  {
   "cell_type": "code",
   "execution_count": 9,
   "id": "30cade04-a689-48c6-94fc-11379f2bf57e",
   "metadata": {},
   "outputs": [],
   "source": [
    "def ReflexiveCheck(graph: Union[nx.Graph, npmat.matrix]) -> bool:\n",
    "    \"\"\"\n",
    "    Checks if the graph/matrix is reflexive\n",
    "    \"\"\"\n",
    "    matrix = graph_to_matrix(graph)\n",
    "    return np.all(np.diagonal(matrix) == 1)"
   ]
  },
  {
   "cell_type": "code",
   "execution_count": 10,
   "id": "fffcea52",
   "metadata": {},
   "outputs": [
    {
     "data": {
      "text/plain": [
       "True"
      ]
     },
     "execution_count": 10,
     "metadata": {},
     "output_type": "execute_result"
    }
   ],
   "source": [
    "ReflexiveCheck(matrix)"
   ]
  },
  {
   "cell_type": "markdown",
   "id": "9dd723a2",
   "metadata": {},
   "source": [
    "### Exercise 4 - Build a Python function `AsymmetricCheck` testing if a binary relation is _asymmetric_."
   ]
  },
  {
   "cell_type": "code",
   "execution_count": 11,
   "id": "52f7e5a5",
   "metadata": {},
   "outputs": [],
   "source": [
    "def AntisymmetricCheck(graph: Union[nx.Graph, npmat.matrix]) -> bool:\n",
    "    \"\"\"\n",
    "    Checks if the graph/matrix is antisymmetric\n",
    "    \"\"\"\n",
    "    matrix = graph_to_matrix(graph)\n",
    "    n_row, n_col = matrix.shape\n",
    "    for i in range(n_row):\n",
    "        for j in range(n_col):\n",
    "            if matrix[i, j] == 1 and matrix[j, i] == 1 and i != j:\n",
    "                return False\n",
    "    return True"
   ]
  },
  {
   "cell_type": "code",
   "execution_count": 12,
   "id": "1fcf0f6f",
   "metadata": {},
   "outputs": [
    {
     "data": {
      "text/plain": [
       "True"
      ]
     },
     "execution_count": 12,
     "metadata": {},
     "output_type": "execute_result"
    }
   ],
   "source": [
    "AntisymmetricCheck(matrix)"
   ]
  },
  {
   "cell_type": "markdown",
   "id": "3326893a",
   "metadata": {},
   "source": [
    "### Exercise 5 - Build a Python function `SymmetricCheck` testing if a binary relation is _symmetric_."
   ]
  },
  {
   "cell_type": "code",
   "execution_count": 13,
   "id": "81821007",
   "metadata": {},
   "outputs": [],
   "source": [
    "def SymmetricCheck(graph: Union[nx.Graph, npmat.matrix]) -> bool:\n",
    "    \"\"\"\n",
    "    Checks if the graph/matrix is symmetric\n",
    "    \"\"\"\n",
    "    matrix = graph_to_matrix(graph)\n",
    "    return np.all(matrix == matrix.T)"
   ]
  },
  {
   "cell_type": "code",
   "execution_count": 14,
   "id": "50c80916",
   "metadata": {},
   "outputs": [
    {
     "data": {
      "text/plain": [
       "False"
      ]
     },
     "execution_count": 14,
     "metadata": {},
     "output_type": "execute_result"
    }
   ],
   "source": [
    "SymmetricCheck(matrix)"
   ]
  },
  {
   "cell_type": "markdown",
   "id": "3ac2f982",
   "metadata": {},
   "source": [
    "### Exercise 6 - Build a Python function `AntisymmetricCheck` testing if a binary relation is _antisymmetric_."
   ]
  },
  {
   "cell_type": "code",
   "execution_count": 15,
   "id": "ea1a1ab0",
   "metadata": {},
   "outputs": [],
   "source": [
    "def AntisymmetricCheck(graph: Union[nx.Graph, npmat.matrix]) -> bool:\n",
    "    \"\"\"\n",
    "    Checks if the graph/matrix is antisymmetric\n",
    "    \"\"\"\n",
    "    matrix = graph_to_matrix(graph)\n",
    "    matrix_sum = matrix + matrix.T\n",
    "    check = matrix_sum - np.diag(np.diagonal(matrix_sum))\n",
    "    return (np.logical_not(np.any(check == 2))).all()"
   ]
  },
  {
   "cell_type": "code",
   "execution_count": 16,
   "id": "7de80237",
   "metadata": {},
   "outputs": [
    {
     "data": {
      "text/plain": [
       "True"
      ]
     },
     "execution_count": 16,
     "metadata": {},
     "output_type": "execute_result"
    }
   ],
   "source": [
    "AntisymmetricCheck(matrix)"
   ]
  },
  {
   "cell_type": "markdown",
   "id": "e62ea114",
   "metadata": {},
   "source": [
    "### Exercise 7 - Build a Python function `TransitiveCheck` testing if a binary relation is _transitive_."
   ]
  },
  {
   "cell_type": "code",
   "execution_count": 17,
   "id": "5239117c",
   "metadata": {},
   "outputs": [],
   "source": [
    "def TransitiveCheck(graph: Union[nx.Graph, npmat.matrix]) -> bool:\n",
    "    \"\"\"\n",
    "    Checks if the graph/matrix is transitive\n",
    "    \"\"\"\n",
    "    matrix = graph_to_matrix(graph)\n",
    "    return np.all(np.linalg.matrix_power(matrix, 3) == matrix)"
   ]
  },
  {
   "cell_type": "code",
   "execution_count": 18,
   "id": "46e0b535",
   "metadata": {},
   "outputs": [
    {
     "data": {
      "text/plain": [
       "False"
      ]
     },
     "execution_count": 18,
     "metadata": {},
     "output_type": "execute_result"
    }
   ],
   "source": [
    "TransitiveCheck(matrix)"
   ]
  },
  {
   "cell_type": "markdown",
   "id": "8f2c5241",
   "metadata": {},
   "source": [
    "### Exercise 8 - Build a Python function `NegativetransitiveCheck` testing if a binary relation is _negativetransitive_."
   ]
  },
  {
   "cell_type": "code",
   "execution_count": 19,
   "id": "9a6bdbd8",
   "metadata": {},
   "outputs": [],
   "source": [
    "def NegativetrasiitiveCheck(graph: Union[nx.Graph, npmat.matrix]) -> bool:\n",
    "    \"\"\"\n",
    "    Checks if the graph/matrix is negative transitive\n",
    "    \"\"\"\n",
    "    matrix = graph_to_matrix(graph)\n",
    "    return np.all(np.linalg.matrix_power(matrix, 3) == 0)"
   ]
  },
  {
   "cell_type": "code",
   "execution_count": 20,
   "id": "882c9f91",
   "metadata": {},
   "outputs": [
    {
     "data": {
      "text/plain": [
       "False"
      ]
     },
     "execution_count": 20,
     "metadata": {},
     "output_type": "execute_result"
    }
   ],
   "source": [
    "NegativetrasiitiveCheck(matrix)"
   ]
  },
  {
   "cell_type": "markdown",
   "id": "50d5e7a8",
   "metadata": {},
   "source": [
    "### Exercise 9 - Build a Python function `CompleteOrderCheck` testing if a binary relation is a _complete order_."
   ]
  },
  {
   "cell_type": "code",
   "execution_count": 21,
   "id": "700aa7eb",
   "metadata": {},
   "outputs": [],
   "source": [
    "def CompleteOrderCheck(graph: Union[nx.Graph, npmat.matrix]) -> bool:\n",
    "    \"\"\"\n",
    "    Checks if the graph/matrix is a complete order\n",
    "    \"\"\"\n",
    "    return CompleteCheck(graph) and AntisymmetricCheck(graph) and TransitiveCheck(graph)"
   ]
  },
  {
   "cell_type": "code",
   "execution_count": 22,
   "id": "a3f94380",
   "metadata": {},
   "outputs": [
    {
     "data": {
      "text/plain": [
       "False"
      ]
     },
     "execution_count": 22,
     "metadata": {},
     "output_type": "execute_result"
    }
   ],
   "source": [
    "CompleteOrderCheck(matrix)"
   ]
  },
  {
   "cell_type": "markdown",
   "id": "89b6a475",
   "metadata": {},
   "source": [
    "### Exercise 10 - Build a Python function `CompletePreOrderCheck` testing if a binary relation is a _complete pre-order_."
   ]
  },
  {
   "cell_type": "code",
   "execution_count": 23,
   "id": "d54276f9",
   "metadata": {},
   "outputs": [],
   "source": [
    "def CompletePreOrderCheck(graph: Union[nx.Graph, npmat.matrix]) -> bool:\n",
    "    \"\"\"\n",
    "    Checks if the graph/matrix is a complete preorder\n",
    "    \"\"\"\n",
    "    return CompleteCheck(graph) and TransitiveCheck(graph)"
   ]
  },
  {
   "cell_type": "code",
   "execution_count": 24,
   "id": "22e30ae7",
   "metadata": {},
   "outputs": [
    {
     "data": {
      "text/plain": [
       "False"
      ]
     },
     "execution_count": 24,
     "metadata": {},
     "output_type": "execute_result"
    }
   ],
   "source": [
    "CompletePreOrderCheck(matrix)"
   ]
  },
  {
   "cell_type": "markdown",
   "id": "88d47c2b",
   "metadata": {},
   "source": [
    "### Exercise 11 - Build a Python function `StrictRelation` returning the _strict relation_ part of a binary relation."
   ]
  },
  {
   "cell_type": "code",
   "execution_count": 25,
   "id": "7e9663ce",
   "metadata": {},
   "outputs": [],
   "source": [
    "def StrictRelation(graph: Union[nx.Graph, npmat.matrix]) -> npmat.matrix:\n",
    "    \"\"\"\n",
    "    Returns a strict relation of a given graph/matrix\n",
    "    \"\"\"\n",
    "    matrix = graph_to_matrix(graph)\n",
    "    output = matrix.copy()\n",
    "\n",
    "    for i in range(0,len(matrix)):\n",
    "        for j in range(0,len(matrix)):\n",
    "            if matrix[i, j] == 1 and matrix[j, i] == 1:\n",
    "                output[i, j], output[j, i] = 0, 0\n",
    "    return npmat.asmatrix(output)"
   ]
  },
  {
   "cell_type": "code",
   "execution_count": 26,
   "id": "a10ef3d4",
   "metadata": {},
   "outputs": [
    {
     "data": {
      "text/plain": [
       "matrix([[0, 1, 1, 0, 0],\n",
       "        [0, 0, 0, 1, 0],\n",
       "        [0, 0, 0, 0, 0],\n",
       "        [0, 0, 0, 0, 0],\n",
       "        [0, 1, 0, 0, 0]])"
      ]
     },
     "execution_count": 26,
     "metadata": {},
     "output_type": "execute_result"
    }
   ],
   "source": [
    "StrictRelation(matrix)"
   ]
  },
  {
   "cell_type": "markdown",
   "id": "ee9204a2",
   "metadata": {},
   "source": [
    "### Exercise 12 - Build a Python function `IndifferenceRelation` returning the _indifference relation_ part of a binary relation."
   ]
  },
  {
   "cell_type": "code",
   "execution_count": 27,
   "id": "79126f22",
   "metadata": {},
   "outputs": [],
   "source": [
    "def IndifferenceRelation(graph: Union[nx.Graph, npmat.matrix]) -> npmat.matrix:\n",
    "    \"\"\"\n",
    "    Returns an indifference relation of a given graph/matrix\n",
    "    \"\"\"\n",
    "    matrix = graph_to_matrix(graph)\n",
    "    output = np.zeros(matrix.shape)\n",
    "    for i in range(0,len(matrix)):\n",
    "        for j in range(0,len(matrix)):\n",
    "            if matrix[i, j] == 1 and matrix[j, i] == 1:\n",
    "                output[i, j], output[j, i] = 1, 1\n",
    "    return npmat.asmatrix(output)"
   ]
  },
  {
   "cell_type": "code",
   "execution_count": 28,
   "id": "d77c15f8",
   "metadata": {},
   "outputs": [
    {
     "data": {
      "text/plain": [
       "matrix([[1., 0., 0., 0., 0.],\n",
       "        [0., 1., 0., 0., 0.],\n",
       "        [0., 0., 1., 0., 0.],\n",
       "        [0., 0., 0., 1., 0.],\n",
       "        [0., 0., 0., 0., 1.]])"
      ]
     },
     "execution_count": 28,
     "metadata": {},
     "output_type": "execute_result"
    }
   ],
   "source": [
    "IndifferenceRelation(matrix)"
   ]
  },
  {
   "cell_type": "markdown",
   "id": "207ab7c5",
   "metadata": {},
   "source": [
    "### Exercise 13 - Build a Python function `Topologicalsorting` returning a _topological sorting_ of a binary relation."
   ]
  },
  {
   "cell_type": "code",
   "execution_count": 29,
   "id": "6500ad7c",
   "metadata": {},
   "outputs": [],
   "source": [
    "def Topologicalsorting(graph: Union[nx.Graph, npmat.matrix]) -> list:\n",
    "    \"\"\"\n",
    "    Returns a topological sort of a given graph/matrix\n",
    "    \"\"\"\n",
    "    \n",
    "    def dagCheck(matrix: npmat.matrix) -> bool:\n",
    "        matrix -= np.diag(np.diagonal(matrix))\n",
    "        matrix_reachable, matrix_reachable_sum = np.identity(len(matrix)), np.zeros(matrix.shape)\n",
    "        for i in range(0, len(matrix)):\n",
    "            matrix_reachable = matrix_reachable.dot(matrix)\n",
    "            matrix_reachable_sum += matrix_reachable\n",
    "        return np.all(np.diagonal(matrix_reachable_sum.dot(matrix_reachable_sum)) == 0)\n",
    "    \n",
    "    matrix = graph_to_matrix(graph)\n",
    "\n",
    "    if not dagCheck(matrix):\n",
    "        print_error(\"Graph is not a DAG\")\n",
    "        return\n",
    "    \n",
    "    topologicalSorting_matrix = matrix - np.diag(np.diagonal(matrix))\n",
    "    topologicalSorting_list, original_list = [], list(range(0,len(matrix)))\n",
    "    while len(original_list) != 0:\n",
    "        sum = topologicalSorting_matrix.sum(axis=1)\n",
    "        for i in original_list:\n",
    "            if sum[i] == 0:\n",
    "                topologicalSorting_list.append(i)\n",
    "                topologicalSorting_matrix[:,i] = 0\n",
    "                original_list.remove(i)\n",
    "    return topologicalSorting_list"
   ]
  },
  {
   "cell_type": "code",
   "execution_count": 30,
   "id": "50cd042a",
   "metadata": {},
   "outputs": [
    {
     "data": {
      "text/plain": [
       "[2, 3, 1, 0, 4]"
      ]
     },
     "execution_count": 30,
     "metadata": {},
     "output_type": "execute_result"
    }
   ],
   "source": [
    "Topologicalsorting(matrix)"
   ]
  }
 ],
 "metadata": {
  "kernelspec": {
   "display_name": "Python 3 (ipykernel)",
   "language": "python",
   "name": "python3"
  },
  "language_info": {
   "codemirror_mode": {
    "name": "ipython",
    "version": 3
   },
   "file_extension": ".py",
   "mimetype": "text/x-python",
   "name": "python",
   "nbconvert_exporter": "python",
   "pygments_lexer": "ipython3",
   "version": "3.10.6"
  },
  "vscode": {
   "interpreter": {
    "hash": "922e2005b522558b637e02e4ef2271899f71cd2929a60d5c7b1a2137b531939a"
   }
  }
 },
 "nbformat": 4,
 "nbformat_minor": 5
}
